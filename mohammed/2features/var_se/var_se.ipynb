{
 "cells": [
  {
   "cell_type": "code",
   "execution_count": 1,
   "id": "2d979992",
   "metadata": {},
   "outputs": [],
   "source": [
    "import math\n",
    "import numpy as np\n",
    "import matplotlib.pyplot as plt\n",
    "import pandas as pd\n",
    "import seaborn as sns\n",
    "\n",
    "from uproot_io import Events, View"
   ]
  },
  {
   "cell_type": "code",
   "execution_count": 2,
   "id": "cc132710",
   "metadata": {},
   "outputs": [],
   "source": [
    "plt.rcParams['font.family'] = 'CMU Serif'\n",
    "plt.rcParams['font.size'] = 18"
   ]
  },
  {
   "cell_type": "code",
   "execution_count": 3,
   "id": "7b669651",
   "metadata": {},
   "outputs": [],
   "source": [
    "events = Events(\"/Users/mohammed/code/neutrinos-dune-files/CheatedRecoFile_1.root\")"
   ]
  },
  {
   "cell_type": "code",
   "execution_count": 4,
   "id": "8d298a8d",
   "metadata": {},
   "outputs": [],
   "source": [
    "#TO FIT STRAIGHT LINES\n",
    "\n",
    "def fit_line(x, y):\n",
    "    A = np.vstack([x, np.ones_like(x)]).T\n",
    "    m, c = np.linalg.lstsq(A, y, rcond=None)[0]\n",
    "    return m, c\n",
    "\n",
    "def calculate_residuals(x, y, m, c):\n",
    "    #y_predicted = (m*x) + c\n",
    "    perpdist = abs(((-m*x) + y - c) / np.sqrt(m**2 + 1))\n",
    "    #residuals = np.abs(perpdist - y_predicted)\n",
    "    return perpdist\n",
    "\n",
    "def fitting(event_number, plot):\n",
    "    idx = np.where(events.event_number == event_number)[0]\n",
    "    resis = []\n",
    "    gradients = []\n",
    "    intercepts = []\n",
    "    \n",
    "    vx = events.true_neutrino_vtx_x[idx[0]]\n",
    "    vz = events.true_neutrino_vtx_w[idx[0]]\n",
    "    if plot == True:\n",
    "        plt.scatter(vx, vz, c='red', s=50)\n",
    "\n",
    "    xmax = -1000\n",
    "    xmin = 1000\n",
    "    zmax = -1000\n",
    "    zmin = 1000\n",
    "    for i in idx:\n",
    "        x0 = events.reco_hits_x_w[i]\n",
    "        z0 = events.reco_hits_w[i]\n",
    "        if plot == True:\n",
    "            plt.scatter(x0, z0, s=0.5)\n",
    "        if len(x0) > 0:\n",
    "            if max(x0) >= xmax:\n",
    "                xmax = max(x0)\n",
    "            if min(x0) <= xmin:\n",
    "                xmin = min(x0)\n",
    "        if len(z0) > 0:\n",
    "            if max(z0) >= zmax:\n",
    "                zmax = max(z0)\n",
    "            if min(z0) <= zmin:\n",
    "                zmin = min(z0)\n",
    "        \n",
    "    if vx < xmin:\n",
    "        xmin = vx    \n",
    "    if vx > xmax:\n",
    "        xmax = vx\n",
    "    if vz < zmin:\n",
    "        zmin = vz    \n",
    "    if vz > zmax:\n",
    "        zmax = vz\n",
    "\n",
    "    xlen = 0.1*(xmax - xmin)\n",
    "    zlen = 0.1*(zmax - zmin)\n",
    "    \n",
    "    if plot == True:\n",
    "        plt.xlim(xmin-xlen, xmax+xlen)\n",
    "        plt.ylim(zmin-zlen, zmax+zlen)\n",
    "        plt.show()\n",
    "        \n",
    "        plt.scatter(vx, vz, c='red', s=50)\n",
    "        plt.xlim(xmin-xlen, xmax+xlen)\n",
    "        plt.ylim(zmin-zlen, zmax+zlen)\n",
    "    \n",
    "    particleType = np.array([])\n",
    "    \n",
    "    for i in idx:\n",
    "        pdg = events.mc_pdg[i]\n",
    "        particleType = np.append(particleType, pdg)\n",
    "        x = events.reco_hits_x_w[i]\n",
    "        z = events.reco_hits_w[i]\n",
    "        if plot == True:\n",
    "            plt.scatter(x, z, s=0.5)\n",
    "                \n",
    "        best_inliers = []\n",
    "        best_model = None\n",
    "        sample_size = 10\n",
    "        max_iterations = 100\n",
    "        #inlier_threshold = 2.0\n",
    "        \n",
    "        for _ in range(max_iterations):\n",
    "            sample_size = min(sample_size, len(x))\n",
    "            sample_indices = np.random.choice(len(x), size=sample_size, replace=False)\n",
    "            x_sample = x[sample_indices]\n",
    "            z_sample = z[sample_indices]\n",
    "\n",
    "            m, c = fit_line(x_sample, z_sample)\n",
    "            residuals = calculate_residuals(x, z, m, c)\n",
    "            inliers = np.where(residuals < (0.15*xlen))[0]\n",
    "\n",
    "            if len(inliers) > len(best_inliers):\n",
    "                best_inliers = inliers\n",
    "                best_model = (m, c)\n",
    "\n",
    "        if len(best_inliers) > 0:\n",
    "            m, c = best_model\n",
    "            gradients.append(m)\n",
    "            intercepts.append(c)\n",
    "            \n",
    "            if plot == True:\n",
    "                x_inliers = x[best_inliers]\n",
    "                z_inliers = z[best_inliers]\n",
    "                plt.scatter(x_inliers, z_inliers, color='blue', marker='o')\n",
    "\n",
    "                plt.plot(x_inliers, m * x_inliers + c)\n",
    "                plt.xlabel('x')\n",
    "                plt.ylabel('w')\n",
    "                plt.show()\n",
    "        \n",
    "            perp_dist = [calculate_residuals(x[i], z[i], m, c) for i in range(len(x))]\n",
    "            num_points = int(0.5 * len(x))\n",
    "            mean = np.mean(perp_dist[:num_points])\n",
    "            resis.append(mean)\n",
    "        else:\n",
    "            gradients.append(0)\n",
    "            intercepts.append(0)\n",
    "            resis.append(0)\n",
    "            #print(\"No inliers found for a particle\")\n",
    "            continue\n",
    "    \n",
    "    return gradients, intercepts, resis, particleType"
   ]
  },
  {
   "cell_type": "code",
   "execution_count": 5,
   "id": "f0816fbc",
   "metadata": {},
   "outputs": [],
   "source": [
    "# def var_se(event_number):\n",
    "#     \"\"\"needs to return the ratio of the variance of the first X% divided by the last Y%\n",
    "#     in the residuals for each particle\"\"\"\n",
    "    \n",
    "#     particleType = np.array([])\n",
    "#     results = np.array([])\n",
    "    \n",
    "#     # Fitting each particle with a straight line.\n",
    "#     m, c, _, _ = fitting(event_number, False)\n",
    "    \n",
    "#     idx = np.where(events.event_number == event_number)[0]\n",
    "    \n",
    "#     for i in idx:\n",
    "        \n",
    "#         x = events.reco_hits_x_w[i]\n",
    "#         z = events.reco_hits_w[i]\n",
    "        \n",
    "        \n",
    "#         # Discarding particles with no hits\n",
    "#         if x.size <= 10:\n",
    "#             continue\n",
    "            \n",
    "#         else:   \n",
    "#             # Changing coordinates to along and transverse\n",
    "#             if m[i-idx[0]] == 0:\n",
    "#                 continue\n",
    "#             else:\n",
    "#                 znew = z - c[i-idx[0]]\n",
    "#                 angle = -math.atan(m[i-idx[0]])\n",
    "#                 l = x * np.cos(angle) - znew * np.sin(angle)\n",
    "#                 t = x * np.sin(angle) + znew * np.cos(angle)\n",
    "                \n",
    "                \n",
    "                \n",
    "#                 p1 = int(0.8 * len(t))\n",
    "#                 X = t[p1:]\n",
    "#                 Xvar = np.var(X)\n",
    "                \n",
    "#                 p2 = int(0.2 * len(t))\n",
    "#                 Y = t[:p2]\n",
    "#                 Yvar = np.var(Y)\n",
    "                \n",
    "#                 if Yvar == 0 or Xvar == 0 or math.isinf(Yvar) or math.isinf(Xvar) or np.isnan(Xvar) or np.isnan(Yvar) :\n",
    "#                     continue\n",
    "                    \n",
    "#                 if Xvar < Yvar:\n",
    "#                     result = Yvar / Xvar\n",
    "#                     results = np.append(results, result)\n",
    "#                     results = np.sqrt(results)\n",
    "                    \n",
    "#                     pdg = events.mc_pdg[i]\n",
    "#                     particleType = np.append(particleType, pdg)\n",
    "                \n",
    "#                 else:\n",
    "#                     result = Xvar/Yvar\n",
    "#                     results = np.append(results, result)\n",
    "#                     results = np.sqrt(results)\n",
    "                    \n",
    "#                     # Finding the particle type\n",
    "#                     pdg = events.mc_pdg[i]\n",
    "#                     particleType = np.append(particleType, pdg) \n",
    "                    \n",
    "#                     plt.scatter(x,z)\n",
    "#                     plt.show()\n",
    "                    \n",
    "#                     plt.scatter(l,t)\n",
    "#                     plt.show()\n",
    "                \n",
    "#     return results, particleType\n",
    "\n",
    "\n",
    "def var_se(event_number):\n",
    "    \"\"\"needs to return the ratio of the variance of the first X% divided by the last Y%\n",
    "    in the residuals for each particle\"\"\"\n",
    "    \n",
    "    particleType = np.array([])\n",
    "    results = np.array([])\n",
    "    \n",
    "    # Fitting each particle with a straight line.\n",
    "    m, c, _, _ = fitting(event_number, False)\n",
    "    \n",
    "    idx = np.where(events.event_number == event_number)[0]\n",
    "    \n",
    "    for i in idx:\n",
    "        \n",
    "        x = events.reco_hits_x_w[i]\n",
    "        z = events.reco_hits_w[i]\n",
    "        \n",
    "        \n",
    "        # Discarding particles with little hits\n",
    "        if x.size <= 30:\n",
    "            continue\n",
    "            \n",
    "        else:   \n",
    "            # Changing coordinates to along and transverse\n",
    "            if m[i-idx[0]] == 0:\n",
    "                continue\n",
    "            else:\n",
    "                znew = z - c[i-idx[0]]\n",
    "                angle = -math.atan(m[i-idx[0]])\n",
    "                l = x * np.cos(angle) - znew * np.sin(angle)\n",
    "                t = x * np.sin(angle) + znew * np.cos(angle)\n",
    "                \n",
    "                #last 30% of data\n",
    "                p1 = int(0.7 * len(t))\n",
    "                X = t[p1:]\n",
    "                if len(X) == 0 or np.any(np.isnan(X)) or np.any(np.isinf(X)):\n",
    "                    continue\n",
    "                else:\n",
    "                    Xvar = np.var(X)\n",
    "                \n",
    "                #first 30% of data\n",
    "                p2 = int(0.3 * len(t))\n",
    "                Y = t[:p2]\n",
    "                if len(Y) == 0 or np.any(np.isnan(Y)) or np.any(np.isinf(Y)):\n",
    "                    continue\n",
    "                else:\n",
    "                    Yvar = np.var(Y)\n",
    "                \n",
    "                if Yvar == 0 or Xvar == 0 or math.isinf(Yvar) or math.isinf(Xvar) or np.isnan(Xvar) or np.isnan(Yvar) :\n",
    "                    continue\n",
    "                    \n",
    "                if  Yvar > Xvar:\n",
    "                    resultY = np.sqrt(Yvar)\n",
    "                    results = np.append(results, resultY)\n",
    "                    \n",
    "                    pdg = events.mc_pdg[i]\n",
    "                    particleType = np.append(particleType, pdg)\n",
    "                    \n",
    "#                     plt.scatter(x,z)\n",
    "#                     plt.show()\n",
    "                    \n",
    "#                     plt.scatter(l,t, label= f\"Y = {resultY}\")\n",
    "#                     plt.legend()\n",
    "#                     plt.show()\n",
    "                \n",
    "                else:\n",
    "                    resultX = np.sqrt(Xvar)\n",
    "                    results = np.append(results, resultX)\n",
    "                    \n",
    "                    # Finding the particle type\n",
    "                    pdg = events.mc_pdg[i]\n",
    "                    particleType = np.append(particleType, pdg) \n",
    "                    \n",
    "#                     plt.scatter(x,z)\n",
    "#                     plt.show()\n",
    "                    \n",
    "#                     plt.scatter(l,t, label= f\"X = {resultX}\")\n",
    "#                     plt.legend()\n",
    "#                     plt.show()\n",
    "                \n",
    "    return results, particleType"
   ]
  },
  {
   "cell_type": "code",
   "execution_count": 6,
   "id": "45b5eaa6",
   "metadata": {
    "scrolled": false
   },
   "outputs": [
    {
     "name": "stderr",
     "output_type": "stream",
     "text": [
      "/Users/mohammed/opt/anaconda3/lib/python3.9/site-packages/numpy/core/fromnumeric.py:3504: RuntimeWarning: Mean of empty slice.\n",
      "  return _methods._mean(a, axis=axis, dtype=dtype,\n",
      "/Users/mohammed/opt/anaconda3/lib/python3.9/site-packages/numpy/core/_methods.py:129: RuntimeWarning: invalid value encountered in scalar divide\n",
      "  ret = ret.dtype.type(ret / rcount)\n"
     ]
    },
    {
     "data": {
      "text/plain": [
       "(array([0.29609153]), array([13.]))"
      ]
     },
     "execution_count": 6,
     "metadata": {},
     "output_type": "execute_result"
    }
   ],
   "source": [
    "var_se(123)"
   ]
  },
  {
   "cell_type": "code",
   "execution_count": 7,
   "id": "a5f3abee",
   "metadata": {},
   "outputs": [],
   "source": [
    "random_numbers = np.random.randint(0, max(events.event_number), 500)"
   ]
  },
  {
   "cell_type": "code",
   "execution_count": 8,
   "id": "94f4d5d9",
   "metadata": {},
   "outputs": [],
   "source": [
    "v = []\n",
    "p = []\n",
    "for i in random_numbers:\n",
    "    v, p = np.append(v, var_se(i)[0]), np.append(p, var_se(i)[1])"
   ]
  },
  {
   "cell_type": "code",
   "execution_count": 9,
   "id": "946cf4d0",
   "metadata": {},
   "outputs": [
    {
     "data": {
      "text/plain": [
       "((1924,), (1924,))"
      ]
     },
     "execution_count": 9,
     "metadata": {},
     "output_type": "execute_result"
    }
   ],
   "source": [
    "v.shape, p.shape"
   ]
  },
  {
   "cell_type": "code",
   "execution_count": 10,
   "id": "d765e9a5",
   "metadata": {},
   "outputs": [],
   "source": [
    "df = pd.DataFrame({\"variance\": v, \"particle\": p})"
   ]
  },
  {
   "cell_type": "code",
   "execution_count": 11,
   "id": "4eb3afc8",
   "metadata": {},
   "outputs": [],
   "source": [
    "# Using 0 to indicate tracks, 1 to indicate showers.\n",
    "\n",
    "mapping = {\n",
    "    11: 1,\n",
    "    -11: 1,\n",
    "    22: 1\n",
    "}\n",
    "\n",
    "df[\"class\"] = df[\"particle\"].map(mapping).fillna(0)"
   ]
  },
  {
   "cell_type": "code",
   "execution_count": 12,
   "id": "ac2f0fe1",
   "metadata": {},
   "outputs": [],
   "source": [
    "tracksQuery = df['class'] == 0.0\n",
    "showersQuery = df['class'] == 1.0\n",
    "\n",
    "ftracks = df[tracksQuery]\n",
    "fshowers = df[showersQuery]\n",
    "\n",
    "tracks = ftracks['variance'].values\n",
    "showers = fshowers['variance'].values"
   ]
  },
  {
   "cell_type": "code",
   "execution_count": 16,
   "id": "c5b5bdfa",
   "metadata": {},
   "outputs": [
    {
     "data": {
      "image/png": "[encoded data removed]",
      "text/plain": [
       "<Figure size 640x480 with 1 Axes>"
      ]
     },
     "metadata": {},
     "output_type": "display_data"
    }
   ],
   "source": [
    "n_bins = 40\n",
    "hist2, bin_edges = np.histogram(showers, bins=n_bins)\n",
    "hist1, _ = np.histogram(tracks, bins=bin_edges)\n",
    "\n",
    "bin_widths = np.diff(bin_edges)\n",
    "    \n",
    "hist1_normalized = hist1 / len(tracks)\n",
    "hist2_normalized = hist2 / len(showers)\n",
    "\n",
    "plt.bar(bin_edges[:-1], hist1_normalized, width=bin_widths, align='edge', alpha=0.75, label='Tracks')\n",
    "plt.bar(bin_edges[:-1], hist2_normalized, width=bin_widths, align='edge', alpha=0.75, label='Showers')\n",
    "# plt.title(\"Using standard deviation in residuals to distinguish tracks and showers\")\n",
    "plt.ylabel(\"Normalised frequency density\")\n",
    "plt.xlabel(\"Standard Deviation of the last 30%\")\n",
    "plt.xlim(-1, 30)\n",
    "\n",
    "plt.legend()\n",
    "plt.tight_layout()\n",
    "plt.savefig('sd.png', dpi=500)\n",
    "plt.show()"
   ]
  },
  {
   "cell_type": "code",
   "execution_count": 14,
   "id": "a1cb561c",
   "metadata": {},
   "outputs": [
    {
     "data": {
      "text/plain": [
       "array([3589, 3586, 2160, 4361, 4608, 5065, 9137, 3511, 1242, 8215,  222,\n",
       "        407, 7199,  257, 5498, 8307, 4740, 2469, 6673, 1756, 1015, 4993,\n",
       "       2727, 1102, 8543, 8743, 2305, 7795, 8080,  730, 5027,  322, 6522,\n",
       "       1855, 5056, 2680, 4663, 4810, 6969, 8574, 6731, 7212, 5989, 3408,\n",
       "       1341, 5920, 6607,  663,  314, 7487, 4888,  297, 7584, 1386, 9168,\n",
       "       3552, 3914, 6333, 4314, 2014, 8055, 2014, 1570, 4566,  211, 1541,\n",
       "       5809, 2603, 4375, 7343, 5887, 5645, 5061, 7534, 8265, 7309, 2544,\n",
       "       6991, 6172, 6740, 2066, 3339, 5084, 1896, 8949, 2611,  670, 6119,\n",
       "       7098, 1499, 7766, 1060, 9236, 9301, 7143, 3404, 3691, 4540, 6222,\n",
       "       2532, 5035,   75, 8004, 1816, 8255, 5405, 5645, 8771, 1142, 4896,\n",
       "       7975, 3921, 9019, 6176, 3872, 7690,  722, 3416, 7538, 7521, 8233,\n",
       "       3674,  343,  160, 6021, 5984, 4724, 8709,   49, 6207, 2544, 5641,\n",
       "       2130, 1669, 7422, 3714,  346, 8841, 3729, 2575, 1705, 8653, 6163,\n",
       "       7481, 7073,  590, 9072, 4951, 5484, 7118, 3788, 2351, 6732, 4357,\n",
       "       1650, 5288, 7434, 7302,  138, 5097,  747, 8134, 4653,  808, 4833,\n",
       "        280, 2276, 2742, 4924, 4366, 1369, 2039,  782, 1649, 6261, 7381,\n",
       "       4232,  283, 8073, 6646, 4546, 4827, 5181, 8818, 1444, 2229, 3435,\n",
       "       4661, 1926, 4192, 8426, 4726, 5661, 4691, 7846, 4789, 1272, 3410,\n",
       "       4872, 5022,  599, 9122, 6159, 7217, 4750, 7323, 4267, 3737, 6119,\n",
       "       1412, 5030, 5992, 5734, 2921,  608, 8969,  493, 1455, 5879, 6157,\n",
       "       8948, 2906, 5582, 6593, 8616, 3931, 9001, 8902,  867, 1285, 2151,\n",
       "       5735, 2129, 3466, 7388, 2563,  646, 5507, 7476,  387, 5845, 2951,\n",
       "        538, 6808, 6358, 3363, 8514, 8330, 2484, 1484, 1366, 9023, 4838,\n",
       "       2404, 6738, 2159, 3461, 4426, 6512, 1605, 3452,  376, 5302, 6314,\n",
       "       2434, 7787, 1251, 9276, 1730, 6210, 5902, 1641, 8663, 5542, 3469,\n",
       "       2515, 2392,  450, 8876, 8306, 1076, 5745,  425, 2445, 4151, 1750,\n",
       "       3843, 8756, 4895, 1619, 1537, 1934,  483, 8474, 4155, 3126, 3969,\n",
       "       5982, 7838, 5998,  997, 1755,  827, 8773, 1060, 6922,  398, 3416,\n",
       "       7637, 5216, 9293, 3912, 1886, 5651,  593, 6865,  297, 5995, 3369,\n",
       "       2894, 6465, 4476, 8937, 7916, 5314, 6873, 7591, 7224, 6897, 7632,\n",
       "       4581, 1267, 7245, 2581, 6504, 7168, 9094, 1563, 5399, 5728, 2813,\n",
       "       9228, 6212, 4304, 3078, 6311,  888, 8235, 2625, 4853, 5564, 4095,\n",
       "       7900, 2634,  606, 1668,   46, 9138, 6491, 4547, 5707,  105, 3651,\n",
       "       1294,  180, 1807, 5121, 7875, 1160, 3649,  878, 8425, 5412, 7236,\n",
       "       2825, 1161, 1430, 2699, 4946, 2883, 8132, 3705, 9261, 5920, 6364,\n",
       "       8062, 5113, 3657,  486, 6949, 7320, 5980, 4963, 2898, 6493, 1720,\n",
       "       2795, 3344, 3711, 7251, 8495, 5462, 3037, 1335, 4059, 2733, 2380,\n",
       "       7160, 7439, 5123, 1556, 1543, 2133, 5811, 7542, 1413,   60, 2628,\n",
       "       4943, 1512, 9183, 8654, 4163,  805, 6090, 2821, 4966, 7165, 4636,\n",
       "       8624, 1682, 8602, 2362, 6177, 2774, 4229, 7188, 1351, 8628, 4805,\n",
       "       5100, 1206, 6357, 3916, 8101, 6817, 3326, 3182, 1685, 8939, 9117,\n",
       "       4117, 3805, 7596, 8391, 3624, 4453, 5681, 4130, 8165, 3541, 1395,\n",
       "       7870, 5124, 7107, 6839, 8664, 6822, 2886, 7218, 3668, 8111, 5287,\n",
       "       2615, 9302, 2702, 3948, 7040, 3276, 8916, 1721, 3529, 4882, 4752,\n",
       "       1860,  254, 8407,  125,  247, 1905, 8292, 7447, 3753, 5247, 7697,\n",
       "       3881, 7665, 2691, 2933, 7715])"
      ]
     },
     "execution_count": 14,
     "metadata": {},
     "output_type": "execute_result"
    }
   ],
   "source": [
    "random_numbers"
   ]
  },
  {
   "cell_type": "code",
   "execution_count": 15,
   "id": "c0a7adc1",
   "metadata": {
    "scrolled": false
   },
   "outputs": [
    {
     "name": "stderr",
     "output_type": "stream",
     "text": [
      "/Users/mohammed/opt/anaconda3/lib/python3.9/site-packages/numpy/core/fromnumeric.py:3504: RuntimeWarning: Mean of empty slice.\n",
      "  return _methods._mean(a, axis=axis, dtype=dtype,\n",
      "/Users/mohammed/opt/anaconda3/lib/python3.9/site-packages/numpy/core/_methods.py:129: RuntimeWarning: invalid value encountered in scalar divide\n",
      "  ret = ret.dtype.type(ret / rcount)\n"
     ]
    },
    {
     "data": {
      "text/plain": [
       "(array([13.22424698,  0.12269371,  3.58182073,  0.10811345,  0.39528617]),\n",
       " array([ 11., 211.,  22., 211., 211.]))"
      ]
     },
     "execution_count": 15,
     "metadata": {},
     "output_type": "execute_result"
    }
   ],
   "source": [
    "var_se(1445)"
   ]
  },
  {
   "cell_type": "code",
   "execution_count": null,
   "id": "62039527",
   "metadata": {},
   "outputs": [],
   "source": []
  }
 ],
 "metadata": {
  "kernelspec": {
   "display_name": "Python 3 (ipykernel)",
   "language": "python",
   "name": "python3"
  },
  "language_info": {
   "codemirror_mode": {
    "name": "ipython",
    "version": 3
   },
   "file_extension": ".py",
   "mimetype": "text/x-python",
   "name": "python",
   "nbconvert_exporter": "python",
   "pygments_lexer": "ipython3",
   "version": "3.9.18"
  }
 },
 "nbformat": 4,
 "nbformat_minor": 5
}
