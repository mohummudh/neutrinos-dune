{
 "cells": [
  {
   "cell_type": "code",
   "execution_count": 99,
   "id": "d4ac3e87",
   "metadata": {},
   "outputs": [],
   "source": [
    "import numpy as np\n",
    "import matplotlib.pyplot as plt\n",
    "import pandas as pd\n",
    "import seaborn as sns\n",
    "\n",
    "from uproot_io import Events, View"
   ]
  },
  {
   "cell_type": "code",
   "execution_count": 100,
   "id": "4995bae8",
   "metadata": {},
   "outputs": [],
   "source": [
    "# Interaction type lookup\n",
    "import csv\n",
    "interaction_dictionary = {}\n",
    "with open('interactions.csv') as f:\n",
    "    reader = csv.DictReader(f)\n",
    "    for row in reader:\n",
    "        key = int(row.pop('Idx'))\n",
    "        interaction = row.pop('Interaction')\n",
    "        interaction_dictionary[key] = interaction\n",
    "# print(interaction_dictionary)"
   ]
  },
  {
   "cell_type": "code",
   "execution_count": 129,
   "id": "315aac3c",
   "metadata": {},
   "outputs": [],
   "source": [
    "events = Events(\"/Users/mohammed/code/PandoraRecoFile_1.root\")"
   ]
  },
  {
   "cell_type": "code",
   "execution_count": 107,
   "id": "e971d0a5",
   "metadata": {},
   "outputs": [],
   "source": [
    "def hits(event_number):\n",
    "    \"\"\"Needs to return number of hits divided by the \n",
    "    length of the particle track/shower, and the particle type\"\"\"\n",
    "    \n",
    "    # Accessing a specific event.\n",
    "    idx = np.where(events.event_number == event_number)[0]\n",
    "    \n",
    "    particleType = np.array([])\n",
    "    allHits = np.array([])\n",
    "    \n",
    "    # Looping through each particle from the event\n",
    "    for i in idx:\n",
    "        \n",
    "        # The position coordinates for the particle\n",
    "        x = events.reco_hits_x_w[i]\n",
    "        z = events.reco_hits_w[i]\n",
    "        \n",
    "        if x.size == 0:\n",
    "            continue\n",
    "            \n",
    "        else:\n",
    "            \n",
    "            # The number of hits\n",
    "            hit = len(x)\n",
    "        \n",
    "            # Finding the length\n",
    "            xmin, xmax = x[0], x[-1]\n",
    "            zmin, zmax = z[0], z[-1]\n",
    "        \n",
    "            length = np.sqrt((xmax - xmin)**2 + (zmax - zmin)**2)\n",
    "            \n",
    "            if length == 0:\n",
    "                continue\n",
    "                \n",
    "            else:\n",
    "                result = hit / length\n",
    "                allHits = np.append(allHits, result)\n",
    "                \n",
    "                # Finding the particle type\n",
    "                pdg = events.mc_pdg[i]\n",
    "                particleType = np.append(particleType, pdg)\n",
    "                \n",
    "            \n",
    "            # Plotting each particle\n",
    "#             plt.scatter(x, z, s = 50)\n",
    "#             plt.scatter(xmin, zmin, c='red', s=10)\n",
    "#             plt.scatter(xmax, zmax, c='red', s=10)\n",
    "#             plt.show()\n",
    "\n",
    "        \n",
    "    return allHits, particleType"
   ]
  },
  {
   "cell_type": "code",
   "execution_count": 108,
   "id": "0774271a",
   "metadata": {
    "scrolled": false
   },
   "outputs": [
    {
     "data": {
      "text/plain": [
       "(array([0.67799889, 2.29642591, 4.1731376 , 4.17093318, 0.24087544,\n",
       "        0.20609004, 0.13435379, 0.19684833, 0.36644953, 2.04274422,\n",
       "        1.87190076, 3.95909523, 4.06677662, 2.40762383, 2.56628136,\n",
       "        1.81665613, 2.16058194, 0.87408692, 0.2019298 ]),\n",
       " array([2212.,    0.,    0.,    0.,    0.,    0.,    0.,    0.,    0.,\n",
       "        2212., 2212., 2212.,    0., 2212., 2212.,   13.,   11.,   22.,\n",
       "          22.]))"
      ]
     },
     "execution_count": 108,
     "metadata": {},
     "output_type": "execute_result"
    }
   ],
   "source": [
    "hits(0)"
   ]
  },
  {
   "cell_type": "code",
   "execution_count": 109,
   "id": "66724d59",
   "metadata": {},
   "outputs": [],
   "source": [
    "random_numbers = np.random.randint(0, max(events.event_number), 2000)"
   ]
  },
  {
   "cell_type": "code",
   "execution_count": 110,
   "id": "e1863935",
   "metadata": {},
   "outputs": [],
   "source": [
    "h = []\n",
    "p = []\n",
    "for i in random_numbers:\n",
    "    h, p = np.append(h, hits(i)[0]), np.append(p, hits(i)[1])"
   ]
  },
  {
   "cell_type": "code",
   "execution_count": 111,
   "id": "3ded9e09",
   "metadata": {},
   "outputs": [
    {
     "data": {
      "text/plain": [
       "((72274,), (72274,))"
      ]
     },
     "execution_count": 111,
     "metadata": {},
     "output_type": "execute_result"
    }
   ],
   "source": [
    "h.shape, p.shape"
   ]
  },
  {
   "cell_type": "code",
   "execution_count": 112,
   "id": "6cb1a5f9",
   "metadata": {},
   "outputs": [],
   "source": [
    "df = pd.DataFrame({\"hits\": h, \"particle\": p})"
   ]
  },
  {
   "cell_type": "code",
   "execution_count": 113,
   "id": "13330ad4",
   "metadata": {},
   "outputs": [],
   "source": [
    "# Using 0 to indicate tracks, 1 to indicate showers.\n",
    "\n",
    "mapping = {\n",
    "    11: 1,\n",
    "    -11: 1,\n",
    "    22: 1\n",
    "}\n",
    "\n",
    "df[\"class\"] = df[\"particle\"].map(mapping).fillna(0)"
   ]
  },
  {
   "cell_type": "code",
   "execution_count": 114,
   "id": "e3a5dc55",
   "metadata": {},
   "outputs": [],
   "source": [
    "tracksQuery = df['class'] == 0.0\n",
    "showersQuery = df['class'] == 1.0\n",
    "\n",
    "ftracks = df[tracksQuery]\n",
    "fshowers = df[showersQuery]\n",
    "\n",
    "tracks = ftracks['hits'].values\n",
    "showers = fshowers['hits'].values"
   ]
  },
  {
   "cell_type": "code",
   "execution_count": 115,
   "id": "6c6de9e9",
   "metadata": {},
   "outputs": [
    {
     "data": {
      "image/png": "[encoded data removed]",
      "text/plain": [
       "<Figure size 640x480 with 1 Axes>"
      ]
     },
     "metadata": {},
     "output_type": "display_data"
    }
   ],
   "source": [
    "n_bins = 40\n",
    "hist2, bin_edges = np.histogram(showers, bins=n_bins)\n",
    "hist1, _ = np.histogram(tracks, bins=bin_edges)\n",
    "\n",
    "bin_widths = np.diff(bin_edges)\n",
    "    \n",
    "hist1_normalized = hist1 / len(tracks)\n",
    "hist2_normalized = hist2 / len(showers)\n",
    "\n",
    "plt.bar(bin_edges[:-1], hist1_normalized, width=bin_widths, align='edge', alpha=0.75, label='Tracks')\n",
    "plt.bar(bin_edges[:-1], hist2_normalized, width=bin_widths, align='edge', alpha=0.75, label='Showers')\n",
    "plt.title(\"Using hits per length to distinguish tracks and showers\")\n",
    "plt.ylabel(\"Normalised frequency density\")\n",
    "plt.xlabel(\"Hits per length\")\n",
    "\n",
    "plt.legend()\n",
    "plt.show()"
   ]
  },
  {
   "cell_type": "code",
   "execution_count": 130,
   "id": "ecf99393",
   "metadata": {},
   "outputs": [],
   "source": [
    "def hitsW(event_number):\n",
    "    \"\"\"Needs to return number of hits divided by the \n",
    "    length of the particle track/shower, and the particle type\"\"\"\n",
    "    \n",
    "    # Accessing a specific event.\n",
    "    idx = np.where(events.event_number == event_number)[0]\n",
    "    \n",
    "    particleType = np.array([])\n",
    "    allHits = np.array([])\n",
    "    \n",
    "    # Looping through each particle from the event\n",
    "    for i in idx:\n",
    "        \n",
    "        # The position coordinates for the particle\n",
    "        x = events.reco_hits_x_w[i]\n",
    "        z = events.reco_hits_w[i]\n",
    "        \n",
    "        if x.size == 0:\n",
    "            continue\n",
    "            \n",
    "        else:\n",
    "            \n",
    "            # The number of hits\n",
    "            hit = len(x)\n",
    "                \n",
    "            allHits = np.append(allHits, hit)\n",
    "                \n",
    "            # Finding the particle type\n",
    "            pdg = events.mc_pdg[i]\n",
    "            particleType = np.append(particleType, pdg)\n",
    "                \n",
    "            \n",
    "            # Plotting each particle\n",
    "#             plt.scatter(x, z, s = 50)\n",
    "#             plt.scatter(xmin, zmin, c='red', s=10)\n",
    "#             plt.scatter(xmax, zmax, c='red', s=10)\n",
    "#             plt.show()\n",
    "\n",
    "        \n",
    "    return allHits, particleType"
   ]
  },
  {
   "cell_type": "code",
   "execution_count": 131,
   "id": "64a5581a",
   "metadata": {},
   "outputs": [],
   "source": [
    "random_numbers = np.random.randint(0, max(events.event_number), 2000)"
   ]
  },
  {
   "cell_type": "code",
   "execution_count": 132,
   "id": "f54aacb9",
   "metadata": {},
   "outputs": [],
   "source": [
    "h = []\n",
    "p = []\n",
    "for i in random_numbers:\n",
    "    h, p = np.append(h, hitsW(i)[0]), np.append(p, hitsW(i)[1])"
   ]
  },
  {
   "cell_type": "code",
   "execution_count": 133,
   "id": "43cda304",
   "metadata": {},
   "outputs": [
    {
     "data": {
      "text/plain": [
       "((10320,), (10320,))"
      ]
     },
     "execution_count": 133,
     "metadata": {},
     "output_type": "execute_result"
    }
   ],
   "source": [
    "h.shape, p.shape"
   ]
  },
  {
   "cell_type": "code",
   "execution_count": 134,
   "id": "c9e4a252",
   "metadata": {},
   "outputs": [],
   "source": [
    "df = pd.DataFrame({\"hits\": h, \"particle\": p})"
   ]
  },
  {
   "cell_type": "code",
   "execution_count": 135,
   "id": "ec51b221",
   "metadata": {},
   "outputs": [],
   "source": [
    "# Using 0 to indicate tracks, 1 to indicate showers.\n",
    "\n",
    "mapping = {\n",
    "    11: 1,\n",
    "    -11: 1,\n",
    "    22: 1\n",
    "}\n",
    "\n",
    "df[\"class\"] = df[\"particle\"].map(mapping).fillna(0)"
   ]
  },
  {
   "cell_type": "code",
   "execution_count": 136,
   "id": "18e2e9d3",
   "metadata": {},
   "outputs": [],
   "source": [
    "tracksQuery = df['class'] == 0.0\n",
    "showersQuery = df['class'] == 1.0\n",
    "\n",
    "ftracks = df[tracksQuery]\n",
    "fshowers = df[showersQuery]\n",
    "\n",
    "tracks = ftracks['hits'].values\n",
    "showers = fshowers['hits'].values"
   ]
  },
  {
   "cell_type": "code",
   "execution_count": 137,
   "id": "6fa071fa",
   "metadata": {},
   "outputs": [
    {
     "data": {
      "image/png": "[encoded data removed]",
      "text/plain": [
       "<Figure size 640x480 with 1 Axes>"
      ]
     },
     "metadata": {},
     "output_type": "display_data"
    }
   ],
   "source": [
    "n_bins = 40\n",
    "hist2, bin_edges = np.histogram(showers, bins=n_bins)\n",
    "hist1, _ = np.histogram(tracks, bins=bin_edges)\n",
    "\n",
    "bin_widths = np.diff(bin_edges)\n",
    "    \n",
    "hist1_normalized = hist1 / len(tracks)\n",
    "hist2_normalized = hist2 / len(showers)\n",
    "\n",
    "plt.bar(bin_edges[:-1], hist1_normalized, width=bin_widths, align='edge', alpha=0.75, label='Tracks')\n",
    "plt.bar(bin_edges[:-1], hist2_normalized, width=bin_widths, align='edge', alpha=0.75, label='Showers')\n",
    "plt.title(\"Using hits per length to distinguish tracks and showers\")\n",
    "plt.ylabel(\"Normalised frequency density\")\n",
    "plt.xlabel(\"Hits per length\")\n",
    "\n",
    "plt.legend()\n",
    "plt.show()"
   ]
  },
  {
   "cell_type": "code",
   "execution_count": null,
   "id": "1e5fa861",
   "metadata": {},
   "outputs": [],
   "source": []
  }
 ],
 "metadata": {
  "kernelspec": {
   "display_name": "Python 3 (ipykernel)",
   "language": "python",
   "name": "python3"
  },
  "language_info": {
   "codemirror_mode": {
    "name": "ipython",
    "version": 3
   },
   "file_extension": ".py",
   "mimetype": "text/x-python",
   "name": "python",
   "nbconvert_exporter": "python",
   "pygments_lexer": "ipython3",
   "version": "3.9.18"
  }
 },
 "nbformat": 4,
 "nbformat_minor": 5
}
