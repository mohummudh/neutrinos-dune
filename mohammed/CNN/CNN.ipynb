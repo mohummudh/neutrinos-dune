{
 "cells": [
  {
   "cell_type": "code",
   "execution_count": 208,
   "id": "cfea0bf2",
   "metadata": {},
   "outputs": [],
   "source": [
    "import numpy as np\n",
    "import matplotlib.pyplot as plt\n",
    "import tensorflow\n",
    "\n",
    "from tensorflow import keras\n",
    "from tensorflow.keras import callbacks\n",
    "from uproot_io import Events, View"
   ]
  },
  {
   "cell_type": "markdown",
   "id": "59d74d01",
   "metadata": {},
   "source": [
    "# Building a CNN for event classification.\n",
    "\n",
    "We're only using **perfect reconstruction** (cheated files) for this.\n",
    "\n",
    "1. Need to obtain the truth record for each event, 0 for CC_mu, 1 for CC_e and 2 for NC_x. \n"
   ]
  },
  {
   "cell_type": "code",
   "execution_count": 114,
   "id": "6b89ee2d",
   "metadata": {},
   "outputs": [],
   "source": [
    "# the data\n",
    "events = Events(\"/Users/mohammed/code/neutrinos-dune-files/CheatedRecoFile_1.root\")"
   ]
  },
  {
   "cell_type": "code",
   "execution_count": 115,
   "id": "923ad3ad",
   "metadata": {
    "scrolled": true
   },
   "outputs": [
    {
     "data": {
      "text/plain": [
       "(array([   0,    1,    2, ..., 9307, 9308, 9309], dtype=int32), 9310)"
      ]
     },
     "execution_count": 115,
     "metadata": {},
     "output_type": "execute_result"
    }
   ],
   "source": [
    "event_numbers = np.array(list(set(events.event_number)))\n",
    "event_numbers, len(event_numbers)"
   ]
  },
  {
   "cell_type": "markdown",
   "id": "8e555e74",
   "metadata": {},
   "source": [
    "# Labelling the events"
   ]
  },
  {
   "cell_type": "code",
   "execution_count": 116,
   "id": "8a59ed6a",
   "metadata": {},
   "outputs": [],
   "source": [
    "def labelling():\n",
    "    label = []\n",
    "#     bad = []\n",
    "    \n",
    "    for n in event_numbers:\n",
    "        mcp = []\n",
    "        index = np.where(events.event_number == n)[0]\n",
    "\n",
    "        for i in index:\n",
    "            parent = events.reco_parent_index[i]\n",
    "            if parent == 0:\n",
    "                mcp.append(events.mc_pdg[i])\n",
    "                \n",
    "#         if 13 in mcp and 11 in mcp:\n",
    "#             bad.append(n)\n",
    "#             label.append(3)\n",
    "        \n",
    "        if 13 in mcp or -13 in mcp:\n",
    "            label.append(0)\n",
    "\n",
    "        elif 11 in mcp or -11 in mcp:\n",
    "            label.append(1)    \n",
    "            \n",
    "        else:\n",
    "            label.append(2)\n",
    "            \n",
    "    return np.array(label)"
   ]
  },
  {
   "cell_type": "code",
   "execution_count": 117,
   "id": "85647b46",
   "metadata": {},
   "outputs": [],
   "source": [
    "labels = labelling()"
   ]
  },
  {
   "cell_type": "code",
   "execution_count": 118,
   "id": "c58538b3",
   "metadata": {},
   "outputs": [
    {
     "name": "stdout",
     "output_type": "stream",
     "text": [
      "9310\n"
     ]
    },
    {
     "data": {
      "text/plain": [
       "((array([3512.,    0.,    0.,    0.,    0., 3715.,    0.,    0.,    0.,\n",
       "         2083.]),\n",
       "  array([0. , 0.2, 0.4, 0.6, 0.8, 1. , 1.2, 1.4, 1.6, 1.8, 2. ]),\n",
       "  <BarContainer object of 10 artists>),\n",
       " None)"
      ]
     },
     "execution_count": 118,
     "metadata": {},
     "output_type": "execute_result"
    },
    {
     "data": {
      "image/png": "[encoded data removed]",
      "text/plain": [
       "<Figure size 640x480 with 1 Axes>"
      ]
     },
     "metadata": {},
     "output_type": "display_data"
    }
   ],
   "source": [
    "plt.hist(labels), print(len(labels))"
   ]
  },
  {
   "cell_type": "code",
   "execution_count": 119,
   "id": "a89a07d3",
   "metadata": {},
   "outputs": [],
   "source": [
    "def oneHotLabelling():\n",
    "    label = []\n",
    "    \n",
    "    for n in event_numbers:\n",
    "        mcp = []\n",
    "        index = np.where(events.event_number == n)[0]\n",
    "\n",
    "        for i in index:\n",
    "            parent = events.reco_parent_index[i]\n",
    "            if parent == 0:\n",
    "                mcp.append(events.mc_pdg[i])\n",
    "\n",
    "        if 11 in mcp or -11 in mcp:\n",
    "            label.append([0,1,0])    \n",
    "        \n",
    "        elif 13 in mcp or -13 in mcp:\n",
    "            label.append([1,0,0])\n",
    "            \n",
    "        else:\n",
    "            label.append([0,0,1])\n",
    "            \n",
    "    return np.array(label).astype(float)"
   ]
  },
  {
   "cell_type": "code",
   "execution_count": 120,
   "id": "eea9c2f9",
   "metadata": {},
   "outputs": [
    {
     "data": {
      "text/plain": [
       "array([[1., 0., 0.],\n",
       "       [1., 0., 0.],\n",
       "       [1., 0., 0.],\n",
       "       ...,\n",
       "       [0., 1., 0.],\n",
       "       [0., 1., 0.],\n",
       "       [0., 1., 0.]])"
      ]
     },
     "execution_count": 120,
     "metadata": {},
     "output_type": "execute_result"
    }
   ],
   "source": [
    "one_hot_labels = oneHotLabelling()\n",
    "one_hot_labels"
   ]
  },
  {
   "cell_type": "markdown",
   "id": "1c054a26",
   "metadata": {},
   "source": [
    "# Making the images"
   ]
  },
  {
   "cell_type": "code",
   "execution_count": 121,
   "id": "57787178",
   "metadata": {},
   "outputs": [],
   "source": [
    "view_w = View(events, \"w\")"
   ]
  },
  {
   "cell_type": "code",
   "execution_count": 122,
   "id": "82b3a879",
   "metadata": {},
   "outputs": [],
   "source": [
    "def plot_w_event(number):\n",
    "    x = view_w.x[number]\n",
    "    z = view_w.z[number]\n",
    "    adc = view_w.adc[number]\n",
    "    vx = view_w.true_vtx_x[number]\n",
    "    vz = view_w.true_vtx_z[number]\n",
    "    \n",
    "    plt.scatter(x, z, c=adc, s=0.5)\n",
    "    plt.scatter(vx, vz, c='red', s=50)\n",
    "    cbar = plt.colorbar()\n",
    "    cbar.set_label('ADC')\n",
    "    plt.xlabel('Time')\n",
    "    plt.ylabel('W Wire')\n",
    "    plt.show()"
   ]
  },
  {
   "cell_type": "code",
   "execution_count": 123,
   "id": "ef3630f9",
   "metadata": {},
   "outputs": [
    {
     "data": {
      "image/png": "[encoded data removed]",
      "text/plain": [
       "<Figure size 640x480 with 2 Axes>"
      ]
     },
     "metadata": {},
     "output_type": "display_data"
    }
   ],
   "source": [
    "plot_w_event(4)"
   ]
  },
  {
   "cell_type": "code",
   "execution_count": 184,
   "id": "57b09b9f",
   "metadata": {},
   "outputs": [],
   "source": [
    "def image():\n",
    "    \n",
    "    images = []\n",
    "    \n",
    "    for n in event_numbers:\n",
    "    \n",
    "        x = view_w.x[n]\n",
    "        z = view_w.z[n]\n",
    "        adc = view_w.adc[n]\n",
    "\n",
    "        matrix_size = 128\n",
    "        matrix, xedges, yedges = np.histogram2d(x, z, bins=matrix_size, range=[[min(x), max(x)], [min(z), max(z)]], weights=adc)\n",
    "        matrix = np.floor(matrix).astype(np.uint8).reshape(128, 128, 1)\n",
    "        images.append(matrix)\n",
    "        \n",
    "#         matrix_size = 128\n",
    "#         hit_matrix, xedges, yedges = np.histogram2d(x, z, bins=matrix_size, range=[[min(x), max(x)], [min(z), max(z)]], weights=adc)\n",
    "#         hit_matrix = (hit_matrix > 0).astype(int)\n",
    "#         hit_matrix = np.floor(hit_matrix).astype(np.uint8).reshape(128, 128, 1)\n",
    "#         images.append(hit_matrix)\n",
    "        \n",
    "\n",
    "#         # Display the pixelated image\n",
    "#         plt.imshow(hit_matrix.T, cmap='viridis', origin='lower', extent=[0, 128, 0, 128])\n",
    "#         plt.colorbar()\n",
    "#         plt.title('Pixelated Image of Energy')\n",
    "#         plt.show()\n",
    "    \n",
    "    return np.stack(images)"
   ]
  },
  {
   "cell_type": "code",
   "execution_count": 185,
   "id": "593c37ce",
   "metadata": {},
   "outputs": [],
   "source": [
    "images = image()"
   ]
  },
  {
   "cell_type": "code",
   "execution_count": 186,
   "id": "a3699005",
   "metadata": {},
   "outputs": [],
   "source": [
    "training = np.load(\"training_events.npy\")\n",
    "testing = np.load(\"testing_events.npy\")"
   ]
  },
  {
   "cell_type": "code",
   "execution_count": 187,
   "id": "6ed28d3f",
   "metadata": {},
   "outputs": [],
   "source": [
    "x_train = images[training]\n",
    "y_train = one_hot_labels[training]\n",
    "\n",
    "x_test = images[testing]\n",
    "y_test = one_hot_labels[testing]"
   ]
  },
  {
   "cell_type": "code",
   "execution_count": 188,
   "id": "9dad88a9",
   "metadata": {},
   "outputs": [
    {
     "data": {
      "text/plain": [
       "(6445, 2763)"
      ]
     },
     "execution_count": 188,
     "metadata": {},
     "output_type": "execute_result"
    }
   ],
   "source": [
    "len(training), len(testing)"
   ]
  },
  {
   "cell_type": "code",
   "execution_count": 189,
   "id": "5f4a7c3e",
   "metadata": {},
   "outputs": [],
   "source": [
    "num_classes = 3"
   ]
  },
  {
   "cell_type": "markdown",
   "id": "afa803e7",
   "metadata": {},
   "source": [
    "# The CNN"
   ]
  },
  {
   "cell_type": "code",
   "execution_count": 210,
   "id": "01feed0d",
   "metadata": {},
   "outputs": [
    {
     "name": "stdout",
     "output_type": "stream",
     "text": [
      "Model: \"model_9\"\n",
      "_________________________________________________________________\n",
      " Layer (type)                Output Shape              Param #   \n",
      "=================================================================\n",
      " input_10 (InputLayer)       [(None, 128, 128, 1)]     0         \n",
      "                                                                 \n",
      " conv2d_18 (Conv2D)          (None, 126, 126, 32)      320       \n",
      "                                                                 \n",
      " max_pooling2d_18 (MaxPooli  (None, 63, 63, 32)        0         \n",
      " ng2D)                                                           \n",
      "                                                                 \n",
      " dropout_10 (Dropout)        (None, 63, 63, 32)        0         \n",
      "                                                                 \n",
      " flatten_9 (Flatten)         (None, 127008)            0         \n",
      "                                                                 \n",
      " dense_14 (Dense)            (None, 3)                 381027    \n",
      "                                                                 \n",
      "=================================================================\n",
      "Total params: 381347 (1.45 MB)\n",
      "Trainable params: 381347 (1.45 MB)\n",
      "Non-trainable params: 0 (0.00 Byte)\n",
      "_________________________________________________________________\n"
     ]
    }
   ],
   "source": [
    "# model 1\n",
    "\n",
    "input_layer = keras.layers.Input(x_train[0].shape)\n",
    "x = keras.layers.Conv2D(32, (3,3), activation='relu')(input_layer) # Replace None with a 2D convolution with 32 filters of size (3,3) and relu activation\n",
    "x = keras.layers.MaxPooling2D((2,2))(x) # Replace None with a MaxPooling2D layer to downsample by a factor of 2 in both dimensions\n",
    "x = keras.layers.Dropout(0.25)(x) # Replace None with a droput layer with a fraction of 0.25\n",
    "# x = keras.layers.Conv2D(32, (3,3), activation='relu')(x)\n",
    "# x = keras.layers.MaxPooling2D((2,2))(x)\n",
    "x = keras.layers.Flatten()(x)\n",
    "x = keras.layers.Dense(num_classes, activation='softmax')(x) # Replace None with a final dense output layer with num_classes neurons and softmax activation\n",
    "cnn_model = keras.Model(input_layer, x)\n",
    "cnn_model.summary()"
   ]
  },
  {
   "cell_type": "code",
   "execution_count": 211,
   "id": "edbb92d8",
   "metadata": {},
   "outputs": [],
   "source": [
    "# The batch size controls the number of images that are processed simultaneously\n",
    "batch_size = 128\n",
    "# The number of epochs that we want to train the network for\n",
    "epochs = 25\n",
    "# The learning rate (step size in gradient descent)\n",
    "learning_rate = 0.001"
   ]
  },
  {
   "cell_type": "code",
   "execution_count": 212,
   "id": "96ff5372",
   "metadata": {},
   "outputs": [],
   "source": [
    "# Define the loss function - for a multi-class classification task we need to\n",
    "# use categorical crossentropy loss\n",
    "loss_function = keras.losses.categorical_crossentropy\n",
    "# The optimiser performs the gradient descent for us. There are a few different\n",
    "# algorithms, but Adam is one of the more popular ones\n",
    "optimiser = keras.optimizers.legacy.Adam(learning_rate=learning_rate)\n",
    "# Now we compile the model with the loss function and optimiser\n",
    "cnn_model.compile(loss=loss_function, optimizer=optimiser, metrics=['accuracy'])"
   ]
  },
  {
   "cell_type": "code",
   "execution_count": 213,
   "id": "6895b9d1",
   "metadata": {
    "collapsed": true
   },
   "outputs": [
    {
     "name": "stdout",
     "output_type": "stream",
     "text": [
      "Epoch 1/25\n",
      "51/51 [==============================] - 11s 209ms/step - loss: 33.8099 - accuracy: 0.3854 - val_loss: 1.0796 - val_accuracy: 0.3992\n",
      "Epoch 2/25\n",
      "51/51 [==============================] - 11s 219ms/step - loss: 1.0714 - accuracy: 0.3969 - val_loss: 1.0753 - val_accuracy: 0.3992\n",
      "Epoch 3/25\n",
      "51/51 [==============================] - 14s 269ms/step - loss: 1.0700 - accuracy: 0.3969 - val_loss: 1.0756 - val_accuracy: 0.3992\n",
      "Epoch 4/25\n",
      "51/51 [==============================] - 11s 219ms/step - loss: 1.0699 - accuracy: 0.3969 - val_loss: 1.0752 - val_accuracy: 0.3992\n",
      "Epoch 5/25\n",
      "51/51 [==============================] - 10s 195ms/step - loss: 1.0701 - accuracy: 0.3969 - val_loss: 1.0752 - val_accuracy: 0.3992\n",
      "Epoch 6/25\n",
      "51/51 [==============================] - 10s 194ms/step - loss: 1.0700 - accuracy: 0.3969 - val_loss: 1.0753 - val_accuracy: 0.3992\n",
      "Epoch 7/25\n",
      "51/51 [==============================] - 10s 197ms/step - loss: 1.0704 - accuracy: 0.3969 - val_loss: 1.0756 - val_accuracy: 0.3992\n",
      "Epoch 8/25\n",
      "51/51 [==============================] - 10s 192ms/step - loss: 1.0701 - accuracy: 0.3969 - val_loss: 1.0753 - val_accuracy: 0.3992\n",
      "Epoch 9/25\n",
      "51/51 [==============================] - 11s 206ms/step - loss: 1.0701 - accuracy: 0.3969 - val_loss: 1.0752 - val_accuracy: 0.3992\n",
      "Epoch 10/25\n",
      "51/51 [==============================] - 10s 200ms/step - loss: 1.0701 - accuracy: 0.3969 - val_loss: 1.0755 - val_accuracy: 0.3992\n",
      "Epoch 11/25\n",
      "51/51 [==============================] - 10s 199ms/step - loss: 1.0704 - accuracy: 0.3908 - val_loss: 1.0762 - val_accuracy: 0.3992\n",
      "Epoch 12/25\n",
      "51/51 [==============================] - 10s 197ms/step - loss: 1.0700 - accuracy: 0.3969 - val_loss: 1.0754 - val_accuracy: 0.3992\n",
      "Epoch 13/25\n",
      "51/51 [==============================] - 11s 216ms/step - loss: 1.0701 - accuracy: 0.3969 - val_loss: 1.0755 - val_accuracy: 0.3992\n",
      "Epoch 14/25\n",
      "30/51 [================>.............] - ETA: 4s - loss: 1.0719 - accuracy: 0.3964"
     ]
    },
    {
     "ename": "KeyboardInterrupt",
     "evalue": "",
     "output_type": "error",
     "traceback": [
      "\u001b[0;31m---------------------------------------------------------------------------\u001b[0m",
      "\u001b[0;31mKeyboardInterrupt\u001b[0m                         Traceback (most recent call last)",
      "\u001b[0;32m/var/folders/0j/k5n00ph57w3c1tdfq0lwsgn00000gn/T/ipykernel_68784/2831852788.py\u001b[0m in \u001b[0;36m<module>\u001b[0;34m\u001b[0m\n\u001b[1;32m      1\u001b[0m \u001b[0;31m# Train the model using the training data with the true target outputs.\u001b[0m\u001b[0;34m\u001b[0m\u001b[0;34m\u001b[0m\u001b[0m\n\u001b[1;32m      2\u001b[0m \u001b[0;31m# Fill in the required arguments using the clues given above\u001b[0m\u001b[0;34m\u001b[0m\u001b[0;34m\u001b[0m\u001b[0m\n\u001b[0;32m----> 3\u001b[0;31m cnn_model.fit(x = x_train, y = y_train, batch_size = batch_size, epochs = epochs,\n\u001b[0m\u001b[1;32m      4\u001b[0m               validation_data = (x_test, y_test), verbose = 1)\n",
      "\u001b[0;32m~/opt/anaconda3/lib/python3.9/site-packages/keras/src/utils/traceback_utils.py\u001b[0m in \u001b[0;36merror_handler\u001b[0;34m(*args, **kwargs)\u001b[0m\n\u001b[1;32m     63\u001b[0m         \u001b[0mfiltered_tb\u001b[0m \u001b[0;34m=\u001b[0m \u001b[0;32mNone\u001b[0m\u001b[0;34m\u001b[0m\u001b[0;34m\u001b[0m\u001b[0m\n\u001b[1;32m     64\u001b[0m         \u001b[0;32mtry\u001b[0m\u001b[0;34m:\u001b[0m\u001b[0;34m\u001b[0m\u001b[0;34m\u001b[0m\u001b[0m\n\u001b[0;32m---> 65\u001b[0;31m             \u001b[0;32mreturn\u001b[0m \u001b[0mfn\u001b[0m\u001b[0;34m(\u001b[0m\u001b[0;34m*\u001b[0m\u001b[0margs\u001b[0m\u001b[0;34m,\u001b[0m \u001b[0;34m**\u001b[0m\u001b[0mkwargs\u001b[0m\u001b[0;34m)\u001b[0m\u001b[0;34m\u001b[0m\u001b[0;34m\u001b[0m\u001b[0m\n\u001b[0m\u001b[1;32m     66\u001b[0m         \u001b[0;32mexcept\u001b[0m \u001b[0mException\u001b[0m \u001b[0;32mas\u001b[0m \u001b[0me\u001b[0m\u001b[0;34m:\u001b[0m\u001b[0;34m\u001b[0m\u001b[0;34m\u001b[0m\u001b[0m\n\u001b[1;32m     67\u001b[0m             \u001b[0mfiltered_tb\u001b[0m \u001b[0;34m=\u001b[0m \u001b[0m_process_traceback_frames\u001b[0m\u001b[0;34m(\u001b[0m\u001b[0me\u001b[0m\u001b[0;34m.\u001b[0m\u001b[0m__traceback__\u001b[0m\u001b[0;34m)\u001b[0m\u001b[0;34m\u001b[0m\u001b[0;34m\u001b[0m\u001b[0m\n",
      "\u001b[0;32m~/opt/anaconda3/lib/python3.9/site-packages/keras/src/engine/training.py\u001b[0m in \u001b[0;36mfit\u001b[0;34m(self, x, y, batch_size, epochs, verbose, callbacks, validation_split, validation_data, shuffle, class_weight, sample_weight, initial_epoch, steps_per_epoch, validation_steps, validation_batch_size, validation_freq, max_queue_size, workers, use_multiprocessing)\u001b[0m\n\u001b[1;32m   1781\u001b[0m                         ):\n\u001b[1;32m   1782\u001b[0m                             \u001b[0mcallbacks\u001b[0m\u001b[0;34m.\u001b[0m\u001b[0mon_train_batch_begin\u001b[0m\u001b[0;34m(\u001b[0m\u001b[0mstep\u001b[0m\u001b[0;34m)\u001b[0m\u001b[0;34m\u001b[0m\u001b[0;34m\u001b[0m\u001b[0m\n\u001b[0;32m-> 1783\u001b[0;31m                             \u001b[0mtmp_logs\u001b[0m \u001b[0;34m=\u001b[0m \u001b[0mself\u001b[0m\u001b[0;34m.\u001b[0m\u001b[0mtrain_function\u001b[0m\u001b[0;34m(\u001b[0m\u001b[0miterator\u001b[0m\u001b[0;34m)\u001b[0m\u001b[0;34m\u001b[0m\u001b[0;34m\u001b[0m\u001b[0m\n\u001b[0m\u001b[1;32m   1784\u001b[0m                             \u001b[0;32mif\u001b[0m \u001b[0mdata_handler\u001b[0m\u001b[0;34m.\u001b[0m\u001b[0mshould_sync\u001b[0m\u001b[0;34m:\u001b[0m\u001b[0;34m\u001b[0m\u001b[0;34m\u001b[0m\u001b[0m\n\u001b[1;32m   1785\u001b[0m                                 \u001b[0mcontext\u001b[0m\u001b[0;34m.\u001b[0m\u001b[0masync_wait\u001b[0m\u001b[0;34m(\u001b[0m\u001b[0;34m)\u001b[0m\u001b[0;34m\u001b[0m\u001b[0;34m\u001b[0m\u001b[0m\n",
      "\u001b[0;32m~/opt/anaconda3/lib/python3.9/site-packages/tensorflow/python/util/traceback_utils.py\u001b[0m in \u001b[0;36merror_handler\u001b[0;34m(*args, **kwargs)\u001b[0m\n\u001b[1;32m    148\u001b[0m     \u001b[0mfiltered_tb\u001b[0m \u001b[0;34m=\u001b[0m \u001b[0;32mNone\u001b[0m\u001b[0;34m\u001b[0m\u001b[0;34m\u001b[0m\u001b[0m\n\u001b[1;32m    149\u001b[0m     \u001b[0;32mtry\u001b[0m\u001b[0;34m:\u001b[0m\u001b[0;34m\u001b[0m\u001b[0;34m\u001b[0m\u001b[0m\n\u001b[0;32m--> 150\u001b[0;31m       \u001b[0;32mreturn\u001b[0m \u001b[0mfn\u001b[0m\u001b[0;34m(\u001b[0m\u001b[0;34m*\u001b[0m\u001b[0margs\u001b[0m\u001b[0;34m,\u001b[0m \u001b[0;34m**\u001b[0m\u001b[0mkwargs\u001b[0m\u001b[0;34m)\u001b[0m\u001b[0;34m\u001b[0m\u001b[0;34m\u001b[0m\u001b[0m\n\u001b[0m\u001b[1;32m    151\u001b[0m     \u001b[0;32mexcept\u001b[0m \u001b[0mException\u001b[0m \u001b[0;32mas\u001b[0m \u001b[0me\u001b[0m\u001b[0;34m:\u001b[0m\u001b[0;34m\u001b[0m\u001b[0;34m\u001b[0m\u001b[0m\n\u001b[1;32m    152\u001b[0m       \u001b[0mfiltered_tb\u001b[0m \u001b[0;34m=\u001b[0m \u001b[0m_process_traceback_frames\u001b[0m\u001b[0;34m(\u001b[0m\u001b[0me\u001b[0m\u001b[0;34m.\u001b[0m\u001b[0m__traceback__\u001b[0m\u001b[0;34m)\u001b[0m\u001b[0;34m\u001b[0m\u001b[0;34m\u001b[0m\u001b[0m\n",
      "\u001b[0;32m~/opt/anaconda3/lib/python3.9/site-packages/tensorflow/python/eager/polymorphic_function/polymorphic_function.py\u001b[0m in \u001b[0;36m__call__\u001b[0;34m(self, *args, **kwds)\u001b[0m\n\u001b[1;32m    829\u001b[0m \u001b[0;34m\u001b[0m\u001b[0m\n\u001b[1;32m    830\u001b[0m       \u001b[0;32mwith\u001b[0m \u001b[0mOptionalXlaContext\u001b[0m\u001b[0;34m(\u001b[0m\u001b[0mself\u001b[0m\u001b[0;34m.\u001b[0m\u001b[0m_jit_compile\u001b[0m\u001b[0;34m)\u001b[0m\u001b[0;34m:\u001b[0m\u001b[0;34m\u001b[0m\u001b[0;34m\u001b[0m\u001b[0m\n\u001b[0;32m--> 831\u001b[0;31m         \u001b[0mresult\u001b[0m \u001b[0;34m=\u001b[0m \u001b[0mself\u001b[0m\u001b[0;34m.\u001b[0m\u001b[0m_call\u001b[0m\u001b[0;34m(\u001b[0m\u001b[0;34m*\u001b[0m\u001b[0margs\u001b[0m\u001b[0;34m,\u001b[0m \u001b[0;34m**\u001b[0m\u001b[0mkwds\u001b[0m\u001b[0;34m)\u001b[0m\u001b[0;34m\u001b[0m\u001b[0;34m\u001b[0m\u001b[0m\n\u001b[0m\u001b[1;32m    832\u001b[0m \u001b[0;34m\u001b[0m\u001b[0m\n\u001b[1;32m    833\u001b[0m       \u001b[0mnew_tracing_count\u001b[0m \u001b[0;34m=\u001b[0m \u001b[0mself\u001b[0m\u001b[0;34m.\u001b[0m\u001b[0mexperimental_get_tracing_count\u001b[0m\u001b[0;34m(\u001b[0m\u001b[0;34m)\u001b[0m\u001b[0;34m\u001b[0m\u001b[0;34m\u001b[0m\u001b[0m\n",
      "\u001b[0;32m~/opt/anaconda3/lib/python3.9/site-packages/tensorflow/python/eager/polymorphic_function/polymorphic_function.py\u001b[0m in \u001b[0;36m_call\u001b[0;34m(self, *args, **kwds)\u001b[0m\n\u001b[1;32m    865\u001b[0m       \u001b[0;31m# In this case we have created variables on the first call, so we run the\u001b[0m\u001b[0;34m\u001b[0m\u001b[0;34m\u001b[0m\u001b[0m\n\u001b[1;32m    866\u001b[0m       \u001b[0;31m# defunned version which is guaranteed to never create variables.\u001b[0m\u001b[0;34m\u001b[0m\u001b[0;34m\u001b[0m\u001b[0m\n\u001b[0;32m--> 867\u001b[0;31m       return tracing_compilation.call_function(\n\u001b[0m\u001b[1;32m    868\u001b[0m           \u001b[0margs\u001b[0m\u001b[0;34m,\u001b[0m \u001b[0mkwds\u001b[0m\u001b[0;34m,\u001b[0m \u001b[0mself\u001b[0m\u001b[0;34m.\u001b[0m\u001b[0m_no_variable_creation_config\u001b[0m\u001b[0;34m\u001b[0m\u001b[0;34m\u001b[0m\u001b[0m\n\u001b[1;32m    869\u001b[0m       )\n",
      "\u001b[0;32m~/opt/anaconda3/lib/python3.9/site-packages/tensorflow/python/eager/polymorphic_function/tracing_compilation.py\u001b[0m in \u001b[0;36mcall_function\u001b[0;34m(args, kwargs, tracing_options)\u001b[0m\n\u001b[1;32m    137\u001b[0m   \u001b[0mbound_args\u001b[0m \u001b[0;34m=\u001b[0m \u001b[0mfunction\u001b[0m\u001b[0;34m.\u001b[0m\u001b[0mfunction_type\u001b[0m\u001b[0;34m.\u001b[0m\u001b[0mbind\u001b[0m\u001b[0;34m(\u001b[0m\u001b[0;34m*\u001b[0m\u001b[0margs\u001b[0m\u001b[0;34m,\u001b[0m \u001b[0;34m**\u001b[0m\u001b[0mkwargs\u001b[0m\u001b[0;34m)\u001b[0m\u001b[0;34m\u001b[0m\u001b[0;34m\u001b[0m\u001b[0m\n\u001b[1;32m    138\u001b[0m   \u001b[0mflat_inputs\u001b[0m \u001b[0;34m=\u001b[0m \u001b[0mfunction\u001b[0m\u001b[0;34m.\u001b[0m\u001b[0mfunction_type\u001b[0m\u001b[0;34m.\u001b[0m\u001b[0munpack_inputs\u001b[0m\u001b[0;34m(\u001b[0m\u001b[0mbound_args\u001b[0m\u001b[0;34m)\u001b[0m\u001b[0;34m\u001b[0m\u001b[0;34m\u001b[0m\u001b[0m\n\u001b[0;32m--> 139\u001b[0;31m   return function._call_flat(  # pylint: disable=protected-access\n\u001b[0m\u001b[1;32m    140\u001b[0m       \u001b[0mflat_inputs\u001b[0m\u001b[0;34m,\u001b[0m \u001b[0mcaptured_inputs\u001b[0m\u001b[0;34m=\u001b[0m\u001b[0mfunction\u001b[0m\u001b[0;34m.\u001b[0m\u001b[0mcaptured_inputs\u001b[0m\u001b[0;34m\u001b[0m\u001b[0;34m\u001b[0m\u001b[0m\n\u001b[1;32m    141\u001b[0m   )\n",
      "\u001b[0;32m~/opt/anaconda3/lib/python3.9/site-packages/tensorflow/python/eager/polymorphic_function/concrete_function.py\u001b[0m in \u001b[0;36m_call_flat\u001b[0;34m(self, tensor_inputs, captured_inputs)\u001b[0m\n\u001b[1;32m   1262\u001b[0m         and executing_eagerly):\n\u001b[1;32m   1263\u001b[0m       \u001b[0;31m# No tape is watching; skip to running the function.\u001b[0m\u001b[0;34m\u001b[0m\u001b[0;34m\u001b[0m\u001b[0m\n\u001b[0;32m-> 1264\u001b[0;31m       \u001b[0;32mreturn\u001b[0m \u001b[0mself\u001b[0m\u001b[0;34m.\u001b[0m\u001b[0m_inference_function\u001b[0m\u001b[0;34m.\u001b[0m\u001b[0mflat_call\u001b[0m\u001b[0;34m(\u001b[0m\u001b[0margs\u001b[0m\u001b[0;34m)\u001b[0m\u001b[0;34m\u001b[0m\u001b[0;34m\u001b[0m\u001b[0m\n\u001b[0m\u001b[1;32m   1265\u001b[0m     forward_backward = self._select_forward_and_backward_functions(\n\u001b[1;32m   1266\u001b[0m         \u001b[0margs\u001b[0m\u001b[0;34m,\u001b[0m\u001b[0;34m\u001b[0m\u001b[0;34m\u001b[0m\u001b[0m\n",
      "\u001b[0;32m~/opt/anaconda3/lib/python3.9/site-packages/tensorflow/python/eager/polymorphic_function/atomic_function.py\u001b[0m in \u001b[0;36mflat_call\u001b[0;34m(self, args)\u001b[0m\n\u001b[1;32m    215\u001b[0m   \u001b[0;32mdef\u001b[0m \u001b[0mflat_call\u001b[0m\u001b[0;34m(\u001b[0m\u001b[0mself\u001b[0m\u001b[0;34m,\u001b[0m \u001b[0margs\u001b[0m\u001b[0;34m:\u001b[0m \u001b[0mSequence\u001b[0m\u001b[0;34m[\u001b[0m\u001b[0mcore\u001b[0m\u001b[0;34m.\u001b[0m\u001b[0mTensor\u001b[0m\u001b[0;34m]\u001b[0m\u001b[0;34m)\u001b[0m \u001b[0;34m->\u001b[0m \u001b[0mAny\u001b[0m\u001b[0;34m:\u001b[0m\u001b[0;34m\u001b[0m\u001b[0;34m\u001b[0m\u001b[0m\n\u001b[1;32m    216\u001b[0m     \u001b[0;34m\"\"\"Calls with tensor inputs and returns the structured output.\"\"\"\u001b[0m\u001b[0;34m\u001b[0m\u001b[0;34m\u001b[0m\u001b[0m\n\u001b[0;32m--> 217\u001b[0;31m     \u001b[0mflat_outputs\u001b[0m \u001b[0;34m=\u001b[0m \u001b[0mself\u001b[0m\u001b[0;34m(\u001b[0m\u001b[0;34m*\u001b[0m\u001b[0margs\u001b[0m\u001b[0;34m)\u001b[0m\u001b[0;34m\u001b[0m\u001b[0;34m\u001b[0m\u001b[0m\n\u001b[0m\u001b[1;32m    218\u001b[0m     \u001b[0;32mreturn\u001b[0m \u001b[0mself\u001b[0m\u001b[0;34m.\u001b[0m\u001b[0mfunction_type\u001b[0m\u001b[0;34m.\u001b[0m\u001b[0mpack_output\u001b[0m\u001b[0;34m(\u001b[0m\u001b[0mflat_outputs\u001b[0m\u001b[0;34m)\u001b[0m\u001b[0;34m\u001b[0m\u001b[0;34m\u001b[0m\u001b[0m\n\u001b[1;32m    219\u001b[0m \u001b[0;34m\u001b[0m\u001b[0m\n",
      "\u001b[0;32m~/opt/anaconda3/lib/python3.9/site-packages/tensorflow/python/eager/polymorphic_function/atomic_function.py\u001b[0m in \u001b[0;36m__call__\u001b[0;34m(self, *args)\u001b[0m\n\u001b[1;32m    250\u001b[0m         \u001b[0;32mwith\u001b[0m \u001b[0mrecord\u001b[0m\u001b[0;34m.\u001b[0m\u001b[0mstop_recording\u001b[0m\u001b[0;34m(\u001b[0m\u001b[0;34m)\u001b[0m\u001b[0;34m:\u001b[0m\u001b[0;34m\u001b[0m\u001b[0;34m\u001b[0m\u001b[0m\n\u001b[1;32m    251\u001b[0m           \u001b[0;32mif\u001b[0m \u001b[0mself\u001b[0m\u001b[0;34m.\u001b[0m\u001b[0m_bound_context\u001b[0m\u001b[0;34m.\u001b[0m\u001b[0mexecuting_eagerly\u001b[0m\u001b[0;34m(\u001b[0m\u001b[0;34m)\u001b[0m\u001b[0;34m:\u001b[0m\u001b[0;34m\u001b[0m\u001b[0;34m\u001b[0m\u001b[0m\n\u001b[0;32m--> 252\u001b[0;31m             outputs = self._bound_context.call_function(\n\u001b[0m\u001b[1;32m    253\u001b[0m                 \u001b[0mself\u001b[0m\u001b[0;34m.\u001b[0m\u001b[0mname\u001b[0m\u001b[0;34m,\u001b[0m\u001b[0;34m\u001b[0m\u001b[0;34m\u001b[0m\u001b[0m\n\u001b[1;32m    254\u001b[0m                 \u001b[0mlist\u001b[0m\u001b[0;34m(\u001b[0m\u001b[0margs\u001b[0m\u001b[0;34m)\u001b[0m\u001b[0;34m,\u001b[0m\u001b[0;34m\u001b[0m\u001b[0;34m\u001b[0m\u001b[0m\n",
      "\u001b[0;32m~/opt/anaconda3/lib/python3.9/site-packages/tensorflow/python/eager/context.py\u001b[0m in \u001b[0;36mcall_function\u001b[0;34m(self, name, tensor_inputs, num_outputs)\u001b[0m\n\u001b[1;32m   1477\u001b[0m     \u001b[0mcancellation_context\u001b[0m \u001b[0;34m=\u001b[0m \u001b[0mcancellation\u001b[0m\u001b[0;34m.\u001b[0m\u001b[0mcontext\u001b[0m\u001b[0;34m(\u001b[0m\u001b[0;34m)\u001b[0m\u001b[0;34m\u001b[0m\u001b[0;34m\u001b[0m\u001b[0m\n\u001b[1;32m   1478\u001b[0m     \u001b[0;32mif\u001b[0m \u001b[0mcancellation_context\u001b[0m \u001b[0;32mis\u001b[0m \u001b[0;32mNone\u001b[0m\u001b[0;34m:\u001b[0m\u001b[0;34m\u001b[0m\u001b[0;34m\u001b[0m\u001b[0m\n\u001b[0;32m-> 1479\u001b[0;31m       outputs = execute.execute(\n\u001b[0m\u001b[1;32m   1480\u001b[0m           \u001b[0mname\u001b[0m\u001b[0;34m.\u001b[0m\u001b[0mdecode\u001b[0m\u001b[0;34m(\u001b[0m\u001b[0;34m\"utf-8\"\u001b[0m\u001b[0;34m)\u001b[0m\u001b[0;34m,\u001b[0m\u001b[0;34m\u001b[0m\u001b[0;34m\u001b[0m\u001b[0m\n\u001b[1;32m   1481\u001b[0m           \u001b[0mnum_outputs\u001b[0m\u001b[0;34m=\u001b[0m\u001b[0mnum_outputs\u001b[0m\u001b[0;34m,\u001b[0m\u001b[0;34m\u001b[0m\u001b[0;34m\u001b[0m\u001b[0m\n",
      "\u001b[0;32m~/opt/anaconda3/lib/python3.9/site-packages/tensorflow/python/eager/execute.py\u001b[0m in \u001b[0;36mquick_execute\u001b[0;34m(op_name, num_outputs, inputs, attrs, ctx, name)\u001b[0m\n\u001b[1;32m     58\u001b[0m         \u001b[0;32mfor\u001b[0m \u001b[0mt\u001b[0m \u001b[0;32min\u001b[0m \u001b[0minputs\u001b[0m\u001b[0;34m\u001b[0m\u001b[0;34m\u001b[0m\u001b[0m\n\u001b[1;32m     59\u001b[0m     ]\n\u001b[0;32m---> 60\u001b[0;31m     tensors = pywrap_tfe.TFE_Py_Execute(ctx._handle, device_name, op_name,\n\u001b[0m\u001b[1;32m     61\u001b[0m                                         inputs, attrs, num_outputs)\n\u001b[1;32m     62\u001b[0m   \u001b[0;32mexcept\u001b[0m \u001b[0mcore\u001b[0m\u001b[0;34m.\u001b[0m\u001b[0m_NotOkStatusException\u001b[0m \u001b[0;32mas\u001b[0m \u001b[0me\u001b[0m\u001b[0;34m:\u001b[0m\u001b[0;34m\u001b[0m\u001b[0;34m\u001b[0m\u001b[0m\n",
      "\u001b[0;31mKeyboardInterrupt\u001b[0m: "
     ]
    }
   ],
   "source": [
    "# Train the model using the training data with the true target outputs.\n",
    "# Fill in the required arguments using the clues given above\n",
    "cnn_model.fit(x = x_train, y = y_train, batch_size = batch_size, epochs = epochs,\n",
    "              validation_data = (x_test, y_test), verbose = 1)\n"
   ]
  },
  {
   "cell_type": "code",
   "execution_count": 226,
   "id": "f3e5ba19",
   "metadata": {},
   "outputs": [
    {
     "name": "stdout",
     "output_type": "stream",
     "text": [
      "Model: \"model_12\"\n",
      "_________________________________________________________________\n",
      " Layer (type)                Output Shape              Param #   \n",
      "=================================================================\n",
      " input_13 (InputLayer)       [(None, 128, 128, 1)]     0         \n",
      "                                                                 \n",
      " conv2d_25 (Conv2D)          (None, 128, 128, 32)      320       \n",
      "                                                                 \n",
      " max_pooling2d_25 (MaxPooli  (None, 64, 64, 32)        0         \n",
      " ng2D)                                                           \n",
      "                                                                 \n",
      " conv2d_26 (Conv2D)          (None, 64, 64, 64)        18496     \n",
      "                                                                 \n",
      " max_pooling2d_26 (MaxPooli  (None, 32, 32, 64)        0         \n",
      " ng2D)                                                           \n",
      "                                                                 \n",
      " conv2d_27 (Conv2D)          (None, 32, 32, 128)       73856     \n",
      "                                                                 \n",
      " max_pooling2d_27 (MaxPooli  (None, 16, 16, 128)       0         \n",
      " ng2D)                                                           \n",
      "                                                                 \n",
      " flatten_12 (Flatten)        (None, 32768)             0         \n",
      "                                                                 \n",
      " dense_19 (Dense)            (None, 128)               4194432   \n",
      "                                                                 \n",
      " dropout_13 (Dropout)        (None, 128)               0         \n",
      "                                                                 \n",
      " dense_20 (Dense)            (None, 3)                 387       \n",
      "                                                                 \n",
      "=================================================================\n",
      "Total params: 4287491 (16.36 MB)\n",
      "Trainable params: 4287491 (16.36 MB)\n",
      "Non-trainable params: 0 (0.00 Byte)\n",
      "_________________________________________________________________\n"
     ]
    }
   ],
   "source": [
    "# model 2\n",
    "\n",
    "from tensorflow import keras\n",
    "from tensorflow.keras.layers import Input, Conv2D, MaxPooling2D, Flatten, Dense, Dropout\n",
    "\n",
    "# Define the input shape\n",
    "input_shape = x_train[0].shape  # Replace with the shape of your input data\n",
    "\n",
    "# Input layer\n",
    "input_layer = Input(shape=input_shape)\n",
    "\n",
    "# Convolutional layers\n",
    "x = Conv2D(32, (3, 3), activation='relu', padding='same')(input_layer)\n",
    "x = MaxPooling2D((2, 2))(x)\n",
    "x = Conv2D(64, (3, 3), activation='relu', padding='same')(x)\n",
    "x = MaxPooling2D((2, 2))(x)\n",
    "x = Conv2D(128, (3, 3), activation='relu', padding='same')(x)\n",
    "x = MaxPooling2D((2, 2))(x)\n",
    "\n",
    "# Flatten the output of the conv layers\n",
    "x = Flatten()(x)\n",
    "\n",
    "# Dense layer\n",
    "x = Dense(128, activation='relu')(x)\n",
    "x = Dropout(0.5)(x)\n",
    "\n",
    "# Output layer\n",
    "output = Dense(num_classes, activation='softmax')(x)  # 3 classes for the output\n",
    "\n",
    "# Creating the model\n",
    "model = keras.Model(inputs=input_layer, outputs=output)\n",
    "model.compile(optimizer='adam', loss='categorical_crossentropy', metrics=['accuracy'])\n",
    "\n",
    "model.summary()"
   ]
  },
  {
   "cell_type": "code",
   "execution_count": 227,
   "id": "48eca227",
   "metadata": {},
   "outputs": [],
   "source": [
    "# The batch size controls the number of images that are processed simultaneously\n",
    "batch_size = 128\n",
    "# The number of epochs that we want to train the network for\n",
    "epochs = 50\n",
    "# The learning rate (step size in gradient descent)\n",
    "learning_rate = 0.005"
   ]
  },
  {
   "cell_type": "code",
   "execution_count": 228,
   "id": "7eff5905",
   "metadata": {},
   "outputs": [],
   "source": [
    "# Define the loss function - for a multi-class classification task we need to\n",
    "# use categorical crossentropy loss\n",
    "loss_function = keras.losses.categorical_crossentropy\n",
    "# The optimiser performs the gradient descent for us. There are a few different\n",
    "# algorithms, but Adam is one of the more popular ones\n",
    "optimiser = keras.optimizers.legacy.Adam(learning_rate=learning_rate)\n",
    "# Now we compile the model with the loss function and optimiser\n",
    "cnn_model.compile(loss=loss_function, optimizer=optimiser, metrics=['accuracy'])"
   ]
  },
  {
   "cell_type": "code",
   "execution_count": null,
   "id": "9469c6a5",
   "metadata": {},
   "outputs": [
    {
     "name": "stdout",
     "output_type": "stream",
     "text": [
      "Epoch 1/50\n",
      "51/51 [==============================] - 15s 287ms/step - loss: 1.0701 - accuracy: 0.3969 - val_loss: 1.0755 - val_accuracy: 0.3992\n",
      "Epoch 2/50\n",
      "51/51 [==============================] - 22s 441ms/step - loss: 1.0699 - accuracy: 0.3969 - val_loss: 1.0752 - val_accuracy: 0.3992\n",
      "Epoch 3/50\n",
      "51/51 [==============================] - 14s 265ms/step - loss: 1.0699 - accuracy: 0.3969 - val_loss: 1.0753 - val_accuracy: 0.3992\n",
      "Epoch 4/50\n",
      "51/51 [==============================] - 12s 232ms/step - loss: 1.0699 - accuracy: 0.3969 - val_loss: 1.0756 - val_accuracy: 0.3992\n",
      "Epoch 5/50\n",
      "51/51 [==============================] - 13s 245ms/step - loss: 1.0701 - accuracy: 0.3969 - val_loss: 1.0753 - val_accuracy: 0.3992\n",
      "Epoch 6/50\n",
      "51/51 [==============================] - 15s 286ms/step - loss: 1.0700 - accuracy: 0.3969 - val_loss: 1.0753 - val_accuracy: 0.3992\n",
      "Epoch 7/50\n",
      "51/51 [==============================] - 19s 370ms/step - loss: 1.0700 - accuracy: 0.3969 - val_loss: 1.0755 - val_accuracy: 0.3992\n",
      "Epoch 8/50\n",
      "51/51 [==============================] - 12s 237ms/step - loss: 1.0699 - accuracy: 0.3969 - val_loss: 1.0754 - val_accuracy: 0.3992\n",
      "Epoch 9/50\n",
      "51/51 [==============================] - 13s 264ms/step - loss: 1.0699 - accuracy: 0.3969 - val_loss: 1.0754 - val_accuracy: 0.3992\n",
      "Epoch 10/50\n",
      "51/51 [==============================] - 12s 231ms/step - loss: 1.0699 - accuracy: 0.3969 - val_loss: 1.0757 - val_accuracy: 0.3992\n",
      "Epoch 11/50\n",
      "51/51 [==============================] - 15s 291ms/step - loss: 1.0700 - accuracy: 0.3969 - val_loss: 1.0754 - val_accuracy: 0.3992\n",
      "Epoch 12/50\n",
      "51/51 [==============================] - ETA: 0s - loss: 1.0699 - accuracy: 0.3969"
     ]
    }
   ],
   "source": [
    "# Train the model using the training data with the true target outputs.\n",
    "# Fill in the required arguments using the clues given above\n",
    "cnn_model.fit(x = x_train, y = y_train, batch_size = batch_size, epochs = epochs,\n",
    "              validation_data = (x_test, y_test), verbose = 1)"
   ]
  },
  {
   "cell_type": "code",
   "execution_count": 194,
   "id": "b157f484",
   "metadata": {},
   "outputs": [
    {
     "name": "stdout",
     "output_type": "stream",
     "text": [
      "22/22 [==============================] - 4s 196ms/step\n",
      "Number of images that were incorrectly classified = 573\n"
     ]
    }
   ],
   "source": [
    "# Make a list of incorrect classifications\n",
    "incorrect_indices = []\n",
    "# Let's look at the whole test dataset, but you can reduce this to 1000 or so\n",
    "# if you want run more quickly\n",
    "n_images_to_check = x_test.shape[0]\n",
    "# Use the CNN to predict the classification of the images. It returns an array\n",
    "# containing the 10 class scores for each image. It is best to write this code\n",
    "# using the array notation x[:i] that means use all values of x up until\n",
    "# the index i, such that if you changed the number of images above then it all\n",
    "# still works efficiently\n",
    "raw_predictions = cnn_model.predict(x = x_test[:n_images_to_check], batch_size = batch_size)\n",
    "for i in range(0,n_images_to_check):\n",
    "  # Remember the raw output from the CNN gives us an array of scores. We want\n",
    "  # to select the highest one as our prediction. We need to do the same thing\n",
    "  # for the truth too since we converted our numbers to a categorical\n",
    "  # representation earlier. We use the np.argmax() function for this\n",
    "  prediction = np.argmax(raw_predictions[i])\n",
    "  truth = np.argmax(y_test[i])\n",
    "  if prediction != truth:\n",
    "    incorrect_indices.append([i,prediction,truth])\n",
    "print('Number of images that were incorrectly classified =',len(incorrect_indices))"
   ]
  },
  {
   "cell_type": "code",
   "execution_count": 195,
   "id": "a1637433",
   "metadata": {},
   "outputs": [
    {
     "data": {
      "text/plain": [
       "0.7924664976457805"
      ]
     },
     "execution_count": 195,
     "metadata": {},
     "output_type": "execute_result"
    }
   ],
   "source": [
    "accuracy = (2761-573)/2761\n",
    "accuracy"
   ]
  },
  {
   "cell_type": "code",
   "execution_count": 204,
   "id": "4e293230",
   "metadata": {},
   "outputs": [
    {
     "name": "stdout",
     "output_type": "stream",
     "text": [
      "Incorrect classification for image 33 : predicted = 1 with true = 0\n"
     ]
    },
    {
     "data": {
      "text/plain": [
       "<matplotlib.image.AxesImage at 0x379999fd0>"
      ]
     },
     "execution_count": 204,
     "metadata": {},
     "output_type": "execute_result"
    },
    {
     "data": {
      "image/png": "[encoded data removed]",
      "text/plain": [
       "<Figure size 640x480 with 1 Axes>"
      ]
     },
     "metadata": {},
     "output_type": "display_data"
    }
   ],
   "source": [
    "# Now you can modify this part to draw different images from the failures list\n",
    "# You can change the value of im to look at different failures\n",
    "im = 6\n",
    "image_to_plot = x_test[incorrect_indices[im][0]]\n",
    "fig, ax = plt.subplots(1, 1)\n",
    "print('Incorrect classification for image',incorrect_indices[im][0],\n",
    "      ': predicted =',incorrect_indices[im][1],\n",
    "      'with true =',incorrect_indices[im][2])\n",
    "ax.imshow(image_to_plot)"
   ]
  },
  {
   "cell_type": "markdown",
   "id": "71e7952e",
   "metadata": {},
   "source": [
    "# Pandora"
   ]
  },
  {
   "cell_type": "code",
   "execution_count": 41,
   "id": "fd6f9aee",
   "metadata": {},
   "outputs": [],
   "source": [
    "def image():\n",
    "    \n",
    "    images = []\n",
    "    \n",
    "    for n in event_numbers:\n",
    "\n",
    "        x = view_w.x[n]\n",
    "        z = view_w.z[n]\n",
    "        adc = view_w.adc[n]\n",
    "        \n",
    "        if len(x) > 0:\n",
    "            \n",
    "            matrix_size = 128\n",
    "            matrix, xedges, yedges = np.histogram2d(x, z, bins=matrix_size, range=[[min(x), max(x)], [min(z), max(z)]], weights=adc)\n",
    "\n",
    "            matrix = np.floor(matrix).astype(np.uint8).reshape(128, 128, 1)\n",
    "            images.append(matrix)\n",
    "        \n",
    "        else:\n",
    "            print(n)\n",
    "\n",
    "\n",
    "    #         # Display the pixelated image\n",
    "    #         plt.imshow(matrix.T, cmap='viridis', origin='lower', extent=[0, 128, 0, 128])\n",
    "    #         plt.colorbar()\n",
    "    #         plt.title('Pixelated Image of Energy')\n",
    "    #         plt.show()\n",
    "    \n",
    "    return np.stack(images)"
   ]
  },
  {
   "cell_type": "code",
   "execution_count": 42,
   "id": "44cd8472",
   "metadata": {},
   "outputs": [
    {
     "name": "stdout",
     "output_type": "stream",
     "text": [
      "2517\n",
      "4841\n",
      "5873\n",
      "6319\n",
      "7344\n",
      "7635\n",
      "7721\n",
      "8899\n"
     ]
    }
   ],
   "source": [
    "images = image()"
   ]
  },
  {
   "cell_type": "code",
   "execution_count": 55,
   "id": "3615cc7d",
   "metadata": {},
   "outputs": [],
   "source": [
    "random_numbersold = np.random.randint(0,9201 , 9201)\n",
    "seventy = int(0.7*len(random_numbersold))\n",
    "training = random_numbersold[:seventy]\n",
    "testing = random_numbersold[seventy:]\n",
    "# np.save(\"training_events\", training)\n",
    "# np.save(\"testing_events\", testing)\n",
    "\n",
    "\n",
    "# training = np.load(\"training_events.npy\")\n",
    "# testing = np.load(\"testing_events.npy\")"
   ]
  },
  {
   "cell_type": "code",
   "execution_count": 56,
   "id": "f22331b1",
   "metadata": {},
   "outputs": [
    {
     "data": {
      "text/plain": [
       "9201"
      ]
     },
     "execution_count": 56,
     "metadata": {},
     "output_type": "execute_result"
    }
   ],
   "source": [
    "len(training)+len(testing)"
   ]
  },
  {
   "cell_type": "code",
   "execution_count": 68,
   "id": "e2d9b2b3",
   "metadata": {},
   "outputs": [
    {
     "data": {
      "text/plain": [
       "2761"
      ]
     },
     "execution_count": 68,
     "metadata": {},
     "output_type": "execute_result"
    }
   ],
   "source": [
    "len(testing)"
   ]
  },
  {
   "cell_type": "code",
   "execution_count": 57,
   "id": "5a39dfb1",
   "metadata": {},
   "outputs": [
    {
     "data": {
      "text/plain": [
       "9201"
      ]
     },
     "execution_count": 57,
     "metadata": {},
     "output_type": "execute_result"
    }
   ],
   "source": [
    "len(images)"
   ]
  },
  {
   "cell_type": "code",
   "execution_count": 58,
   "id": "cdefd0be",
   "metadata": {},
   "outputs": [
    {
     "ename": "SyntaxError",
     "evalue": "unexpected EOF while parsing (1285137494.py, line 3)",
     "output_type": "error",
     "traceback": [
      "\u001b[0;36m  File \u001b[0;32m\"/var/folders/0j/k5n00ph57w3c1tdfq0lwsgn00000gn/T/ipykernel_68784/1285137494.py\"\u001b[0;36m, line \u001b[0;32m3\u001b[0m\n\u001b[0;31m    testing = [x for x in testing if x not in remove\u001b[0m\n\u001b[0m                                                    ^\u001b[0m\n\u001b[0;31mSyntaxError\u001b[0m\u001b[0;31m:\u001b[0m unexpected EOF while parsing\n"
     ]
    }
   ],
   "source": [
    "remove = [2517, 2841, 5873, 6319, 7344, 7635, 7721, 8899]\n",
    "training = [x for x in training if x not in remove]\n",
    "testing = [x for x in testing if x not in remove]"
   ]
  },
  {
   "cell_type": "code",
   "execution_count": 59,
   "id": "11c4400f",
   "metadata": {},
   "outputs": [],
   "source": [
    "x_train = images[training]\n",
    "y_train = one_hot_labels[training]\n",
    "\n",
    "x_test = images[testing]\n",
    "y_test = one_hot_labels[testing]"
   ]
  },
  {
   "cell_type": "code",
   "execution_count": null,
   "id": "19b5c2a9",
   "metadata": {},
   "outputs": [],
   "source": []
  }
 ],
 "metadata": {
  "kernelspec": {
   "display_name": "Python 3 (ipykernel)",
   "language": "python",
   "name": "python3"
  },
  "language_info": {
   "codemirror_mode": {
    "name": "ipython",
    "version": 3
   },
   "file_extension": ".py",
   "mimetype": "text/x-python",
   "name": "python",
   "nbconvert_exporter": "python",
   "pygments_lexer": "ipython3",
   "version": "3.9.18"
  }
 },
 "nbformat": 4,
 "nbformat_minor": 5
}
