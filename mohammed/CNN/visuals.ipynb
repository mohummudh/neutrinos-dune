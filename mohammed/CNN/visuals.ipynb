{
 "cells": [
  {
   "cell_type": "code",
   "execution_count": 1,
   "id": "2733e74d",
   "metadata": {},
   "outputs": [],
   "source": [
    "import numpy as np\n",
    "import matplotlib.pyplot as plt\n",
    "import tensorflow\n",
    "\n",
    "from tensorflow import keras\n",
    "from tensorflow.keras import callbacks\n",
    "from uproot_io import Events, View"
   ]
  },
  {
   "cell_type": "code",
   "execution_count": 74,
   "id": "edf2d004",
   "metadata": {},
   "outputs": [],
   "source": [
    "# the data\n",
    "events1 = Events(\"/Users/mohammed/code/neutrinos-dune-files/CheatedRecoFile_1.root\")\n",
    "events2 = Events(\"/Users/mohammed/code/neutrinos-dune-files/CheatedRecoFile_2.root\")\n",
    "events3 = Events(\"/Users/mohammed/code/neutrinos-dune-files/CheatedRecoFile_3.root\")\n",
    "events4 = Events(\"/Users/mohammed/code/neutrinos-dune-files/CheatedRecoFile_4.root\")"
   ]
  },
  {
   "cell_type": "code",
   "execution_count": 81,
   "id": "8b6395b3",
   "metadata": {},
   "outputs": [
    {
     "data": {
      "text/plain": [
       "(9310, 9265, 9310, 9257)"
      ]
     },
     "execution_count": 81,
     "metadata": {},
     "output_type": "execute_result"
    }
   ],
   "source": [
    "numbers1 = np.array(list(set(events1.event_number)))\n",
    "numbers2 = np.array(list(set(events2.event_number)))\n",
    "numbers3 = np.array(list(set(events3.event_number)))\n",
    "numbers4 = np.array(list(set(events4.event_number)))\n",
    "len(numbers1), len(numbers2), len(numbers3), len(numbers4)"
   ]
  },
  {
   "cell_type": "code",
   "execution_count": 75,
   "id": "8e4886a4",
   "metadata": {},
   "outputs": [],
   "source": [
    "view_w1 = View(events1, \"w\")\n",
    "view_w2 = View(events2, \"w\")\n",
    "view_w3 = View(events3, \"w\")\n",
    "view_w4 = View(events4, \"w\")"
   ]
  },
  {
   "cell_type": "code",
   "execution_count": 77,
   "id": "ff0d1c22",
   "metadata": {},
   "outputs": [],
   "source": [
    "def process_numbers(numbers, events):\n",
    "    labels = []\n",
    "    for n in numbers:\n",
    "        mcp = []\n",
    "        index = np.where(events.event_number == n)[0]\n",
    "\n",
    "        for i in index:\n",
    "            parent = events.reco_parent_index[i]\n",
    "            if parent == 0:\n",
    "                mcp.append(events.mc_pdg[i])\n",
    "\n",
    "        if 11 in mcp or -11 in mcp:\n",
    "            labels.append([0, 1, 0])\n",
    "        elif 13 in mcp or -13 in mcp:\n",
    "            labels.append([1, 0, 0])\n",
    "        else:\n",
    "            labels.append([0, 0, 1])\n",
    "    return labels\n",
    "\n",
    "def oneHotLabelling(numbers_list, events_list):\n",
    "    labels = []\n",
    "    for numbers, events in zip(numbers_list, events_list):\n",
    "        labels.extend(process_numbers(numbers, events))\n",
    "    return np.array(labels).astype(float)"
   ]
  },
  {
   "cell_type": "code",
   "execution_count": 78,
   "id": "56d42867",
   "metadata": {},
   "outputs": [],
   "source": [
    "# Usage\n",
    "numbers_list = [numbers1, numbers2, numbers3, numbers4]\n",
    "events_list = [events1, events2, events3, events4]\n",
    "labels = oneHotLabelling(numbers_list, events_list)"
   ]
  },
  {
   "cell_type": "code",
   "execution_count": 98,
   "id": "b065277b",
   "metadata": {},
   "outputs": [],
   "source": [
    "def imagenew(numbers_list, views_list):\n",
    "    images = []\n",
    "    \n",
    "    for numbers, view_w in zip(numbers_list, views_list):\n",
    "        for n in numbers:\n",
    "            x, z, adc, vx, vz = view_w.x[n], view_w.z[n], view_w.adc[n], view_w.true_vtx_x[n], view_w.true_vtx_z[n]\n",
    "            \n",
    "            x_mean, z_mean = np.floor(np.mean(x)), np.floor(np.mean(z))\n",
    "            minusx, plusx = x_mean - 150, x_mean + 150\n",
    "            minusz, plusz = z_mean - 150, z_mean + 150\n",
    "\n",
    "            # Adjusting the range based on vertex positions\n",
    "            minusx, plusx = min(minusx, np.floor(vx) - 25), max(plusx, np.floor(vx) + 25)\n",
    "            minusz, plusz = min(minusz, np.floor(vz) - 25), max(plusz, np.floor(vz) + 25)\n",
    "\n",
    "            matrix, _, _ = np.histogram2d(x, z, bins=256, range=[[minusx, plusx], [minusz, plusz]], weights=adc)\n",
    "            matrix = (matrix > 0).astype(np.uint8).reshape(256, 256, 1)\n",
    "            images.append(matrix)\n",
    "\n",
    "    return np.stack(images)"
   ]
  },
  {
   "cell_type": "code",
   "execution_count": 99,
   "id": "9153d989",
   "metadata": {},
   "outputs": [],
   "source": [
    "# Usage example\n",
    "numbers_list = [numbers1, numbers2, numbers3, numbers4]\n",
    "views_list = [view_w1, view_w2, view_w3, view_w4]\n",
    "all_images = imagenew(numbers_list, views_list)"
   ]
  },
  {
   "cell_type": "code",
   "execution_count": 103,
   "id": "ad5141d7",
   "metadata": {},
   "outputs": [
    {
     "data": {
      "text/plain": [
       "(37142, 256, 256, 1)"
      ]
     },
     "execution_count": 103,
     "metadata": {},
     "output_type": "execute_result"
    }
   ],
   "source": [
    "all_images.shape"
   ]
  },
  {
   "cell_type": "code",
   "execution_count": 124,
   "id": "04aaa4e0",
   "metadata": {},
   "outputs": [
    {
     "data": {
      "image/png": "[encoded data removed]",
      "text/plain": [
       "<Figure size 640x480 with 2 Axes>"
      ]
     },
     "metadata": {},
     "output_type": "display_data"
    }
   ],
   "source": [
    "# Display the pixelated image\n",
    "image_to_display = all_images[2343].reshape(256,256)\n",
    "\n",
    "plt.imshow(image_to_display, cmap='viridis', origin='lower', extent=[0, 256, 0, 256])\n",
    "plt.colorbar()\n",
    "plt.title('Pixelated Image of Energy')\n",
    "plt.show()"
   ]
  },
  {
   "cell_type": "code",
   "execution_count": 120,
   "id": "80ba20ed",
   "metadata": {},
   "outputs": [],
   "source": [
    "# Generate random indices\n",
    "random_numbers = np.random.permutation(len(labels))\n",
    "\n",
    "# Calculate the indices for each subset\n",
    "sixty_percent = int(0.6 * len(random_numbers))\n",
    "ten_percent = int(0.1 * len(random_numbers))\n",
    "\n",
    "# Split the indices into training, validation, and testing\n",
    "training_indices = random_numbers[:sixty_percent]\n",
    "validation_indices = random_numbers[sixty_percent:sixty_percent + ten_percent]\n",
    "testing_indices = random_numbers[sixty_percent + ten_percent:]"
   ]
  },
  {
   "cell_type": "code",
   "execution_count": 122,
   "id": "3574d91d",
   "metadata": {},
   "outputs": [],
   "source": [
    "# Splitting the data\n",
    "x_train = all_images[training_indices]\n",
    "y_train = labels[training_indices]\n",
    "\n",
    "x_val = all_images[validation_indices]\n",
    "y_val = labels[validation_indices]\n",
    "\n",
    "x_test = all_images[testing_indices]\n",
    "y_test = labels[testing_indices]"
   ]
  },
  {
   "cell_type": "code",
   "execution_count": 123,
   "id": "2fca8514",
   "metadata": {},
   "outputs": [
    {
     "data": {
      "text/plain": [
       "(22285, 3714, 11143)"
      ]
     },
     "execution_count": 123,
     "metadata": {},
     "output_type": "execute_result"
    }
   ],
   "source": [
    "len(x_train), len(x_val), len(x_test)"
   ]
  },
  {
   "cell_type": "code",
   "execution_count": null,
   "id": "8dde758d",
   "metadata": {},
   "outputs": [],
   "source": [
    "from tensorflow.keras.models import load_model\n",
    "model = load_model('/Users/mohammed/code/neutrinos-dune-files/modelv2')"
   ]
  },
  {
   "cell_type": "code",
   "execution_count": 127,
   "id": "3b585304",
   "metadata": {},
   "outputs": [],
   "source": [
    "# The batch size controls the number of images that are processed simultaneously\n",
    "batch_size = 128\n",
    "# The number of epochs that we want to train the network for\n",
    "epochs = 5\n",
    "# The learning rate (step size in gradient descent)\n",
    "learning_rate = 0.001"
   ]
  },
  {
   "cell_type": "code",
   "execution_count": 128,
   "id": "e1bf803e",
   "metadata": {},
   "outputs": [],
   "source": [
    "# Define the loss function - for a multi-class classification task we need to\n",
    "# use categorical crossentropy loss\n",
    "loss_function = keras.losses.categorical_crossentropy\n",
    "# The optimiser performs the gradient descent for us. There are a few different\n",
    "# algorithms, but Adam is one of the more popular ones\n",
    "optimiser = keras.optimizers.legacy.Adam(learning_rate=learning_rate)\n",
    "# Now we compile the model with the loss function and optimiser\n",
    "model.compile(loss=loss_function, optimizer=optimiser, metrics=['accuracy'])"
   ]
  },
  {
   "cell_type": "code",
   "execution_count": 72,
   "id": "ed7ccde8",
   "metadata": {},
   "outputs": [
    {
     "name": "stdout",
     "output_type": "stream",
     "text": [
      "22/22 [==============================] - 21s 948ms/step\n",
      "Number of images that were incorrectly classified = 472\n"
     ]
    }
   ],
   "source": [
    "# Make a list of incorrect classifications\n",
    "incorrect_indices = []\n",
    "# Let's look at the whole test dataset, but you can reduce this to 1000 or so\n",
    "# if you want run more quickly\n",
    "n_images_to_check = x_test.shape[0]\n",
    "# Use the CNN to predict the classification of the images. It returns an array\n",
    "# containing the 10 class scores for each image. It is best to write this code\n",
    "# using the array notation x[:i] that means use all values of x up until\n",
    "# the index i, such that if you changed the number of images above then it all\n",
    "# still works efficiently\n",
    "raw_predictions = cnn_model.predict(x = x_test[:n_images_to_check], batch_size = batch_size)\n",
    "for i in range(0,n_images_to_check):\n",
    "  # Remember the raw output from the CNN gives us an array of scores. We want\n",
    "  # to select the highest one as our prediction. We need to do the same thing\n",
    "  # for the truth too since we converted our numbers to a categorical\n",
    "  # representation earlier. We use the np.argmax() function for this\n",
    "  prediction = np.argmax(raw_predictions[i])\n",
    "  truth = np.argmax(y_test[i])\n",
    "  if prediction != truth:\n",
    "    incorrect_indices.append([i,prediction,truth])\n",
    "print('Number of images that were incorrectly classified =',len(incorrect_indices))"
   ]
  },
  {
   "cell_type": "code",
   "execution_count": 18,
   "id": "596b0d0c",
   "metadata": {},
   "outputs": [
    {
     "data": {
      "text/plain": [
       "0.8628302569670648"
      ]
     },
     "execution_count": 18,
     "metadata": {},
     "output_type": "execute_result"
    }
   ],
   "source": [
    "(2763-379)/2763"
   ]
  },
  {
   "cell_type": "code",
   "execution_count": null,
   "id": "9a3c698c",
   "metadata": {},
   "outputs": [],
   "source": []
  }
 ],
 "metadata": {
  "kernelspec": {
   "display_name": "Python 3 (ipykernel)",
   "language": "python",
   "name": "python3"
  },
  "language_info": {
   "codemirror_mode": {
    "name": "ipython",
    "version": 3
   },
   "file_extension": ".py",
   "mimetype": "text/x-python",
   "name": "python",
   "nbconvert_exporter": "python",
   "pygments_lexer": "ipython3",
   "version": "3.9.18"
  }
 },
 "nbformat": 4,
 "nbformat_minor": 5
}
