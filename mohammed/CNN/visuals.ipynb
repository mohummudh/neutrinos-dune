{
 "cells": [
  {
   "cell_type": "code",
   "execution_count": 28,
   "id": "2733e74d",
   "metadata": {},
   "outputs": [],
   "source": [
    "import numpy as np\n",
    "import matplotlib.pyplot as plt\n",
    "import tensorflow as tf\n",
    "\n",
    "from tensorflow import keras\n",
    "from tensorflow.keras import callbacks\n",
    "from uproot_io import Events, View"
   ]
  },
  {
   "cell_type": "code",
   "execution_count": 29,
   "id": "edf2d004",
   "metadata": {},
   "outputs": [],
   "source": [
    "# the data\n",
    "events1 = Events(\"/Users/mohammed/code/neutrinos-dune-files/CheatedRecoFile_1.root\")\n",
    "events2 = Events(\"/Users/mohammed/code/neutrinos-dune-files/CheatedRecoFile_2.root\")\n",
    "events3 = Events(\"/Users/mohammed/code/neutrinos-dune-files/CheatedRecoFile_3.root\")\n",
    "events4 = Events(\"/Users/mohammed/code/neutrinos-dune-files/CheatedRecoFile_4.root\")"
   ]
  },
  {
   "cell_type": "code",
   "execution_count": 30,
   "id": "8b6395b3",
   "metadata": {},
   "outputs": [
    {
     "data": {
      "text/plain": [
       "(9310, 9265, 9310, 9257)"
      ]
     },
     "execution_count": 30,
     "metadata": {},
     "output_type": "execute_result"
    }
   ],
   "source": [
    "# getting the event indices and finding the number of events in each file\n",
    "numbers1 = np.array(list(set(events1.event_number)))\n",
    "numbers2 = np.array(list(set(events2.event_number)))\n",
    "numbers3 = np.array(list(set(events3.event_number)))\n",
    "numbers4 = np.array(list(set(events4.event_number)))\n",
    "len(numbers1), len(numbers2), len(numbers3), len(numbers4)"
   ]
  },
  {
   "cell_type": "code",
   "execution_count": 31,
   "id": "8e4886a4",
   "metadata": {},
   "outputs": [],
   "source": [
    "# creating view classes for each event\n",
    "view_w1 = View(events1, \"w\")\n",
    "view_w2 = View(events2, \"w\")\n",
    "view_w3 = View(events3, \"w\")\n",
    "view_w4 = View(events4, \"w\")"
   ]
  },
  {
   "cell_type": "code",
   "execution_count": 32,
   "id": "22e612df",
   "metadata": {},
   "outputs": [],
   "source": [
    "def plot_w_event(view_w, number):\n",
    "    x = view_w.x[number]\n",
    "    z = view_w.z[number]\n",
    "    adc = view_w.adc[number]\n",
    "    vx = view_w.true_vtx_x[number]\n",
    "    vz = view_w.true_vtx_z[number]\n",
    "    \n",
    "    plt.scatter(x, z, c=adc, s=0.5)\n",
    "    plt.scatter(vx, vz, c='red', s=50)\n",
    "    cbar = plt.colorbar()\n",
    "    cbar.set_label('ADC')\n",
    "    plt.xlabel('Time')\n",
    "    plt.ylabel('W Wire')\n",
    "    plt.show()"
   ]
  },
  {
   "cell_type": "code",
   "execution_count": 33,
   "id": "ff0d1c22",
   "metadata": {},
   "outputs": [],
   "source": [
    "def process_numbers(numbers, events):\n",
    "    labels = []\n",
    "    for n in numbers:\n",
    "        mcp = []\n",
    "        index = np.where(events.event_number == n)[0]\n",
    "\n",
    "        for i in index:\n",
    "            parent = events.reco_parent_index[i]\n",
    "            if parent == 0:\n",
    "                mcp.append(events.mc_pdg[i])\n",
    "\n",
    "        if 11 in mcp or -11 in mcp:\n",
    "            labels.append([0, 1, 0])\n",
    "        elif 13 in mcp or -13 in mcp:\n",
    "            labels.append([1, 0, 0])\n",
    "        else:\n",
    "            labels.append([0, 0, 1])\n",
    "    return labels\n",
    "\n",
    "def oneHotLabelling(numbers_list, events_list):\n",
    "    labels = []\n",
    "    for numbers, events in zip(numbers_list, events_list):\n",
    "        labels.extend(process_numbers(numbers, events))\n",
    "    return np.array(labels).astype(float)"
   ]
  },
  {
   "cell_type": "code",
   "execution_count": 34,
   "id": "56d42867",
   "metadata": {},
   "outputs": [],
   "source": [
    "# Usage\n",
    "numbers_list = [numbers1, numbers2, numbers3, numbers4]\n",
    "events_list = [events1, events2, events3, events4]\n",
    "labels = oneHotLabelling(numbers_list, events_list)"
   ]
  },
  {
   "cell_type": "code",
   "execution_count": 37,
   "id": "2dfc0ca6",
   "metadata": {},
   "outputs": [
    {
     "data": {
      "text/plain": [
       "array([1., 0., 0.])"
      ]
     },
     "execution_count": 37,
     "metadata": {},
     "output_type": "execute_result"
    }
   ],
   "source": [
    "labels[2]"
   ]
  },
  {
   "cell_type": "code",
   "execution_count": 45,
   "id": "939dd9d5",
   "metadata": {},
   "outputs": [],
   "source": [
    "np.savetxt('array.txt', labels, delimiter=',', fmt='%d')"
   ]
  },
  {
   "cell_type": "code",
   "execution_count": 38,
   "id": "b065277b",
   "metadata": {},
   "outputs": [],
   "source": [
    "def imagenew(numbers_list, views_list):\n",
    "    images = []\n",
    "    \n",
    "    for numbers, view_w in zip(numbers_list, views_list):\n",
    "        for n in numbers:\n",
    "            x, z, adc, vx, vz = view_w.x[n], view_w.z[n], view_w.adc[n], view_w.true_vtx_x[n], view_w.true_vtx_z[n]\n",
    "            \n",
    "            x_mean, z_mean = np.floor(np.mean(x)), np.floor(np.mean(z))\n",
    "            minusx, plusx = x_mean - 100, x_mean + 100\n",
    "            minusz, plusz = z_mean - 100, z_mean + 100\n",
    "\n",
    "#             # Adjusting the range based on vertex positions\n",
    "#             minusx, plusx = min(minusx, np.floor(vx) - 25), max(plusx, np.floor(vx) + 25)\n",
    "#             minusz, plusz = min(minusz, np.floor(vz) - 25), max(plusz, np.floor(vz) + 25)\n",
    "            \n",
    "            if vx < minusx:\n",
    "                minusx = np.floor(vx)-20\n",
    "                plusx = np.floor(vx)+180\n",
    "            if vx > plusx:\n",
    "                minusx = np.floor(vx)-180\n",
    "                plusx = np.floor(vx)+20\n",
    "            if vz < minusz:\n",
    "                minusz = np.floor(vz)-20\n",
    "                plusz = np.floor(vz)+180\n",
    "            if vz > plusz:\n",
    "                minusz = np.floor(vz)-180\n",
    "                plusz = np.floor(vz)+20\n",
    "\n",
    "            matrix, _, _ = np.histogram2d(x, z, bins=128, range=[[minusx, plusx], [minusz, plusz]], weights=adc)\n",
    "            matrix = (matrix > 0).astype(np.uint8).reshape(128, 128, 1)\n",
    "            images.append(matrix)\n",
    "\n",
    "    return np.stack(images)"
   ]
  },
  {
   "cell_type": "code",
   "execution_count": 39,
   "id": "9153d989",
   "metadata": {},
   "outputs": [],
   "source": [
    "# Usage example\n",
    "numbers_list = [numbers1, numbers2, numbers3, numbers4]\n",
    "views_list = [view_w1, view_w2, view_w3, view_w4]\n",
    "all_images = imagenew(numbers_list, views_list)"
   ]
  },
  {
   "cell_type": "code",
   "execution_count": 76,
   "id": "ad5141d7",
   "metadata": {},
   "outputs": [
    {
     "data": {
      "text/plain": [
       "(37142, 128, 128, 1)"
      ]
     },
     "execution_count": 76,
     "metadata": {},
     "output_type": "execute_result"
    }
   ],
   "source": [
    "all_images.shape"
   ]
  },
  {
   "cell_type": "code",
   "execution_count": 77,
   "id": "3a20e510",
   "metadata": {},
   "outputs": [
    {
     "data": {
      "text/plain": [
       "1552"
      ]
     },
     "execution_count": 77,
     "metadata": {},
     "output_type": "execute_result"
    }
   ],
   "source": [
    "all_images_squeezed = np.squeeze(all_images)\n",
    "\n",
    "# Check for all-zero matrices in a vectorized manner\n",
    "is_all_zero = np.all(all_images_squeezed == 0, axis=(1, 2))\n",
    "\n",
    "# Indices of all-zero matrices\n",
    "all_zeros_indices = np.where(is_all_zero)[0]\n",
    "\n",
    "len(all_zeros_indices)"
   ]
  },
  {
   "cell_type": "code",
   "execution_count": 115,
   "id": "764d80b8",
   "metadata": {},
   "outputs": [],
   "source": [
    "# Use this mask to select only the images that are not completely zeros\n",
    "keep_images_mask = ~is_all_zero\n",
    "\n",
    "# Apply this mask to filter out the all-zero images\n",
    "filtered_images = all_images[keep_images_mask]"
   ]
  },
  {
   "cell_type": "code",
   "execution_count": 116,
   "id": "cdafca83",
   "metadata": {},
   "outputs": [
    {
     "data": {
      "text/plain": [
       "(35590, 128, 128, 1)"
      ]
     },
     "execution_count": 116,
     "metadata": {},
     "output_type": "execute_result"
    }
   ],
   "source": [
    "filtered_images.shape"
   ]
  },
  {
   "cell_type": "code",
   "execution_count": 132,
   "id": "04aaa4e0",
   "metadata": {},
   "outputs": [
    {
     "data": {
      "image/png": "[encoded data removed]",
      "text/plain": [
       "<Figure size 640x480 with 2 Axes>"
      ]
     },
     "metadata": {},
     "output_type": "display_data"
    }
   ],
   "source": [
    "# Display the pixelated image\n",
    "image_to_display = filtered_images[32795].reshape(128,128)\n",
    "\n",
    "plt.imshow(image_to_display, cmap='viridis', origin='lower', extent=[0, 128, 0, 128])\n",
    "plt.colorbar()\n",
    "plt.title('Pixelated Image of Energy')\n",
    "plt.show()"
   ]
  },
  {
   "cell_type": "code",
   "execution_count": 133,
   "id": "1bb9c49c",
   "metadata": {},
   "outputs": [
    {
     "data": {
      "image/png": "[encoded data removed]",
      "text/plain": [
       "<Figure size 640x480 with 2 Axes>"
      ]
     },
     "metadata": {},
     "output_type": "display_data"
    }
   ],
   "source": [
    "plot_w_event(view_w1, 31)"
   ]
  },
  {
   "cell_type": "code",
   "execution_count": 134,
   "id": "ea9c882f",
   "metadata": {},
   "outputs": [],
   "source": [
    "# index 0-9309 (file1), 9310-18574 (file2), 18575-27884 (file3), 27885-37141 (file4)"
   ]
  },
  {
   "cell_type": "code",
   "execution_count": 135,
   "id": "80ba20ed",
   "metadata": {},
   "outputs": [],
   "source": [
    "# Generate random indices\n",
    "random_numbers = np.random.permutation(len(labels))\n",
    "\n",
    "# Calculate the indices for each subset\n",
    "sixty_percent = int(0.6 * len(random_numbers))\n",
    "ten_percent = int(0.1 * len(random_numbers))\n",
    "\n",
    "# Split the indices into training, validation, and testing\n",
    "training_indices = random_numbers[:sixty_percent]\n",
    "validation_indices = random_numbers[sixty_percent:sixty_percent + ten_percent]\n",
    "testing_indices = random_numbers[sixty_percent + ten_percent:]"
   ]
  },
  {
   "cell_type": "code",
   "execution_count": 136,
   "id": "3574d91d",
   "metadata": {},
   "outputs": [],
   "source": [
    "# Splitting the data\n",
    "x_train = all_images[training_indices]\n",
    "y_train = labels[training_indices]\n",
    "\n",
    "x_val = all_images[validation_indices]\n",
    "y_val = labels[validation_indices]\n",
    "\n",
    "x_test = all_images[testing_indices]\n",
    "y_test = labels[testing_indices]"
   ]
  },
  {
   "cell_type": "code",
   "execution_count": 47,
   "id": "5d37aa5d",
   "metadata": {},
   "outputs": [],
   "source": [
    "np.savetxt('array.txt', training_indices, delimiter=',', fmt='%d')"
   ]
  },
  {
   "cell_type": "code",
   "execution_count": 137,
   "id": "0a8bce23",
   "metadata": {},
   "outputs": [],
   "source": [
    "np.save('x_train', x_train)\n",
    "np.save('y_train', y_train)\n",
    "\n",
    "np.save('x_val', x_val)\n",
    "np.save('y_val', y_val)\n",
    "\n",
    "np.save('x_test', x_test)\n",
    "np.save('y_test', y_test)"
   ]
  },
  {
   "cell_type": "code",
   "execution_count": 19,
   "id": "2fca8514",
   "metadata": {},
   "outputs": [
    {
     "data": {
      "text/plain": [
       "(22285, 3714, 11143)"
      ]
     },
     "execution_count": 19,
     "metadata": {},
     "output_type": "execute_result"
    }
   ],
   "source": [
    "len(x_train), len(x_val), len(x_test)"
   ]
  },
  {
   "cell_type": "code",
   "execution_count": 44,
   "id": "8dde758d",
   "metadata": {},
   "outputs": [
    {
     "name": "stderr",
     "output_type": "stream",
     "text": [
      "2024-02-01 18:25:09.327032: I metal_plugin/src/device/metal_device.cc:1154] Metal device set to: Apple M1\n",
      "2024-02-01 18:25:09.327181: I metal_plugin/src/device/metal_device.cc:296] systemMemory: 8.00 GB\n",
      "2024-02-01 18:25:09.327375: I metal_plugin/src/device/metal_device.cc:313] maxCacheSize: 2.67 GB\n",
      "2024-02-01 18:25:09.328057: I tensorflow/core/common_runtime/pluggable_device/pluggable_device_factory.cc:306] Could not identify NUMA node of platform GPU ID 0, defaulting to 0. Your kernel may not have been built with NUMA support.\n",
      "2024-02-01 18:25:09.328708: I tensorflow/core/common_runtime/pluggable_device/pluggable_device_factory.cc:272] Created TensorFlow device (/job:localhost/replica:0/task:0/device:GPU:0 with 0 MB memory) -> physical PluggableDevice (device: 0, name: METAL, pci bus id: <undefined>)\n"
     ]
    }
   ],
   "source": [
    "from tensorflow.keras.models import load_model\n",
    "model = load_model('/Users/mohammed/code/neutrinos-dune-files/modelv2')"
   ]
  },
  {
   "cell_type": "code",
   "execution_count": 56,
   "id": "151a8d1d",
   "metadata": {},
   "outputs": [
    {
     "name": "stdout",
     "output_type": "stream",
     "text": [
      "Model: \"model_16\"\n",
      "_________________________________________________________________\n",
      " Layer (type)                Output Shape              Param #   \n",
      "=================================================================\n",
      " input_17 (InputLayer)       [(None, 256, 256, 1)]     0         \n",
      "                                                                 \n",
      " conv2d_37 (Conv2D)          (None, 256, 256, 32)      320       \n",
      "                                                                 \n",
      " max_pooling2d_37 (MaxPooli  (None, 128, 128, 32)      0         \n",
      " ng2D)                                                           \n",
      "                                                                 \n",
      " conv2d_38 (Conv2D)          (None, 128, 128, 64)      18496     \n",
      "                                                                 \n",
      " max_pooling2d_38 (MaxPooli  (None, 64, 64, 64)        0         \n",
      " ng2D)                                                           \n",
      "                                                                 \n",
      " conv2d_39 (Conv2D)          (None, 64, 64, 128)       73856     \n",
      "                                                                 \n",
      " max_pooling2d_39 (MaxPooli  (None, 32, 32, 128)       0         \n",
      " ng2D)                                                           \n",
      "                                                                 \n",
      " flatten_16 (Flatten)        (None, 131072)            0         \n",
      "                                                                 \n",
      " dense_27 (Dense)            (None, 128)               16777344  \n",
      "                                                                 \n",
      " dropout_17 (Dropout)        (None, 128)               0         \n",
      "                                                                 \n",
      " dense_28 (Dense)            (None, 3)                 387       \n",
      "                                                                 \n",
      "=================================================================\n",
      "Total params: 16870403 (64.36 MB)\n",
      "Trainable params: 16870403 (64.36 MB)\n",
      "Non-trainable params: 0 (0.00 Byte)\n",
      "_________________________________________________________________\n"
     ]
    }
   ],
   "source": [
    "model.summary()"
   ]
  },
  {
   "cell_type": "code",
   "execution_count": 51,
   "id": "3b585304",
   "metadata": {},
   "outputs": [],
   "source": [
    "# The batch size controls the number of images that are processed simultaneously\n",
    "batch_size = 128\n",
    "# The number of epochs that we want to train the network for\n",
    "epochs = 1\n",
    "# The learning rate (step size in gradient descent)\n",
    "learning_rate = 0.001"
   ]
  },
  {
   "cell_type": "code",
   "execution_count": 52,
   "id": "e1bf803e",
   "metadata": {},
   "outputs": [],
   "source": [
    "# Define the loss function - for a multi-class classification task we need to\n",
    "# use categorical crossentropy loss\n",
    "loss_function = keras.losses.categorical_crossentropy\n",
    "# The optimiser performs the gradient descent for us. There are a few different\n",
    "# algorithms, but Adam is one of the more popular ones\n",
    "optimiser = keras.optimizers.legacy.Adam(learning_rate=learning_rate)\n",
    "# Now we compile the model with the loss function and optimiser\n",
    "model.compile(loss=loss_function, optimizer=optimiser, metrics=['accuracy'])"
   ]
  },
  {
   "cell_type": "code",
   "execution_count": null,
   "id": "0c99d420",
   "metadata": {},
   "outputs": [],
   "source": [
    "# Train the model using the training data with the true target outputs.\n",
    "# Fill in the required arguments using the clues given above\n",
    "model.fit(x = x_train, y = y_train, batch_size = batch_size, epochs = epochs,\n",
    "              validation_data = (x_val, y_val), verbose = 1)"
   ]
  },
  {
   "cell_type": "code",
   "execution_count": 54,
   "id": "ed7ccde8",
   "metadata": {},
   "outputs": [
    {
     "name": "stdout",
     "output_type": "stream",
     "text": [
      "\r",
      " 1/88 [..............................] - ETA: 26s"
     ]
    },
    {
     "name": "stderr",
     "output_type": "stream",
     "text": [
      "2024-02-01 18:26:15.484357: I tensorflow/core/grappler/optimizers/custom_graph_optimizer_registry.cc:117] Plugin optimizer for device_type GPU is enabled.\n"
     ]
    },
    {
     "name": "stdout",
     "output_type": "stream",
     "text": [
      "88/88 [==============================] - 22s 252ms/step\n",
      "Number of images that were incorrectly classified = 4431\n"
     ]
    }
   ],
   "source": [
    "# Make a list of incorrect classifications\n",
    "incorrect_indices = []\n",
    "# Let's look at the whole test dataset, but you can reduce this to 1000 or so\n",
    "# if you want run more quickly\n",
    "n_images_to_check = x_test.shape[0]\n",
    "# Use the CNN to predict the classification of the images. It returns an array\n",
    "# containing the 10 class scores for each image. It is best to write this code\n",
    "# using the array notation x[:i] that means use all values of x up until\n",
    "# the index i, such that if you changed the number of images above then it all\n",
    "# still works efficiently\n",
    "raw_predictions = model.predict(x = x_test[:n_images_to_check], batch_size = batch_size)\n",
    "for i in range(0,n_images_to_check):\n",
    "  # Remember the raw output from the CNN gives us an array of scores. We want\n",
    "  # to select the highest one as our prediction. We need to do the same thing\n",
    "  # for the truth too since we converted our numbers to a categorical\n",
    "  # representation earlier. We use the np.argmax() function for this\n",
    "  prediction = np.argmax(raw_predictions[i])\n",
    "  truth = np.argmax(y_test[i])\n",
    "  if prediction != truth:\n",
    "    incorrect_indices.append([i,prediction,truth])\n",
    "print('Number of images that were incorrectly classified =',len(incorrect_indices))"
   ]
  },
  {
   "cell_type": "code",
   "execution_count": 55,
   "id": "596b0d0c",
   "metadata": {},
   "outputs": [
    {
     "data": {
      "text/plain": [
       "0.6023512519070269"
      ]
     },
     "execution_count": 55,
     "metadata": {},
     "output_type": "execute_result"
    }
   ],
   "source": [
    "(11143-4431)/11143"
   ]
  },
  {
   "cell_type": "code",
   "execution_count": null,
   "id": "9a3c698c",
   "metadata": {},
   "outputs": [],
   "source": []
  },
  {
   "cell_type": "code",
   "execution_count": null,
   "id": "2ffeb147",
   "metadata": {},
   "outputs": [],
   "source": []
  },
  {
   "cell_type": "code",
   "execution_count": null,
   "id": "0fe6a34e",
   "metadata": {},
   "outputs": [],
   "source": []
  },
  {
   "cell_type": "code",
   "execution_count": 21,
   "id": "18700df2",
   "metadata": {},
   "outputs": [],
   "source": [
    "num_classes = 3"
   ]
  },
  {
   "cell_type": "code",
   "execution_count": 22,
   "id": "031b4a3d",
   "metadata": {},
   "outputs": [
    {
     "name": "stdout",
     "output_type": "stream",
     "text": [
      "Model: \"model\"\n",
      "_________________________________________________________________\n",
      " Layer (type)                Output Shape              Param #   \n",
      "=================================================================\n",
      " input_2 (InputLayer)        [(None, 256, 256, 1)]     0         \n",
      "                                                                 \n",
      " conv2d_1 (Conv2D)           (None, 254, 254, 32)      320       \n",
      "                                                                 \n",
      " max_pooling2d_1 (MaxPoolin  (None, 127, 127, 32)      0         \n",
      " g2D)                                                            \n",
      "                                                                 \n",
      " dropout_1 (Dropout)         (None, 127, 127, 32)      0         \n",
      "                                                                 \n",
      " flatten_1 (Flatten)         (None, 516128)            0         \n",
      "                                                                 \n",
      " dense (Dense)               (None, 3)                 1548387   \n",
      "                                                                 \n",
      "=================================================================\n",
      "Total params: 1548707 (5.91 MB)\n",
      "Trainable params: 1548707 (5.91 MB)\n",
      "Non-trainable params: 0 (0.00 Byte)\n",
      "_________________________________________________________________\n"
     ]
    }
   ],
   "source": [
    "# model 1\n",
    "\n",
    "input_layer = keras.layers.Input(x_train[0].shape)\n",
    "x = keras.layers.Conv2D(32, (3,3), activation='relu')(input_layer) # Replace None with a 2D convolution with 32 filters of size (3,3) and relu activation\n",
    "x = keras.layers.MaxPooling2D((2,2))(x) # Replace None with a MaxPooling2D layer to downsample by a factor of 2 in both dimensions\n",
    "x = keras.layers.Dropout(0.25)(x) # Replace None with a droput layer with a fraction of 0.25\n",
    "# x = keras.layers.Conv2D(32, (3,3), activation='relu')(x)\n",
    "# x = keras.layers.MaxPooling2D((2,2))(x)\n",
    "x = keras.layers.Flatten()(x)\n",
    "x = keras.layers.Dense(num_classes, activation='softmax')(x) # Replace None with a final dense output layer with num_classes neurons and softmax activation\n",
    "cnn_model = keras.Model(input_layer, x)\n",
    "cnn_model.summary()"
   ]
  },
  {
   "cell_type": "code",
   "execution_count": 24,
   "id": "1cecfeef",
   "metadata": {},
   "outputs": [],
   "source": [
    "# The batch size controls the number of images that are processed simultaneously\n",
    "batch_size = 128\n",
    "# The number of epochs that we want to train the network for\n",
    "epochs = 1\n",
    "# The learning rate (step size in gradient descent)\n",
    "learning_rate = 0.001"
   ]
  },
  {
   "cell_type": "code",
   "execution_count": 25,
   "id": "e1418869",
   "metadata": {},
   "outputs": [],
   "source": [
    "# Define the loss function - for a multi-class classification task we need to\n",
    "# use categorical crossentropy loss\n",
    "loss_function = keras.losses.categorical_crossentropy\n",
    "# The optimiser performs the gradient descent for us. There are a few different\n",
    "# algorithms, but Adam is one of the more popular ones\n",
    "optimiser = keras.optimizers.legacy.Adam(learning_rate=learning_rate)\n",
    "# Now we compile the model with the loss function and optimiser\n",
    "cnn_model.compile(loss=loss_function, optimizer=optimiser, metrics=['accuracy'])"
   ]
  },
  {
   "cell_type": "code",
   "execution_count": 27,
   "id": "c1ab82df",
   "metadata": {},
   "outputs": [
    {
     "name": "stdout",
     "output_type": "stream",
     "text": [
      "175/175 [==============================] - 133s 757ms/step - loss: 0.5238 - accuracy: 0.7941 - val_loss: 0.7826 - val_accuracy: 0.6770\n"
     ]
    }
   ],
   "source": [
    "# Train the model using the training data with the true target outputs.\n",
    "# Fill in the required arguments using the clues given above\n",
    "history = cnn_model.fit(x = x_train, y = y_train, batch_size = batch_size, epochs = epochs,\n",
    "              validation_data = (x_test, y_test), verbose = 1)\n"
   ]
  },
  {
   "cell_type": "code",
   "execution_count": 28,
   "id": "1a8ea56d",
   "metadata": {},
   "outputs": [],
   "source": [
    "with open('training_history.json', 'w') as file:\n",
    "    import json\n",
    "    history_dict = history.history\n",
    "    json.dump(history_dict, file)"
   ]
  },
  {
   "cell_type": "code",
   "execution_count": null,
   "id": "bafda9cf",
   "metadata": {},
   "outputs": [],
   "source": []
  }
 ],
 "metadata": {
  "kernelspec": {
   "display_name": "Python 3 (ipykernel)",
   "language": "python",
   "name": "python3"
  },
  "language_info": {
   "codemirror_mode": {
    "name": "ipython",
    "version": 3
   },
   "file_extension": ".py",
   "mimetype": "text/x-python",
   "name": "python",
   "nbconvert_exporter": "python",
   "pygments_lexer": "ipython3",
   "version": "3.9.18"
  }
 },
 "nbformat": 4,
 "nbformat_minor": 5
}
