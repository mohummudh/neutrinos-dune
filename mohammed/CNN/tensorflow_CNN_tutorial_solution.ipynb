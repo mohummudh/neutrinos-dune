{
 "cells": [
  {
   "cell_type": "markdown",
   "metadata": {
    "id": "Rhj4B-MhPMwt"
   },
   "source": [
    "Welcome to this notebook to write a simple CNN to classify some standard image datasets. We will make use of `tensorflow` and its high-level API `keras`. You could also do this in other frameworks such as a `PyTorch` if you wanted to.\n",
    "\n",
    "Aims:\n",
    "\n",
    "\n",
    "1.   Write your first CNN using `keras`\n",
    "2.   Consider how to make the model more complex and adapt it to different tasks\n",
    "3.   See how different layers change the number of parameters in the model\n",
    "\n",
    "\n",
    "At various points in the code you will come across the word `None`. Whilst this is actually a keyword in python, all instances in this notebook should be replaced by the actual code required. Clues will be given with the names of functions that you will need to use.\n",
    "\n"
   ]
  },
  {
   "cell_type": "code",
   "execution_count": 4,
   "metadata": {
    "id": "WU_GuShCusOz"
   },
   "outputs": [
    {
     "name": "stdout",
     "output_type": "stream",
     "text": [
      "Tensorflow version: 2.14.0\n"
     ]
    }
   ],
   "source": [
    "import tensorflow\n",
    "from tensorflow import keras\n",
    "from keras.datasets import mnist, cifar10, cifar100\n",
    "import numpy as np\n",
    "import matplotlib.pyplot as plot\n",
    "\n",
    "print('Tensorflow version:',tensorflow.__version__)"
   ]
  },
  {
   "cell_type": "markdown",
   "metadata": {
    "id": "uBXkX4Ki2UoF"
   },
   "source": [
    "---\n",
    "\n",
    "You can use the function below to load some of the simple datasets available directly from `keras`. There are three options for the `dataset_name` argument:\n",
    "1. `mnist`: the dataset used for the original CNN paper, consisting of handwritten digits from 0 - 9. These images are (28,28,1) in shape\n",
    "2. `cifar10`: these are small colour images with shape (32,32,3) from ten different classes (plane, car, bird, cat, deer, dog, frog, horse, ship, truck)\n",
    "3. `cifar100`: as above but with 100 classes! This will likely not be feasible to use with just a CPU as it would take a fairly complex network with many parameters. I have included it in case you want to play with this on a GPU one day"
   ]
  },
  {
   "cell_type": "code",
   "execution_count": 3,
   "metadata": {
    "id": "jVS-09BUvC2z"
   },
   "outputs": [],
   "source": [
    "def load_dataset(dataset_name='mnist'):\n",
    "  # MNIST, CIFAR10 and CIFAR100 are standard datasets we can load straight\n",
    "  # from keras. The data are split between train and test sets automatically\n",
    "  # - x_train is a numpy array that stores the training images\n",
    "  # - y_train is a numpy array that stores the true class of the training images\n",
    "  # - x_train is a numpy array that stores the testing images\n",
    "  # - y_train is a numpy array that stores the true class of the testing images\n",
    "  if dataset_name.lower() == 'cifar10':\n",
    "    (x_train, y_train), (x_test, y_test) = cifar10.load_data()\n",
    "    n_classes = 10\n",
    "  elif dataset_name.lower() == 'cifar100':\n",
    "    (x_train, y_train), (x_test, y_test) = cifar100.load_data()\n",
    "    n_classes = 100\n",
    "  elif dataset_name.lower() == 'mnist':\n",
    "    (x_train, y_train), (x_test, y_test) = mnist.load_data()\n",
    "    # MNIST is greyscale so we have to do a trick to add a depth dimension\n",
    "    x_train = np.expand_dims(x_train, axis=-1)\n",
    "    x_test = np.expand_dims(x_test, axis=-1)\n",
    "    n_classes = 10\n",
    "  else:\n",
    "    print('Requested dataset does not exist. Please choose from mnist, cifar10 or cifar100')\n",
    "    return\n",
    "\n",
    "  # Let's check the shape of the images for convenience\n",
    "  print(\"Shape of x_train =\",x_train.shape)\n",
    "  print(\"Shape of x_test =\",x_test.shape)\n",
    "\n",
    "  # The y_train and y_test values we loaded also need to be modified.\n",
    "  # These values store the true classification of the images (0-9) as a single\n",
    "  # number. We need to convert the single value into an array of length 10\n",
    "  # corresponding to the number of output classes. Thus values of\n",
    "  # y = 2 becomes y = [0,0,1,0,0,0,0,0,0,0]\n",
    "  # y = 8 becomes y = [0,0,0,0,0,0,0,0,1,0]\n",
    "  y_train = keras.utils.to_categorical(y_train, n_classes)\n",
    "  y_test = keras.utils.to_categorical(y_test, n_classes)\n",
    "\n",
    "  print(\"Shape of y_train =\", y_train.shape)\n",
    "  print(\"Shape of y_test =\", y_test.shape)\n",
    "\n",
    "  # Let's take a look at a few example images from the training set\n",
    "  n_plots=5\n",
    "  fig, ax = plot.subplots(1, n_plots)\n",
    "  for plot_number in range (0, n_plots):\n",
    "    ax[plot_number].imshow(x_train[plot_number])\n",
    "\n",
    "  return (x_train, y_train), (x_test, y_test), n_classes"
   ]
  },
  {
   "cell_type": "markdown",
   "metadata": {
    "id": "CpW7YAi4LEo5"
   },
   "source": [
    "---\n",
    "\n",
    "Here we use the `load_data` function to load our dataset. In the\n",
    "first instance we will use `mnist` since it is the simplest dataset and we can use a very simple CNN. Later on you can change this to `cifar10` to see how the performance differs."
   ]
  },
  {
   "cell_type": "code",
   "execution_count": 5,
   "metadata": {
    "id": "4-x32SkYvHVz"
   },
   "outputs": [
    {
     "name": "stdout",
     "output_type": "stream",
     "text": [
      "Shape of x_train = (60000, 28, 28, 1)\n",
      "Shape of x_test = (10000, 28, 28, 1)\n",
      "Shape of y_train = (60000, 10)\n",
      "Shape of y_test = (10000, 10)\n"
     ]
    },
    {
     "data": {
      "image/png": "[encoded data removed]",
      "text/plain": [
       "<Figure size 640x480 with 5 Axes>"
      ]
     },
     "metadata": {},
     "output_type": "display_data"
    }
   ],
   "source": [
    "# Load the input data.\n",
    "# x_train is the training data, and y_train the corresponding true labels\n",
    "# x_test is the testing data, and y_test the corresponding true labels\n",
    "# We don't have a separate validation sample in these keras datasets\n",
    "# Num_classes is the number of true classes\n",
    "(x_train, y_train), (x_test, y_test), num_classes = load_dataset('mnist')"
   ]
  },
  {
   "cell_type": "code",
   "execution_count": 11,
   "metadata": {},
   "outputs": [
    {
     "data": {
      "text/plain": [
       "array([[0., 0., 0., ..., 0., 0., 0.],\n",
       "       [1., 0., 0., ..., 0., 0., 0.],\n",
       "       [0., 0., 0., ..., 0., 0., 0.],\n",
       "       ...,\n",
       "       [0., 0., 0., ..., 0., 0., 0.],\n",
       "       [0., 0., 0., ..., 0., 0., 0.],\n",
       "       [0., 0., 0., ..., 0., 1., 0.]], dtype=float32)"
      ]
     },
     "execution_count": 11,
     "metadata": {},
     "output_type": "execute_result"
    }
   ],
   "source": [
    "y_train"
   ]
  },
  {
   "cell_type": "code",
   "execution_count": 21,
   "metadata": {},
   "outputs": [
    {
     "data": {
      "text/plain": [
       "array([[[[0],\n",
       "         [0],\n",
       "         [0],\n",
       "         ...,\n",
       "         [0],\n",
       "         [0],\n",
       "         [0]],\n",
       "\n",
       "        [[0],\n",
       "         [0],\n",
       "         [0],\n",
       "         ...,\n",
       "         [0],\n",
       "         [0],\n",
       "         [0]],\n",
       "\n",
       "        [[0],\n",
       "         [0],\n",
       "         [0],\n",
       "         ...,\n",
       "         [0],\n",
       "         [0],\n",
       "         [0]],\n",
       "\n",
       "        ...,\n",
       "\n",
       "        [[0],\n",
       "         [0],\n",
       "         [0],\n",
       "         ...,\n",
       "         [0],\n",
       "         [0],\n",
       "         [0]],\n",
       "\n",
       "        [[0],\n",
       "         [0],\n",
       "         [0],\n",
       "         ...,\n",
       "         [0],\n",
       "         [0],\n",
       "         [0]],\n",
       "\n",
       "        [[0],\n",
       "         [0],\n",
       "         [0],\n",
       "         ...,\n",
       "         [0],\n",
       "         [0],\n",
       "         [0]]],\n",
       "\n",
       "\n",
       "       [[[0],\n",
       "         [0],\n",
       "         [0],\n",
       "         ...,\n",
       "         [0],\n",
       "         [0],\n",
       "         [0]],\n",
       "\n",
       "        [[0],\n",
       "         [0],\n",
       "         [0],\n",
       "         ...,\n",
       "         [0],\n",
       "         [0],\n",
       "         [0]],\n",
       "\n",
       "        [[0],\n",
       "         [0],\n",
       "         [0],\n",
       "         ...,\n",
       "         [0],\n",
       "         [0],\n",
       "         [0]],\n",
       "\n",
       "        ...,\n",
       "\n",
       "        [[0],\n",
       "         [0],\n",
       "         [0],\n",
       "         ...,\n",
       "         [0],\n",
       "         [0],\n",
       "         [0]],\n",
       "\n",
       "        [[0],\n",
       "         [0],\n",
       "         [0],\n",
       "         ...,\n",
       "         [0],\n",
       "         [0],\n",
       "         [0]],\n",
       "\n",
       "        [[0],\n",
       "         [0],\n",
       "         [0],\n",
       "         ...,\n",
       "         [0],\n",
       "         [0],\n",
       "         [0]]],\n",
       "\n",
       "\n",
       "       [[[0],\n",
       "         [0],\n",
       "         [0],\n",
       "         ...,\n",
       "         [0],\n",
       "         [0],\n",
       "         [0]],\n",
       "\n",
       "        [[0],\n",
       "         [0],\n",
       "         [0],\n",
       "         ...,\n",
       "         [0],\n",
       "         [0],\n",
       "         [0]],\n",
       "\n",
       "        [[0],\n",
       "         [0],\n",
       "         [0],\n",
       "         ...,\n",
       "         [0],\n",
       "         [0],\n",
       "         [0]],\n",
       "\n",
       "        ...,\n",
       "\n",
       "        [[0],\n",
       "         [0],\n",
       "         [0],\n",
       "         ...,\n",
       "         [0],\n",
       "         [0],\n",
       "         [0]],\n",
       "\n",
       "        [[0],\n",
       "         [0],\n",
       "         [0],\n",
       "         ...,\n",
       "         [0],\n",
       "         [0],\n",
       "         [0]],\n",
       "\n",
       "        [[0],\n",
       "         [0],\n",
       "         [0],\n",
       "         ...,\n",
       "         [0],\n",
       "         [0],\n",
       "         [0]]],\n",
       "\n",
       "\n",
       "       ...,\n",
       "\n",
       "\n",
       "       [[[0],\n",
       "         [0],\n",
       "         [0],\n",
       "         ...,\n",
       "         [0],\n",
       "         [0],\n",
       "         [0]],\n",
       "\n",
       "        [[0],\n",
       "         [0],\n",
       "         [0],\n",
       "         ...,\n",
       "         [0],\n",
       "         [0],\n",
       "         [0]],\n",
       "\n",
       "        [[0],\n",
       "         [0],\n",
       "         [0],\n",
       "         ...,\n",
       "         [0],\n",
       "         [0],\n",
       "         [0]],\n",
       "\n",
       "        ...,\n",
       "\n",
       "        [[0],\n",
       "         [0],\n",
       "         [0],\n",
       "         ...,\n",
       "         [0],\n",
       "         [0],\n",
       "         [0]],\n",
       "\n",
       "        [[0],\n",
       "         [0],\n",
       "         [0],\n",
       "         ...,\n",
       "         [0],\n",
       "         [0],\n",
       "         [0]],\n",
       "\n",
       "        [[0],\n",
       "         [0],\n",
       "         [0],\n",
       "         ...,\n",
       "         [0],\n",
       "         [0],\n",
       "         [0]]],\n",
       "\n",
       "\n",
       "       [[[0],\n",
       "         [0],\n",
       "         [0],\n",
       "         ...,\n",
       "         [0],\n",
       "         [0],\n",
       "         [0]],\n",
       "\n",
       "        [[0],\n",
       "         [0],\n",
       "         [0],\n",
       "         ...,\n",
       "         [0],\n",
       "         [0],\n",
       "         [0]],\n",
       "\n",
       "        [[0],\n",
       "         [0],\n",
       "         [0],\n",
       "         ...,\n",
       "         [0],\n",
       "         [0],\n",
       "         [0]],\n",
       "\n",
       "        ...,\n",
       "\n",
       "        [[0],\n",
       "         [0],\n",
       "         [0],\n",
       "         ...,\n",
       "         [0],\n",
       "         [0],\n",
       "         [0]],\n",
       "\n",
       "        [[0],\n",
       "         [0],\n",
       "         [0],\n",
       "         ...,\n",
       "         [0],\n",
       "         [0],\n",
       "         [0]],\n",
       "\n",
       "        [[0],\n",
       "         [0],\n",
       "         [0],\n",
       "         ...,\n",
       "         [0],\n",
       "         [0],\n",
       "         [0]]],\n",
       "\n",
       "\n",
       "       [[[0],\n",
       "         [0],\n",
       "         [0],\n",
       "         ...,\n",
       "         [0],\n",
       "         [0],\n",
       "         [0]],\n",
       "\n",
       "        [[0],\n",
       "         [0],\n",
       "         [0],\n",
       "         ...,\n",
       "         [0],\n",
       "         [0],\n",
       "         [0]],\n",
       "\n",
       "        [[0],\n",
       "         [0],\n",
       "         [0],\n",
       "         ...,\n",
       "         [0],\n",
       "         [0],\n",
       "         [0]],\n",
       "\n",
       "        ...,\n",
       "\n",
       "        [[0],\n",
       "         [0],\n",
       "         [0],\n",
       "         ...,\n",
       "         [0],\n",
       "         [0],\n",
       "         [0]],\n",
       "\n",
       "        [[0],\n",
       "         [0],\n",
       "         [0],\n",
       "         ...,\n",
       "         [0],\n",
       "         [0],\n",
       "         [0]],\n",
       "\n",
       "        [[0],\n",
       "         [0],\n",
       "         [0],\n",
       "         ...,\n",
       "         [0],\n",
       "         [0],\n",
       "         [0]]]], dtype=uint8)"
      ]
     },
     "execution_count": 21,
     "metadata": {},
     "output_type": "execute_result"
    }
   ],
   "source": [
    "x_train"
   ]
  },
  {
   "cell_type": "code",
   "execution_count": 5,
   "metadata": {},
   "outputs": [],
   "source": [
    "import numpy as np\n",
    "x_train = np.load(\"/Users/mohammed/code/neutrinos-dune-files/dataSmall2/x_train.npy\")\n",
    "y_train = np.load(\"/Users/mohammed/code/neutrinos-dune-files/dataSmall2/y_train.npy\")\n",
    "\n",
    "x_val = np.load(\"/Users/mohammed/code/neutrinos-dune-files/dataSmall2/x_val.npy\")\n",
    "y_val = np.load(\"/Users/mohammed/code/neutrinos-dune-files/dataSmall2/y_val.npy\")\n",
    "\n",
    "x_test = np.load(\"/Users/mohammed/code/neutrinos-dune-files/dataSmall2/x_test.npy\")\n",
    "y_test = np.load(\"/Users/mohammed/code/neutrinos-dune-files/dataSmall2/y_test.npy\")"
   ]
  },
  {
   "cell_type": "markdown",
   "metadata": {
    "id": "687KJL-5B_8e"
   },
   "source": [
    "---\n",
    "\n",
    "Now we want to define a CNN. The basic building blocks you will need are:\n",
    "\n",
    "\n",
    "*   Convolutional layers: `keras.layers.Conv2D(num_filters, (k,k), activation='relu')`. Typical values of `k` are 3, 5, or 7\n",
    "*   Pooling layers: `keras.layers.MaxPooling2D((2,2))` will perform a factor of 2 downsampling in the two dimensions of image\n",
    "*   Dropout: keras.layers.Dropout(fraction) where fraction is the fraction of weights that are ignored. Typical values can be 0.25 or 0.5\n",
    "*   Dense layers: `keras.layers.Dense(num_nodes, activation='relu')` where the num_nodes is how many neurons are in the layer. The final layer of the CNN needs have to have `num_nodes = num_classes`\n",
    "*   Flatten layer: This just converts and n-dimensional tensor into a vector. In this case we use it to present a dense output layer with a vector input\n",
    "\n",
    "\n",
    "In the following way of writing our network, we need to write things in the form:\n",
    "\n",
    "`layer_output = keras.layers.LayerNameHere(arguments_go_here)(layer_input)`\n",
    "\n",
    "For the first CNN we are building, you will hopefully see the following output from the model.summary() command:\n",
    "\n",
    "```\n",
    "Model: \"model\"\n",
    "_________________________________________________________________\n",
    " Layer (type)                 Output Shape              Param #   \n",
    "=================================================================\n",
    " input_1 (InputLayer)         [(None, 28, 28, 1)]       0         \n",
    "                                                                 \n",
    " conv2d (Conv2D)              (None, 26, 26, 32)        320       \n",
    "                                                                 \n",
    " max_pooling2d (MaxPooling2D) (None, 13, 13, 32)        0         \n",
    "                                                              \n",
    " dropout (Dropout)            (None, 13, 13, 32)        0         \n",
    "                                                                 \n",
    " flatten (Flatten)            (None, 5408)              0         \n",
    "                                                                 \n",
    " dense (Dense)                (None, 10)                54090     \n",
    "                                                                 \n",
    "=================================================================\n",
    "Total params: 54,410\n",
    "Trainable params: 54,410\n",
    "Non-trainable params: 0\n",
    "_________________________________________________________________\n",
    "```"
   ]
  },
  {
   "cell_type": "code",
   "execution_count": 7,
   "metadata": {
    "id": "GJo_UGUdmJ-K"
   },
   "outputs": [
    {
     "name": "stdout",
     "output_type": "stream",
     "text": [
      "Model: \"model\"\n",
      "_________________________________________________________________\n",
      " Layer (type)                Output Shape              Param #   \n",
      "=================================================================\n",
      " input_2 (InputLayer)        [(None, 128, 128, 1)]     0         \n",
      "                                                                 \n",
      " conv2d_1 (Conv2D)           (None, 126, 126, 32)      320       \n",
      "                                                                 \n",
      " max_pooling2d_1 (MaxPoolin  (None, 63, 63, 32)        0         \n",
      " g2D)                                                            \n",
      "                                                                 \n",
      " dropout_1 (Dropout)         (None, 63, 63, 32)        0         \n",
      "                                                                 \n",
      " flatten_1 (Flatten)         (None, 127008)            0         \n",
      "                                                                 \n",
      " dense (Dense)               (None, 3)                 381027    \n",
      "                                                                 \n",
      "=================================================================\n",
      "Total params: 381347 (1.45 MB)\n",
      "Trainable params: 381347 (1.45 MB)\n",
      "Non-trainable params: 0 (0.00 Byte)\n",
      "_________________________________________________________________\n"
     ]
    }
   ],
   "source": [
    "# Define our simplest model first\n",
    "num_classes = 3\n",
    "input_layer = keras.layers.Input(x_train[0].shape)\n",
    "x = keras.layers.Conv2D(32, (3,3), activation='relu')(input_layer) # Replace None with a 2D convolution with 32 filters of size (3,3) and relu activation\n",
    "x = keras.layers.MaxPooling2D((2,2))(x) # Replace None with a MaxPooling2D layer to downsample by a factor of 2 in both dimensions\n",
    "x = keras.layers.Dropout(0.25)(x) # Replace None with a droput layer with a fraction of 0.25\n",
    "x = keras.layers.Flatten()(x)\n",
    "x = keras.layers.Dense(num_classes, activation='softmax')(x) # Replace None with a final dense output layer with num_classes neurons and softmax activation\n",
    "cnn_model = keras.Model(input_layer, x)\n",
    "cnn_model.summary()"
   ]
  },
  {
   "cell_type": "markdown",
   "metadata": {
    "id": "V9ksuyKz2Y_G"
   },
   "source": [
    "Let's define some of the hyperparameters:\n",
    "\n",
    "\n",
    "*   `batch_size` determines how many images we process in parallel. The larger the number the more computationally efficient the network will be, but also the larger the memory footprint.\n",
    "*   `epochs` is the number of times we iterate over the entire training dataset during the training process\n",
    "*   `learning_rate` determines the step size taken in the gradient descent algorithm\n",
    "\n"
   ]
  },
  {
   "cell_type": "code",
   "execution_count": 8,
   "metadata": {
    "id": "PMNZJzKcMdap"
   },
   "outputs": [],
   "source": [
    "# The batch size controls the number of images that are processed simultaneously\n",
    "batch_size = 128\n",
    "# The number of epochs that we want to train the network for\n",
    "epochs = 5\n",
    "# The learning rate (step size in gradient descent)\n",
    "learning_rate = 0.001"
   ]
  },
  {
   "cell_type": "markdown",
   "metadata": {
    "id": "Fyk14B272ELL"
   },
   "source": [
    "Now we need to get the network ready for training by defining a loss function and the optimiser that we will use to perform the gradient descent. For this task we need to use categorical crossentropy loss (`keras.losses.categorical_crossentropy`) but other losses are required for other tasks.\n",
    "\n",
    "The code below uses the `Adam` optimiser, but you can investigate using some others to see how they perform. A full list of those available in `keras` can be found here: https://keras.io/api/optimizers/\n",
    "\n"
   ]
  },
  {
   "cell_type": "code",
   "execution_count": 10,
   "metadata": {
    "id": "KumvOGf4y-38"
   },
   "outputs": [],
   "source": [
    "# Define the loss function - for a multi-class classification task we need to\n",
    "# use categorical crossentropy loss\n",
    "loss_function = keras.losses.categorical_crossentropy\n",
    "# The optimiser performs the gradient descent for us. There are a few different\n",
    "# algorithms, but Adam is one of the more popular ones\n",
    "optimiser = keras.optimizers.legacy.Adam(learning_rate=learning_rate)\n",
    "# Now we compile the model with the loss function and optimiser\n",
    "cnn_model.compile(loss=loss_function, optimizer=optimiser, metrics=['accuracy'])"
   ]
  },
  {
   "cell_type": "markdown",
   "metadata": {
    "id": "HIYp4y4WRrcV"
   },
   "source": [
    "Now we can run our network on whichever data sample we requested. Initially on `mnist` we'll hopefully see that we can reach a very high accuracy.\n",
    "\n",
    "To do this, we use the `fit` function of the `cnn_model` object. The full function definition is given here: https://www.tensorflow.org/api_docs/python/tf/keras/Model#fit\n",
    "\n",
    "However, we only need of the arguments here: `fit(x, y, batch_size, epochs, validation_data, verbose)`\n",
    "\n",
    "\n",
    "*   `x` is the training data\n",
    "*   `y` are the training labels\n",
    "*   `batch_size` is the number of images to process together\n",
    "*   `epochs` is the number of epochs\n",
    "*   `validation_data` is the validation sample - we need to use the test sample here. The format here is `(validation_x, validation_y)`.\n",
    "*   `verbose` allows you to get some visual output. I typically set this to `1`."
   ]
  },
  {
   "cell_type": "code",
   "execution_count": 22,
   "metadata": {
    "id": "Oi9PWqaExzFY"
   },
   "outputs": [
    {
     "name": "stdout",
     "output_type": "stream",
     "text": [
      "Epoch 1/5\n",
      "175/175 [==============================] - 17s 96ms/step - loss: 0.1457 - accuracy: 0.9496 - val_loss: 1.4426 - val_accuracy: 0.6808\n",
      "Epoch 2/5\n",
      "175/175 [==============================] - 17s 95ms/step - loss: 0.1384 - accuracy: 0.9511 - val_loss: 1.4824 - val_accuracy: 0.6754\n",
      "Epoch 3/5\n",
      "175/175 [==============================] - 16s 93ms/step - loss: 0.1323 - accuracy: 0.9544 - val_loss: 1.5733 - val_accuracy: 0.6789\n",
      "Epoch 4/5\n",
      "175/175 [==============================] - 17s 95ms/step - loss: 0.1290 - accuracy: 0.9547 - val_loss: 1.5955 - val_accuracy: 0.6745\n",
      "Epoch 5/5\n",
      "175/175 [==============================] - 17s 95ms/step - loss: 0.1260 - accuracy: 0.9561 - val_loss: 1.6835 - val_accuracy: 0.6636\n"
     ]
    },
    {
     "data": {
      "text/plain": [
       "<keras.src.callbacks.History at 0x160df5e20>"
      ]
     },
     "execution_count": 22,
     "metadata": {},
     "output_type": "execute_result"
    }
   ],
   "source": [
    "# Train the model using the training data with the true target outputs.\n",
    "# Fill in the required arguments using the clues given above\n",
    "cnn_model.fit(x = x_train, y = y_train, batch_size = batch_size, epochs = epochs,\n",
    "              validation_data = (x_val, y_val), verbose = 1)\n"
   ]
  },
  {
   "cell_type": "markdown",
   "metadata": {
    "id": "pEdebQfb--2y"
   },
   "source": [
    "If you used the `verbose = 1` setting, then you should see the final values of the loss and accuracy from the training and test samples.\n",
    "\n",
    "Since the classification isn't perfect, let's have a look at a few examples of incorrectly classified images. We will run *inference* on the test sample events and look for those that were incorrectly classified. *Inference* corresponds to predicting the class of a given event, and it is also how we run our networks on unseen data. In `keras` we do this with the `predict` member function: https://www.tensorflow.org/api_docs/python/tf/keras/Model#predict\n",
    "\n",
    "In this example we can just use two of the arguments:\n",
    "`predict(x, batch_size)`. This function returns a ten-element array containing the score for each class for each event. It therefore has size `(n_images, 10)`"
   ]
  },
  {
   "cell_type": "code",
   "execution_count": 23,
   "metadata": {
    "id": "Y4Ju8i7pzUAi"
   },
   "outputs": [
    {
     "name": "stdout",
     "output_type": "stream",
     "text": [
      "88/88 [==============================] - 2s 17ms/step\n",
      "Number of images that were incorrectly classified = 3748\n"
     ]
    }
   ],
   "source": [
    "# Make a list of incorrect classifications\n",
    "incorrect_indices = []\n",
    "# Let's look at the whole test dataset, but you can reduce this to 1000 or so\n",
    "# if you want run more quickly\n",
    "n_images_to_check = x_test.shape[0]\n",
    "# Use the CNN to predict the classification of the images. It returns an array\n",
    "# containing the 10 class scores for each image. It is best to write this code\n",
    "# using the array notation x[:i] that means use all values of x up until\n",
    "# the index i, such that if you changed the number of images above then it all\n",
    "# still works efficiently\n",
    "raw_predictions = cnn_model.predict(x = x_test[:n_images_to_check], batch_size = batch_size)\n",
    "for i in range(0,n_images_to_check):\n",
    "  # Remember the raw output from the CNN gives us an array of scores. We want\n",
    "  # to select the highest one as our prediction. We need to do the same thing\n",
    "  # for the truth too since we converted our numbers to a categorical\n",
    "  # representation earlier. We use the np.argmax() function for this\n",
    "  prediction = np.argmax(raw_predictions[i])\n",
    "  truth = np.argmax(y_test[i])\n",
    "  if prediction != truth:\n",
    "    incorrect_indices.append([i,prediction,truth])\n",
    "print('Number of images that were incorrectly classified =',len(incorrect_indices))"
   ]
  },
  {
   "cell_type": "code",
   "execution_count": 24,
   "metadata": {},
   "outputs": [
    {
     "name": "stdout",
     "output_type": "stream",
     "text": [
      "349/349 [==============================] - 4s 11ms/step - loss: 1.6835 - accuracy: 0.6636\n"
     ]
    }
   ],
   "source": [
    "loss, accuracy = cnn_model.evaluate(x_test, y_test)"
   ]
  },
  {
   "cell_type": "code",
   "execution_count": 13,
   "metadata": {
    "id": "ZFP6TCZDz6gq"
   },
   "outputs": [
    {
     "name": "stdout",
     "output_type": "stream",
     "text": [
      "Incorrect classification for image 4 : predicted = 2 with true = 1\n"
     ]
    },
    {
     "data": {
      "text/plain": [
       "<matplotlib.image.AxesImage at 0x2a09153a0>"
      ]
     },
     "execution_count": 13,
     "metadata": {},
     "output_type": "execute_result"
    },
    {
     "data": {
      "image/png": "[encoded data removed]",
      "text/plain": [
       "<Figure size 640x480 with 1 Axes>"
      ]
     },
     "metadata": {},
     "output_type": "display_data"
    }
   ],
   "source": [
    "# Now you can modify this part to draw different images from the failures list\n",
    "# You can change the value of im to look at different failures\n",
    "im = 2\n",
    "image_to_plot = x_test[incorrect_indices[im][0]]\n",
    "fig, ax = plot.subplots(1, 1)\n",
    "print('Incorrect classification for image',incorrect_indices[im][0],\n",
    "      ': predicted =',incorrect_indices[im][1],\n",
    "      'with true =',incorrect_indices[im][2])\n",
    "ax.imshow(image_to_plot)"
   ]
  },
  {
   "cell_type": "code",
   "execution_count": null,
   "metadata": {
    "id": "eTY-jYElz9j4"
   },
   "outputs": [],
   "source": []
  }
 ],
 "metadata": {
  "colab": {
   "provenance": []
  },
  "kernelspec": {
   "display_name": "Python 3 (ipykernel)",
   "language": "python",
   "name": "python3"
  },
  "language_info": {
   "codemirror_mode": {
    "name": "ipython",
    "version": 3
   },
   "file_extension": ".py",
   "mimetype": "text/x-python",
   "name": "python",
   "nbconvert_exporter": "python",
   "pygments_lexer": "ipython3",
   "version": "3.9.18"
  }
 },
 "nbformat": 4,
 "nbformat_minor": 1
}
