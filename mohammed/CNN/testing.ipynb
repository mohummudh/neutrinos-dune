{
 "cells": [
  {
   "cell_type": "code",
   "execution_count": 1,
   "id": "8d5188bc",
   "metadata": {},
   "outputs": [],
   "source": [
    "import numpy as np\n",
    "import matplotlib.pyplot as plt\n",
    "import tensorflow\n",
    "\n",
    "from tensorflow import keras\n",
    "from tensorflow.keras import callbacks\n",
    "from uproot_io import Events, View\n",
    "from tensorflow.keras.models import load_model"
   ]
  },
  {
   "cell_type": "code",
   "execution_count": 2,
   "id": "58471b58",
   "metadata": {},
   "outputs": [],
   "source": [
    "# Creating Event objects for the data\n",
    "events1 = Events(\"/Users/mohammed/code/neutrinos-dune-files/CheatedRecoFile_1.root\")\n",
    "events2 = Events(\"/Users/mohammed/code/neutrinos-dune-files/CheatedRecoFile_2.root\")\n",
    "events3 = Events(\"/Users/mohammed/code/neutrinos-dune-files/CheatedRecoFile_3.root\")\n",
    "events4 = Events(\"/Users/mohammed/code/neutrinos-dune-files/CheatedRecoFile_4.root\")"
   ]
  },
  {
   "cell_type": "code",
   "execution_count": 3,
   "id": "a5b4d13b",
   "metadata": {},
   "outputs": [
    {
     "data": {
      "text/plain": [
       "(9310, 9265, 9310, 9257)"
      ]
     },
     "execution_count": 3,
     "metadata": {},
     "output_type": "execute_result"
    }
   ],
   "source": [
    "# Getting the event indices and finding the number of events in each file\n",
    "numbers1 = np.array(list(set(events1.event_number)))\n",
    "numbers2 = np.array(list(set(events2.event_number)))\n",
    "numbers3 = np.array(list(set(events3.event_number)))\n",
    "numbers4 = np.array(list(set(events4.event_number)))\n",
    "len(numbers1), len(numbers2), len(numbers3), len(numbers4)"
   ]
  },
  {
   "cell_type": "code",
   "execution_count": 4,
   "id": "1a0d3eec",
   "metadata": {},
   "outputs": [],
   "source": [
    "# Creating view classes for each event\n",
    "view_w1 = View(events1, \"w\")\n",
    "view_w2 = View(events2, \"w\")\n",
    "view_w3 = View(events3, \"w\")\n",
    "view_w4 = View(events4, \"w\")"
   ]
  },
  {
   "cell_type": "code",
   "execution_count": 5,
   "id": "2ccd0168",
   "metadata": {},
   "outputs": [],
   "source": [
    "# Functions to extract the truth record for each event\n",
    "\n",
    "def labelling(numbers, events):\n",
    "    '''Labels muon neutrino events as: 0\n",
    "       Labels electron neutrino events as: 1\n",
    "       Labels neutral current events as: 2'''\n",
    "    label = []\n",
    "    \n",
    "    for n in numbers:\n",
    "        mcp = []\n",
    "        index = np.where(events.event_number == n)[0]\n",
    "\n",
    "        for i in index:\n",
    "            parent = events.reco_parent_index[i]\n",
    "            if parent == 0:\n",
    "                mcp.append(events.mc_pdg[i])\n",
    "\n",
    "        if 13 in mcp or -13 in mcp:\n",
    "            label.append(0)\n",
    "\n",
    "        elif 11 in mcp or -11 in mcp:\n",
    "            label.append(1)    \n",
    "            \n",
    "        else:\n",
    "            label.append(2)\n",
    "            \n",
    "    return np.array(label)\n",
    "\n",
    "def process_numbers(numbers, events):\n",
    "    '''Labels muon neutrino events as: [1,0,0]\n",
    "       Labels electron neutrino events as: [0,1,0]\n",
    "       Labels neutral current events as: [0,0,1]'''\n",
    "    labels = []\n",
    "    for n in numbers:\n",
    "        mcp = []\n",
    "        index = np.where(events.event_number == n)[0]\n",
    "\n",
    "        for i in index:\n",
    "            parent = events.reco_parent_index[i]\n",
    "            if parent == 0:\n",
    "                mcp.append(events.mc_pdg[i])\n",
    "\n",
    "        if 11 in mcp or -11 in mcp:\n",
    "            labels.append([0, 1, 0])\n",
    "        elif 13 in mcp or -13 in mcp:\n",
    "            labels.append([1, 0, 0])\n",
    "        else:\n",
    "            labels.append([0, 0, 1])\n",
    "    return labels\n",
    "\n",
    "def oneHotLabelling(numbers_list, events_list):\n",
    "    labels = []\n",
    "    for numbers, events in zip(numbers_list, events_list):\n",
    "        labels.extend(process_numbers(numbers, events))\n",
    "    return np.array(labels).astype(float)"
   ]
  },
  {
   "cell_type": "code",
   "execution_count": 13,
   "id": "4f3ac093",
   "metadata": {},
   "outputs": [],
   "source": [
    "labels1 = oneHotLabelling([numbers1], [events1])"
   ]
  },
  {
   "cell_type": "code",
   "execution_count": 18,
   "id": "05663b7e",
   "metadata": {},
   "outputs": [],
   "source": [
    "# Making the event images suitable for a CNN\n",
    "\n",
    "def image(numbers_list, views_list):\n",
    "    \"\"\"Creates 128 by 128 pixels images for each event, making sure the interaction vertex is included.\"\"\"\n",
    "    images = []\n",
    "    \n",
    "    for numbers, view_w in zip(numbers_list, views_list):\n",
    "        for n in numbers:\n",
    "            x, z, adc, vx, vz = view_w.x[n], view_w.z[n], view_w.adc[n], view_w.true_vtx_x[n], view_w.true_vtx_z[n]\n",
    "\n",
    "            matrix, _, _ = np.histogram2d(x, z, bins=256, weights=adc)\n",
    "            matrix = (matrix > 0).astype(np.uint8).reshape(256, 256, 1)\n",
    "            images.append(matrix)\n",
    "\n",
    "    return np.stack(images)"
   ]
  },
  {
   "cell_type": "code",
   "execution_count": 19,
   "id": "b0b89f7f",
   "metadata": {},
   "outputs": [],
   "source": [
    "images1 = image([numbers1], [view_w1])"
   ]
  },
  {
   "cell_type": "code",
   "execution_count": 10,
   "id": "bdb2cb03",
   "metadata": {},
   "outputs": [
    {
     "name": "stderr",
     "output_type": "stream",
     "text": [
      "2024-02-16 09:22:34.869293: I metal_plugin/src/device/metal_device.cc:1154] Metal device set to: Apple M1\n",
      "2024-02-16 09:22:34.869596: I metal_plugin/src/device/metal_device.cc:296] systemMemory: 8.00 GB\n",
      "2024-02-16 09:22:34.869924: I metal_plugin/src/device/metal_device.cc:313] maxCacheSize: 2.67 GB\n",
      "2024-02-16 09:22:34.870774: I tensorflow/core/common_runtime/pluggable_device/pluggable_device_factory.cc:306] Could not identify NUMA node of platform GPU ID 0, defaulting to 0. Your kernel may not have been built with NUMA support.\n",
      "2024-02-16 09:22:34.871970: I tensorflow/core/common_runtime/pluggable_device/pluggable_device_factory.cc:272] Created TensorFlow device (/job:localhost/replica:0/task:0/device:GPU:0 with 0 MB memory) -> physical PluggableDevice (device: 0, name: METAL, pci bus id: <undefined>)\n"
     ]
    }
   ],
   "source": [
    "cnn_model = load_model('modelv1')"
   ]
  },
  {
   "cell_type": "code",
   "execution_count": null,
   "id": "108e75e4",
   "metadata": {},
   "outputs": [
    {
     "name": "stdout",
     "output_type": "stream",
     "text": [
      "203/291 [===================>..........] - ETA: 2s - loss: 2.7950 - accuracy: 0.3941"
     ]
    }
   ],
   "source": [
    "loss, accuracy = cnn_model.evaluate(images1, labels1)"
   ]
  },
  {
   "cell_type": "code",
   "execution_count": null,
   "id": "cd6b069d",
   "metadata": {},
   "outputs": [],
   "source": []
  }
 ],
 "metadata": {
  "kernelspec": {
   "display_name": "Python 3 (ipykernel)",
   "language": "python",
   "name": "python3"
  },
  "language_info": {
   "codemirror_mode": {
    "name": "ipython",
    "version": 3
   },
   "file_extension": ".py",
   "mimetype": "text/x-python",
   "name": "python",
   "nbconvert_exporter": "python",
   "pygments_lexer": "ipython3",
   "version": "3.9.18"
  }
 },
 "nbformat": 4,
 "nbformat_minor": 5
}
