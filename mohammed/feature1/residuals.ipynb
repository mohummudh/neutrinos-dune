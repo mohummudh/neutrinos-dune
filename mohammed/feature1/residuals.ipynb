{
 "cells": [
  {
   "cell_type": "code",
   "execution_count": 14,
   "id": "934e9a9f",
   "metadata": {},
   "outputs": [],
   "source": [
    "import numpy as np\n",
    "import matplotlib.pyplot as plt\n",
    "\n",
    "from uproot_io import Events, View"
   ]
  },
  {
   "cell_type": "code",
   "execution_count": 15,
   "id": "7947dd38",
   "metadata": {},
   "outputs": [],
   "source": [
    "# Interaction type lookup\n",
    "import csv\n",
    "interaction_dictionary = {}\n",
    "with open('interactions.csv') as f:\n",
    "    reader = csv.DictReader(f)\n",
    "    for row in reader:\n",
    "        key = int(row.pop('Idx'))\n",
    "        interaction = row.pop('Interaction')\n",
    "        interaction_dictionary[key] = interaction\n",
    "# print(interaction_dictionary)"
   ]
  },
  {
   "cell_type": "code",
   "execution_count": 16,
   "id": "c7846b4b",
   "metadata": {},
   "outputs": [],
   "source": [
    "events = Events(\"/Users/mohammed/code/PandoraRecoFile_1.root\")"
   ]
  },
  {
   "cell_type": "code",
   "execution_count": 4,
   "id": "98d833af",
   "metadata": {},
   "outputs": [
    {
     "data": {
      "text/plain": [
       "array([   0,    0,    0, ..., 9208, 9208, 9208], dtype=int32)"
      ]
     },
     "execution_count": 4,
     "metadata": {},
     "output_type": "execute_result"
    }
   ],
   "source": [
    "events.event_number"
   ]
  },
  {
   "cell_type": "code",
   "execution_count": 5,
   "id": "9fc7a5df",
   "metadata": {},
   "outputs": [
    {
     "data": {
      "text/plain": [
       "array([  22,   22, 2212, ...,   22,   22,   22], dtype=int32)"
      ]
     },
     "execution_count": 5,
     "metadata": {},
     "output_type": "execute_result"
    }
   ],
   "source": [
    "events.mc_pdg"
   ]
  },
  {
   "cell_type": "code",
   "execution_count": 6,
   "id": "81658dee",
   "metadata": {},
   "outputs": [],
   "source": [
    "def plotparticles(event_number):\n",
    "    idx = np.where(events.event_number == event_number)[0]\n",
    "    \n",
    "    residuals = np.array([])\n",
    "    \n",
    "    for i in idx:\n",
    "        x = events.reco_hits_x_w[i]\n",
    "        z = events.reco_hits_w[i]\n",
    "        pdg = events.mc_pdg[i]\n",
    "        \n",
    "        if x.size == 0:\n",
    "            continue\n",
    "            \n",
    "        else:\n",
    "            m, c = np.polyfit(x, z, 1)\n",
    "        \n",
    "        pred = m * x + c\n",
    "        resd = np.mean(np.abs(z - pred))\n",
    "        residuals = np.append(residuals, resd)\n",
    "\n",
    "        \n",
    "#         plt.scatter(x, z, s=10)\n",
    "#         plt.plot(x, pred)\n",
    "#         print(f\"Particle {i} and Particle type {pdg}: {resd}\")\n",
    "    \n",
    "    vx = events.true_neutrino_vtx_x[idx[0]]\n",
    "    vz = events.true_neutrino_vtx_w[idx[0]]\n",
    "#     plt.scatter(vx, vz, c='red', s=50)\n",
    "    \n",
    "    typ = events.interaction_type[idx[0]]\n",
    "    name = interaction_dictionary[typ]\n",
    "    \n",
    "#     plt.title(f'Interaction Type: {name}')\n",
    "#     plt.xlabel('Time')\n",
    "#     plt.ylabel('W Wire')\n",
    "    \n",
    "    return residuals"
   ]
  },
  {
   "cell_type": "code",
   "execution_count": 7,
   "id": "4876158b",
   "metadata": {},
   "outputs": [],
   "source": [
    "eventNumbers = list(set(events.event_number))\n",
    "# print(eventNumbers)"
   ]
  },
  {
   "cell_type": "code",
   "execution_count": 13,
   "id": "2d10bb9f",
   "metadata": {},
   "outputs": [
    {
     "name": "stderr",
     "output_type": "stream",
     "text": [
      "/var/folders/0j/k5n00ph57w3c1tdfq0lwsgn00000gn/T/ipykernel_30801/3126761335.py:15: RankWarning: Polyfit may be poorly conditioned\n",
      "  m, c = np.polyfit(x, z, 1)\n",
      "/var/folders/0j/k5n00ph57w3c1tdfq0lwsgn00000gn/T/ipykernel_30801/3126761335.py:15: RankWarning: Polyfit may be poorly conditioned\n",
      "  m, c = np.polyfit(x, z, 1)\n",
      "/var/folders/0j/k5n00ph57w3c1tdfq0lwsgn00000gn/T/ipykernel_30801/3126761335.py:15: RankWarning: Polyfit may be poorly conditioned\n",
      "  m, c = np.polyfit(x, z, 1)\n"
     ]
    },
    {
     "data": {
      "text/plain": [
       "(array([4.0781e+04, 2.6950e+03, 1.3880e+03, 4.3800e+02, 1.3000e+02,\n",
       "        6.6000e+01, 2.7000e+01, 2.4000e+01, 1.6000e+01, 1.1000e+01,\n",
       "        7.0000e+00, 1.1000e+01, 5.0000e+00, 7.0000e+00, 4.0000e+00,\n",
       "        3.0000e+00, 2.0000e+00, 3.0000e+00, 3.0000e+00, 3.0000e+00,\n",
       "        3.0000e+00]),\n",
       " array([  0.        ,  13.15212722,  26.30425444,  39.45638166,\n",
       "         52.60850888,  65.7606361 ,  78.91276332,  92.06489054,\n",
       "        105.21701776, 118.36914498, 131.52127221, 144.67339943,\n",
       "        157.82552665, 170.97765387, 184.12978109, 197.28190831,\n",
       "        210.43403553, 223.58616275, 236.73828997, 249.89041719,\n",
       "        263.04254441, 276.19467163]),\n",
       " <BarContainer object of 21 artists>)"
      ]
     },
     "execution_count": 13,
     "metadata": {},
     "output_type": "execute_result"
    },
    {
     "data": {
      "image/png": "[encoded data removed]",
      "text/plain": [
       "<Figure size 640x480 with 1 Axes>"
      ]
     },
     "metadata": {},
     "output_type": "display_data"
    }
   ],
   "source": [
    "r = []\n",
    "for i in eventNumbers:\n",
    "    r = np.append(r, plotparticles(i))\n",
    "\n",
    "plt.hist(r, 21)"
   ]
  },
  {
   "cell_type": "code",
   "execution_count": null,
   "id": "949bf4b1",
   "metadata": {},
   "outputs": [],
   "source": []
  }
 ],
 "metadata": {
  "kernelspec": {
   "display_name": "Python 3 (ipykernel)",
   "language": "python",
   "name": "python3"
  },
  "language_info": {
   "codemirror_mode": {
    "name": "ipython",
    "version": 3
   },
   "file_extension": ".py",
   "mimetype": "text/x-python",
   "name": "python",
   "nbconvert_exporter": "python",
   "pygments_lexer": "ipython3",
   "version": "3.9.18"
  }
 },
 "nbformat": 4,
 "nbformat_minor": 5
}
