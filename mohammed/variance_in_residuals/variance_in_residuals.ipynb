{
 "cells": [
  {
   "cell_type": "code",
   "execution_count": 12,
   "id": "13120c34",
   "metadata": {},
   "outputs": [],
   "source": [
    "import math\n",
    "import numpy as np\n",
    "import matplotlib.pyplot as plt\n",
    "import pandas as pd\n",
    "import seaborn as sns\n",
    "\n",
    "from uproot_io import Events, View"
   ]
  },
  {
   "cell_type": "code",
   "execution_count": 13,
   "id": "8718fc6e",
   "metadata": {},
   "outputs": [],
   "source": [
    "# Interaction type lookup\n",
    "import csv\n",
    "interaction_dictionary = {}\n",
    "with open('interactions.csv') as f:\n",
    "    reader = csv.DictReader(f)\n",
    "    for row in reader:\n",
    "        key = int(row.pop('Idx'))\n",
    "        interaction = row.pop('Interaction')\n",
    "        interaction_dictionary[key] = interaction\n",
    "# print(interaction_dictionary)"
   ]
  },
  {
   "cell_type": "code",
   "execution_count": 31,
   "id": "0873ac65",
   "metadata": {},
   "outputs": [],
   "source": [
    "events = Events(\"/Users/mohammed/code/CheatedRecoFile_1.root\")"
   ]
  },
  {
   "cell_type": "code",
   "execution_count": 15,
   "id": "3e0cd03e",
   "metadata": {},
   "outputs": [],
   "source": [
    "#TO FIT STRAIGHT LINES\n",
    "\n",
    "def fit_line(x, y):\n",
    "    A = np.vstack([x, np.ones_like(x)]).T\n",
    "    m, c = np.linalg.lstsq(A, y, rcond=None)[0]\n",
    "    return m, c\n",
    "\n",
    "def calculate_residuals(x, y, m, c):\n",
    "    #y_predicted = (m*x) + c\n",
    "    perpdist = abs(((-m*x) + y - c) / np.sqrt(m**2 + 1))\n",
    "    #residuals = np.abs(perpdist - y_predicted)\n",
    "    return perpdist\n",
    "\n",
    "def fitting(event_number, plot):\n",
    "    idx = np.where(events.event_number == event_number)[0]\n",
    "    resis = []\n",
    "    gradients = []\n",
    "    intercepts = []\n",
    "    \n",
    "    vx = events.true_neutrino_vtx_x[idx[0]]\n",
    "    vz = events.true_neutrino_vtx_w[idx[0]]\n",
    "    if plot == True:\n",
    "        plt.scatter(vx, vz, c='red', s=50)\n",
    "\n",
    "    xmax = -1000\n",
    "    xmin = 1000\n",
    "    zmax = -1000\n",
    "    zmin = 1000\n",
    "    for i in idx:\n",
    "        x0 = events.reco_hits_x_w[i]\n",
    "        z0 = events.reco_hits_w[i]\n",
    "        if plot == True:\n",
    "            plt.scatter(x0, z0, s=0.5)\n",
    "        if len(x0) > 0:\n",
    "            if max(x0) >= xmax:\n",
    "                xmax = max(x0)\n",
    "            if min(x0) <= xmin:\n",
    "                xmin = min(x0)\n",
    "        if len(z0) > 0:\n",
    "            if max(z0) >= zmax:\n",
    "                zmax = max(z0)\n",
    "            if min(z0) <= zmin:\n",
    "                zmin = min(z0)\n",
    "        \n",
    "    if vx < xmin:\n",
    "        xmin = vx    \n",
    "    if vx > xmax:\n",
    "        xmax = vx\n",
    "    if vz < zmin:\n",
    "        zmin = vz    \n",
    "    if vz > zmax:\n",
    "        zmax = vz\n",
    "\n",
    "    xlen = 0.1*(xmax - xmin)\n",
    "    zlen = 0.1*(zmax - zmin)\n",
    "    \n",
    "    if plot == True:\n",
    "        plt.xlim(xmin-xlen, xmax+xlen)\n",
    "        plt.ylim(zmin-zlen, zmax+zlen)\n",
    "        plt.show()\n",
    "        \n",
    "        plt.scatter(vx, vz, c='red', s=50)\n",
    "        plt.xlim(xmin-xlen, xmax+xlen)\n",
    "        plt.ylim(zmin-zlen, zmax+zlen)\n",
    "    \n",
    "    particleType = np.array([])\n",
    "    \n",
    "    for i in idx:\n",
    "        pdg = events.mc_pdg[i]\n",
    "        particleType = np.append(particleType, pdg)\n",
    "        x = events.reco_hits_x_w[i]\n",
    "        z = events.reco_hits_w[i]\n",
    "        if plot == True:\n",
    "            plt.scatter(x, z, s=0.5)\n",
    "                \n",
    "        best_inliers = []\n",
    "        best_model = None\n",
    "        sample_size = 10\n",
    "        max_iterations = 1000\n",
    "        #inlier_threshold = 2.0\n",
    "        \n",
    "        for _ in range(max_iterations):\n",
    "            sample_size = min(sample_size, len(x))\n",
    "            sample_indices = np.random.choice(len(x), size=sample_size, replace=False)\n",
    "            x_sample = x[sample_indices]\n",
    "            z_sample = z[sample_indices]\n",
    "\n",
    "            m, c = fit_line(x_sample, z_sample)\n",
    "            residuals = calculate_residuals(x, z, m, c)\n",
    "            inliers = np.where(residuals < (0.15*xlen))[0]\n",
    "\n",
    "            if len(inliers) > len(best_inliers):\n",
    "                best_inliers = inliers\n",
    "                best_model = (m, c)\n",
    "\n",
    "        if len(best_inliers) > 0:\n",
    "            m, c = best_model\n",
    "            gradients.append(m)\n",
    "            intercepts.append(c)\n",
    "            \n",
    "            if plot == True:\n",
    "                x_inliers = x[best_inliers]\n",
    "                z_inliers = z[best_inliers]\n",
    "                plt.scatter(x_inliers, z_inliers, color='blue', marker='o')\n",
    "\n",
    "                plt.plot(x_inliers, m * x_inliers + c)\n",
    "                plt.xlabel('x')\n",
    "                plt.ylabel('w')\n",
    "                plt.show()\n",
    "        \n",
    "            perp_dist = [calculate_residuals(x[i], z[i], m, c) for i in range(len(x))]\n",
    "            num_points = int(0.5 * len(x))\n",
    "            mean = np.mean(perp_dist[:num_points])\n",
    "            resis.append(mean)\n",
    "        else:\n",
    "            gradients.append(0)\n",
    "            intercepts.append(0)\n",
    "            resis.append(0)\n",
    "            #print(\"No inliers found for a particle\")\n",
    "            continue\n",
    "    \n",
    "    return gradients, intercepts, resis, particleType"
   ]
  },
  {
   "cell_type": "code",
   "execution_count": 39,
   "id": "d6aa91c4",
   "metadata": {},
   "outputs": [],
   "source": [
    "def variance(event_number):\n",
    "    \"\"\"needs to return the variance (or standard deviation)\n",
    "    in the residuals for each particle\"\"\"\n",
    "    \n",
    "    particleType = np.array([])\n",
    "    variances = np.array([])\n",
    "    \n",
    "    # Fitting each particle with a straight line.\n",
    "    m, c, _, _ = fitting(event_number, False)\n",
    "    \n",
    "    idx = np.where(events.event_number == event_number)[0]\n",
    "    \n",
    "    for i in idx:\n",
    "        \n",
    "        x = events.reco_hits_x_w[i]\n",
    "        z = events.reco_hits_w[i]\n",
    "        \n",
    "        # Discarding particles with no hits\n",
    "        if x.size == 0:\n",
    "            continue\n",
    "            \n",
    "        else:   \n",
    "\n",
    "            # Changing coordinates to along and transverse\n",
    "            if m[i-idx[0]] == 0:\n",
    "                continue\n",
    "            else:\n",
    "                znew = z - c[i-idx[0]]\n",
    "                angle = -math.atan(m[i-idx[0]])\n",
    "                l = x * np.cos(angle) - znew * np.sin(angle)\n",
    "                t = x * np.sin(angle) + znew * np.cos(angle)\n",
    "                \n",
    "                # Finding the particle type\n",
    "                pdg = events.mc_pdg[i]\n",
    "                particleType = np.append(particleType, pdg) \n",
    "\n",
    "                # Finding variance in transverse\n",
    "                var = np.var(t)\n",
    "                variances = np.append(variances, var)\n",
    "    \n",
    "    return variances, particleType"
   ]
  },
  {
   "cell_type": "code",
   "execution_count": 18,
   "id": "b23fed2c",
   "metadata": {},
   "outputs": [
    {
     "data": {
      "text/plain": [
       "(array([3.57933223e-01, 5.05251214e-02, 2.23402277e-01, 8.06302249e-01,\n",
       "        2.87747273e-04, 2.38975580e-03, 1.30226763e-04, 5.46428724e-04]),\n",
       " array([  22.,   22., 2212.,   13.,    0., 2212., 2212., 2212.]))"
      ]
     },
     "execution_count": 18,
     "metadata": {},
     "output_type": "execute_result"
    }
   ],
   "source": [
    "variance(0)"
   ]
  },
  {
   "cell_type": "code",
   "execution_count": 36,
   "id": "ffd7260f",
   "metadata": {},
   "outputs": [],
   "source": [
    "random_numbers = np.random.randint(0, max(events.event_number), 50)"
   ]
  },
  {
   "cell_type": "code",
   "execution_count": 40,
   "id": "cdf889f6",
   "metadata": {},
   "outputs": [],
   "source": [
    "v = []\n",
    "p = []\n",
    "for i in random_numbers:\n",
    "    v, p = np.append(v, variance(i)[0]), np.append(p, variance(i)[1])"
   ]
  },
  {
   "cell_type": "code",
   "execution_count": 41,
   "id": "4529ad1e",
   "metadata": {},
   "outputs": [
    {
     "data": {
      "text/plain": [
       "((1721,), (1721,))"
      ]
     },
     "execution_count": 41,
     "metadata": {},
     "output_type": "execute_result"
    }
   ],
   "source": [
    "v.shape, p.shape"
   ]
  },
  {
   "cell_type": "code",
   "execution_count": 42,
   "id": "a8013efc",
   "metadata": {},
   "outputs": [],
   "source": [
    "df = pd.DataFrame({\"variance\": v, \"particle\": p})"
   ]
  },
  {
   "cell_type": "code",
   "execution_count": 43,
   "id": "64a4f7d6",
   "metadata": {},
   "outputs": [],
   "source": [
    "# Using 0 to indicate tracks, 1 to indicate showers.\n",
    "\n",
    "mapping = {\n",
    "    11: 1,\n",
    "    -11: 1,\n",
    "    22: 1\n",
    "}\n",
    "\n",
    "df[\"class\"] = df[\"particle\"].map(mapping).fillna(0)"
   ]
  },
  {
   "cell_type": "code",
   "execution_count": 44,
   "id": "d756badd",
   "metadata": {},
   "outputs": [],
   "source": [
    "tracksQuery = df['class'] == 0.0\n",
    "showersQuery = df['class'] == 1.0\n",
    "\n",
    "ftracks = df[tracksQuery]\n",
    "fshowers = df[showersQuery]\n",
    "\n",
    "tracks = ftracks['variance'].values\n",
    "showers = fshowers['variance'].values"
   ]
  },
  {
   "cell_type": "code",
   "execution_count": 45,
   "id": "18b8bcde",
   "metadata": {},
   "outputs": [
    {
     "data": {
      "image/png": "[encoded data removed]",
      "text/plain": [
       "<Figure size 640x480 with 1 Axes>"
      ]
     },
     "metadata": {},
     "output_type": "display_data"
    }
   ],
   "source": [
    "n_bins = 40\n",
    "hist2, bin_edges = np.histogram(showers, bins=n_bins)\n",
    "hist1, _ = np.histogram(tracks, bins=bin_edges)\n",
    "\n",
    "bin_widths = np.diff(bin_edges)\n",
    "    \n",
    "hist1_normalized = hist1 / len(tracks)\n",
    "hist2_normalized = hist2 / len(showers)\n",
    "\n",
    "plt.bar(bin_edges[:-1], hist1_normalized, width=bin_widths, align='edge', alpha=0.75, label='Tracks')\n",
    "plt.bar(bin_edges[:-1], hist2_normalized, width=bin_widths, align='edge', alpha=0.75, label='Showers')\n",
    "plt.title(\"Using variance in residuals to distinguish tracks and showers\")\n",
    "plt.ylabel(\"Normalised frequency density\")\n",
    "plt.xlabel(\"Variance\")\n",
    "\n",
    "plt.legend()\n",
    "plt.show()"
   ]
  },
  {
   "cell_type": "code",
   "execution_count": null,
   "id": "b97e9934",
   "metadata": {},
   "outputs": [],
   "source": []
  }
 ],
 "metadata": {
  "kernelspec": {
   "display_name": "Python 3 (ipykernel)",
   "language": "python",
   "name": "python3"
  },
  "language_info": {
   "codemirror_mode": {
    "name": "ipython",
    "version": 3
   },
   "file_extension": ".py",
   "mimetype": "text/x-python",
   "name": "python",
   "nbconvert_exporter": "python",
   "pygments_lexer": "ipython3",
   "version": "3.9.18"
  }
 },
 "nbformat": 4,
 "nbformat_minor": 5
}
