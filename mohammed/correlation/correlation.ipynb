{
 "cells": [
  {
   "cell_type": "code",
   "execution_count": 19,
   "id": "35043b23",
   "metadata": {},
   "outputs": [],
   "source": [
    "import math\n",
    "import numpy as np\n",
    "import matplotlib.pyplot as plt\n",
    "import pandas as pd\n",
    "import seaborn as sns\n",
    "\n",
    "from uproot_io import Events, View"
   ]
  },
  {
   "cell_type": "code",
   "execution_count": 20,
   "id": "1e1e8f76",
   "metadata": {},
   "outputs": [],
   "source": [
    "events = Events(\"/Users/mohammed/code/CheatedRecoFile_1.root\")"
   ]
  },
  {
   "cell_type": "code",
   "execution_count": 21,
   "id": "cd6d4a51",
   "metadata": {},
   "outputs": [],
   "source": [
    "#TO FIT STRAIGHT LINES\n",
    "\n",
    "def fit_line(x, y):\n",
    "    A = np.vstack([x, np.ones_like(x)]).T\n",
    "    m, c = np.linalg.lstsq(A, y, rcond=None)[0]\n",
    "    return m, c\n",
    "\n",
    "def calculate_residuals(x, y, m, c):\n",
    "    #y_predicted = (m*x) + c\n",
    "    perpdist = abs(((-m*x) + y - c) / np.sqrt(m**2 + 1))\n",
    "    #residuals = np.abs(perpdist - y_predicted)\n",
    "    return perpdist\n",
    "\n",
    "def fitting(event_number, plot):\n",
    "    idx = np.where(events.event_number == event_number)[0]\n",
    "    resis = []\n",
    "    gradients = []\n",
    "    intercepts = []\n",
    "    \n",
    "    vx = events.true_neutrino_vtx_x[idx[0]]\n",
    "    vz = events.true_neutrino_vtx_w[idx[0]]\n",
    "    if plot == True:\n",
    "        plt.scatter(vx, vz, c='red', s=50)\n",
    "\n",
    "    xmax = -1000\n",
    "    xmin = 1000\n",
    "    zmax = -1000\n",
    "    zmin = 1000\n",
    "    for i in idx:\n",
    "        x0 = events.reco_hits_x_w[i]\n",
    "        z0 = events.reco_hits_w[i]\n",
    "        if plot == True:\n",
    "            plt.scatter(x0, z0, s=0.5)\n",
    "        if len(x0) > 0:\n",
    "            if max(x0) >= xmax:\n",
    "                xmax = max(x0)\n",
    "            if min(x0) <= xmin:\n",
    "                xmin = min(x0)\n",
    "        if len(z0) > 0:\n",
    "            if max(z0) >= zmax:\n",
    "                zmax = max(z0)\n",
    "            if min(z0) <= zmin:\n",
    "                zmin = min(z0)\n",
    "        \n",
    "    if vx < xmin:\n",
    "        xmin = vx    \n",
    "    if vx > xmax:\n",
    "        xmax = vx\n",
    "    if vz < zmin:\n",
    "        zmin = vz    \n",
    "    if vz > zmax:\n",
    "        zmax = vz\n",
    "\n",
    "    xlen = 0.1*(xmax - xmin)\n",
    "    zlen = 0.1*(zmax - zmin)\n",
    "    \n",
    "    if plot == True:\n",
    "        plt.xlim(xmin-xlen, xmax+xlen)\n",
    "        plt.ylim(zmin-zlen, zmax+zlen)\n",
    "        plt.show()\n",
    "        \n",
    "        plt.scatter(vx, vz, c='red', s=50)\n",
    "        plt.xlim(xmin-xlen, xmax+xlen)\n",
    "        plt.ylim(zmin-zlen, zmax+zlen)\n",
    "    \n",
    "    particleType = np.array([])\n",
    "    \n",
    "    for i in idx:\n",
    "        pdg = events.mc_pdg[i]\n",
    "        particleType = np.append(particleType, pdg)\n",
    "        x = events.reco_hits_x_w[i]\n",
    "        z = events.reco_hits_w[i]\n",
    "        if plot == True:\n",
    "            plt.scatter(x, z, s=0.5)\n",
    "                \n",
    "        best_inliers = []\n",
    "        best_model = None\n",
    "        sample_size = 10\n",
    "        max_iterations = 100\n",
    "        #inlier_threshold = 2.0\n",
    "        \n",
    "        for _ in range(max_iterations):\n",
    "            sample_size = min(sample_size, len(x))\n",
    "            sample_indices = np.random.choice(len(x), size=sample_size, replace=False)\n",
    "            x_sample = x[sample_indices]\n",
    "            z_sample = z[sample_indices]\n",
    "\n",
    "            m, c = fit_line(x_sample, z_sample)\n",
    "            residuals = calculate_residuals(x, z, m, c)\n",
    "            inliers = np.where(residuals < (0.15*xlen))[0]\n",
    "\n",
    "            if len(inliers) > len(best_inliers):\n",
    "                best_inliers = inliers\n",
    "                best_model = (m, c)\n",
    "\n",
    "        if len(best_inliers) > 0:\n",
    "            m, c = best_model\n",
    "            gradients.append(m)\n",
    "            intercepts.append(c)\n",
    "            \n",
    "            if plot == True:\n",
    "                x_inliers = x[best_inliers]\n",
    "                z_inliers = z[best_inliers]\n",
    "                plt.scatter(x_inliers, z_inliers, color='blue', marker='o')\n",
    "\n",
    "                plt.plot(x_inliers, m * x_inliers + c)\n",
    "                plt.xlabel('x')\n",
    "                plt.ylabel('w')\n",
    "                plt.show()\n",
    "        \n",
    "            perp_dist = [calculate_residuals(x[i], z[i], m, c) for i in range(len(x))]\n",
    "            num_points = int(0.5 * len(x))\n",
    "            mean = np.mean(perp_dist[:num_points])\n",
    "            resis.append(mean)\n",
    "        else:\n",
    "            gradients.append(0)\n",
    "            intercepts.append(0)\n",
    "            resis.append(0)\n",
    "            #print(\"No inliers found for a particle\")\n",
    "            continue\n",
    "    \n",
    "    return gradients, intercepts, resis, particleType"
   ]
  },
  {
   "cell_type": "code",
   "execution_count": 22,
   "id": "be10fc60",
   "metadata": {},
   "outputs": [],
   "source": [
    "def var_se(event_number):\n",
    "    \"\"\"needs to return the ratio of the variance of the first X% divided by the last Y%\n",
    "    in the residuals for each particle\"\"\"\n",
    "    \n",
    "    particleType = np.array([])\n",
    "    results = np.array([])\n",
    "    \n",
    "    idx = np.where(events.event_number == event_number)[0]\n",
    "    \n",
    "    # Fitting each particle with a straight line.\n",
    "    m, c, _, _ = fitting(event_number, False)\n",
    "    \n",
    "    for i in idx:\n",
    "        \n",
    "        x = events.reco_hits_x_w[i]\n",
    "        z = events.reco_hits_w[i]\n",
    "        \n",
    "        # CUTS\n",
    "        \n",
    "        # Discarding particles with little hits\n",
    "        if x.size <= 10:\n",
    "            continue\n",
    "            \n",
    "        if events.mc_pdg[i] == 0:\n",
    "            continue\n",
    "        \n",
    "        if events.purity[i] < 0.75:\n",
    "            continue\n",
    "            \n",
    "        if events.completeness[i] < 0.75:\n",
    "            continue\n",
    "            \n",
    "        else:   \n",
    "            \n",
    "            # Changing coordinates to along and transverse\n",
    "            if m[i-idx[0]] == 0:\n",
    "                continue\n",
    "            else:\n",
    "                znew = z - c[i-idx[0]]\n",
    "                angle = -math.atan(m[i-idx[0]])\n",
    "                l = x * np.cos(angle) - znew * np.sin(angle)\n",
    "                t = x * np.sin(angle) + znew * np.cos(angle)\n",
    "                \n",
    "                #last 30% of data\n",
    "                p1 = int(0.7 * len(t))\n",
    "                X = t[p1:]\n",
    "                if len(X) == 0 or np.any(np.isnan(X)) or np.any(np.isinf(X)):\n",
    "                    continue\n",
    "                else:\n",
    "                    Xvar = np.var(X)\n",
    "                \n",
    "                #first 30% of data\n",
    "                p2 = int(0.3 * len(t))\n",
    "                Y = t[:p2]\n",
    "                if len(Y) == 0 or np.any(np.isnan(Y)) or np.any(np.isinf(Y)):\n",
    "                    continue\n",
    "                else:\n",
    "                    Yvar = np.var(Y)\n",
    "                \n",
    "                if Yvar == 0 or Xvar == 0 or math.isinf(Yvar) or math.isinf(Xvar) or np.isnan(Xvar) or np.isnan(Yvar) :\n",
    "                    continue\n",
    "                    \n",
    "                if  Yvar > Xvar:\n",
    "                    resultY = np.sqrt(Yvar)\n",
    "                    results = np.append(results, resultY)\n",
    "                    \n",
    "                    pdg = events.mc_pdg[i]\n",
    "                    particleType = np.append(particleType, pdg)\n",
    "                \n",
    "                else:\n",
    "                    resultX = np.sqrt(Xvar)\n",
    "                    results = np.append(results, resultX)\n",
    "                    \n",
    "                    # Finding the particle type\n",
    "                    pdg = events.mc_pdg[i]\n",
    "                    particleType = np.append(particleType, pdg) \n",
    "\n",
    "    return results, particleType"
   ]
  },
  {
   "cell_type": "code",
   "execution_count": 23,
   "id": "b06aa812",
   "metadata": {},
   "outputs": [],
   "source": [
    "def symmetry(event_number):\n",
    "    \"\"\"Returns a measure of symmetry for each particle's track by dividing how many are \n",
    "    above line of best fit by how many are below the line (or the absolute value of the difference?)\"\"\"\n",
    "    \n",
    "    particleType = np.array([])\n",
    "    allSym = np.array([])\n",
    "    \n",
    "    idx = np.where(events.event_number == event_number)[0]\n",
    "    \n",
    "    # Fitting each particle with a straight line.\n",
    "    m, c, _, _ = fitting(event_number, False)\n",
    "    \n",
    "    for i in idx:\n",
    "        \n",
    "        x = events.reco_hits_x_w[i]\n",
    "        z = events.reco_hits_w[i]\n",
    "        \n",
    "        # CUTS\n",
    "        \n",
    "        # Discarding particles with little hits\n",
    "        if x.size <= 10:\n",
    "            continue\n",
    "            \n",
    "        if events.mc_pdg[i] == 0:\n",
    "            continue\n",
    "        \n",
    "        if events.purity[i] < 0.75:\n",
    "            continue\n",
    "            \n",
    "        if events.completeness[i] < 0.75:\n",
    "            continue\n",
    "            \n",
    "        else:   \n",
    "            \n",
    "            # Changing coordinates to along and transverse\n",
    "            if m[i-idx[0]] == 0:\n",
    "                continue\n",
    "            else:\n",
    "                znew = z - c[i-idx[0]]\n",
    "                angle = -math.atan(m[i-idx[0]])\n",
    "                l = x * np.cos(angle) - znew * np.sin(angle)\n",
    "                t = x * np.sin(angle) + znew * np.cos(angle)\n",
    "                \n",
    "                # How many particles are above or below the line?\n",
    "                above = np.sum(t > 0)\n",
    "                below = np.sum(t < 0)\n",
    "                \n",
    "                lmin, lmax = np.min(l), np.max(l)\n",
    "                length = lmax - lmin\n",
    "\n",
    "                \n",
    "                if above == 0 or below == 0 or length == 0:\n",
    "                    continue\n",
    "                    \n",
    "                else:\n",
    "                    \n",
    "                    # If symmetric, this should be close to 1, otherwise > 1\n",
    "                    sym = (above + below) / length\n",
    "                    allSym = np.append(allSym, sym)\n",
    "                    \n",
    "                    pdg = events.mc_pdg[i]\n",
    "                    particleType = np.append(particleType, pdg)\n",
    "                \n",
    "    return allSym, particleType"
   ]
  },
  {
   "cell_type": "code",
   "execution_count": 24,
   "id": "c2ccf570",
   "metadata": {},
   "outputs": [],
   "source": [
    "def hits(event_number):\n",
    "    \"\"\"Needs to return number of hits divided by the \n",
    "    length of the particle track/shower, and the particle type\"\"\"\n",
    "    \n",
    "    # Accessing a specific event.\n",
    "    idx = np.where(events.event_number == event_number)[0]\n",
    "    \n",
    "    particleType = np.array([])\n",
    "    allHits = np.array([])\n",
    "    \n",
    "    # Fitting each particle with a straight line.\n",
    "    m, c, _, _ = fitting(event_number, False)\n",
    "    \n",
    "    # Looping through each particle from the event\n",
    "    for i in idx:\n",
    "        \n",
    "        # The position coordinates for the particle\n",
    "        x = events.reco_hits_x_w[i]\n",
    "        z = events.reco_hits_w[i]\n",
    "        \n",
    "        # CUTS\n",
    "        \n",
    "        # Discarding particles with little hits\n",
    "        if x.size <= 10:\n",
    "            continue\n",
    "            \n",
    "        if events.mc_pdg[i] == 0:\n",
    "            continue\n",
    "        \n",
    "        if events.purity[i] < 0.75:\n",
    "            continue\n",
    "            \n",
    "        if events.completeness[i] < 0.75:\n",
    "            continue\n",
    "            \n",
    "        else:\n",
    "            \n",
    "            # Changing coordinates to along and transverse\n",
    "            if m[i-idx[0]] == 0:\n",
    "                continue\n",
    "            else:\n",
    "                znew = z - c[i-idx[0]]\n",
    "                angle = -math.atan(m[i-idx[0]])\n",
    "                l = x * np.cos(angle) - znew * np.sin(angle)\n",
    "                t = x * np.sin(angle) + znew * np.cos(angle)\n",
    "            \n",
    "            # The number of hits\n",
    "            hit = len(l)\n",
    "            \n",
    "            lmin, lmax = np.min(l), np.max(l)\n",
    "        \n",
    "            length = lmax - lmin\n",
    "            \n",
    "#             if length == 0:\n",
    "#                 continue\n",
    "                \n",
    "#             else:\n",
    "            result = hit / length\n",
    "            allHits = np.append(allHits, result)\n",
    "\n",
    "            # Finding the particle type\n",
    "            pdg = events.mc_pdg[i]\n",
    "            particleType = np.append(particleType, pdg)\n",
    "\n",
    "        \n",
    "    return allHits, particleType"
   ]
  },
  {
   "cell_type": "code",
   "execution_count": 25,
   "id": "2a00761d",
   "metadata": {},
   "outputs": [],
   "source": [
    "def energy(event_number):\n",
    "    \"\"\"needs to return energy in last X% over total energy\"\"\"\n",
    "    \n",
    "    particleType = np.array([])\n",
    "    E = np.array([])\n",
    "    \n",
    "    idx = np.where(events.event_number == event_number)[0]\n",
    "    \n",
    "    for i in idx:\n",
    "        \n",
    "        x = events.reco_hits_x_w[i]\n",
    "        z = events.reco_hits_w[i]\n",
    "        adc = events.reco_adcs_w[i]        \n",
    "        \n",
    "        # CUTS\n",
    "        \n",
    "        # Discarding particles with little hits\n",
    "        if x.size <= 10:\n",
    "            continue\n",
    "            \n",
    "        if events.mc_pdg[i] == 0:\n",
    "            continue\n",
    "        \n",
    "        if events.purity[i] < 0.75:\n",
    "            continue\n",
    "            \n",
    "        if events.completeness[i] < 0.75:\n",
    "            continue\n",
    "            \n",
    "        else:\n",
    "            \n",
    "            # Get the last 10% of the energy data\n",
    "            percent = int(0.9 * len(adc))\n",
    "            X = adc[percent:]\n",
    "            Xsum = np.sum(X)\n",
    "            \n",
    "            total = np.sum(adc)\n",
    "            result = Xsum / total\n",
    "            \n",
    "            E = np.append(E, result)\n",
    "            \n",
    "            # Finding the particle type\n",
    "            pdg = events.mc_pdg[i]\n",
    "            particleType = np.append(particleType, pdg)   \n",
    "            \n",
    "            \n",
    "    return E, particleType"
   ]
  },
  {
   "cell_type": "code",
   "execution_count": 30,
   "id": "066f3c7a",
   "metadata": {},
   "outputs": [],
   "source": [
    "SAMPLE = np.random.randint(0, max(events.event_number), 1000)"
   ]
  },
  {
   "cell_type": "code",
   "execution_count": 31,
   "id": "f4a51ff0",
   "metadata": {
    "collapsed": true
   },
   "outputs": [
    {
     "data": {
      "text/plain": [
       "array([ 238, 6707, 5601, 5424, 7712, 6171, 4104, 7121, 7081, 3222,  113,\n",
       "       7960, 7991, 4936, 4035, 2507, 4345, 5852, 6921,  349, 4176, 2915,\n",
       "       3857, 4441, 7615, 6867, 2691, 8201, 4456,   60, 5011, 1458, 7523,\n",
       "       4413, 7096, 7648, 4709, 9299, 6998, 3056, 2072, 4754, 5868, 3395,\n",
       "       8714, 7066, 5539, 3686, 4113, 4376, 7223, 1114, 8507, 8802, 5815,\n",
       "       1394, 1952, 6408, 4903, 1344, 7046, 2812, 3712, 8983, 1962, 6344,\n",
       "       2739, 1392, 8548, 1691, 7551, 5104, 5662, 5099, 1715,  165, 4202,\n",
       "       3772, 3245,  608, 4837, 2598, 2927, 3925, 3775, 2375, 5085, 4815,\n",
       "       5571, 6692, 5082, 7807, 8229, 7886, 7032, 6479, 5589, 9287, 5483,\n",
       "        886, 1852, 7369, 4895, 1458, 8892,  363, 8003,  231, 8428, 7894,\n",
       "       4429, 4950, 3329, 7651, 6308, 6097, 7518, 6686, 4343,   12, 4350,\n",
       "       3335, 2908, 2477, 3694, 5335, 6103, 4836, 4827, 2879, 3358, 9025,\n",
       "       7470, 6815, 2048,   75, 7300, 5760, 1122, 2806, 5788, 4469, 6648,\n",
       "        645, 7751, 6971, 4015, 7125, 8735, 1345, 1413, 4182, 8374, 7072,\n",
       "       2703, 4860, 7679, 7960, 4580, 3399, 4468, 6288, 8952, 4961, 8368,\n",
       "       8224, 1662, 7866, 1264,  894, 7362, 8489, 7219, 3893, 6526, 3713,\n",
       "       8597, 7925, 1729, 4507, 4347,  930, 2181,  984, 7914,  439, 7034,\n",
       "       5705, 4469, 8225,  498, 5187, 2216, 1631, 9069,  238, 8515,  766,\n",
       "         79, 5709, 7140, 9224, 7546, 7859, 7198, 1623, 7840, 4228,  684,\n",
       "       3982, 6335, 7231, 6191,  117, 2823, 6157, 2338, 8281, 2591, 6390,\n",
       "       3330, 4971, 5611, 3829, 2661, 3773, 6289, 5229, 6107, 1061, 5515,\n",
       "       7254, 5970, 5150, 6783, 3036, 6162, 4305,  912,  994, 1692, 4930,\n",
       "       5199, 2367, 3445, 1594,   97, 7064, 8765, 3604, 5106, 4509, 2067,\n",
       "       7449, 7202, 4424, 8239, 6454, 7136, 4344, 8828, 2799, 2921, 3314,\n",
       "       1967, 5098, 1273, 9170, 4201, 2359, 7529,   71, 1687, 8707, 5517,\n",
       "       6440, 2568, 3926, 5559, 5150, 9008,  884,  908, 5470, 3503, 2301,\n",
       "       5541, 6938, 7212, 3597, 2642, 2722, 5812, 1784, 4457, 7306, 6826,\n",
       "       8862, 6552, 6801, 2459, 2843, 1390, 6144, 6019,  805, 1194, 5407,\n",
       "        990, 1549, 7246, 3098, 2417, 4915, 8683, 5452, 1717, 2401,  163,\n",
       "       8533, 5590, 1478, 9218, 3209, 9271, 4281, 6282, 7533, 6411, 6339,\n",
       "       3238, 1827, 6308, 2591, 1115, 8534,  397, 3830, 5014, 1339, 1489,\n",
       "        675, 4951, 5846, 1286, 9062, 6264, 6449, 3396, 3261, 2048, 2313,\n",
       "        320, 5527, 3362, 2617, 5064, 6572, 5966, 1002, 1659,  151,  503,\n",
       "       1724, 4838, 4890, 3462,    8, 7871, 2264, 5925, 2805, 7360, 5391,\n",
       "       3843, 5272, 8620, 5147, 4627, 8570,  277, 3882, 4256, 4055, 1995,\n",
       "       4449, 2731, 4008, 5048, 6404, 1925, 1494, 4671,    2, 4943, 2387,\n",
       "       7156, 2470, 3743, 8997, 2459,  268, 1418, 6903, 7561, 5293, 8744,\n",
       "       4995, 4610, 9033, 4172, 3853, 6310, 7575, 9244, 1043, 8808, 4282,\n",
       "       1603, 6020, 9156, 8776, 7691, 4504, 1031, 9228, 4541, 8640, 1785,\n",
       "       1898, 5941, 8100, 5294, 5600, 3420, 6277, 6176, 9169, 8890, 6401,\n",
       "       1260, 9058, 9255, 1848, 8335, 2869, 6633, 3543, 4762, 7431, 4445,\n",
       "       4481, 8084, 5559, 8815, 1729, 4645, 8371, 5175, 9248, 7274, 1400,\n",
       "       2829, 4997, 4279, 4463, 1452, 3673, 5967, 8320, 8590, 3175, 8440,\n",
       "       3212, 8279, 1486,  645, 7405, 6659,    6, 7599, 5545, 9023, 3275,\n",
       "       1970, 8583, 6687, 5425, 6280, 2233, 8770,  694,  661, 1126, 6595,\n",
       "       7749, 6360, 5567, 4843, 3523, 5264, 6823, 3456, 6549,  177, 1166,\n",
       "       4567, 8824, 7790, 6997, 5355, 3255, 2642, 2407,  463, 5451, 4561,\n",
       "       2821, 5557,  124, 3557, 8150, 8138, 7963, 2855, 6295, 7011, 1904,\n",
       "       6931, 1768, 1802, 6612, 5573, 2441, 6131, 4008, 2475, 5992, 7860,\n",
       "       8451, 5265, 7265,  195, 3169, 2737, 3703,  931, 1131, 2945, 5521,\n",
       "        633, 2211, 8708, 6420, 3917, 3473, 8684, 3488, 8513, 9055,  573,\n",
       "       4275,  262, 5118, 6149,  428, 2244, 3426,  340, 8908, 3864, 8042,\n",
       "       3692, 8068, 7143, 8113, 6956, 2065, 2421, 3509, 6797, 7051, 6649,\n",
       "       5444, 8903, 4204, 8730, 7963, 3170,  335, 4176, 8297, 9043, 9152,\n",
       "       9199, 4958, 4117, 8188,  772, 7183, 1435, 4305, 1816,  629, 7653,\n",
       "       3057, 2021, 3459, 8734, 7823, 4544, 7141, 7758, 2480, 7805, 5579,\n",
       "       2011, 3856, 8202,  729, 2047, 4873, 4616,  172, 8935, 5178, 5814,\n",
       "       8560, 5071,  545, 8944, 7532, 7744, 9132, 3954, 3942, 6783, 1693,\n",
       "       1818, 9088, 1985, 5935, 1759, 8878, 4505, 7819, 8578, 5640, 2651,\n",
       "       8782,  205, 8855, 5203, 6751, 1929, 4680, 8787, 5459, 8144, 4689,\n",
       "         20, 8241,  272, 2988, 1275, 6632, 1604, 7243, 4418, 8852, 3429,\n",
       "       3085,  821, 3219, 6879, 3492, 2659, 6191, 3303, 4510, 5191,  666,\n",
       "       7918,  287, 7295, 4687, 6612, 4260, 5780, 9115, 2583, 1149,  559,\n",
       "       3150, 5120, 4768,  121, 8168, 1029, 4812,  457, 8593, 8691, 1210,\n",
       "       7345, 1936, 3640, 7162, 1411, 8966, 4825, 7194, 6909, 8778, 3904,\n",
       "        551, 1546, 7513, 8235,  892, 2750, 7075, 5087, 7585, 5337,  926,\n",
       "       7354, 1624, 1868, 1278, 4130, 3895, 7239, 3893, 3281, 4146, 6965,\n",
       "        610, 5221, 3597,  769, 8588,  342, 1916,  194,  661, 3019, 1104,\n",
       "       6136, 4269, 4234, 8867, 7575, 7841, 6494, 3595, 3078, 6909, 6378,\n",
       "       1925, 4763, 4168, 3314, 4822, 3962, 5119,  533, 1110, 7951, 1677,\n",
       "        297,  212, 8213, 8669, 4922, 1538, 8127, 6033, 8351, 3580, 1869,\n",
       "       3475, 2321,    8, 7978, 8123, 4171, 7268, 8178, 3496, 3952, 6951,\n",
       "       1572, 5013, 6308, 2845, 6466, 4995, 6671, 1493, 2765, 2934,  623,\n",
       "       5337, 7541, 6721,  528, 7376, 4001, 9132, 1299, 7747, 6977, 2634,\n",
       "        705, 4106,  987, 1915, 2643,  602,  341, 1429, 3342, 1970,  600,\n",
       "       7380, 1600, 9203, 4917, 4319, 3125, 7296, 4378, 7216, 6709, 8774,\n",
       "       5602, 6931, 2017, 5950, 2322,  552,  220, 5206, 8096, 3497, 8770,\n",
       "        381, 1490,  572,  758,  287, 8757,   82, 5260, 1846, 8626, 1406,\n",
       "       5509, 6968, 2392, 4906, 8552, 1239, 2993, 7627, 8359, 1739, 4545,\n",
       "       3306, 6267, 7344, 2565,  420, 8028, 5359, 5310, 2354, 5640, 7440,\n",
       "       5629, 1805, 6414, 1809, 7528, 2828, 2315, 2471, 4882, 9036,   20,\n",
       "       6278, 4419, 1038, 8384, 7068, 6258,  635, 4479, 8533, 4953, 2307,\n",
       "       6667,  421, 2026, 6115, 1026, 6430, 6137, 6547, 5117, 4410, 6920,\n",
       "       6299,  193, 7751, 3324, 1042, 5419, 3776, 2793, 2896, 5706, 5744,\n",
       "       7067, 4905, 6913, 1887, 7389, 1829, 4767, 1313, 1479, 7618,  454,\n",
       "       1601, 6193, 1776,  201, 7840,  800, 8387, 3988, 1853, 8576, 6672,\n",
       "       3628,  305, 2271, 1061, 8294, 8420, 3661, 2884, 2059, 8141,  785,\n",
       "       2686, 1487, 8931, 5632, 2501, 5942, 5261, 2419, 6800, 6869,  500,\n",
       "       6258,  819, 6070, 3477, 3807, 1438, 2452, 6696, 2851, 4673, 2666,\n",
       "       3138, 8509, 1621, 6126, 1596, 2793, 5348, 9160, 7215, 8133,  504,\n",
       "       7231,   11, 3257, 3078, 8150,   45, 3425,  863, 1912, 8171])"
      ]
     },
     "execution_count": 31,
     "metadata": {},
     "output_type": "execute_result"
    }
   ],
   "source": [
    "SAMPLE"
   ]
  },
  {
   "cell_type": "code",
   "execution_count": 34,
   "id": "6dfdf732",
   "metadata": {},
   "outputs": [],
   "source": [
    "v = np.array([])\n",
    "pv = np.array([])\n",
    "for i in SAMPLE:\n",
    "    v, pv = np.append(v, var_se(i)[0]), np.append(pv, var_se(i)[1])"
   ]
  },
  {
   "cell_type": "code",
   "execution_count": 35,
   "id": "0ac9bfa9",
   "metadata": {},
   "outputs": [
    {
     "data": {
      "text/plain": [
       "(4857, 4858)"
      ]
     },
     "execution_count": 35,
     "metadata": {},
     "output_type": "execute_result"
    }
   ],
   "source": [
    "len(v), len(pv)"
   ]
  },
  {
   "cell_type": "code",
   "execution_count": 138,
   "id": "1f091b0f",
   "metadata": {},
   "outputs": [
    {
     "data": {
      "image/png": "[encoded data removed]",
      "text/plain": [
       "<Figure size 640x480 with 1 Axes>"
      ]
     },
     "metadata": {},
     "output_type": "display_data"
    }
   ],
   "source": [
    "df = pd.DataFrame({\"variance\": v, \"particle\": pv})\n",
    "\n",
    "# Using 0 to indicate tracks, 1 to indicate showers.\n",
    "\n",
    "mapping = {\n",
    "    11: 1,\n",
    "    -11: 1,\n",
    "    22: 1\n",
    "}\n",
    "\n",
    "df[\"class\"] = df[\"particle\"].map(mapping).fillna(0)\n",
    "\n",
    "tracksQuery = df['class'] == 0.0\n",
    "showersQuery = df['class'] == 1.0\n",
    "\n",
    "ftracks = df[tracksQuery]\n",
    "fshowers = df[showersQuery]\n",
    "\n",
    "tracks = ftracks['variance'].values\n",
    "showers = fshowers['variance'].values\n",
    "\n",
    "n_bins = 40\n",
    "hist2, bin_edges = np.histogram(showers, bins=n_bins)\n",
    "hist1, _ = np.histogram(tracks, bins=bin_edges)\n",
    "\n",
    "bin_widths = np.diff(bin_edges)\n",
    "    \n",
    "hist1_normalized = hist1 / len(tracks)\n",
    "hist2_normalized = hist2 / len(showers)\n",
    "\n",
    "plt.bar(bin_edges[:-1], hist1_normalized, width=bin_widths, align='edge', alpha=0.75, label='Tracks')\n",
    "plt.bar(bin_edges[:-1], hist2_normalized, width=bin_widths, align='edge', alpha=0.75, label='Showers')\n",
    "plt.title(\"Using standard deviation in residuals to distinguish tracks and showers\")\n",
    "plt.ylabel(\"Normalised frequency density\")\n",
    "plt.xlabel(\"Standard Deviation of the last 30%\")\n",
    "\n",
    "plt.legend()\n",
    "plt.show()"
   ]
  },
  {
   "cell_type": "code",
   "execution_count": 139,
   "id": "bc9607f4",
   "metadata": {},
   "outputs": [
    {
     "name": "stderr",
     "output_type": "stream",
     "text": [
      "/Users/mohammed/opt/anaconda3/lib/python3.9/site-packages/numpy/core/fromnumeric.py:3504: RuntimeWarning: Mean of empty slice.\n",
      "  return _methods._mean(a, axis=axis, dtype=dtype,\n",
      "/Users/mohammed/opt/anaconda3/lib/python3.9/site-packages/numpy/core/_methods.py:129: RuntimeWarning: invalid value encountered in scalar divide\n",
      "  ret = ret.dtype.type(ret / rcount)\n"
     ]
    }
   ],
   "source": [
    "h = []\n",
    "ph = []\n",
    "for i in SAMPLE:\n",
    "    h, ph = np.append(h, hits(i)[0]), np.append(ph, hits(i)[1])"
   ]
  },
  {
   "cell_type": "code",
   "execution_count": 140,
   "id": "368e71dd",
   "metadata": {},
   "outputs": [
    {
     "data": {
      "text/plain": [
       "(4291, 4291)"
      ]
     },
     "execution_count": 140,
     "metadata": {},
     "output_type": "execute_result"
    }
   ],
   "source": [
    "len(h), len(ph)"
   ]
  },
  {
   "cell_type": "code",
   "execution_count": 141,
   "id": "09f7f4d2",
   "metadata": {},
   "outputs": [
    {
     "data": {
      "image/png": "[encoded data removed]",
      "text/plain": [
       "<Figure size 640x480 with 1 Axes>"
      ]
     },
     "metadata": {},
     "output_type": "display_data"
    }
   ],
   "source": [
    "df = pd.DataFrame({\"hits\": h, \"particle\": ph})\n",
    "\n",
    "# Using 0 to indicate tracks, 1 to indicate showers.\n",
    "\n",
    "mapping = {\n",
    "    11: 1,\n",
    "    -11: 1,\n",
    "    22: 1\n",
    "}\n",
    "\n",
    "df[\"class\"] = df[\"particle\"].map(mapping).fillna(0)\n",
    "\n",
    "tracksQuery = df['class'] == 0.0\n",
    "showersQuery = df['class'] == 1.0\n",
    "\n",
    "ftracks = df[tracksQuery]\n",
    "fshowers = df[showersQuery]\n",
    "\n",
    "tracks = ftracks['hits'].values\n",
    "showers = fshowers['hits'].values\n",
    "\n",
    "n_bins = 40\n",
    "hist2, bin_edges = np.histogram(showers, bins=n_bins)\n",
    "hist1, _ = np.histogram(tracks, bins=bin_edges)\n",
    "\n",
    "bin_widths = np.diff(bin_edges)\n",
    "    \n",
    "hist1_normalized = hist1 / len(tracks)\n",
    "hist2_normalized = hist2 / len(showers)\n",
    "\n",
    "plt.bar(bin_edges[:-1], hist1_normalized, width=bin_widths, align='edge', alpha=0.75, label='Tracks')\n",
    "plt.bar(bin_edges[:-1], hist2_normalized, width=bin_widths, align='edge', alpha=0.75, label='Showers')\n",
    "plt.title(\"Using hits per length to distinguish tracks and showers\")\n",
    "plt.ylabel(\"Normalised frequency density\")\n",
    "plt.xlabel(\"Hits per length\")\n",
    "\n",
    "plt.legend()\n",
    "plt.show()"
   ]
  },
  {
   "cell_type": "code",
   "execution_count": 40,
   "id": "248a733a",
   "metadata": {},
   "outputs": [],
   "source": [
    "# DEVIATION PER LENGTH"
   ]
  },
  {
   "cell_type": "code",
   "execution_count": 39,
   "id": "71509efc",
   "metadata": {},
   "outputs": [
    {
     "name": "stderr",
     "output_type": "stream",
     "text": [
      "/Users/mohammed/opt/anaconda3/lib/python3.9/site-packages/numpy/core/fromnumeric.py:3504: RuntimeWarning: Mean of empty slice.\n",
      "  return _methods._mean(a, axis=axis, dtype=dtype,\n",
      "/Users/mohammed/opt/anaconda3/lib/python3.9/site-packages/numpy/core/_methods.py:129: RuntimeWarning: invalid value encountered in scalar divide\n",
      "  ret = ret.dtype.type(ret / rcount)\n"
     ]
    }
   ],
   "source": [
    "s = []\n",
    "ps = []\n",
    "for i in SAMPLE:\n",
    "    s, ps = np.append(s, symmetry(i)[0]), np.append(ps, symmetry(i)[1])"
   ]
  },
  {
   "cell_type": "code",
   "execution_count": 41,
   "id": "e0437e7f",
   "metadata": {},
   "outputs": [
    {
     "data": {
      "text/plain": [
       "(4858, 4857)"
      ]
     },
     "execution_count": 41,
     "metadata": {},
     "output_type": "execute_result"
    }
   ],
   "source": [
    "len(s), len(ps)"
   ]
  },
  {
   "cell_type": "code",
   "execution_count": 144,
   "id": "8dc1ebee",
   "metadata": {},
   "outputs": [
    {
     "data": {
      "image/png": "[encoded data removed]",
      "text/plain": [
       "<Figure size 640x480 with 1 Axes>"
      ]
     },
     "metadata": {},
     "output_type": "display_data"
    }
   ],
   "source": [
    "df = pd.DataFrame({\"symmetry\": s, \"particle\": ps})\n",
    "\n",
    "# Using 0 to indicate tracks, 1 to indicate showers.\n",
    "\n",
    "mapping = {\n",
    "    11: 1,\n",
    "    -11: 1,\n",
    "    22: 1\n",
    "}\n",
    "\n",
    "df[\"class\"] = df[\"particle\"].map(mapping).fillna(0)\n",
    "\n",
    "tracksQuery = df['class'] == 0.0\n",
    "showersQuery = df['class'] == 1.0\n",
    "\n",
    "ftracks = df[tracksQuery]\n",
    "fshowers = df[showersQuery]\n",
    "\n",
    "tracks = ftracks['symmetry'].values\n",
    "showers = fshowers['symmetry'].values\n",
    "\n",
    "n_bins = 40\n",
    "hist2, bin_edges = np.histogram(showers, bins=n_bins)\n",
    "hist1, _ = np.histogram(tracks, bins=bin_edges)\n",
    "\n",
    "bin_widths = np.diff(bin_edges)\n",
    "    \n",
    "hist1_normalized = hist1 / len(tracks)\n",
    "hist2_normalized = hist2 / len(showers)\n",
    "\n",
    "plt.bar(bin_edges[:-1], hist1_normalized, width=bin_widths, align='edge', alpha=0.75, label='Tracks')\n",
    "plt.bar(bin_edges[:-1], hist2_normalized, width=bin_widths, align='edge', alpha=0.75, label='Showers')\n",
    "plt.title(\"Using symmetry to distinguish tracks and showers\")\n",
    "plt.ylabel(\"Normalised frequency density\")\n",
    "plt.xlabel(\"Symmetry (close to 1 is symmetric)\")\n",
    "# plt.xlim(-1, 30)\n",
    "\n",
    "plt.legend()\n",
    "plt.show()"
   ]
  },
  {
   "cell_type": "code",
   "execution_count": null,
   "id": "b963b0f8",
   "metadata": {},
   "outputs": [],
   "source": [
    "# ENERGY"
   ]
  },
  {
   "cell_type": "code",
   "execution_count": 36,
   "id": "16e6eb90",
   "metadata": {},
   "outputs": [],
   "source": [
    "e = []\n",
    "pe = []\n",
    "for i in SAMPLE:\n",
    "    e, pe = np.append(e, energy(i)[0]), np.append(pe, energy(i)[1])"
   ]
  },
  {
   "cell_type": "code",
   "execution_count": 37,
   "id": "b175f128",
   "metadata": {},
   "outputs": [
    {
     "data": {
      "text/plain": [
       "(4858, 4858)"
      ]
     },
     "execution_count": 37,
     "metadata": {},
     "output_type": "execute_result"
    }
   ],
   "source": [
    "len(e), len(pe)"
   ]
  },
  {
   "cell_type": "code",
   "execution_count": 38,
   "id": "4f57ce3f",
   "metadata": {},
   "outputs": [
    {
     "data": {
      "image/png": "[encoded data removed]",
      "text/plain": [
       "<Figure size 640x480 with 1 Axes>"
      ]
     },
     "metadata": {},
     "output_type": "display_data"
    }
   ],
   "source": [
    "df = pd.DataFrame({\"energy\": e, \"particle\": pe})\n",
    "\n",
    "# Using 0 to indicate tracks, 1 to indicate showers.\n",
    "\n",
    "mapping = {\n",
    "    11: 1,\n",
    "    -11: 1,\n",
    "    22: 1\n",
    "}\n",
    "\n",
    "df[\"class\"] = df[\"particle\"].map(mapping).fillna(0)\n",
    "\n",
    "tracksQuery = df['class'] == 0.0\n",
    "showersQuery = df['class'] == 1.0\n",
    "\n",
    "ftracks = df[tracksQuery]\n",
    "fshowers = df[showersQuery]\n",
    "\n",
    "tracks = ftracks['energy'].values\n",
    "showers = fshowers['energy'].values\n",
    "\n",
    "n_bins = 40\n",
    "hist2, bin_edges = np.histogram(showers, bins=n_bins)\n",
    "hist1, _ = np.histogram(tracks, bins=bin_edges)\n",
    "\n",
    "bin_widths = np.diff(bin_edges)\n",
    "    \n",
    "hist1_normalized = hist1 / len(tracks)\n",
    "hist2_normalized = hist2 / len(showers)\n",
    "\n",
    "plt.bar(bin_edges[:-1], hist1_normalized, width=bin_widths, align='edge', alpha=0.75, label='Tracks')\n",
    "plt.bar(bin_edges[:-1], hist2_normalized, width=bin_widths, align='edge', alpha=0.75, label='Showers')\n",
    "plt.title(\"Using energy to distinguish tracks and showers\")\n",
    "plt.ylabel(\"Normalised frequency density\")\n",
    "plt.xlabel(\"Energy\")\n",
    "\n",
    "plt.legend()\n",
    "plt.show()"
   ]
  },
  {
   "cell_type": "code",
   "execution_count": 148,
   "id": "7e7cad8a",
   "metadata": {},
   "outputs": [],
   "source": [
    "data = np.column_stack((v,s,h,e))"
   ]
  },
  {
   "cell_type": "code",
   "execution_count": 149,
   "id": "dd7d45d5",
   "metadata": {},
   "outputs": [
    {
     "data": {
      "text/plain": [
       "array([[ 1.        ,  0.5831459 ,  0.58332533, -0.44149488],\n",
       "       [ 0.5831459 ,  1.        ,  0.999933  , -0.35649527],\n",
       "       [ 0.58332533,  0.999933  ,  1.        , -0.35664167],\n",
       "       [-0.44149488, -0.35649527, -0.35664167,  1.        ]])"
      ]
     },
     "execution_count": 149,
     "metadata": {},
     "output_type": "execute_result"
    }
   ],
   "source": [
    "correlation = np.corrcoef(data, rowvar=False)\n",
    "correlation"
   ]
  },
  {
   "cell_type": "code",
   "execution_count": 150,
   "id": "6a5bf438",
   "metadata": {},
   "outputs": [
    {
     "data": {
      "text/plain": [
       "True"
      ]
     },
     "execution_count": 150,
     "metadata": {},
     "output_type": "execute_result"
    }
   ],
   "source": [
    "equal = np.array_equal(pv,ps) and np.array_equal(ps,ph) and np.array_equal(ph,pe)\n",
    "equal"
   ]
  },
  {
   "cell_type": "code",
   "execution_count": 151,
   "id": "e1680ee8",
   "metadata": {
    "scrolled": false
   },
   "outputs": [
    {
     "data": {
      "image/png": "[encoded data removed]",
      "text/plain": [
       "<Figure size 640x480 with 2 Axes>"
      ]
     },
     "metadata": {},
     "output_type": "display_data"
    }
   ],
   "source": [
    "%matplotlib inline\n",
    "\n",
    "variable_names = ['Variance', 'Deviation', 'Hits', 'Energy']\n",
    "\n",
    "heatmap = sns.heatmap(correlation, annot=True, cmap='coolwarm', fmt=\".3f\", linewidths=.5, square=True)\n",
    "heatmap.set_xticklabels(variable_names, rotation=45, ha='right')\n",
    "heatmap.set_yticklabels(variable_names, rotation=0)\n",
    "\n",
    "plt.title(\"Correlation Matrix\")\n",
    "plt.show()"
   ]
  },
  {
   "cell_type": "code",
   "execution_count": null,
   "id": "e7059644",
   "metadata": {},
   "outputs": [],
   "source": []
  }
 ],
 "metadata": {
  "kernelspec": {
   "display_name": "Python 3 (ipykernel)",
   "language": "python",
   "name": "python3"
  },
  "language_info": {
   "codemirror_mode": {
    "name": "ipython",
    "version": 3
   },
   "file_extension": ".py",
   "mimetype": "text/x-python",
   "name": "python",
   "nbconvert_exporter": "python",
   "pygments_lexer": "ipython3",
   "version": "3.9.18"
  }
 },
 "nbformat": 4,
 "nbformat_minor": 5
}
