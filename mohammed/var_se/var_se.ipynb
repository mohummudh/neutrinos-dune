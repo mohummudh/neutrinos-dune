{
 "cells": [
  {
   "cell_type": "code",
   "execution_count": 1,
   "id": "2d979992",
   "metadata": {},
   "outputs": [],
   "source": [
    "import math\n",
    "import numpy as np\n",
    "import matplotlib.pyplot as plt\n",
    "import pandas as pd\n",
    "import seaborn as sns\n",
    "\n",
    "from uproot_io import Events, View"
   ]
  },
  {
   "cell_type": "code",
   "execution_count": 276,
   "id": "7b669651",
   "metadata": {},
   "outputs": [],
   "source": [
    "events = Events(\"/Users/mohammed/code/CheatedRecoFile_1.root\")"
   ]
  },
  {
   "cell_type": "code",
   "execution_count": 240,
   "id": "8d298a8d",
   "metadata": {},
   "outputs": [],
   "source": [
    "#TO FIT STRAIGHT LINES\n",
    "\n",
    "def fit_line(x, y):\n",
    "    A = np.vstack([x, np.ones_like(x)]).T\n",
    "    m, c = np.linalg.lstsq(A, y, rcond=None)[0]\n",
    "    return m, c\n",
    "\n",
    "def calculate_residuals(x, y, m, c):\n",
    "    #y_predicted = (m*x) + c\n",
    "    perpdist = abs(((-m*x) + y - c) / np.sqrt(m**2 + 1))\n",
    "    #residuals = np.abs(perpdist - y_predicted)\n",
    "    return perpdist\n",
    "\n",
    "def fitting(event_number, plot):\n",
    "    idx = np.where(events.event_number == event_number)[0]\n",
    "    resis = []\n",
    "    gradients = []\n",
    "    intercepts = []\n",
    "    \n",
    "    vx = events.true_neutrino_vtx_x[idx[0]]\n",
    "    vz = events.true_neutrino_vtx_w[idx[0]]\n",
    "    if plot == True:\n",
    "        plt.scatter(vx, vz, c='red', s=50)\n",
    "\n",
    "    xmax = -1000\n",
    "    xmin = 1000\n",
    "    zmax = -1000\n",
    "    zmin = 1000\n",
    "    for i in idx:\n",
    "        x0 = events.reco_hits_x_w[i]\n",
    "        z0 = events.reco_hits_w[i]\n",
    "        if plot == True:\n",
    "            plt.scatter(x0, z0, s=0.5)\n",
    "        if len(x0) > 0:\n",
    "            if max(x0) >= xmax:\n",
    "                xmax = max(x0)\n",
    "            if min(x0) <= xmin:\n",
    "                xmin = min(x0)\n",
    "        if len(z0) > 0:\n",
    "            if max(z0) >= zmax:\n",
    "                zmax = max(z0)\n",
    "            if min(z0) <= zmin:\n",
    "                zmin = min(z0)\n",
    "        \n",
    "    if vx < xmin:\n",
    "        xmin = vx    \n",
    "    if vx > xmax:\n",
    "        xmax = vx\n",
    "    if vz < zmin:\n",
    "        zmin = vz    \n",
    "    if vz > zmax:\n",
    "        zmax = vz\n",
    "\n",
    "    xlen = 0.1*(xmax - xmin)\n",
    "    zlen = 0.1*(zmax - zmin)\n",
    "    \n",
    "    if plot == True:\n",
    "        plt.xlim(xmin-xlen, xmax+xlen)\n",
    "        plt.ylim(zmin-zlen, zmax+zlen)\n",
    "        plt.show()\n",
    "        \n",
    "        plt.scatter(vx, vz, c='red', s=50)\n",
    "        plt.xlim(xmin-xlen, xmax+xlen)\n",
    "        plt.ylim(zmin-zlen, zmax+zlen)\n",
    "    \n",
    "    particleType = np.array([])\n",
    "    \n",
    "    for i in idx:\n",
    "        pdg = events.mc_pdg[i]\n",
    "        particleType = np.append(particleType, pdg)\n",
    "        x = events.reco_hits_x_w[i]\n",
    "        z = events.reco_hits_w[i]\n",
    "        if plot == True:\n",
    "            plt.scatter(x, z, s=0.5)\n",
    "                \n",
    "        best_inliers = []\n",
    "        best_model = None\n",
    "        sample_size = 10\n",
    "        max_iterations = 100\n",
    "        #inlier_threshold = 2.0\n",
    "        \n",
    "        for _ in range(max_iterations):\n",
    "            sample_size = min(sample_size, len(x))\n",
    "            sample_indices = np.random.choice(len(x), size=sample_size, replace=False)\n",
    "            x_sample = x[sample_indices]\n",
    "            z_sample = z[sample_indices]\n",
    "\n",
    "            m, c = fit_line(x_sample, z_sample)\n",
    "            residuals = calculate_residuals(x, z, m, c)\n",
    "            inliers = np.where(residuals < (0.15*xlen))[0]\n",
    "\n",
    "            if len(inliers) > len(best_inliers):\n",
    "                best_inliers = inliers\n",
    "                best_model = (m, c)\n",
    "\n",
    "        if len(best_inliers) > 0:\n",
    "            m, c = best_model\n",
    "            gradients.append(m)\n",
    "            intercepts.append(c)\n",
    "            \n",
    "            if plot == True:\n",
    "                x_inliers = x[best_inliers]\n",
    "                z_inliers = z[best_inliers]\n",
    "                plt.scatter(x_inliers, z_inliers, color='blue', marker='o')\n",
    "\n",
    "                plt.plot(x_inliers, m * x_inliers + c)\n",
    "                plt.xlabel('x')\n",
    "                plt.ylabel('w')\n",
    "                plt.show()\n",
    "        \n",
    "            perp_dist = [calculate_residuals(x[i], z[i], m, c) for i in range(len(x))]\n",
    "            num_points = int(0.5 * len(x))\n",
    "            mean = np.mean(perp_dist[:num_points])\n",
    "            resis.append(mean)\n",
    "        else:\n",
    "            gradients.append(0)\n",
    "            intercepts.append(0)\n",
    "            resis.append(0)\n",
    "            #print(\"No inliers found for a particle\")\n",
    "            continue\n",
    "    \n",
    "    return gradients, intercepts, resis, particleType"
   ]
  },
  {
   "cell_type": "code",
   "execution_count": 370,
   "id": "f0816fbc",
   "metadata": {},
   "outputs": [],
   "source": [
    "# def var_se(event_number):\n",
    "#     \"\"\"needs to return the ratio of the variance of the first X% divided by the last Y%\n",
    "#     in the residuals for each particle\"\"\"\n",
    "    \n",
    "#     particleType = np.array([])\n",
    "#     results = np.array([])\n",
    "    \n",
    "#     # Fitting each particle with a straight line.\n",
    "#     m, c, _, _ = fitting(event_number, False)\n",
    "    \n",
    "#     idx = np.where(events.event_number == event_number)[0]\n",
    "    \n",
    "#     for i in idx:\n",
    "        \n",
    "#         x = events.reco_hits_x_w[i]\n",
    "#         z = events.reco_hits_w[i]\n",
    "        \n",
    "        \n",
    "#         # Discarding particles with no hits\n",
    "#         if x.size <= 10:\n",
    "#             continue\n",
    "            \n",
    "#         else:   \n",
    "#             # Changing coordinates to along and transverse\n",
    "#             if m[i-idx[0]] == 0:\n",
    "#                 continue\n",
    "#             else:\n",
    "#                 znew = z - c[i-idx[0]]\n",
    "#                 angle = -math.atan(m[i-idx[0]])\n",
    "#                 l = x * np.cos(angle) - znew * np.sin(angle)\n",
    "#                 t = x * np.sin(angle) + znew * np.cos(angle)\n",
    "                \n",
    "                \n",
    "                \n",
    "#                 p1 = int(0.8 * len(t))\n",
    "#                 X = t[p1:]\n",
    "#                 Xvar = np.var(X)\n",
    "                \n",
    "#                 p2 = int(0.2 * len(t))\n",
    "#                 Y = t[:p2]\n",
    "#                 Yvar = np.var(Y)\n",
    "                \n",
    "#                 if Yvar == 0 or Xvar == 0 or math.isinf(Yvar) or math.isinf(Xvar) or np.isnan(Xvar) or np.isnan(Yvar) :\n",
    "#                     continue\n",
    "                    \n",
    "#                 if Xvar < Yvar:\n",
    "#                     result = Yvar / Xvar\n",
    "#                     results = np.append(results, result)\n",
    "#                     results = np.sqrt(results)\n",
    "                    \n",
    "#                     pdg = events.mc_pdg[i]\n",
    "#                     particleType = np.append(particleType, pdg)\n",
    "                \n",
    "#                 else:\n",
    "#                     result = Xvar/Yvar\n",
    "#                     results = np.append(results, result)\n",
    "#                     results = np.sqrt(results)\n",
    "                    \n",
    "#                     # Finding the particle type\n",
    "#                     pdg = events.mc_pdg[i]\n",
    "#                     particleType = np.append(particleType, pdg) \n",
    "                    \n",
    "#                     plt.scatter(x,z)\n",
    "#                     plt.show()\n",
    "                    \n",
    "#                     plt.scatter(l,t)\n",
    "#                     plt.show()\n",
    "                \n",
    "#     return results, particleType\n",
    "\n",
    "\n",
    "def var_se(event_number):\n",
    "    \"\"\"needs to return the ratio of the variance of the first X% divided by the last Y%\n",
    "    in the residuals for each particle\"\"\"\n",
    "    \n",
    "    particleType = np.array([])\n",
    "    results = np.array([])\n",
    "    \n",
    "    # Fitting each particle with a straight line.\n",
    "    m, c, _, _ = fitting(event_number, False)\n",
    "    \n",
    "    idx = np.where(events.event_number == event_number)[0]\n",
    "    \n",
    "    for i in idx:\n",
    "        \n",
    "        x = events.reco_hits_x_w[i]\n",
    "        z = events.reco_hits_w[i]\n",
    "        \n",
    "        \n",
    "        # Discarding particles with little hits\n",
    "        if x.size <= 30:\n",
    "            continue\n",
    "            \n",
    "        else:   \n",
    "            # Changing coordinates to along and transverse\n",
    "            if m[i-idx[0]] == 0:\n",
    "                continue\n",
    "            else:\n",
    "                znew = z - c[i-idx[0]]\n",
    "                angle = -math.atan(m[i-idx[0]])\n",
    "                l = x * np.cos(angle) - znew * np.sin(angle)\n",
    "                t = x * np.sin(angle) + znew * np.cos(angle)\n",
    "                \n",
    "                #last 30% of data\n",
    "                p1 = int(0.7 * len(t))\n",
    "                X = t[p1:]\n",
    "                if len(X) == 0 or np.any(np.isnan(X)) or np.any(np.isinf(X)):\n",
    "                    continue\n",
    "                else:\n",
    "                    Xvar = np.var(X)\n",
    "                \n",
    "                #first 30% of data\n",
    "                p2 = int(0.3 * len(t))\n",
    "                Y = t[:p2]\n",
    "                if len(Y) == 0 or np.any(np.isnan(Y)) or np.any(np.isinf(Y)):\n",
    "                    continue\n",
    "                else:\n",
    "                    Yvar = np.var(Y)\n",
    "                \n",
    "                if Yvar == 0 or Xvar == 0 or math.isinf(Yvar) or math.isinf(Xvar) or np.isnan(Xvar) or np.isnan(Yvar) :\n",
    "                    continue\n",
    "                    \n",
    "                if  Yvar > Xvar:\n",
    "                    resultY = np.sqrt(Yvar)\n",
    "                    results = np.append(results, resultY)\n",
    "                    \n",
    "                    pdg = events.mc_pdg[i]\n",
    "                    particleType = np.append(particleType, pdg)\n",
    "                    \n",
    "#                     plt.scatter(x,z)\n",
    "#                     plt.show()\n",
    "                    \n",
    "#                     plt.scatter(l,t, label= f\"Y = {resultY}\")\n",
    "#                     plt.legend()\n",
    "#                     plt.show()\n",
    "                \n",
    "                else:\n",
    "                    resultX = np.sqrt(Xvar)\n",
    "                    results = np.append(results, resultX)\n",
    "                    \n",
    "                    # Finding the particle type\n",
    "                    pdg = events.mc_pdg[i]\n",
    "                    particleType = np.append(particleType, pdg) \n",
    "                    \n",
    "#                     plt.scatter(x,z)\n",
    "#                     plt.show()\n",
    "                    \n",
    "#                     plt.scatter(l,t, label= f\"X = {resultX}\")\n",
    "#                     plt.legend()\n",
    "#                     plt.show()\n",
    "                \n",
    "    return results, particleType"
   ]
  },
  {
   "cell_type": "code",
   "execution_count": 371,
   "id": "45b5eaa6",
   "metadata": {
    "scrolled": false
   },
   "outputs": [
    {
     "data": {
      "text/plain": [
       "(array([0.30846402]), array([13.]))"
      ]
     },
     "execution_count": 371,
     "metadata": {},
     "output_type": "execute_result"
    }
   ],
   "source": [
    "var_se(123)"
   ]
  },
  {
   "cell_type": "code",
   "execution_count": 372,
   "id": "a5f3abee",
   "metadata": {},
   "outputs": [],
   "source": [
    "random_numbers = np.random.randint(0, max(events.event_number), 50)"
   ]
  },
  {
   "cell_type": "code",
   "execution_count": 373,
   "id": "94f4d5d9",
   "metadata": {},
   "outputs": [],
   "source": [
    "v = []\n",
    "p = []\n",
    "for i in random_numbers:\n",
    "    v, p = np.append(v, var_se(i)[0]), np.append(p, var_se(i)[1])"
   ]
  },
  {
   "cell_type": "code",
   "execution_count": 374,
   "id": "946cf4d0",
   "metadata": {},
   "outputs": [
    {
     "data": {
      "text/plain": [
       "((154,), (154,))"
      ]
     },
     "execution_count": 374,
     "metadata": {},
     "output_type": "execute_result"
    }
   ],
   "source": [
    "v.shape, p.shape"
   ]
  },
  {
   "cell_type": "code",
   "execution_count": 375,
   "id": "d765e9a5",
   "metadata": {},
   "outputs": [],
   "source": [
    "df = pd.DataFrame({\"variance\": v, \"particle\": p})"
   ]
  },
  {
   "cell_type": "code",
   "execution_count": 376,
   "id": "4eb3afc8",
   "metadata": {},
   "outputs": [],
   "source": [
    "# Using 0 to indicate tracks, 1 to indicate showers.\n",
    "\n",
    "mapping = {\n",
    "    11: 1,\n",
    "    -11: 1,\n",
    "    22: 1\n",
    "}\n",
    "\n",
    "df[\"class\"] = df[\"particle\"].map(mapping).fillna(0)"
   ]
  },
  {
   "cell_type": "code",
   "execution_count": 377,
   "id": "ac2f0fe1",
   "metadata": {},
   "outputs": [],
   "source": [
    "tracksQuery = df['class'] == 0.0\n",
    "showersQuery = df['class'] == 1.0\n",
    "\n",
    "ftracks = df[tracksQuery]\n",
    "fshowers = df[showersQuery]\n",
    "\n",
    "tracks = ftracks['variance'].values\n",
    "showers = fshowers['variance'].values"
   ]
  },
  {
   "cell_type": "code",
   "execution_count": 378,
   "id": "c5b5bdfa",
   "metadata": {},
   "outputs": [
    {
     "data": {
      "image/png": "[encoded data removed]",
      "text/plain": [
       "<Figure size 640x480 with 1 Axes>"
      ]
     },
     "metadata": {},
     "output_type": "display_data"
    }
   ],
   "source": [
    "n_bins = 40\n",
    "hist2, bin_edges = np.histogram(showers, bins=n_bins)\n",
    "hist1, _ = np.histogram(tracks, bins=bin_edges)\n",
    "\n",
    "bin_widths = np.diff(bin_edges)\n",
    "    \n",
    "hist1_normalized = hist1 / len(tracks)\n",
    "hist2_normalized = hist2 / len(showers)\n",
    "\n",
    "plt.bar(bin_edges[:-1], hist1_normalized, width=bin_widths, align='edge', alpha=0.75, label='Tracks')\n",
    "plt.bar(bin_edges[:-1], hist2_normalized, width=bin_widths, align='edge', alpha=0.75, label='Showers')\n",
    "plt.title(\"Using standard deviation in residuals to distinguish tracks and showers\")\n",
    "plt.ylabel(\"Normalised frequency density\")\n",
    "plt.xlabel(\"Standard Deviation of the last 30%\")\n",
    "plt.xlim(-1, 30)\n",
    "\n",
    "plt.legend()\n",
    "plt.show()"
   ]
  },
  {
   "cell_type": "code",
   "execution_count": 379,
   "id": "a1cb561c",
   "metadata": {},
   "outputs": [
    {
     "data": {
      "text/plain": [
       "array([1445, 8379, 1844, 8181, 4040, 3154, 2846, 6832, 3545, 7509, 6330,\n",
       "       5887, 5472, 7743, 8580, 3619, 6924, 3433, 6215, 8707, 2154, 1555,\n",
       "       4176, 6546, 6567, 1657, 7371, 3157, 7710, 9022, 3161, 4330, 6565,\n",
       "       8170, 1796, 3734, 4241, 8864, 3393, 2652, 7996, 4814, 3209, 1418,\n",
       "       7265, 5978, 4215, 6148, 1146, 6868])"
      ]
     },
     "execution_count": 379,
     "metadata": {},
     "output_type": "execute_result"
    }
   ],
   "source": [
    "random_numbers"
   ]
  },
  {
   "cell_type": "code",
   "execution_count": 382,
   "id": "c0a7adc1",
   "metadata": {
    "scrolled": false
   },
   "outputs": [
    {
     "data": {
      "text/plain": [
       "(array([13.25645638,  0.13238129,  3.5818119 ,  0.12249684,  0.39112085]),\n",
       " array([ 11., 211.,  22., 211., 211.]))"
      ]
     },
     "execution_count": 382,
     "metadata": {},
     "output_type": "execute_result"
    }
   ],
   "source": [
    "var_se(1445)"
   ]
  },
  {
   "cell_type": "code",
   "execution_count": null,
   "id": "62039527",
   "metadata": {},
   "outputs": [],
   "source": []
  }
 ],
 "metadata": {
  "kernelspec": {
   "display_name": "Python 3 (ipykernel)",
   "language": "python",
   "name": "python3"
  },
  "language_info": {
   "codemirror_mode": {
    "name": "ipython",
    "version": 3
   },
   "file_extension": ".py",
   "mimetype": "text/x-python",
   "name": "python",
   "nbconvert_exporter": "python",
   "pygments_lexer": "ipython3",
   "version": "3.9.18"
  }
 },
 "nbformat": 4,
 "nbformat_minor": 5
}
