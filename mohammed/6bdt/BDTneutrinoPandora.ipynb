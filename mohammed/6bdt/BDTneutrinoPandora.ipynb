{
 "cells": [
  {
   "cell_type": "code",
   "execution_count": 1,
   "metadata": {},
   "outputs": [],
   "source": [
    "import numpy as np\n",
    "import math\n",
    "import matplotlib.pyplot as plt\n",
    "import seaborn as sns\n",
    "\n",
    "from uproot_io import Events, View\n",
    "from sklearn.tree import DecisionTreeClassifier\n",
    "from sklearn.ensemble import AdaBoostClassifier\n",
    "from sklearn.datasets import make_classification\n",
    "from sklearn.model_selection import GridSearchCV\n",
    "from sklearn.metrics import accuracy_score\n",
    "from sklearn.metrics import roc_curve, auc\n",
    "from sklearn.metrics import confusion_matrix"
   ]
  },
  {
   "cell_type": "markdown",
   "metadata": {},
   "source": [
    "# Define data sets\n",
    "\n",
    "SK Learn provides functions to generate data sets for testing purposes, in this case via the make_classification it generates 2D points (features) belonging to two different clusters based. 2D points were chosen here for ease of visualisation, but the number of variables can be extended arbitrarily to suit your needs.\n",
    "\n",
    "Three data sets are generated from the same underlying distribution, simply using different random seeds. One is the training set for the BDT, the remaining two are validation and test sets. I won't use the validation set here, but if you tune your BDT based on it's performance on a 'test' set, you're effectively turning your test set into a training set, this is the role of the validation set and so final evaluation of the BDT performance should be done using the test set, which should have played no role in training or defining the hyper parameters of the BDT."
   ]
  },
  {
   "cell_type": "code",
   "execution_count": 2,
   "metadata": {},
   "outputs": [],
   "source": [
    "# need training features as [[1,2,3,4,5],[1,2,3,4,5],...] and training labels as [6,6,6,6,6,...],\n",
    "# same format for testing data"
   ]
  },
  {
   "cell_type": "code",
   "execution_count": 3,
   "metadata": {},
   "outputs": [],
   "source": [
    "events = Events(\"/Users/mohammed/code/neutrinos-dune-files/PandoraRecoFile_1.root\")"
   ]
  },
  {
   "cell_type": "code",
   "execution_count": 4,
   "metadata": {},
   "outputs": [],
   "source": [
    "# random_numbersold = np.random.randint(0, max(events.event_number), max(events.event_number))\n",
    "# seventy = int(0.7*len(random_numbersold))\n",
    "# training = random_numbersold[:seventy]\n",
    "# testing = random_numbersold[seventy:]\n",
    "# np.save(\"training_events\", training)\n",
    "# np.save(\"testing_events\", testing)"
   ]
  },
  {
   "cell_type": "code",
   "execution_count": 5,
   "metadata": {},
   "outputs": [],
   "source": [
    "training = np.load(\"training_events.npy\")\n",
    "testing = np.load(\"testing_events.npy\")"
   ]
  },
  {
   "cell_type": "code",
   "execution_count": 6,
   "metadata": {},
   "outputs": [],
   "source": [
    "# training data\n",
    "\n",
    "def fit_line(x, y):\n",
    "    A = np.vstack([x, np.ones_like(x)]).T\n",
    "    m, c = np.linalg.lstsq(A, y, rcond=None)[0]\n",
    "    return m, c\n",
    "\n",
    "def calculate_residuals(x, y, m, c):\n",
    "    #y_predicted = (m*x) + c\n",
    "    perpdist = abs(((-m*x) + y - c) / np.sqrt(m**2 + 1))\n",
    "    #residuals = np.abs(perpdist - y_predicted)\n",
    "    return perpdist\n",
    "\n",
    "def BDTdata():\n",
    "    data = []\n",
    "    label = []\n",
    "    \n",
    "    for n in training: \n",
    "        \n",
    "        idx = np.where(events.event_number == n)[0]\n",
    "\n",
    "        # line of best fit\n",
    "        gradients = []\n",
    "        intercepts = []\n",
    "\n",
    "        xmax = -1000\n",
    "        xmin = 1000\n",
    "        zmax = -1000\n",
    "        zmin = 1000\n",
    "        for i in idx:\n",
    "            x0 = events.reco_hits_x_w[i]\n",
    "            z0 = events.reco_hits_w[i]\n",
    "            if len(x0) > 0:\n",
    "                if max(x0) >= xmax:\n",
    "                    xmax = max(x0)\n",
    "                if min(x0) <= xmin:\n",
    "                    xmin = min(x0)\n",
    "            if len(z0) > 0:\n",
    "                if max(z0) >= zmax:\n",
    "                    zmax = max(z0)\n",
    "                if min(z0) <= zmin:\n",
    "                    zmin = min(z0)\n",
    "\n",
    "        xlen = 0.1*(xmax - xmin)\n",
    "        zlen = 0.1*(zmax - zmin)\n",
    "\n",
    "        for i in idx:\n",
    "            \n",
    "            # features\n",
    "            entry = []\n",
    "            \n",
    "            # hits, pdg code, purity, completeness, adc values, vertex coordinates\n",
    "\n",
    "            x = events.reco_hits_x_w[i]\n",
    "            z = events.reco_hits_w[i]\n",
    "            pdg = events.mc_pdg[i]\n",
    "            purity = events.purity[i]\n",
    "            complete = events.completeness[i]\n",
    "\n",
    "            adc = events.reco_adcs_w[i]\n",
    "            vx = events.reco_particle_vtx_x[i]\n",
    "            vz = events.reco_particle_vtx_w[i]\n",
    "            \n",
    "            party = []\n",
    "\n",
    "            # cuts made for clean data\n",
    "            if len(x) > 10 and pdg != 0 and purity > 0.75 and complete > 0.75:\n",
    "                party.append(pdg)\n",
    "                \n",
    "            for q in range(len(party)):\n",
    "                if party[q] == 22. or party[q] == -11. or party[q] == 11.:\n",
    "                    label.append(0) # showers\n",
    "                else:\n",
    "                    label.append(1) # tracks\n",
    "            \n",
    "            if len(x) > 10 and pdg != 0 and purity > 0.75 and complete > 0.75:\n",
    "                \n",
    "                best_inliers = []\n",
    "                best_model = None\n",
    "                sample_size = 10\n",
    "                max_iterations = 100\n",
    "\n",
    "                for _ in range(max_iterations):\n",
    "                    sample_size = min(sample_size, len(x))\n",
    "                    sample_indices = np.random.choice(len(x), size=sample_size, replace=False)\n",
    "                    x_sample = x[sample_indices]\n",
    "                    z_sample = z[sample_indices]\n",
    "\n",
    "                    m, c = fit_line(x_sample, z_sample)\n",
    "                    residuals = calculate_residuals(x, z, m, c)\n",
    "                    inliers = np.where(residuals < (0.15*xlen))[0]\n",
    "\n",
    "                    if len(inliers) > len(best_inliers):\n",
    "                        best_inliers = inliers\n",
    "                        best_model = (m, c)\n",
    "\n",
    "                if len(best_inliers) > 0:\n",
    "                    m, c = best_model\n",
    "\n",
    "                    gradients.append(m)\n",
    "                    intercepts.append(c)\n",
    "\n",
    "                    # changing the coordinates into longitudinal and tranverse from best line\n",
    "\n",
    "                    znew = z - c\n",
    "                    angle = -math.atan(m)\n",
    "                    l = x * np.cos(angle) - znew * np.sin(angle)\n",
    "                    t = x * np.sin(angle) + znew * np.cos(angle)\n",
    "\n",
    "                    # feature 1: proximal hits within 5% of transverse range of the hits.\n",
    "\n",
    "                    tdiff = np.abs(max(t)-min(t))\n",
    "                    margin = tdiff*0.05\n",
    "                    inside = [x for x in t if x <= margin and x >= -margin]\n",
    "                    entry.append(len(inside)/len(t))\n",
    "\n",
    "                    # feature 2: the standard deviation of the last 30% of a topology\n",
    "\n",
    "                    p1 = int(0.7 * len(t))\n",
    "                    X = t[p1:]\n",
    "                    Xvar = np.var(X)\n",
    "\n",
    "                    p2 = int(0.3 * len(t))\n",
    "                    Y = t[:p2]\n",
    "                    Yvar = np.var(Y)\n",
    "\n",
    "                    if  Yvar > Xvar:\n",
    "                        resultY = np.sqrt(Yvar)\n",
    "                        entry.append(resultY)           \n",
    "                    else:\n",
    "                        resultX = np.sqrt(Xvar)\n",
    "                        entry.append(resultX)\n",
    "\n",
    "                    # feature 3: the hits per length\n",
    "\n",
    "                    above = np.sum(t > 0)\n",
    "                    below = np.sum(t < 0)\n",
    "\n",
    "                    lmin, lmax = np.min(l), np.max(l)\n",
    "                    length = lmax - lmin\n",
    "\n",
    "                    if above == 0 or below == 0 or length == 0:\n",
    "                        entry.append(2)\n",
    "\n",
    "                    else:\n",
    "                        # If symmetric, this should be close to 1, otherwise > 1\n",
    "                        hits = (above + below) / length\n",
    "                        entry.append(hits)\n",
    "\n",
    "\n",
    "                    # feature 4: energy in the last 10% of the track\n",
    "\n",
    "                    vznew = vz - c\n",
    "\n",
    "                    vl = vx * np.cos(angle) - vznew * np.sin(angle)\n",
    "                    vt = vx * np.sin(angle) + vznew * np.cos(angle)\n",
    "\n",
    "                    if max(l) < vl:\n",
    "                        l *= -1\n",
    "\n",
    "                    combined = list(zip(l, t, adc))\n",
    "                    sort = sorted(combined, key = lambda coord: coord[0])\n",
    "\n",
    "                    lnew, tnew, adcnew = zip(*sort)\n",
    "\n",
    "                    percent = int(0.9 * len(adcnew))\n",
    "                    X = adcnew[percent:]\n",
    "                    Xsum = np.sum(X)\n",
    "\n",
    "                    total = np.sum(adcnew)\n",
    "                    result = Xsum / total\n",
    "\n",
    "                    entry.append(result)\n",
    "\n",
    "                    # feature 5: mean connection distance\n",
    "\n",
    "                    total_distance = 0.0\n",
    "                    for j in range(len(x) - 1):\n",
    "                        distance = np.sqrt((x[j+1] - x[j])**2 + (z[j+1] - z[j])**2)\n",
    "                        total_distance += distance\n",
    "                    meandist = total_distance/(len(x)-1)\n",
    "                    entry.append(meandist)\n",
    "                    data.append(entry)\n",
    "\n",
    "\n",
    "                else:\n",
    "                    entry.append(0.1)  # proximal hits\n",
    "                    entry.append(1.5)  # standard deviation\n",
    "                    entry.append(2)    # hits per length\n",
    "                    entry.append(0.25) # energy\n",
    "                    entry.append(1)    # mean connection distance\n",
    "                    data.append(entry)\n",
    "    \n",
    "    return data, label"
   ]
  },
  {
   "cell_type": "code",
   "execution_count": 7,
   "metadata": {},
   "outputs": [],
   "source": [
    "data, label = BDTdata()"
   ]
  },
  {
   "cell_type": "code",
   "execution_count": 8,
   "metadata": {},
   "outputs": [],
   "source": [
    "x_train = data\n",
    "y_train = label"
   ]
  },
  {
   "cell_type": "code",
   "execution_count": 9,
   "metadata": {},
   "outputs": [
    {
     "data": {
      "text/plain": [
       "(10928, 10928)"
      ]
     },
     "execution_count": 9,
     "metadata": {},
     "output_type": "execute_result"
    }
   ],
   "source": [
    "len(x_train), len(y_train)"
   ]
  },
  {
   "cell_type": "code",
   "execution_count": 10,
   "metadata": {},
   "outputs": [],
   "source": [
    "# testing\n",
    "\n",
    "def fit_line(x, y):\n",
    "    A = np.vstack([x, np.ones_like(x)]).T\n",
    "    m, c = np.linalg.lstsq(A, y, rcond=None)[0]\n",
    "    return m, c\n",
    "\n",
    "def calculate_residuals(x, y, m, c):\n",
    "    #y_predicted = (m*x) + c\n",
    "    perpdist = abs(((-m*x) + y - c) / np.sqrt(m**2 + 1))\n",
    "    #residuals = np.abs(perpdist - y_predicted)\n",
    "    return perpdist\n",
    "\n",
    "def BDTtestData():\n",
    "    data = []\n",
    "    label = []\n",
    "    \n",
    "    for n in testing: \n",
    "        \n",
    "        idx = np.where(events.event_number == n)[0]\n",
    "\n",
    "        # line of best fit\n",
    "        gradients = []\n",
    "        intercepts = []\n",
    "\n",
    "        xmax = -1000\n",
    "        xmin = 1000\n",
    "        zmax = -1000\n",
    "        zmin = 1000\n",
    "        for i in idx:\n",
    "            x0 = events.reco_hits_x_w[i]\n",
    "            z0 = events.reco_hits_w[i]\n",
    "            if len(x0) > 0:\n",
    "                if max(x0) >= xmax:\n",
    "                    xmax = max(x0)\n",
    "                if min(x0) <= xmin:\n",
    "                    xmin = min(x0)\n",
    "            if len(z0) > 0:\n",
    "                if max(z0) >= zmax:\n",
    "                    zmax = max(z0)\n",
    "                if min(z0) <= zmin:\n",
    "                    zmin = min(z0)\n",
    "\n",
    "        xlen = 0.1*(xmax - xmin)\n",
    "        zlen = 0.1*(zmax - zmin)\n",
    "\n",
    "        for i in idx:\n",
    "            \n",
    "            # features\n",
    "            entry = []\n",
    "            \n",
    "            # hits, pdg code, purity, completeness, adc values, vertex coordinates\n",
    "\n",
    "            x = events.reco_hits_x_w[i]\n",
    "            z = events.reco_hits_w[i]\n",
    "            pdg = events.mc_pdg[i]\n",
    "            purity = events.purity[i]\n",
    "            complete = events.completeness[i]\n",
    "\n",
    "            adc = events.reco_adcs_w[i]\n",
    "            vx = events.reco_particle_vtx_x[i]\n",
    "            vz = events.reco_particle_vtx_w[i]\n",
    "            \n",
    "            party = []\n",
    "\n",
    "            # cuts made for clean data\n",
    "            if len(x) > 10 and pdg != 0 and purity > 0.75 and complete > 0.75:\n",
    "                party.append(pdg)\n",
    "                \n",
    "            for q in range(len(party)):\n",
    "                if party[q] == 22. or party[q] == -11. or party[q] == 11.:\n",
    "                    label.append(0) # showers\n",
    "                else:\n",
    "                    label.append(1) # tracks\n",
    "            \n",
    "            if len(x) > 10 and pdg != 0 and purity > 0.75 and complete > 0.75:\n",
    "                \n",
    "                best_inliers = []\n",
    "                best_model = None\n",
    "                sample_size = 10\n",
    "                max_iterations = 100\n",
    "\n",
    "                for _ in range(max_iterations):\n",
    "                    sample_size = min(sample_size, len(x))\n",
    "                    sample_indices = np.random.choice(len(x), size=sample_size, replace=False)\n",
    "                    x_sample = x[sample_indices]\n",
    "                    z_sample = z[sample_indices]\n",
    "\n",
    "                    m, c = fit_line(x_sample, z_sample)\n",
    "                    residuals = calculate_residuals(x, z, m, c)\n",
    "                    inliers = np.where(residuals < (0.15*xlen))[0]\n",
    "\n",
    "                    if len(inliers) > len(best_inliers):\n",
    "                        best_inliers = inliers\n",
    "                        best_model = (m, c)\n",
    "\n",
    "                if len(best_inliers) > 0:\n",
    "                    m, c = best_model\n",
    "\n",
    "                    gradients.append(m)\n",
    "                    intercepts.append(c)\n",
    "\n",
    "                    # changing the coordinates into longitudinal and tranverse from best line\n",
    "\n",
    "                    znew = z - c\n",
    "                    angle = -math.atan(m)\n",
    "                    l = x * np.cos(angle) - znew * np.sin(angle)\n",
    "                    t = x * np.sin(angle) + znew * np.cos(angle)\n",
    "\n",
    "                    # feature 1: proximal hits within 5% of transverse range of the hits.\n",
    "\n",
    "                    tdiff = np.abs(max(t)-min(t))\n",
    "                    margin = tdiff*0.05\n",
    "                    inside = [x for x in t if x <= margin and x >= -margin]\n",
    "                    entry.append(len(inside)/len(t))\n",
    "\n",
    "                    # feature 2: the standard deviation of the last 30% of a topology\n",
    "\n",
    "                    p1 = int(0.7 * len(t))\n",
    "                    X = t[p1:]\n",
    "                    Xvar = np.var(X)\n",
    "\n",
    "                    p2 = int(0.3 * len(t))\n",
    "                    Y = t[:p2]\n",
    "                    Yvar = np.var(Y)\n",
    "\n",
    "                    if  Yvar > Xvar:\n",
    "                        resultY = np.sqrt(Yvar)\n",
    "                        entry.append(resultY)           \n",
    "                    else:\n",
    "                        resultX = np.sqrt(Xvar)\n",
    "                        entry.append(resultX)\n",
    "\n",
    "                    # feature 3: the hits per length\n",
    "\n",
    "                    above = np.sum(t > 0)\n",
    "                    below = np.sum(t < 0)\n",
    "\n",
    "                    lmin, lmax = np.min(l), np.max(l)\n",
    "                    length = lmax - lmin\n",
    "\n",
    "                    if above == 0 or below == 0 or length == 0:\n",
    "                        entry.append(2)\n",
    "\n",
    "                    else:\n",
    "                        # If symmetric, this should be close to 1, otherwise > 1\n",
    "                        hits = (above + below) / length\n",
    "                        entry.append(hits)\n",
    "\n",
    "\n",
    "                    # feature 4: energy in the last 10% of the track\n",
    "\n",
    "                    vznew = vz - c\n",
    "\n",
    "                    vl = vx * np.cos(angle) - vznew * np.sin(angle)\n",
    "                    vt = vx * np.sin(angle) + vznew * np.cos(angle)\n",
    "\n",
    "                    if max(l) < vl:\n",
    "                        l *= -1\n",
    "\n",
    "                    combined = list(zip(l, t, adc))\n",
    "                    sort = sorted(combined, key = lambda coord: coord[0])\n",
    "\n",
    "                    lnew, tnew, adcnew = zip(*sort)\n",
    "\n",
    "                    percent = int(0.9 * len(adcnew))\n",
    "                    X = adcnew[percent:]\n",
    "                    Xsum = np.sum(X)\n",
    "\n",
    "                    total = np.sum(adcnew)\n",
    "                    result = Xsum / total\n",
    "\n",
    "                    entry.append(result)\n",
    "\n",
    "                    # feature 5: mean connection distance\n",
    "\n",
    "                    total_distance = 0.0\n",
    "                    for j in range(len(x) - 1):\n",
    "                        distance = np.sqrt((x[j+1] - x[j])**2 + (z[j+1] - z[j])**2)\n",
    "                        total_distance += distance\n",
    "                    meandist = total_distance/(len(x)-1)\n",
    "                    entry.append(meandist)\n",
    "                    data.append(entry)\n",
    "\n",
    "\n",
    "                else:\n",
    "                    entry.append(0.1)  # proximal hits\n",
    "                    entry.append(1.5)  # standard deviation\n",
    "                    entry.append(2)    # hits per length\n",
    "                    entry.append(0.25) # energy\n",
    "                    entry.append(1)    # mean connection distance\n",
    "                    data.append(entry)\n",
    "    \n",
    "    return data, label"
   ]
  },
  {
   "cell_type": "code",
   "execution_count": 11,
   "metadata": {},
   "outputs": [],
   "source": [
    "x_test, y_test = BDTtestData()"
   ]
  },
  {
   "cell_type": "code",
   "execution_count": 12,
   "metadata": {},
   "outputs": [
    {
     "data": {
      "text/plain": [
       "(4739, 4739)"
      ]
     },
     "execution_count": 12,
     "metadata": {},
     "output_type": "execute_result"
    }
   ],
   "source": [
    "len(x_test), len(y_test)"
   ]
  },
  {
   "cell_type": "code",
   "execution_count": 13,
   "metadata": {},
   "outputs": [],
   "source": [
    "# np.save(\"x_train\", x_train)\n",
    "# np.save(\"y_train\", y_train)\n",
    "# np.save(\"x_test\", x_test)\n",
    "# np.save(\"y_test\", y_test)"
   ]
  },
  {
   "cell_type": "markdown",
   "metadata": {},
   "source": [
    "# Creating and training the BDT\n",
    "\n",
    "Now we can create the BDT itself. The BDT (AdaBoostClassifier) will be composed of many base trees (DecisionTreeClassifier). This is essentially the default set up for a BDT, you can find details of the arguments used here and many other hyper-parameters (essentially the parameters that describe the structure of the tree, rather than physics variables) via the SK learn documentation. Note comparing the performance of your BDT for different values of max-depth, for example, is the sort of task you would perform (after training) with the validation set, and once you've settled on a 'best' set of hyper-parameters, then you would perform a final evaluation of that tree using the test set.\n",
    "\n",
    "Having defined the tree in these first two, the next step is to train the BDT by simply calling the fit function and supplying the training features (x_train) and labels (y_train)."
   ]
  },
  {
   "cell_type": "code",
   "execution_count": 14,
   "metadata": {},
   "outputs": [],
   "source": [
    "x_train = np.array(x_train)\n",
    "y_train = np.array(y_train)\n",
    "x_test = np.array(x_test)\n",
    "y_test = np.array(y_test)"
   ]
  },
  {
   "cell_type": "code",
   "execution_count": 15,
   "metadata": {},
   "outputs": [
    {
     "data": {
      "text/html": [
       "<style>#sk-container-id-1 {color: black;}#sk-container-id-1 pre{padding: 0;}#sk-container-id-1 div.sk-toggleable {background-color: white;}#sk-container-id-1 label.sk-toggleable__label {cursor: pointer;display: block;width: 100%;margin-bottom: 0;padding: 0.3em;box-sizing: border-box;text-align: center;}#sk-container-id-1 label.sk-toggleable__label-arrow:before {content: \"▸\";float: left;margin-right: 0.25em;color: #696969;}#sk-container-id-1 label.sk-toggleable__label-arrow:hover:before {color: black;}#sk-container-id-1 div.sk-estimator:hover label.sk-toggleable__label-arrow:before {color: black;}#sk-container-id-1 div.sk-toggleable__content {max-height: 0;max-width: 0;overflow: hidden;text-align: left;background-color: #f0f8ff;}#sk-container-id-1 div.sk-toggleable__content pre {margin: 0.2em;color: black;border-radius: 0.25em;background-color: #f0f8ff;}#sk-container-id-1 input.sk-toggleable__control:checked~div.sk-toggleable__content {max-height: 200px;max-width: 100%;overflow: auto;}#sk-container-id-1 input.sk-toggleable__control:checked~label.sk-toggleable__label-arrow:before {content: \"▾\";}#sk-container-id-1 div.sk-estimator input.sk-toggleable__control:checked~label.sk-toggleable__label {background-color: #d4ebff;}#sk-container-id-1 div.sk-label input.sk-toggleable__control:checked~label.sk-toggleable__label {background-color: #d4ebff;}#sk-container-id-1 input.sk-hidden--visually {border: 0;clip: rect(1px 1px 1px 1px);clip: rect(1px, 1px, 1px, 1px);height: 1px;margin: -1px;overflow: hidden;padding: 0;position: absolute;width: 1px;}#sk-container-id-1 div.sk-estimator {font-family: monospace;background-color: #f0f8ff;border: 1px dotted black;border-radius: 0.25em;box-sizing: border-box;margin-bottom: 0.5em;}#sk-container-id-1 div.sk-estimator:hover {background-color: #d4ebff;}#sk-container-id-1 div.sk-parallel-item::after {content: \"\";width: 100%;border-bottom: 1px solid gray;flex-grow: 1;}#sk-container-id-1 div.sk-label:hover label.sk-toggleable__label {background-color: #d4ebff;}#sk-container-id-1 div.sk-serial::before {content: \"\";position: absolute;border-left: 1px solid gray;box-sizing: border-box;top: 0;bottom: 0;left: 50%;z-index: 0;}#sk-container-id-1 div.sk-serial {display: flex;flex-direction: column;align-items: center;background-color: white;padding-right: 0.2em;padding-left: 0.2em;position: relative;}#sk-container-id-1 div.sk-item {position: relative;z-index: 1;}#sk-container-id-1 div.sk-parallel {display: flex;align-items: stretch;justify-content: center;background-color: white;position: relative;}#sk-container-id-1 div.sk-item::before, #sk-container-id-1 div.sk-parallel-item::before {content: \"\";position: absolute;border-left: 1px solid gray;box-sizing: border-box;top: 0;bottom: 0;left: 50%;z-index: -1;}#sk-container-id-1 div.sk-parallel-item {display: flex;flex-direction: column;z-index: 1;position: relative;background-color: white;}#sk-container-id-1 div.sk-parallel-item:first-child::after {align-self: flex-end;width: 50%;}#sk-container-id-1 div.sk-parallel-item:last-child::after {align-self: flex-start;width: 50%;}#sk-container-id-1 div.sk-parallel-item:only-child::after {width: 0;}#sk-container-id-1 div.sk-dashed-wrapped {border: 1px dashed gray;margin: 0 0.4em 0.5em 0.4em;box-sizing: border-box;padding-bottom: 0.4em;background-color: white;}#sk-container-id-1 div.sk-label label {font-family: monospace;font-weight: bold;display: inline-block;line-height: 1.2em;}#sk-container-id-1 div.sk-label-container {text-align: center;}#sk-container-id-1 div.sk-container {/* jupyter's `normalize.less` sets `[hidden] { display: none; }` but bootstrap.min.css set `[hidden] { display: none !important; }` so we also need the `!important` here to be able to override the default hidden behavior on the sphinx rendered scikit-learn.org. See: https://github.com/scikit-learn/scikit-learn/issues/21755 */display: inline-block !important;position: relative;}#sk-container-id-1 div.sk-text-repr-fallback {display: none;}</style><div id=\"sk-container-id-1\" class=\"sk-top-container\"><div class=\"sk-text-repr-fallback\"><pre>AdaBoostClassifier(estimator=DecisionTreeClassifier(max_depth=6),\n",
       "                   n_estimators=100, random_state=0)</pre><b>In a Jupyter environment, please rerun this cell to show the HTML representation or trust the notebook. <br />On GitHub, the HTML representation is unable to render, please try loading this page with nbviewer.org.</b></div><div class=\"sk-container\" hidden><div class=\"sk-item sk-dashed-wrapped\"><div class=\"sk-label-container\"><div class=\"sk-label sk-toggleable\"><input class=\"sk-toggleable__control sk-hidden--visually\" id=\"sk-estimator-id-1\" type=\"checkbox\" ><label for=\"sk-estimator-id-1\" class=\"sk-toggleable__label sk-toggleable__label-arrow\">AdaBoostClassifier</label><div class=\"sk-toggleable__content\"><pre>AdaBoostClassifier(estimator=DecisionTreeClassifier(max_depth=6),\n",
       "                   n_estimators=100, random_state=0)</pre></div></div></div><div class=\"sk-parallel\"><div class=\"sk-parallel-item\"><div class=\"sk-item\"><div class=\"sk-label-container\"><div class=\"sk-label sk-toggleable\"><input class=\"sk-toggleable__control sk-hidden--visually\" id=\"sk-estimator-id-2\" type=\"checkbox\" ><label for=\"sk-estimator-id-2\" class=\"sk-toggleable__label sk-toggleable__label-arrow\">estimator: DecisionTreeClassifier</label><div class=\"sk-toggleable__content\"><pre>DecisionTreeClassifier(max_depth=6)</pre></div></div></div><div class=\"sk-serial\"><div class=\"sk-item\"><div class=\"sk-estimator sk-toggleable\"><input class=\"sk-toggleable__control sk-hidden--visually\" id=\"sk-estimator-id-3\" type=\"checkbox\" ><label for=\"sk-estimator-id-3\" class=\"sk-toggleable__label sk-toggleable__label-arrow\">DecisionTreeClassifier</label><div class=\"sk-toggleable__content\"><pre>DecisionTreeClassifier(max_depth=6)</pre></div></div></div></div></div></div></div></div></div></div>"
      ],
      "text/plain": [
       "AdaBoostClassifier(estimator=DecisionTreeClassifier(max_depth=6),\n",
       "                   n_estimators=100, random_state=0)"
      ]
     },
     "execution_count": 15,
     "metadata": {},
     "output_type": "execute_result"
    }
   ],
   "source": [
    "# Create the BDT with a base decision tree classifier (this is the default base classifier, included for illustration)\n",
    "base = DecisionTreeClassifier(max_depth=6)\n",
    "bdt = AdaBoostClassifier(estimator=base, n_estimators=100, random_state=0)\n",
    "# Fit the BDT to the training set\n",
    "bdt.fit(x_train, y_train)"
   ]
  },
  {
   "cell_type": "markdown",
   "metadata": {},
   "source": [
    "# Checking the classification performance\n",
    "\n",
    "Once trained, we can evaluate the performance of the BDT. First you can see how well the BDT was actually able to fit the training data - if there's no predictive power in your features, or insufficient degrees of freedom in your BDT, no amount of training will yield anything useful. In this case we can see that the classification accuracy for this default BDT is pretty good, classifiying about 92% of points correctly"
   ]
  },
  {
   "cell_type": "code",
   "execution_count": 16,
   "metadata": {},
   "outputs": [
    {
     "data": {
      "text/plain": [
       "1.0"
      ]
     },
     "execution_count": 16,
     "metadata": {},
     "output_type": "execute_result"
    }
   ],
   "source": [
    "# Check the training set classification performance\n",
    "bdt.score(x_train, y_train)"
   ]
  },
  {
   "cell_type": "code",
   "execution_count": 17,
   "metadata": {},
   "outputs": [
    {
     "name": "stdout",
     "output_type": "stream",
     "text": [
      "Best Depth: 6\n",
      "Best Score: 0.9650442068415401\n"
     ]
    }
   ],
   "source": [
    "# finding the best tree depth\n",
    "\n",
    "param_grid = {'max_depth': range(1, 21)}\n",
    "grid_search = GridSearchCV(base, param_grid, cv=5, scoring='accuracy')  \n",
    "grid_search.fit(x_train, y_train)\n",
    "best_depth = grid_search.best_params_['max_depth']\n",
    "best_score = grid_search.best_score_\n",
    "print(\"Best Depth:\", best_depth)\n",
    "print(\"Best Score:\", best_score)"
   ]
  },
  {
   "cell_type": "code",
   "execution_count": 18,
   "metadata": {},
   "outputs": [],
   "source": [
    "y_train = np.array(y_train)"
   ]
  },
  {
   "cell_type": "code",
   "execution_count": 19,
   "metadata": {},
   "outputs": [
    {
     "data": {
      "text/plain": [
       "<matplotlib.legend.Legend at 0x2a1880220>"
      ]
     },
     "execution_count": 19,
     "metadata": {},
     "output_type": "execute_result"
    },
    {
     "data": {
      "image/png": "[encoded data removed]",
      "text/plain": [
       "<Figure size 640x480 with 1 Axes>"
      ]
     },
     "metadata": {},
     "output_type": "display_data"
    }
   ],
   "source": [
    "f = bdt.decision_function(x_train)\n",
    "min_f = np.round(np.min(f), 1)\n",
    "max_f = np.round(np.max(f), 1)\n",
    "bins = 15\n",
    "# bins = np.linspace(min_f, max_f, 4 * int((max_f - min_f) / 0.1) + 1)\n",
    "cls_0_f = f[np.where(y_train == 0)]\n",
    "cls_1_f = f[np.where(y_train == 1)]\n",
    "weights_0 = np.ones_like(cls_0_f) / len(cls_0_f)\n",
    "weights_1 = np.ones_like(cls_1_f) / len(cls_1_f)\n",
    "plt.hist(cls_0_f, color='r', weights=weights_0, bins=bins, histtype='step', label='Class 0 (Showers)')\n",
    "plt.hist(cls_1_f, color='b', weights=weights_1, bins=bins, histtype='step', label='Class 1 (Trakcs)')\n",
    "plt.legend()"
   ]
  },
  {
   "cell_type": "code",
   "execution_count": 41,
   "metadata": {},
   "outputs": [
    {
     "data": {
      "text/plain": [
       "<matplotlib.legend.Legend at 0x2808eaca0>"
      ]
     },
     "execution_count": 41,
     "metadata": {},
     "output_type": "execute_result"
    },
    {
     "name": "stderr",
     "output_type": "stream",
     "text": [
      "/Users/mohammed/opt/anaconda3/lib/python3.9/site-packages/IPython/core/events.py:89: UserWarning: Glyph 8722 (\\N{MINUS SIGN}) missing from current font.\n",
      "  func(*args, **kwargs)\n",
      "/Users/mohammed/opt/anaconda3/lib/python3.9/site-packages/IPython/core/pylabtools.py:151: UserWarning: Glyph 8722 (\\N{MINUS SIGN}) missing from current font.\n",
      "  fig.canvas.print_figure(bytes_io, **kw)\n"
     ]
    },
    {
     "data": {
      "image/png": "[encoded data removed]",
      "text/plain": [
       "<Figure size 640x480 with 1 Axes>"
      ]
     },
     "metadata": {},
     "output_type": "display_data"
    }
   ],
   "source": [
    "f = bdt.decision_function(x_test)\n",
    "min_f = np.round(np.min(f), 1)\n",
    "max_f = np.round(np.max(f), 1)\n",
    "bins = 24\n",
    "# bins = np.linspace(min_f, max_f, 4 * int((max_f - min_f) / 0.1) + 1)\n",
    "cls_0_f = f[np.where(y_test == 0)]\n",
    "cls_1_f = f[np.where(y_test == 1)]\n",
    "weights_0 = np.ones_like(cls_0_f) / len(cls_0_f)\n",
    "weights_1 = np.ones_like(cls_1_f) / len(cls_1_f)\n",
    "plt.hist(cls_0_f, color='r', weights=weights_0, bins=bins, histtype='step', label='Class 0 (Showers)', linewidth=3)\n",
    "plt.hist(cls_1_f, color='b', weights=weights_1, bins=bins, histtype='step', label='Class 1 (Trakcs)', linewidth=3)\n",
    "plt.axvline(x=optimal_threshold, color='green', linestyle='dotted', linewidth=2, label=f'Best Cut ({0.826})')\n",
    "plt.legend()"
   ]
  },
  {
   "cell_type": "code",
   "execution_count": 21,
   "metadata": {},
   "outputs": [
    {
     "data": {
      "text/plain": [
       "0.9782654568474362"
      ]
     },
     "execution_count": 21,
     "metadata": {},
     "output_type": "execute_result"
    }
   ],
   "source": [
    "# Check the test set classification performance\n",
    "bdt.score(x_test, y_test)"
   ]
  },
  {
   "cell_type": "code",
   "execution_count": 22,
   "metadata": {},
   "outputs": [
    {
     "data": {
      "image/png": "[encoded data removed]",
      "text/plain": [
       "<Figure size 640x480 with 1 Axes>"
      ]
     },
     "metadata": {},
     "output_type": "display_data"
    },
    {
     "name": "stdout",
     "output_type": "stream",
     "text": [
      "Best Cut: 0.8262331365569487\n",
      "AUC: 0.9926599282451833\n"
     ]
    }
   ],
   "source": [
    "y_probs = bdt.predict_proba(x_test)[:, 1]\n",
    "\n",
    "# Compute ROC curve and ROC area\n",
    "fpr, tpr, thresholds = roc_curve(y_test, y_probs)\n",
    "roc_auc = auc(fpr, tpr)\n",
    "\n",
    "closest_point = np.argmin(np.sqrt((1 - tpr) ** 2 + fpr ** 2))\n",
    "fpr_rounded = round(fpr[closest_point], 2)\n",
    "tpr_rounded = round(tpr[closest_point], 2)\n",
    "\n",
    "optimal_threshold = thresholds[closest_point]\n",
    "\n",
    "# Plot\n",
    "plt.figure()\n",
    "plt.plot(fpr, tpr, color='darkorange', lw=2, label='ROC curve (area = %0.2f)' % roc_auc)\n",
    "plt.plot([0, 1], [0, 1], color='navy', lw=2, linestyle='--')\n",
    "plt.plot(fpr[closest_point], tpr[closest_point], marker='o', color='red', label=f'Closest to (1,1): {fpr_rounded, tpr_rounded}')\n",
    "\n",
    "# plt.xlim([0.0, 1.0])\n",
    "# plt.ylim([0.0, 1.05])\n",
    "plt.xlabel('False Positive Rate')\n",
    "plt.ylabel('True Positive Rate')\n",
    "plt.title('Receiver Operating Characteristic')\n",
    "plt.legend(loc=\"lower right\")\n",
    "plt.show()\n",
    "\n",
    "print(f'Best Cut: {optimal_threshold}')\n",
    "print(f'AUC: {roc_auc}')"
   ]
  },
  {
   "cell_type": "code",
   "execution_count": 59,
   "metadata": {},
   "outputs": [],
   "source": [
    "# applying the best cut\n",
    "scores = bdt.decision_function(x_test)\n",
    "predictions = (scores > cutpoint).astype(int)"
   ]
  },
  {
   "cell_type": "code",
   "execution_count": 60,
   "metadata": {},
   "outputs": [
    {
     "data": {
      "text/plain": [
       "0.988394175986495"
      ]
     },
     "execution_count": 60,
     "metadata": {},
     "output_type": "execute_result"
    }
   ],
   "source": [
    "bdt.score(x_test, predictions)"
   ]
  },
  {
   "cell_type": "code",
   "execution_count": 61,
   "metadata": {},
   "outputs": [
    {
     "data": {
      "text/plain": [
       "array([[1182,   55],\n",
       "       [  55, 3447]])"
      ]
     },
     "execution_count": 61,
     "metadata": {},
     "output_type": "execute_result"
    }
   ],
   "source": [
    "cm = confusion_matrix(y_test, predictions)\n",
    "cm"
   ]
  },
  {
   "cell_type": "code",
   "execution_count": 62,
   "metadata": {},
   "outputs": [],
   "source": [
    "TTAT = cm[1][1]\n",
    "TTAS = cm[1][0]\n",
    "TSAT = cm[0][1]\n",
    "TSAS = cm[0][0]"
   ]
  },
  {
   "cell_type": "code",
   "execution_count": 63,
   "metadata": {},
   "outputs": [],
   "source": [
    "TTATprob = TTAT/(TTAT+TTAS)\n",
    "TTASprob = TTAS/(TTAT+TTAS)\n",
    "TSATprob = TSAT/(TSAT+TSAS)\n",
    "TSASprob = TSAS/(TSAT+TSAS)"
   ]
  },
  {
   "cell_type": "code",
   "execution_count": 64,
   "metadata": {},
   "outputs": [
    {
     "name": "stdout",
     "output_type": "stream",
     "text": [
      "[[0.95553759 0.04446241]\n",
      " [0.01570531 0.98429469]]\n"
     ]
    }
   ],
   "source": [
    "confusion = np.array(([TSASprob, TSATprob],[TTASprob, TTATprob]))\n",
    "print(confusion)"
   ]
  },
  {
   "cell_type": "code",
   "execution_count": 65,
   "metadata": {},
   "outputs": [],
   "source": [
    "e4 = np.sqrt((TTATprob*(1-TTATprob))/TTAT)\n",
    "e3 = np.sqrt((TTASprob*(1-TTASprob))/TTAS)\n",
    "e2 = np.sqrt((TSATprob*(1-TSATprob))/TSAT)\n",
    "e1 = np.sqrt((TSASprob*(1-TSASprob))/TSAS)"
   ]
  },
  {
   "cell_type": "code",
   "execution_count": 66,
   "metadata": {},
   "outputs": [
    {
     "name": "stdout",
     "output_type": "stream",
     "text": [
      "[[0.00599531 0.02779323]\n",
      " [0.01676504 0.0021177 ]]\n"
     ]
    }
   ],
   "source": [
    "error = np.array(([e1, e2],[e3, e4]))\n",
    "print(error)"
   ]
  },
  {
   "cell_type": "code",
   "execution_count": 67,
   "metadata": {},
   "outputs": [
    {
     "data": {
      "image/png": "[encoded data removed]",
      "text/plain": [
       "<Figure size 400x130 with 1 Axes>"
      ]
     },
     "metadata": {},
     "output_type": "display_data"
    }
   ],
   "source": [
    "variable_names1 = ['as Shower', 'as Track']\n",
    "variable_names2 = ['True Shower', 'True Track']\n",
    "\n",
    "annot_arr = np.array([['0.945±0.007','0.054±0.028'],\n",
    "                      ['0.013±0.018','0.987±0.002']], dtype = str)\n",
    "\n",
    "plt.figure(figsize = (4,1.3))\n",
    "heatmap = sns.heatmap(confusion, annot=annot_arr, cmap='coolwarm', fmt=\"s\", linewidths=.5, square=False, cbar = False)\n",
    "heatmap.set_xticklabels(variable_names1, rotation=0)\n",
    "heatmap.set_yticklabels(variable_names2, rotation=0)\n",
    "#plt.title(\"Confusion Matrix\")±±±±±\n",
    "plt.tight_layout()\n",
    "plt.savefig('BDTpandoraConf.png', dpi = 500)\n",
    "plt.show()"
   ]
  },
  {
   "cell_type": "code",
   "execution_count": 36,
   "metadata": {},
   "outputs": [],
   "source": [
    "plt.rcParams['font.family'] = 'CMU Serif'\n",
    "plt.rcParams['font.size'] = 12"
   ]
  },
  {
   "cell_type": "code",
   "execution_count": 44,
   "metadata": {},
   "outputs": [],
   "source": [
    "TIT = cls_1_f\n",
    "SIT = cls_0_f"
   ]
  },
  {
   "cell_type": "code",
   "execution_count": 84,
   "metadata": {},
   "outputs": [
    {
     "data": {
      "image/png": "[encoded data removed]",
      "text/plain": [
       "<Figure size 640x480 with 1 Axes>"
      ]
     },
     "metadata": {},
     "output_type": "display_data"
    },
    {
     "name": "stdout",
     "output_type": "stream",
     "text": [
      "Best cut: 1.0\n",
      "At distance: 0.02129525951747129\n",
      "With AUC: 0.9967287215155872\n"
     ]
    }
   ],
   "source": [
    "cuts = np.arange(-35, 35, 0.5)\n",
    "efficiency = []\n",
    "purity = []\n",
    "\n",
    "purity.append(0)\n",
    "efficiency.append(1)\n",
    "\n",
    "for i in cuts:\n",
    "    goodtrk = []\n",
    "    badtrk = []\n",
    "    goodshw = []\n",
    "    badshw = []\n",
    "    for n in TIT:\n",
    "        if n >= i:\n",
    "            goodtrk.append(n)\n",
    "        else:\n",
    "            badtrk.append(n)\n",
    "    for k in SIT:\n",
    "        if k >= i:\n",
    "            badshw.append(k)\n",
    "        else:\n",
    "            goodshw.append(k)\n",
    "\n",
    "    # print(goodtrk, badshw)\n",
    "    if goodtrk and badshw != 0:\n",
    "        eff = len(goodtrk)/(len(TIT))\n",
    "        pur = len(goodtrk)/(len(goodtrk)+len(badshw))\n",
    "    else:\n",
    "        continue\n",
    "\n",
    "    efficiency.append(eff)\n",
    "    purity.append(pur)\n",
    "\n",
    "purity.append(1)\n",
    "efficiency.append(0)\n",
    "\n",
    "area = np.trapz(efficiency, x=purity)\n",
    "\n",
    "plt.plot(purity, efficiency, color='darkorange', lw=2, label='ROC curve (AUC = %0.3f)' % area)\n",
    "plt.scatter(purity, efficiency)\n",
    "plt.scatter(1, 1, s=75, c='r', label='Point at (1,1)')\n",
    "plt.plot([0, 1], [1, 0], color='navy', lw=2, linestyle='--')\n",
    "plt.xlabel('Purity', fontsize=12)\n",
    "plt.ylabel('Efficiency', fontsize=12)\n",
    "#plt.title('ROC Curve for Track Likelihood')\n",
    "plt.xticks(np.arange(0.6, 1.1, step=0.1), fontsize = 12)\n",
    "plt.yticks(np.arange(0.6, 1.1, step=0.1), fontsize = 12)\n",
    "plt.xlim(0.575,1.025)\n",
    "plt.ylim(0.575,1.025)\n",
    "plt.legend()\n",
    "plt.tight_layout()\n",
    "plt.show()\n",
    "\n",
    "np.save(\"PE_BDT\", efficiency)\n",
    "np.save(\"PP_BDT\", purity)\n",
    "\n",
    "\n",
    "\n",
    "point = np.array([1, 1])\n",
    "data_points = np.column_stack((purity, efficiency))\n",
    "distances = np.linalg.norm(data_points - point, axis=1)\n",
    "closest_index = np.argmin(distances)\n",
    "closest_point = data_points[closest_index]\n",
    "dist = distances[closest_index]\n",
    "cutpoint = cuts[closest_index]\n",
    "\n",
    "print('Best cut:', cutpoint)\n",
    "print('At distance:', dist)\n",
    "print('With AUC:', area)\n"
   ]
  },
  {
   "cell_type": "code",
   "execution_count": 51,
   "metadata": {},
   "outputs": [],
   "source": [
    "trkleng = []\n",
    "shwleng = []\n",
    "trkpart = []\n",
    "shwpart = []\n",
    "\n",
    "for n in testing:\n",
    "    idx = np.where(events.event_number == n)[0]\n",
    "    for i in idx:\n",
    "        x = events.reco_hits_x_w[i]\n",
    "        pdg = events.mc_pdg[i]\n",
    "        purity = events.purity[i]\n",
    "        complete = events.completeness[i]\n",
    "\n",
    "        party = []\n",
    "\n",
    "        if len(x) > 10 and pdg != 0 and purity > 0.75 and complete > 0.75:\n",
    "            party.append(pdg)\n",
    "\n",
    "        for q in range(len(party)):\n",
    "            if party[q] == 22. or party[q] == -11. or party[q] == 11.:\n",
    "                shwpart.append(pdg) # showers\n",
    "                shwleng.append(len(x))\n",
    "            else:\n",
    "                trkpart.append(pdg) # tracks\n",
    "                trkleng.append(len(x))\n",
    "\n",
    "trkleng = np.array(trkleng)\n",
    "shwleng = np.array(shwleng)\n",
    "trkpart = np.array(trkpart)\n",
    "shwpart = np.array(shwpart)\n"
   ]
  },
  {
   "cell_type": "code",
   "execution_count": 52,
   "metadata": {},
   "outputs": [
    {
     "name": "stdout",
     "output_type": "stream",
     "text": [
      "[[0.98429469 0.01570531]\n",
      " [0.04446241 0.95553759]]\n",
      "[[0.0021177  0.01676504]\n",
      " [0.02779323 0.00599531]]\n"
     ]
    }
   ],
   "source": [
    "TTAT = []\n",
    "TTAS = []\n",
    "TSAT = []\n",
    "TSAS = []\n",
    "\n",
    "leng1 = []\n",
    "leng2 = []\n",
    "leng3 = []\n",
    "leng4 = []\n",
    "\n",
    "part1 = []\n",
    "part2 = []\n",
    "part3 = []\n",
    "part4 = []\n",
    "\n",
    "for i, n in enumerate(TIT):\n",
    "    if n >= cutpoint:\n",
    "        TTAT.append(n)\n",
    "        leng1.append(trkleng[i])\n",
    "        part1.append(trkpart[i])\n",
    "    if n < cutpoint:\n",
    "        TTAS.append(n)\n",
    "        leng2.append(trkleng[i])\n",
    "        part2.append(trkpart[i])\n",
    "        \n",
    "for i, k in enumerate(SIT):\n",
    "    if k >= cutpoint:\n",
    "        TSAT.append(k)\n",
    "        leng3.append(shwleng[i])\n",
    "        part3.append(shwpart[i])\n",
    "    if k < cutpoint:\n",
    "        TSAS.append(k)\n",
    "        leng4.append(shwleng[i])\n",
    "        part4.append(shwpart[i])\n",
    "\n",
    "TTATprob = len(TTAT)/(len(TTAT)+len(TTAS))\n",
    "TTASprob = len(TTAS)/(len(TTAT)+len(TTAS))\n",
    "TSATprob = len(TSAT)/(len(TSAT)+len(TSAS))\n",
    "TSASprob = len(TSAS)/(len(TSAT)+len(TSAS))\n",
    "\n",
    "confusion = np.array(([TTATprob, TTASprob],[TSATprob, TSASprob]))\n",
    "print(confusion)\n",
    "\n",
    "e1 = np.sqrt((TTATprob*(1-TTATprob))/len(TTAT))\n",
    "e2 = np.sqrt((TTASprob*(1-TTASprob))/len(TTAS))\n",
    "e3 = np.sqrt((TSATprob*(1-TSATprob))/len(TSAT))\n",
    "e4 = np.sqrt((TSASprob*(1-TSASprob))/len(TSAS))\n",
    "\n",
    "error = np.array(([e1, e2],[e3, e4]))\n",
    "print(error)\n"
   ]
  },
  {
   "cell_type": "code",
   "execution_count": 56,
   "metadata": {},
   "outputs": [
    {
     "data": {
      "image/png": "[encoded data removed]",
      "text/plain": [
       "<Figure size 400x130 with 1 Axes>"
      ]
     },
     "metadata": {},
     "output_type": "display_data"
    }
   ],
   "source": [
    "import seaborn as sns\n",
    "variable_names1 = ['as Track', 'as Shower']\n",
    "variable_names2 = ['True Track', 'True Shower']\n",
    "\n",
    "annot_arr = np.array([['0.984±0.002','0.02±0.02'],\n",
    "                      ['0.04±0.03','0.955±0.007']], dtype = str)\n",
    "\n",
    "plt.figure(figsize = (4,1.3))\n",
    "heatmap = sns.heatmap(confusion, annot=annot_arr, cmap='coolwarm', fmt=\"s\", linewidths=.5, square=False, cbar = False)\n",
    "heatmap.set_xticklabels(variable_names1, rotation=0)\n",
    "heatmap.set_yticklabels(variable_names2, rotation=0)\n",
    "#plt.title(\"Confusion Matrix\")±±±±±\n",
    "plt.tight_layout()\n",
    "plt.savefig('BDTpandoraConf.png', dpi = 500)\n",
    "plt.show()\n"
   ]
  },
  {
   "cell_type": "code",
   "execution_count": 58,
   "metadata": {},
   "outputs": [
    {
     "data": {
      "image/png": "[encoded data removed]",
      "text/plain": [
       "<Figure size 640x480 with 1 Axes>"
      ]
     },
     "metadata": {},
     "output_type": "display_data"
    },
    {
     "data": {
      "image/png": "[encoded data removed]",
      "text/plain": [
       "<Figure size 640x480 with 1 Axes>"
      ]
     },
     "metadata": {},
     "output_type": "display_data"
    }
   ],
   "source": [
    "#print(max(trkleng))\n",
    "#print(max(shwleng))\n",
    "bin_edges = np.arange(10, 310, 10)\n",
    "\n",
    "hist1, _ = np.histogram(trkleng, bins=bin_edges)\n",
    "hist2, _ = np.histogram(leng1, bins=bin_edges)\n",
    "\n",
    "#hist1_normalized = hist1 / len(trkleng)\n",
    "#hist2_normalized = hist2 / len(leng1)\n",
    "\n",
    "plt.bar(bin_edges[:-1], hist1, width=10, align='edge', alpha=0.75, label='All True Showers')\n",
    "plt.bar(bin_edges[:-1], hist2, width=10, align='edge', alpha=0.75, label='True Showers as Showers')\n",
    "#plt.title('')\n",
    "plt.xlabel('Number of Hits In Particle')\n",
    "plt.ylabel('Frequency')\n",
    "plt.legend(loc='upper center')\n",
    "plt.show()\n",
    "\n",
    "xvalues = np.arange(10, 300, 10)\n",
    "eff = hist2/hist1\n",
    "error = []\n",
    "\n",
    "for i, val in enumerate(eff):\n",
    "    err = np.sqrt((val*(1-val))/(hist1[i]+hist2[i]))\n",
    "    error.append(err)\n",
    "\n",
    "#print(xvalues)\n",
    "#print(eff)\n",
    "#print(error)\n",
    "\n",
    "plt.errorbar(xvalues, eff, yerr=error, fmt='o', elinewidth=2, ecolor='red', capsize=5, ms=10)\n",
    "#plt.scatter(xvalues, (hist2/hist1))\n",
    "plt.xlabel('Number of Hits in Particle')\n",
    "plt.ylabel('Efficiency')\n",
    "#plt.xticks(fontsize = 21)\n",
    "#plt.yticks(fontsize = 21)\n",
    "plt.ylim(0.5,1.02)\n",
    "plt.show()"
   ]
  },
  {
   "cell_type": "code",
   "execution_count": null,
   "metadata": {},
   "outputs": [],
   "source": []
  }
 ],
 "metadata": {
  "kernelspec": {
   "display_name": "Python 3 (ipykernel)",
   "language": "python",
   "name": "python3"
  },
  "language_info": {
   "codemirror_mode": {
    "name": "ipython",
    "version": 3
   },
   "file_extension": ".py",
   "mimetype": "text/x-python",
   "name": "python",
   "nbconvert_exporter": "python",
   "pygments_lexer": "ipython3",
   "version": "3.9.18"
  },
  "varInspector": {
   "cols": {
    "lenName": 16,
    "lenType": 16,
    "lenVar": 40
   },
   "kernels_config": {
    "python": {
     "delete_cmd_postfix": "",
     "delete_cmd_prefix": "del ",
     "library": "var_list.py",
     "varRefreshCmd": "print(var_dic_list())"
    },
    "r": {
     "delete_cmd_postfix": ") ",
     "delete_cmd_prefix": "rm(",
     "library": "var_list.r",
     "varRefreshCmd": "cat(var_dic_list()) "
    }
   },
   "types_to_exclude": [
    "module",
    "function",
    "builtin_function_or_method",
    "instance",
    "_Feature"
   ],
   "window_display": false
  }
 },
 "nbformat": 4,
 "nbformat_minor": 4
}
