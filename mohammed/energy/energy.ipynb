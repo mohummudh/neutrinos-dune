{
 "cells": [
  {
   "cell_type": "code",
   "execution_count": 2,
   "id": "b78d5597",
   "metadata": {},
   "outputs": [],
   "source": [
    "import math\n",
    "import numpy as np\n",
    "import matplotlib.pyplot as plt\n",
    "import pandas as pd\n",
    "import seaborn as sns\n",
    "\n",
    "from uproot_io import Events, View"
   ]
  },
  {
   "cell_type": "code",
   "execution_count": 3,
   "id": "f69a87cb",
   "metadata": {},
   "outputs": [],
   "source": [
    "# Interaction type lookup\n",
    "import csv\n",
    "interaction_dictionary = {}\n",
    "with open('interactions.csv') as f:\n",
    "    reader = csv.DictReader(f)\n",
    "    for row in reader:\n",
    "        key = int(row.pop('Idx'))\n",
    "        interaction = row.pop('Interaction')\n",
    "        interaction_dictionary[key] = interaction\n",
    "# print(interaction_dictionary)"
   ]
  },
  {
   "cell_type": "code",
   "execution_count": 106,
   "id": "80857d1a",
   "metadata": {},
   "outputs": [],
   "source": [
    "events = Events(\"/Users/mohammed/code/CheatedRecoFile_1.root\")"
   ]
  },
  {
   "cell_type": "code",
   "execution_count": 107,
   "id": "d949fc0e",
   "metadata": {},
   "outputs": [],
   "source": [
    "def energy(event_number):\n",
    "    \"\"\"needs to return energy in last X% over total energy\"\"\"\n",
    "    \n",
    "    particleType = np.array([])\n",
    "    E = np.array([])\n",
    "    \n",
    "    idx = np.where(events.event_number == event_number)[0]\n",
    "    \n",
    "    for i in idx:\n",
    "        \n",
    "        x = events.reco_hits_x_w[i]\n",
    "        z = events.reco_hits_w[i]\n",
    "        adc = events.reco_adcs_w[i]        \n",
    "        \n",
    "        # Discarding particles with no hits\n",
    "        if x.size == 0:\n",
    "            continue\n",
    "            \n",
    "        else:\n",
    "            percent = int(0.7 * len(adc))\n",
    "            X = adc[percent:]\n",
    "            Xsum = np.sum(X)\n",
    "            \n",
    "            total = np.sum(adc)\n",
    "            result = Xsum / total\n",
    "            \n",
    "            E = np.append(E, result)\n",
    "            \n",
    "            # Finding the particle type\n",
    "            pdg = events.mc_pdg[i]\n",
    "            particleType = np.append(particleType, pdg) \n",
    "            \n",
    "    return E, particleType\n",
    "        "
   ]
  },
  {
   "cell_type": "code",
   "execution_count": 108,
   "id": "6f639ca4",
   "metadata": {},
   "outputs": [
    {
     "data": {
      "text/plain": [
       "(array([0.22425398, 0.4308638 , 0.44734472, 0.66058534, 0.469403  ,\n",
       "        0.65622836, 0.54536957, 1.        , 0.24436209, 1.        ,\n",
       "        1.        , 0.49491915, 1.        , 0.34704295, 0.29617634,\n",
       "        0.2165872 , 1.        , 0.73309821, 1.        , 0.4014191 ,\n",
       "        0.36615676, 1.        , 0.28436974, 0.39836004, 0.26131824,\n",
       "        0.16249129]),\n",
       " array([2212.,    0.,    0.,    0.,    0.,    0.,    0.,    0.,    0.,\n",
       "           0.,    0.,    0.,    0., 2212., 2212., 2212.,    0.,    0.,\n",
       "           0., 2212., 2212., 2212.,   13.,   11.,   22.,   22.]))"
      ]
     },
     "execution_count": 108,
     "metadata": {},
     "output_type": "execute_result"
    }
   ],
   "source": [
    "energy(0)"
   ]
  },
  {
   "cell_type": "code",
   "execution_count": 128,
   "id": "1913967d",
   "metadata": {},
   "outputs": [],
   "source": [
    "random_numbers = np.random.randint(0, max(events.event_number), 9000)"
   ]
  },
  {
   "cell_type": "code",
   "execution_count": 129,
   "id": "d12cfe8e",
   "metadata": {},
   "outputs": [],
   "source": [
    "e = []\n",
    "p = []\n",
    "for i in random_numbers:\n",
    "    e, p = np.append(e, energy(i)[0]), np.append(p, energy(i)[1])"
   ]
  },
  {
   "cell_type": "code",
   "execution_count": 130,
   "id": "6f786926",
   "metadata": {},
   "outputs": [],
   "source": [
    "inf = np.where(np.isinf(e))\n",
    "\n",
    "# Create a boolean mask to keep or remove indices\n",
    "keep_indices = np.ones(len(e), dtype=bool)\n",
    "keep_indices[inf] = False\n",
    "\n",
    "# Use boolean indexing to get the modified array\n",
    "e = e[keep_indices]\n",
    "p = p[keep_indices]"
   ]
  },
  {
   "cell_type": "code",
   "execution_count": 131,
   "id": "79e57b4e",
   "metadata": {},
   "outputs": [
    {
     "data": {
      "text/plain": [
       "((461182,), (461182,))"
      ]
     },
     "execution_count": 131,
     "metadata": {},
     "output_type": "execute_result"
    }
   ],
   "source": [
    "e.shape, p.shape"
   ]
  },
  {
   "cell_type": "code",
   "execution_count": 132,
   "id": "485c8322",
   "metadata": {},
   "outputs": [],
   "source": [
    "df = pd.DataFrame({\"energy\": e, \"particle\": p})"
   ]
  },
  {
   "cell_type": "code",
   "execution_count": 133,
   "id": "a96e653e",
   "metadata": {},
   "outputs": [],
   "source": [
    "# Using 0 to indicate tracks, 1 to indicate showers.\n",
    "\n",
    "mapping = {\n",
    "    11: 1,\n",
    "    -11: 1,\n",
    "    22: 1\n",
    "}\n",
    "\n",
    "df[\"class\"] = df[\"particle\"].map(mapping).fillna(0)"
   ]
  },
  {
   "cell_type": "code",
   "execution_count": 134,
   "id": "e9117f24",
   "metadata": {},
   "outputs": [],
   "source": [
    "tracksQuery = df['class'] == 0.0\n",
    "showersQuery = df['class'] == 1.0\n",
    "\n",
    "ftracks = df[tracksQuery]\n",
    "fshowers = df[showersQuery]\n",
    "\n",
    "tracks = ftracks['energy'].values\n",
    "showers = fshowers['energy'].values"
   ]
  },
  {
   "cell_type": "code",
   "execution_count": 136,
   "id": "a9971fe7",
   "metadata": {},
   "outputs": [
    {
     "data": {
      "image/png": "[encoded data removed]",
      "text/plain": [
       "<Figure size 640x480 with 1 Axes>"
      ]
     },
     "metadata": {},
     "output_type": "display_data"
    }
   ],
   "source": [
    "n_bins = 40\n",
    "hist2, bin_edges = np.histogram(showers, bins=n_bins)\n",
    "hist1, _ = np.histogram(tracks, bins=bin_edges)\n",
    "\n",
    "bin_widths = np.diff(bin_edges)\n",
    "    \n",
    "hist1_normalized = hist1 / len(tracks)\n",
    "hist2_normalized = hist2 / len(showers)\n",
    "\n",
    "plt.bar(bin_edges[:-1], hist1_normalized, width=bin_widths, align='edge', alpha=0.75, label='Tracks')\n",
    "plt.bar(bin_edges[:-1], hist2_normalized, width=bin_widths, align='edge', alpha=0.75, label='Showers')\n",
    "plt.title(\"Using energy to distinguish tracks and showers\")\n",
    "plt.ylabel(\"Normalised frequency density\")\n",
    "plt.xlabel(\"Energy\")\n",
    "\n",
    "plt.legend()\n",
    "plt.show()"
   ]
  },
  {
   "cell_type": "code",
   "execution_count": null,
   "id": "07652eaf",
   "metadata": {},
   "outputs": [],
   "source": []
  }
 ],
 "metadata": {
  "kernelspec": {
   "display_name": "Python 3 (ipykernel)",
   "language": "python",
   "name": "python3"
  },
  "language_info": {
   "codemirror_mode": {
    "name": "ipython",
    "version": 3
   },
   "file_extension": ".py",
   "mimetype": "text/x-python",
   "name": "python",
   "nbconvert_exporter": "python",
   "pygments_lexer": "ipython3",
   "version": "3.9.18"
  }
 },
 "nbformat": 4,
 "nbformat_minor": 5
}
