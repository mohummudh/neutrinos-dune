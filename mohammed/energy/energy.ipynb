{
 "cells": [
  {
   "cell_type": "code",
   "execution_count": 6,
   "id": "b78d5597",
   "metadata": {},
   "outputs": [],
   "source": [
    "import math\n",
    "import numpy as np\n",
    "import matplotlib.pyplot as plt\n",
    "import pandas as pd\n",
    "import seaborn as sns\n",
    "\n",
    "from uproot_io import Events, View"
   ]
  },
  {
   "cell_type": "code",
   "execution_count": 7,
   "id": "f69a87cb",
   "metadata": {},
   "outputs": [],
   "source": [
    "# Interaction type lookup\n",
    "import csv\n",
    "interaction_dictionary = {}\n",
    "with open('interactions.csv') as f:\n",
    "    reader = csv.DictReader(f)\n",
    "    for row in reader:\n",
    "        key = int(row.pop('Idx'))\n",
    "        interaction = row.pop('Interaction')\n",
    "        interaction_dictionary[key] = interaction\n",
    "# print(interaction_dictionary)"
   ]
  },
  {
   "cell_type": "code",
   "execution_count": 8,
   "id": "80857d1a",
   "metadata": {},
   "outputs": [],
   "source": [
    "events = Events(\"/Users/mohammed/code/neutrinos-dune-files/CheatedRecoFile_1.root\")"
   ]
  },
  {
   "cell_type": "code",
   "execution_count": 20,
   "id": "18026879",
   "metadata": {},
   "outputs": [],
   "source": [
    "#TO FIT STRAIGHT LINES\n",
    "\n",
    "def fit_line(x, y):\n",
    "    A = np.vstack([x, np.ones_like(x)]).T\n",
    "    m, c = np.linalg.lstsq(A, y, rcond=None)[0]\n",
    "    return m, c\n",
    "\n",
    "def calculate_residuals(x, y, m, c):\n",
    "    #y_predicted = (m*x) + c\n",
    "    perpdist = abs(((-m*x) + y - c) / np.sqrt(m**2 + 1))\n",
    "    #residuals = np.abs(perpdist - y_predicted)\n",
    "    return perpdist\n",
    "\n",
    "def fitting(event_number, plot):\n",
    "    idx = np.where(events.event_number == event_number)[0]\n",
    "    resis = []\n",
    "    gradients = []\n",
    "    intercepts = []\n",
    "    \n",
    "    vx = events.true_neutrino_vtx_x[idx[0]]\n",
    "    vz = events.true_neutrino_vtx_w[idx[0]]\n",
    "    if plot == True:\n",
    "        plt.scatter(vx, vz, c='red', s=50)\n",
    "\n",
    "    xmax = -1000\n",
    "    xmin = 1000\n",
    "    zmax = -1000\n",
    "    zmin = 1000\n",
    "    for i in idx:\n",
    "        x0 = events.reco_hits_x_w[i]\n",
    "        z0 = events.reco_hits_w[i]\n",
    "        if plot == True:\n",
    "            plt.scatter(x0, z0, s=0.5)\n",
    "        if len(x0) > 0:\n",
    "            if max(x0) >= xmax:\n",
    "                xmax = max(x0)\n",
    "            if min(x0) <= xmin:\n",
    "                xmin = min(x0)\n",
    "        if len(z0) > 0:\n",
    "            if max(z0) >= zmax:\n",
    "                zmax = max(z0)\n",
    "            if min(z0) <= zmin:\n",
    "                zmin = min(z0)\n",
    "        \n",
    "    if vx < xmin:\n",
    "        xmin = vx    \n",
    "    if vx > xmax:\n",
    "        xmax = vx\n",
    "    if vz < zmin:\n",
    "        zmin = vz    \n",
    "    if vz > zmax:\n",
    "        zmax = vz\n",
    "\n",
    "    xlen = 0.1*(xmax - xmin)\n",
    "    zlen = 0.1*(zmax - zmin)\n",
    "    \n",
    "    if plot == True:\n",
    "        plt.xlim(xmin-xlen, xmax+xlen)\n",
    "        plt.ylim(zmin-zlen, zmax+zlen)\n",
    "        plt.show()\n",
    "        \n",
    "        plt.scatter(vx, vz, c='red', s=50)\n",
    "        plt.xlim(xmin-xlen, xmax+xlen)\n",
    "        plt.ylim(zmin-zlen, zmax+zlen)\n",
    "    \n",
    "    particleType = np.array([])\n",
    "    \n",
    "    for i in idx:\n",
    "        pdg = events.mc_pdg[i]\n",
    "        particleType = np.append(particleType, pdg)\n",
    "        x = events.reco_hits_x_w[i]\n",
    "        z = events.reco_hits_w[i]\n",
    "        if plot == True:\n",
    "            plt.scatter(x, z, s=0.5)\n",
    "                \n",
    "        best_inliers = []\n",
    "        best_model = None\n",
    "        sample_size = 10\n",
    "        max_iterations = 100\n",
    "        #inlier_threshold = 2.0\n",
    "        \n",
    "        for _ in range(max_iterations):\n",
    "            sample_size = min(sample_size, len(x))\n",
    "            sample_indices = np.random.choice(len(x), size=sample_size, replace=False)\n",
    "            x_sample = x[sample_indices]\n",
    "            z_sample = z[sample_indices]\n",
    "\n",
    "            m, c = fit_line(x_sample, z_sample)\n",
    "            residuals = calculate_residuals(x, z, m, c)\n",
    "            inliers = np.where(residuals < (0.15*xlen))[0]\n",
    "\n",
    "            if len(inliers) > len(best_inliers):\n",
    "                best_inliers = inliers\n",
    "                best_model = (m, c)\n",
    "\n",
    "        if len(best_inliers) > 0:\n",
    "            m, c = best_model\n",
    "            gradients.append(m)\n",
    "            intercepts.append(c)\n",
    "            \n",
    "            if plot == True:\n",
    "                x_inliers = x[best_inliers]\n",
    "                z_inliers = z[best_inliers]\n",
    "                plt.scatter(x_inliers, z_inliers, color='blue', marker='o')\n",
    "\n",
    "                plt.plot(x_inliers, m * x_inliers + c)\n",
    "                plt.xlabel('x')\n",
    "                plt.ylabel('w')\n",
    "                plt.show()\n",
    "        \n",
    "            perp_dist = [calculate_residuals(x[i], z[i], m, c) for i in range(len(x))]\n",
    "            num_points = int(0.5 * len(x))\n",
    "            mean = np.mean(perp_dist[:num_points])\n",
    "            resis.append(mean)\n",
    "        else:\n",
    "            gradients.append(0)\n",
    "            intercepts.append(0)\n",
    "            resis.append(0)\n",
    "            #print(\"No inliers found for a particle\")\n",
    "            continue\n",
    "    \n",
    "    return gradients, intercepts, resis, particleType"
   ]
  },
  {
   "cell_type": "code",
   "execution_count": 99,
   "id": "5f03710f",
   "metadata": {},
   "outputs": [],
   "source": [
    "def energy(event_number):\n",
    "    \"\"\"needs to return energy in last X% over total energy\"\"\"\n",
    "    \n",
    "    particleType = np.array([])\n",
    "    E = np.array([])\n",
    "    \n",
    "    idx = np.where(events.event_number == event_number)[0]\n",
    "    \n",
    "    m, c, _, _ = fitting(event_number, False)\n",
    "    \n",
    "    for i in idx:\n",
    "        \n",
    "        x = events.reco_hits_x_w[i]\n",
    "        z = events.reco_hits_w[i]\n",
    "        adc = events.reco_adcs_w[i]   \n",
    "        \n",
    "        vx = events.reco_particle_vtx_x[i]\n",
    "        vz = events.reco_particle_vtx_w[i]\n",
    "        \n",
    "        # CUTS\n",
    "        \n",
    "        # Discarding particles with little hits\n",
    "        if x.size <= 10:\n",
    "            continue\n",
    "            \n",
    "        if events.mc_pdg[i] == 0:\n",
    "            continue\n",
    "        \n",
    "        if events.purity[i] < 0.75:\n",
    "            continue\n",
    "            \n",
    "        if events.completeness[i] < 0.75:\n",
    "            continue\n",
    "            \n",
    "        else:\n",
    "            \n",
    "            # Changing coordinates to along and transverse\n",
    "            if m[i-idx[0]] == 0:\n",
    "                continue\n",
    "            else:\n",
    "                znew = z - c[i-idx[0]]\n",
    "                angle = -math.atan(m[i-idx[0]])\n",
    "\n",
    "                l = x * np.cos(angle) - znew * np.sin(angle)\n",
    "                t = x * np.sin(angle) + znew * np.cos(angle)\n",
    "                \n",
    "                vznew = vz - c[i-idx[0]]\n",
    "                \n",
    "                vl = vx * np.cos(angle) - vznew * np.sin(angle)\n",
    "                vt = vx * np.sin(angle) + vznew * np.cos(angle)\n",
    "                \n",
    "                if max(l) < vl:\n",
    "                    l *= -1\n",
    "                    \n",
    "                combined = list(zip(l, t, adc))\n",
    "                sort = sorted(combined, key = lambda coord: coord[0])\n",
    "                \n",
    "                lnew, tnew, adcnew = zip(*sort)\n",
    "                \n",
    "#                 plt.scatter(x,z)\n",
    "#                 plt.scatter(vx, vz)\n",
    "#                 plt.show()\n",
    "                \n",
    "#                 plt.scatter(l,t)\n",
    "#                 plt.scatter(vl,vt)\n",
    "#                 plt.show()\n",
    "            \n",
    "                # Get the last 10% of the energy data\n",
    "                percent = int(0.9 * len(adcnew))\n",
    "                X = adcnew[percent:]\n",
    "                Xsum = np.sum(X)\n",
    "\n",
    "                total = np.sum(adcnew)\n",
    "                result = Xsum / total\n",
    "\n",
    "                E = np.append(E, result)\n",
    "\n",
    "                # Finding the particle type\n",
    "                pdg = events.mc_pdg[i]\n",
    "                particleType = np.append(particleType, pdg)   \n",
    "            \n",
    "            \n",
    "    return E, particleType"
   ]
  },
  {
   "cell_type": "code",
   "execution_count": 100,
   "id": "6f639ca4",
   "metadata": {
    "scrolled": false
   },
   "outputs": [
    {
     "data": {
      "text/plain": [
       "(array([0.10981274, 0.0611876 , 0.08609612, 0.13233541, 0.14451368,\n",
       "        0.05415674, 0.05469032, 0.07131075, 0.11018592, 0.05664275,\n",
       "        0.07484812, 0.20548202, 0.15982407, 0.17922522, 0.12216068]),\n",
       " array([  13.,   22.,   22., -211.,   13.,   22.,   22.,   22.,   22.,\n",
       "          22.,  -11.,  211.,  -11.,  211.,  -11.]))"
      ]
     },
     "execution_count": 100,
     "metadata": {},
     "output_type": "execute_result"
    }
   ],
   "source": [
    "energy(2934)"
   ]
  },
  {
   "cell_type": "code",
   "execution_count": 64,
   "id": "1913967d",
   "metadata": {},
   "outputs": [],
   "source": [
    "random_numbers = np.random.randint(0, max(events.event_number), 500)"
   ]
  },
  {
   "cell_type": "code",
   "execution_count": null,
   "id": "d12cfe8e",
   "metadata": {},
   "outputs": [],
   "source": [
    "e = []\n",
    "p = []\n",
    "for i in random_numbers:\n",
    "    e, p = np.append(e, energy(i)[0]), np.append(p, energy(i)[1])"
   ]
  },
  {
   "cell_type": "code",
   "execution_count": 66,
   "id": "6f786926",
   "metadata": {},
   "outputs": [],
   "source": [
    "inf = np.where(np.isinf(e))\n",
    "\n",
    "# Create a boolean mask to keep or remove indices\n",
    "keep_indices = np.ones(len(e), dtype=bool)\n",
    "keep_indices[inf] = False\n",
    "\n",
    "# Use boolean indexing to get the modified array\n",
    "e = e[keep_indices]\n",
    "p = p[keep_indices]"
   ]
  },
  {
   "cell_type": "code",
   "execution_count": 67,
   "id": "79e57b4e",
   "metadata": {},
   "outputs": [
    {
     "data": {
      "text/plain": [
       "((2398,), (2398,))"
      ]
     },
     "execution_count": 67,
     "metadata": {},
     "output_type": "execute_result"
    }
   ],
   "source": [
    "e.shape, p.shape"
   ]
  },
  {
   "cell_type": "code",
   "execution_count": 73,
   "id": "485c8322",
   "metadata": {},
   "outputs": [],
   "source": [
    "df = pd.DataFrame({\"energy\": e, \"particle\": p})"
   ]
  },
  {
   "cell_type": "code",
   "execution_count": 75,
   "id": "a96e653e",
   "metadata": {},
   "outputs": [],
   "source": [
    "# Using 0 to indicate tracks, 1 to indicate showers.\n",
    "\n",
    "mapping = {\n",
    "    11: 1,\n",
    "    -11: 1,\n",
    "    22: 1\n",
    "}\n",
    "\n",
    "df[\"class\"] = df[\"particle\"].map(mapping).fillna(0)"
   ]
  },
  {
   "cell_type": "code",
   "execution_count": 82,
   "id": "e9117f24",
   "metadata": {},
   "outputs": [],
   "source": [
    "tracksQuery = df['class'] == 0.0\n",
    "showersQuery = df['class'] == 1.0\n",
    "\n",
    "ftracks = df[tracksQuery]\n",
    "fshowers = df[showersQuery]\n",
    "\n",
    "tracks = ftracks['energy'].values\n",
    "showers = fshowers['energy'].values"
   ]
  },
  {
   "cell_type": "code",
   "execution_count": 87,
   "id": "a886b912",
   "metadata": {},
   "outputs": [
    {
     "name": "stderr",
     "output_type": "stream",
     "text": [
      "/var/folders/0j/k5n00ph57w3c1tdfq0lwsgn00000gn/T/ipykernel_6807/3133899594.py:8: SettingWithCopyWarning: \n",
      "A value is trying to be set on a copy of a slice from a DataFrame.\n",
      "Try using .loc[row_indexer,col_indexer] = value instead\n",
      "\n",
      "See the caveats in the documentation: https://pandas.pydata.org/pandas-docs/stable/user_guide/indexing.html#returning-a-view-versus-a-copy\n",
      "  ftracks[\"class\"] = ftracks[\"particle\"].map(mapping2).fillna(0)\n"
     ]
    }
   ],
   "source": [
    "# getting protons (2212) and muons out (13)\n",
    "\n",
    "mapping2 = {\n",
    "    2212: 5,\n",
    "    13: 10\n",
    "}\n",
    "\n",
    "ftracks[\"class\"] = ftracks[\"particle\"].map(mapping2).fillna(0)"
   ]
  },
  {
   "cell_type": "code",
   "execution_count": 88,
   "id": "54191293",
   "metadata": {},
   "outputs": [],
   "source": [
    "muonsQuery = ftracks['class'] == 10.0\n",
    "protonsQuery = ftracks['class'] == 5.0\n",
    "\n",
    "fmuons = ftracks[muonsQuery]\n",
    "fprotons = ftracks[protonsQuery]\n",
    "\n",
    "muons = fmuons['energy'].values\n",
    "protons = fprotons['energy'].values"
   ]
  },
  {
   "cell_type": "code",
   "execution_count": 101,
   "id": "a9971fe7",
   "metadata": {},
   "outputs": [
    {
     "data": {
      "image/png": "[encoded data removed]",
      "text/plain": [
       "<Figure size 640x480 with 1 Axes>"
      ]
     },
     "metadata": {},
     "output_type": "display_data"
    },
    {
     "data": {
      "image/png": "[encoded data removed]",
      "text/plain": [
       "<Figure size 640x480 with 1 Axes>"
      ]
     },
     "metadata": {},
     "output_type": "display_data"
    }
   ],
   "source": [
    "n_bins = 40\n",
    "hist2, bin_edges = np.histogram(showers, bins=n_bins)\n",
    "hist1, _ = np.histogram(tracks, bins=bin_edges)\n",
    "hist3, _ = np.histogram(muons, bins=bin_edges)\n",
    "hist4, _ = np.histogram(protons, bins=bin_edges)\n",
    "\n",
    "bin_widths = np.diff(bin_edges)\n",
    "    \n",
    "hist1_normalized = hist1 / len(tracks)\n",
    "hist2_normalized = hist2 / len(showers)\n",
    "hist3_normalized = hist3 / len(muons)\n",
    "hist4_normalized = hist4 / len(protons)\n",
    "\n",
    "\n",
    "plt.bar(bin_edges[:-1], hist1_normalized, width=bin_widths, align='edge', alpha=0.75, label='Tracks')\n",
    "plt.bar(bin_edges[:-1], hist2_normalized, width=bin_widths, align='edge', alpha=0.75, label='Showers')\n",
    "\n",
    "plt.title(\"Using energy to distinguish tracks and showers\")\n",
    "plt.ylabel(\"Normalised frequency density\")\n",
    "plt.xlabel(\"Energy\")\n",
    "\n",
    "plt.legend()\n",
    "plt.show()\n",
    "\n",
    "plt.bar(bin_edges[:-1], hist3_normalized, width=bin_widths, align='edge', alpha=0.75, label='Muons')\n",
    "plt.bar(bin_edges[:-1], hist4_normalized, width=bin_widths, align='edge', alpha=0.75, label='Protons')\n",
    "\n",
    "plt.title(\"Using energy to distinguish muons and protons\")\n",
    "plt.ylabel(\"Normalised frequency density\")\n",
    "plt.xlabel(\"Energy\")\n",
    "\n",
    "plt.legend()\n",
    "plt.show()"
   ]
  },
  {
   "cell_type": "code",
   "execution_count": 3,
   "id": "947d33b8",
   "metadata": {},
   "outputs": [],
   "source": [
    "# NOT IN USE!"
   ]
  },
  {
   "cell_type": "code",
   "execution_count": null,
   "id": "8ff02b2b",
   "metadata": {},
   "outputs": [],
   "source": [
    "def x(event_number):\n",
    "    idx = np.where(events.event_number == event_number)[0]\n",
    "    \n",
    "    particleType = np.array([])\n",
    "    E = np.array([])\n",
    "    \n",
    "    for i in idx:\n",
    "        \n",
    "        x = events.reco_hits_x_w[i]\n",
    "        z = events.reco_hits_w[i]\n",
    "        adc = events.reco_adcs_w[i]  \n",
    "        coords = np.vstack((x, z, adc)).T\n",
    "        asc = coords[coords[:, 0].argsort()]\n",
    "        \n",
    "        sx = asc[:, 0]\n",
    "        sz = asc[:, 1]\n",
    "        sadc = asc[:, 2]\n",
    "        \n",
    "        # Discarding particles with no hits\n",
    "        if sx.size <= 30:\n",
    "            continue\n",
    "            \n",
    "        else:\n",
    "            \n",
    "            # Get the last 30% of the energy data\n",
    "            percent = int(0.7 * len(sadc))\n",
    "            X = sadc[percent:]\n",
    "            Xsum = np.sum(X)\n",
    "            \n",
    "            total = np.sum(sadc)\n",
    "            result = Xsum / total\n",
    "            \n",
    "            E = np.append(E, result)\n",
    "            \n",
    "            # Finding the particle type\n",
    "            pdg = events.mc_pdg[i]\n",
    "            particleType = np.append(particleType, pdg)   \n",
    "            \n",
    "            \n",
    "    return E, particleType"
   ]
  }
 ],
 "metadata": {
  "kernelspec": {
   "display_name": "Python 3 (ipykernel)",
   "language": "python",
   "name": "python3"
  },
  "language_info": {
   "codemirror_mode": {
    "name": "ipython",
    "version": 3
   },
   "file_extension": ".py",
   "mimetype": "text/x-python",
   "name": "python",
   "nbconvert_exporter": "python",
   "pygments_lexer": "ipython3",
   "version": "3.9.18"
  }
 },
 "nbformat": 4,
 "nbformat_minor": 5
}
