{
 "cells": [
  {
   "cell_type": "code",
   "execution_count": 2,
   "id": "dd753c1d",
   "metadata": {},
   "outputs": [],
   "source": [
    "from uproot_io import Events, View\n",
    "import numpy as np\n",
    "import matplotlib.pyplot as plt"
   ]
  },
  {
   "cell_type": "code",
   "execution_count": 3,
   "id": "5d5910ca",
   "metadata": {},
   "outputs": [],
   "source": [
    "events = Events(r\"C:\\Users\\andre\\Desktop\\Physics Project\\bigdata\\CheatedRecoFile_1.root\")"
   ]
  },
  {
   "cell_type": "code",
   "execution_count": 6,
   "id": "b2ffecdb",
   "metadata": {},
   "outputs": [],
   "source": [
    "random_numbersold = np.random.randint(0, max(events.event_number), max(events.event_number))\n",
    "seventy = int(0.7*len(random_numbersold))\n",
    "training = random_numbersold[:seventy]\n",
    "testing = random_numbersold[seventy:]\n",
    "np.save(\"training_events\", training)\n",
    "np.save(\"testing_events\", testing)"
   ]
  },
  {
   "cell_type": "code",
   "execution_count": 9,
   "id": "bfe23357",
   "metadata": {},
   "outputs": [],
   "source": [
    "def onepart(event_number):\n",
    "    parts = []\n",
    "    idx = np.where(events.event_number == event_number)[0]\n",
    "    for i in idx:\n",
    "        x = events.reco_hits_x_w[i]  \n",
    "        purity = events.purity[i]\n",
    "        complete = events.completeness[i]\n",
    "        pdg = events.mc_pdg[i]\n",
    "        if len(x) > 10 and pdg != 0 and purity > 0.75 and complete > 0.75:\n",
    "            parts.append(pdg)\n",
    "    return np.array(parts)\n",
    "\n",
    "def allpart():\n",
    "    index = []\n",
    "    for n in training:\n",
    "        part = onepart(n)\n",
    "        for i in range(len(part)):\n",
    "            if part[i] == 22. or part[i] == -11. or part[i] == 11.:\n",
    "                index.append(0)\n",
    "            else:\n",
    "                index.append(1)\n",
    "    return np.array(index)"
   ]
  },
  {
   "cell_type": "code",
   "execution_count": null,
   "id": "555cb46c",
   "metadata": {
    "scrolled": false
   },
   "outputs": [],
   "source": [
    "aaa = allpart()"
   ]
  },
  {
   "cell_type": "code",
   "execution_count": null,
   "id": "dc4ca588",
   "metadata": {},
   "outputs": [],
   "source": []
  }
 ],
 "metadata": {
  "kernelspec": {
   "display_name": "Python 3 (ipykernel)",
   "language": "python",
   "name": "python3"
  },
  "language_info": {
   "codemirror_mode": {
    "name": "ipython",
    "version": 3
   },
   "file_extension": ".py",
   "mimetype": "text/x-python",
   "name": "python",
   "nbconvert_exporter": "python",
   "pygments_lexer": "ipython3",
   "version": "3.9.18"
  }
 },
 "nbformat": 4,
 "nbformat_minor": 5
}
