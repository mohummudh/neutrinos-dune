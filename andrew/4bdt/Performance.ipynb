{
 "cells": [
  {
   "cell_type": "code",
   "execution_count": 2,
   "id": "a9f7ed2e",
   "metadata": {},
   "outputs": [],
   "source": [
    "from uproot_io import Events, View\n",
    "import numpy as np\n",
    "import matplotlib\n",
    "import matplotlib.pyplot as plt\n",
    "import math\n",
    "#titlesize = 20\n",
    "#labelsize = 14\n",
    "from sklearn.tree import DecisionTreeClassifier\n",
    "from sklearn.ensemble import AdaBoostClassifier\n",
    "from sklearn.datasets import make_classification"
   ]
  },
  {
   "cell_type": "code",
   "execution_count": 3,
   "id": "d644046b",
   "metadata": {},
   "outputs": [],
   "source": [
    "#events = Events(r\"C:\\Users\\andre\\Desktop\\Physics Project\\bigdata\\CheatedRecoFile_1.root\")"
   ]
  },
  {
   "cell_type": "code",
   "execution_count": 4,
   "id": "d618ec4c",
   "metadata": {},
   "outputs": [],
   "source": [
    "x_train = np.load(\"x_train.npy\")\n",
    "y_train = np.load(\"y_train.npy\")\n",
    "x_test = np.load(\"x_test.npy\")\n",
    "y_test = np.load(\"y_test.npy\")"
   ]
  },
  {
   "cell_type": "code",
   "execution_count": 8,
   "id": "3397cebf",
   "metadata": {},
   "outputs": [
    {
     "data": {
      "text/html": [
       "<style>#sk-container-id-2 {color: black;}#sk-container-id-2 pre{padding: 0;}#sk-container-id-2 div.sk-toggleable {background-color: white;}#sk-container-id-2 label.sk-toggleable__label {cursor: pointer;display: block;width: 100%;margin-bottom: 0;padding: 0.3em;box-sizing: border-box;text-align: center;}#sk-container-id-2 label.sk-toggleable__label-arrow:before {content: \"▸\";float: left;margin-right: 0.25em;color: #696969;}#sk-container-id-2 label.sk-toggleable__label-arrow:hover:before {color: black;}#sk-container-id-2 div.sk-estimator:hover label.sk-toggleable__label-arrow:before {color: black;}#sk-container-id-2 div.sk-toggleable__content {max-height: 0;max-width: 0;overflow: hidden;text-align: left;background-color: #f0f8ff;}#sk-container-id-2 div.sk-toggleable__content pre {margin: 0.2em;color: black;border-radius: 0.25em;background-color: #f0f8ff;}#sk-container-id-2 input.sk-toggleable__control:checked~div.sk-toggleable__content {max-height: 200px;max-width: 100%;overflow: auto;}#sk-container-id-2 input.sk-toggleable__control:checked~label.sk-toggleable__label-arrow:before {content: \"▾\";}#sk-container-id-2 div.sk-estimator input.sk-toggleable__control:checked~label.sk-toggleable__label {background-color: #d4ebff;}#sk-container-id-2 div.sk-label input.sk-toggleable__control:checked~label.sk-toggleable__label {background-color: #d4ebff;}#sk-container-id-2 input.sk-hidden--visually {border: 0;clip: rect(1px 1px 1px 1px);clip: rect(1px, 1px, 1px, 1px);height: 1px;margin: -1px;overflow: hidden;padding: 0;position: absolute;width: 1px;}#sk-container-id-2 div.sk-estimator {font-family: monospace;background-color: #f0f8ff;border: 1px dotted black;border-radius: 0.25em;box-sizing: border-box;margin-bottom: 0.5em;}#sk-container-id-2 div.sk-estimator:hover {background-color: #d4ebff;}#sk-container-id-2 div.sk-parallel-item::after {content: \"\";width: 100%;border-bottom: 1px solid gray;flex-grow: 1;}#sk-container-id-2 div.sk-label:hover label.sk-toggleable__label {background-color: #d4ebff;}#sk-container-id-2 div.sk-serial::before {content: \"\";position: absolute;border-left: 1px solid gray;box-sizing: border-box;top: 0;bottom: 0;left: 50%;z-index: 0;}#sk-container-id-2 div.sk-serial {display: flex;flex-direction: column;align-items: center;background-color: white;padding-right: 0.2em;padding-left: 0.2em;position: relative;}#sk-container-id-2 div.sk-item {position: relative;z-index: 1;}#sk-container-id-2 div.sk-parallel {display: flex;align-items: stretch;justify-content: center;background-color: white;position: relative;}#sk-container-id-2 div.sk-item::before, #sk-container-id-2 div.sk-parallel-item::before {content: \"\";position: absolute;border-left: 1px solid gray;box-sizing: border-box;top: 0;bottom: 0;left: 50%;z-index: -1;}#sk-container-id-2 div.sk-parallel-item {display: flex;flex-direction: column;z-index: 1;position: relative;background-color: white;}#sk-container-id-2 div.sk-parallel-item:first-child::after {align-self: flex-end;width: 50%;}#sk-container-id-2 div.sk-parallel-item:last-child::after {align-self: flex-start;width: 50%;}#sk-container-id-2 div.sk-parallel-item:only-child::after {width: 0;}#sk-container-id-2 div.sk-dashed-wrapped {border: 1px dashed gray;margin: 0 0.4em 0.5em 0.4em;box-sizing: border-box;padding-bottom: 0.4em;background-color: white;}#sk-container-id-2 div.sk-label label {font-family: monospace;font-weight: bold;display: inline-block;line-height: 1.2em;}#sk-container-id-2 div.sk-label-container {text-align: center;}#sk-container-id-2 div.sk-container {/* jupyter's `normalize.less` sets `[hidden] { display: none; }` but bootstrap.min.css set `[hidden] { display: none !important; }` so we also need the `!important` here to be able to override the default hidden behavior on the sphinx rendered scikit-learn.org. See: https://github.com/scikit-learn/scikit-learn/issues/21755 */display: inline-block !important;position: relative;}#sk-container-id-2 div.sk-text-repr-fallback {display: none;}</style><div id=\"sk-container-id-2\" class=\"sk-top-container\"><div class=\"sk-text-repr-fallback\"><pre>AdaBoostClassifier(estimator=DecisionTreeClassifier(max_depth=14),\n",
       "                   n_estimators=100, random_state=0)</pre><b>In a Jupyter environment, please rerun this cell to show the HTML representation or trust the notebook. <br />On GitHub, the HTML representation is unable to render, please try loading this page with nbviewer.org.</b></div><div class=\"sk-container\" hidden><div class=\"sk-item sk-dashed-wrapped\"><div class=\"sk-label-container\"><div class=\"sk-label sk-toggleable\"><input class=\"sk-toggleable__control sk-hidden--visually\" id=\"sk-estimator-id-4\" type=\"checkbox\" ><label for=\"sk-estimator-id-4\" class=\"sk-toggleable__label sk-toggleable__label-arrow\">AdaBoostClassifier</label><div class=\"sk-toggleable__content\"><pre>AdaBoostClassifier(estimator=DecisionTreeClassifier(max_depth=14),\n",
       "                   n_estimators=100, random_state=0)</pre></div></div></div><div class=\"sk-parallel\"><div class=\"sk-parallel-item\"><div class=\"sk-item\"><div class=\"sk-label-container\"><div class=\"sk-label sk-toggleable\"><input class=\"sk-toggleable__control sk-hidden--visually\" id=\"sk-estimator-id-5\" type=\"checkbox\" ><label for=\"sk-estimator-id-5\" class=\"sk-toggleable__label sk-toggleable__label-arrow\">estimator: DecisionTreeClassifier</label><div class=\"sk-toggleable__content\"><pre>DecisionTreeClassifier(max_depth=14)</pre></div></div></div><div class=\"sk-serial\"><div class=\"sk-item\"><div class=\"sk-estimator sk-toggleable\"><input class=\"sk-toggleable__control sk-hidden--visually\" id=\"sk-estimator-id-6\" type=\"checkbox\" ><label for=\"sk-estimator-id-6\" class=\"sk-toggleable__label sk-toggleable__label-arrow\">DecisionTreeClassifier</label><div class=\"sk-toggleable__content\"><pre>DecisionTreeClassifier(max_depth=14)</pre></div></div></div></div></div></div></div></div></div></div>"
      ],
      "text/plain": [
       "AdaBoostClassifier(estimator=DecisionTreeClassifier(max_depth=14),\n",
       "                   n_estimators=100, random_state=0)"
      ]
     },
     "execution_count": 8,
     "metadata": {},
     "output_type": "execute_result"
    }
   ],
   "source": [
    "# Create the BDT with a base decision tree classifier (this is the default base classifier, included for illustration)\n",
    "base = DecisionTreeClassifier(max_depth=14)\n",
    "bdt = AdaBoostClassifier(estimator=base, n_estimators=100, random_state=0)\n",
    "# Fit the BDT to the training set\n",
    "bdt.fit(x_train, y_train)"
   ]
  },
  {
   "cell_type": "code",
   "execution_count": 9,
   "id": "6744634d",
   "metadata": {},
   "outputs": [
    {
     "data": {
      "text/plain": [
       "1.0"
      ]
     },
     "execution_count": 9,
     "metadata": {},
     "output_type": "execute_result"
    }
   ],
   "source": [
    "# Check the training set classification performance\n",
    "bdt.score(x_train, y_train)"
   ]
  },
  {
   "cell_type": "code",
   "execution_count": 33,
   "id": "d4c7a7c3",
   "metadata": {},
   "outputs": [
    {
     "data": {
      "text/plain": [
       "<matplotlib.legend.Legend at 0x21e8fa89580>"
      ]
     },
     "execution_count": 33,
     "metadata": {},
     "output_type": "execute_result"
    },
    {
     "data": {
      "image/png": "[encoded data removed]",
      "text/plain": [
       "<Figure size 640x480 with 1 Axes>"
      ]
     },
     "metadata": {},
     "output_type": "display_data"
    }
   ],
   "source": [
    "f0 = bdt.decision_function(x_train)\n",
    "min_f = np.round(np.min(f0), 1)\n",
    "max_f = np.round(np.max(f0), 1)\n",
    "#bins = np.linspace(min_f, max_f, 4 * int((max_f - min_f) / 0.1) + 1)\n",
    "bins = 20\n",
    "cls_0_f0 = f0[np.where(y_train == 0)]\n",
    "cls_1_f0 = f0[np.where(y_train == 1)]\n",
    "weights_0 = np.ones_like(cls_0_f0) / len(cls_0_f0)\n",
    "weights_1 = np.ones_like(cls_1_f0) / len(cls_1_f0)\n",
    "plt.hist(cls_0_f0, color='r', weights=weights_0, bins=bins, histtype='step', label='Class 0 (Showers)')\n",
    "plt.hist(cls_1_f0, color='b', weights=weights_1, bins=bins, histtype='step', label='Class 1 (Tracks)')\n",
    "plt.legend()"
   ]
  },
  {
   "cell_type": "code",
   "execution_count": 34,
   "id": "3d9337c2",
   "metadata": {},
   "outputs": [
    {
     "data": {
      "text/plain": [
       "0.9763437640365324"
      ]
     },
     "execution_count": 34,
     "metadata": {},
     "output_type": "execute_result"
    }
   ],
   "source": [
    "# Check the test set classification performance\n",
    "bdt.score(x_test, y_test)"
   ]
  },
  {
   "cell_type": "code",
   "execution_count": 35,
   "id": "4cd37b7e",
   "metadata": {},
   "outputs": [
    {
     "data": {
      "text/plain": [
       "<matplotlib.legend.Legend at 0x21e8faca430>"
      ]
     },
     "execution_count": 35,
     "metadata": {},
     "output_type": "execute_result"
    },
    {
     "data": {
      "image/png": "[encoded data removed]",
      "text/plain": [
       "<Figure size 640x480 with 1 Axes>"
      ]
     },
     "metadata": {},
     "output_type": "display_data"
    }
   ],
   "source": [
    "f = bdt.decision_function(x_test)\n",
    "min_f = np.round(np.min(f), 1)\n",
    "max_f = np.round(np.max(f), 1)\n",
    "#bins = np.linspace(min_f, max_f, 4 * int((max_f - min_f) / 0.1) + 1)\n",
    "bins = 20\n",
    "cls_0_f = f[np.where(y_test == 0)]\n",
    "cls_1_f = f[np.where(y_test == 1)]\n",
    "weights_0 = np.ones_like(cls_0_f) / len(cls_0_f)\n",
    "weights_1 = np.ones_like(cls_1_f) / len(cls_1_f)\n",
    "plt.hist(cls_0_f, color='r', weights=weights_0, bins=bins, histtype='step', label='Class 0 (Showers)')\n",
    "plt.hist(cls_1_f, color='b', weights=weights_1, bins=bins, histtype='step', label='Class 1 (Tracks)')\n",
    "plt.legend()"
   ]
  },
  {
   "cell_type": "code",
   "execution_count": 36,
   "id": "36e735db",
   "metadata": {},
   "outputs": [
    {
     "name": "stdout",
     "output_type": "stream",
     "text": [
      "-35.487770622752855\n",
      "35.826804812291215\n"
     ]
    },
    {
     "data": {
      "text/plain": [
       "(None, None)"
      ]
     },
     "execution_count": 36,
     "metadata": {},
     "output_type": "execute_result"
    }
   ],
   "source": [
    "print(min(cls_0_f)), print(max(cls_1_f))"
   ]
  },
  {
   "cell_type": "code",
   "execution_count": 37,
   "id": "bc17107c",
   "metadata": {},
   "outputs": [],
   "source": [
    "TIT = cls_1_f\n",
    "SIT = cls_0_f"
   ]
  },
  {
   "cell_type": "code",
   "execution_count": 41,
   "id": "ba85fac6",
   "metadata": {},
   "outputs": [
    {
     "data": {
      "image/png": "[encoded data removed]",
      "text/plain": [
       "<Figure size 640x480 with 1 Axes>"
      ]
     },
     "metadata": {},
     "output_type": "display_data"
    },
    {
     "name": "stdout",
     "output_type": "stream",
     "text": [
      "Best cut: 4.0\n",
      "At distance: 0.025785978915462762\n",
      "With AUC: 0.9968199563542174\n"
     ]
    }
   ],
   "source": [
    "cuts = np.arange(-35, 35, 0.5)\n",
    "efficiency = []\n",
    "purity = []\n",
    "\n",
    "purity.append(0)\n",
    "efficiency.append(1)\n",
    "\n",
    "for i in cuts:\n",
    "    goodtrk = []\n",
    "    badtrk = []\n",
    "    goodshw = []\n",
    "    badshw = []\n",
    "    for n in TIT:\n",
    "        if n >= i:\n",
    "            goodtrk.append(n)\n",
    "        else:\n",
    "            badtrk.append(n)\n",
    "    for k in SIT:\n",
    "        if k >= i:\n",
    "            badshw.append(k)\n",
    "        else:\n",
    "            goodshw.append(k)\n",
    "\n",
    "    eff = len(goodtrk)/(len(TIT))\n",
    "    pur = len(goodtrk)/(len(goodtrk)+len(badshw))\n",
    "\n",
    "    efficiency.append(eff)\n",
    "    purity.append(pur)\n",
    "\n",
    "purity.append(1)\n",
    "efficiency.append(0)\n",
    "\n",
    "plt.scatter(purity, efficiency)\n",
    "plt.plot(purity, efficiency)\n",
    "plt.scatter(1, 1, s=75, c='r')\n",
    "plt.xlim(0.6,1.025)\n",
    "#plt.ylim(0.6,1.025)\n",
    "plt.xlabel('Purity', fontsize=25)\n",
    "plt.ylabel('Efficiency', fontsize=25)\n",
    "#plt.title('ROC Curve for Track Likelihood')\n",
    "plt.xticks(np.arange(0.6, 1.1, step=0.1), fontsize = 21)\n",
    "plt.yticks(np.arange(0.6, 1.1, step=0.1), fontsize = 21)\n",
    "plt.xlim(0.575,1.025)\n",
    "plt.ylim(0.575,1.025)\n",
    "plt.show()\n",
    "\n",
    "area = np.trapz(efficiency, x=purity)\n",
    "\n",
    "point = np.array([1, 1])\n",
    "data_points = np.column_stack((purity, efficiency))\n",
    "distances = np.linalg.norm(data_points - point, axis=1)\n",
    "closest_index = np.argmin(distances)\n",
    "closest_point = data_points[closest_index]\n",
    "dist = distances[closest_index]\n",
    "cutpoint = cuts[closest_index]\n",
    "\n",
    "print('Best cut:', cutpoint)\n",
    "print('At distance:', dist)\n",
    "print('With AUC:', area)\n",
    "\n",
    "#efficiency (true tracks as tracks/total true tracks)\n",
    "#purity (true tracks as tracks/number we have called tracks)"
   ]
  },
  {
   "cell_type": "code",
   "execution_count": 47,
   "id": "49239cb4",
   "metadata": {},
   "outputs": [],
   "source": [
    "testing = np.load(\"testing_events.npy\")"
   ]
  },
  {
   "cell_type": "code",
   "execution_count": null,
   "id": "140abb49",
   "metadata": {},
   "outputs": [],
   "source": [
    "trkleng = []\n",
    "shwleng = []\n",
    "trkpart = []\n",
    "shwpart = []\n",
    "\n",
    "for n in testing:\n",
    "    idx = np.where(events.event_number == n)[0]\n",
    "    if len(x) > 10 and pdg != 0 and purity > 0.75 and complete > 0.75:\n",
    "        party.append(pdg)\n",
    "\n",
    "    for q in range(len(party)):\n",
    "        if party[q] == 22. or party[q] == -11. or party[q] == 11.:\n",
    "            label.append(0) # showers\n",
    "        else:\n",
    "            label.append(1) # tracks"
   ]
  },
  {
   "cell_type": "code",
   "execution_count": 43,
   "id": "0afd57fc",
   "metadata": {},
   "outputs": [
    {
     "name": "stdout",
     "output_type": "stream",
     "text": [
      "[[0.9797681  0.0202319 ]\n",
      " [0.02833265 0.97166735]]\n",
      "[[0.00154717 0.01076668]\n",
      " [0.01407327 0.00240314]]\n"
     ]
    }
   ],
   "source": [
    "TTAT = []\n",
    "TTAS = []\n",
    "TSAT = []\n",
    "TSAS = []\n",
    "\n",
    "leng1 = []\n",
    "leng2 = []\n",
    "leng3 = []\n",
    "leng4 = []\n",
    "\n",
    "part1 = []\n",
    "part2 = []\n",
    "part3 = []\n",
    "part4 = []\n",
    "\n",
    "for i, n in enumerate(TIT):\n",
    "    if n >= cutpoint:\n",
    "        TTAT.append(n)\n",
    "        #leng1.append(trkleng[i])\n",
    "        #part1.append(trkpart[i])\n",
    "    if n < cutpoint:\n",
    "        TTAS.append(n)\n",
    "        #leng2.append(trkleng[i])\n",
    "        #part2.append(trkpart[i])\n",
    "        \n",
    "for i, k in enumerate(SIT):\n",
    "    if k >= cutpoint:\n",
    "        TSAT.append(k)\n",
    "        #leng3.append(shwleng[i])\n",
    "        #part3.append(shwpart[i])\n",
    "    if k < cutpoint:\n",
    "        TSAS.append(k)\n",
    "        #leng4.append(shwleng[i])\n",
    "        #part4.append(shwpart[i])\n",
    "\n",
    "TTATprob = len(TTAT)/(len(TTAT)+len(TTAS))\n",
    "TTASprob = len(TTAS)/(len(TTAT)+len(TTAS))\n",
    "TSATprob = len(TSAT)/(len(TSAT)+len(TSAS))\n",
    "TSASprob = len(TSAS)/(len(TSAT)+len(TSAS))\n",
    "\n",
    "confusion = np.array(([TTATprob, TTASprob],[TSATprob, TSASprob]))\n",
    "print(confusion)\n",
    "\n",
    "e1 = np.sqrt((TTATprob*(1-TTATprob))/len(TTAT))\n",
    "e2 = np.sqrt((TTASprob*(1-TTASprob))/len(TTAS))\n",
    "e3 = np.sqrt((TSATprob*(1-TSATprob))/len(TSAT))\n",
    "e4 = np.sqrt((TSASprob*(1-TSASprob))/len(TSAS))\n",
    "\n",
    "error = np.array(([e1, e2],[e3, e4]))\n",
    "print(error)"
   ]
  },
  {
   "cell_type": "code",
   "execution_count": 45,
   "id": "dc32232c",
   "metadata": {},
   "outputs": [
    {
     "data": {
      "image/png": "[encoded data removed]",
      "text/plain": [
       "<Figure size 350x100 with 2 Axes>"
      ]
     },
     "metadata": {},
     "output_type": "display_data"
    }
   ],
   "source": [
    "import seaborn as sns\n",
    "variable_names1 = ['as Track', 'as Shower']\n",
    "variable_names2 = ['True Track', 'True Shower']\n",
    "\n",
    "annot_arr = np.array([['0.980±0.002','0.02±0.01'],\n",
    "                      ['0.03±0.01','0.972±0.002']], dtype = str)\n",
    "\n",
    "plt.figure(figsize = (3.5,1))\n",
    "heatmap = sns.heatmap(confusion, annot=annot_arr, cmap='coolwarm', fmt=\"s\", linewidths=.5, square=False)\n",
    "heatmap.set_xticklabels(variable_names1, rotation=0)\n",
    "heatmap.set_yticklabels(variable_names2, rotation=0)\n",
    "#plt.title(\"Confusion Matrix\")±±±±±\n",
    "plt.show()"
   ]
  },
  {
   "cell_type": "code",
   "execution_count": 46,
   "id": "cb2f1d07",
   "metadata": {},
   "outputs": [
    {
     "ename": "NameError",
     "evalue": "name 'shwleng' is not defined",
     "output_type": "error",
     "traceback": [
      "\u001b[1;31m---------------------------------------------------------------------------\u001b[0m",
      "\u001b[1;31mNameError\u001b[0m                                 Traceback (most recent call last)",
      "Cell \u001b[1;32mIn[46], line 5\u001b[0m\n\u001b[0;32m      1\u001b[0m \u001b[38;5;66;03m#print(max(trkleng))\u001b[39;00m\n\u001b[0;32m      2\u001b[0m \u001b[38;5;66;03m#print(max(shwleng))\u001b[39;00m\n\u001b[0;32m      3\u001b[0m bin_edges \u001b[38;5;241m=\u001b[39m np\u001b[38;5;241m.\u001b[39marange(\u001b[38;5;241m10\u001b[39m, \u001b[38;5;241m310\u001b[39m, \u001b[38;5;241m10\u001b[39m)\n\u001b[1;32m----> 5\u001b[0m hist1, _ \u001b[38;5;241m=\u001b[39m np\u001b[38;5;241m.\u001b[39mhistogram(\u001b[43mshwleng\u001b[49m, bins\u001b[38;5;241m=\u001b[39mbin_edges)\n\u001b[0;32m      6\u001b[0m hist2, _ \u001b[38;5;241m=\u001b[39m np\u001b[38;5;241m.\u001b[39mhistogram(leng4, bins\u001b[38;5;241m=\u001b[39mbin_edges)\n\u001b[0;32m      8\u001b[0m \u001b[38;5;66;03m#hist1_normalized = hist1 / len(trkleng)\u001b[39;00m\n\u001b[0;32m      9\u001b[0m \u001b[38;5;66;03m#hist2_normalized = hist2 / len(leng1)\u001b[39;00m\n",
      "\u001b[1;31mNameError\u001b[0m: name 'shwleng' is not defined"
     ]
    }
   ],
   "source": [
    "#print(max(trkleng))\n",
    "#print(max(shwleng))\n",
    "bin_edges = np.arange(10, 310, 10)\n",
    "\n",
    "hist1, _ = np.histogram(shwleng, bins=bin_edges)\n",
    "hist2, _ = np.histogram(leng4, bins=bin_edges)\n",
    "\n",
    "#hist1_normalized = hist1 / len(trkleng)\n",
    "#hist2_normalized = hist2 / len(leng1)\n",
    "\n",
    "plt.bar(bin_edges[:-1], hist1, width=10, align='edge', alpha=0.75, label='All True Showers')\n",
    "plt.bar(bin_edges[:-1], hist2, width=10, align='edge', alpha=0.75, label='True Showers as Showers')\n",
    "#plt.title('')\n",
    "plt.xlabel('n Hits In Particle')\n",
    "plt.legend(loc='upper center')\n",
    "plt.show()\n",
    "\n",
    "xvalues = np.arange(10, 300, 10)\n",
    "eff = hist2/hist1\n",
    "error = []\n",
    "\n",
    "for i, val in enumerate(eff):\n",
    "    err = np.sqrt((val*(1-val))/(hist1[i]+hist2[i]))\n",
    "    error.append(err)\n",
    "\n",
    "#print(xvalues)\n",
    "#print(eff)\n",
    "#print(error)\n",
    "\n",
    "plt.errorbar(xvalues, eff, yerr=error, fmt='o', elinewidth=2, ecolor='red', capsize=5, ms=10)\n",
    "#plt.scatter(xvalues, (hist2/hist1))\n",
    "#plt.xlabel('n Hits in Particle', fontsize=25)\n",
    "#plt.ylabel('Efficiency', fontsize=25)\n",
    "plt.xticks(fontsize = 21)\n",
    "plt.yticks(fontsize = 21)\n",
    "plt.ylim(0.7,1.02)\n",
    "plt.show()"
   ]
  },
  {
   "cell_type": "code",
   "execution_count": null,
   "id": "bc877939",
   "metadata": {},
   "outputs": [],
   "source": []
  },
  {
   "cell_type": "code",
   "execution_count": null,
   "id": "8dc79e5e",
   "metadata": {},
   "outputs": [],
   "source": []
  },
  {
   "cell_type": "code",
   "execution_count": null,
   "id": "b1f1bf08",
   "metadata": {},
   "outputs": [],
   "source": []
  },
  {
   "cell_type": "code",
   "execution_count": null,
   "id": "3e3cf355",
   "metadata": {},
   "outputs": [],
   "source": []
  },
  {
   "cell_type": "code",
   "execution_count": null,
   "id": "4d55d299",
   "metadata": {
    "scrolled": false
   },
   "outputs": [],
   "source": []
  },
  {
   "cell_type": "code",
   "execution_count": null,
   "id": "22a59a66",
   "metadata": {},
   "outputs": [],
   "source": []
  }
 ],
 "metadata": {
  "kernelspec": {
   "display_name": "Python 3 (ipykernel)",
   "language": "python",
   "name": "python3"
  },
  "language_info": {
   "codemirror_mode": {
    "name": "ipython",
    "version": 3
   },
   "file_extension": ".py",
   "mimetype": "text/x-python",
   "name": "python",
   "nbconvert_exporter": "python",
   "pygments_lexer": "ipython3",
   "version": "3.9.18"
  }
 },
 "nbformat": 4,
 "nbformat_minor": 5
}
