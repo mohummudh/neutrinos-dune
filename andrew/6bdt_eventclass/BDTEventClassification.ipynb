{
 "cells": [
  {
   "cell_type": "code",
   "execution_count": 1,
   "id": "42178926",
   "metadata": {},
   "outputs": [],
   "source": [
    "import numpy as np\n",
    "import math\n",
    "import matplotlib.pyplot as plt\n",
    "\n",
    "from uproot_io import Events, View\n",
    "from sklearn.tree import DecisionTreeClassifier\n",
    "from sklearn.ensemble import AdaBoostClassifier\n",
    "from sklearn.datasets import make_classification"
   ]
  },
  {
   "cell_type": "code",
   "execution_count": 2,
   "id": "ca0916e5",
   "metadata": {},
   "outputs": [],
   "source": [
    "events = Events(r\"C:\\Users\\andre\\Desktop\\Physics Project\\bigdata\\CheatedRecoFile_1.root\")"
   ]
  },
  {
   "cell_type": "code",
   "execution_count": 3,
   "id": "43a26220",
   "metadata": {},
   "outputs": [],
   "source": [
    "training = np.load(\"training_events.npy\")\n",
    "testing = np.load(\"testing_events.npy\")\n",
    "truth = np.load(\"truth_data.npy\")"
   ]
  },
  {
   "cell_type": "code",
   "execution_count": 4,
   "id": "651846d1",
   "metadata": {},
   "outputs": [],
   "source": [
    "#for each event, find biggest particle, then calculate features of biggest particle\n",
    "\n",
    "def biggest():\n",
    "    biggest = []\n",
    "    \n",
    "    for n in training:\n",
    "        nhits = 0\n",
    "        big = []\n",
    "        idx = np.where(events.event_number == n)[0]\n",
    "        \n",
    "        for i in idx:\n",
    "            x = events.reco_hits_x_w[i]\n",
    "            z = events.reco_hits_w[i]\n",
    "            \n",
    "            #could also try length\n",
    "            if len(x) > nhits:\n",
    "                nhits = len(x)\n",
    "                big.append(i)\n",
    "        \n",
    "        biggest.append(big[-1])\n",
    "    \n",
    "    return np.array(biggest)"
   ]
  },
  {
   "cell_type": "code",
   "execution_count": 6,
   "id": "8214e788",
   "metadata": {},
   "outputs": [],
   "source": [
    "biggest = biggest()"
   ]
  },
  {
   "cell_type": "code",
   "execution_count": 8,
   "id": "c506a2fc",
   "metadata": {},
   "outputs": [
    {
     "name": "stdout",
     "output_type": "stream",
     "text": [
      "6516\n",
      "6516\n"
     ]
    },
    {
     "data": {
      "text/plain": [
       "(None, None)"
      ]
     },
     "execution_count": 8,
     "metadata": {},
     "output_type": "execute_result"
    }
   ],
   "source": [
    "print(len(biggest)), print(len(training))"
   ]
  },
  {
   "cell_type": "code",
   "execution_count": null,
   "id": "3d687571",
   "metadata": {},
   "outputs": [],
   "source": []
  }
 ],
 "metadata": {
  "kernelspec": {
   "display_name": "Python 3 (ipykernel)",
   "language": "python",
   "name": "python3"
  },
  "language_info": {
   "codemirror_mode": {
    "name": "ipython",
    "version": 3
   },
   "file_extension": ".py",
   "mimetype": "text/x-python",
   "name": "python",
   "nbconvert_exporter": "python",
   "pygments_lexer": "ipython3",
   "version": "3.9.18"
  }
 },
 "nbformat": 4,
 "nbformat_minor": 5
}
