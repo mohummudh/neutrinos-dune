{
 "cells": [
  {
   "cell_type": "code",
   "execution_count": 1,
   "id": "a9f7ed2e",
   "metadata": {},
   "outputs": [],
   "source": [
    "from uproot_io import Events, View\n",
    "import numpy as np\n",
    "import matplotlib\n",
    "import matplotlib.pyplot as plt\n",
    "import math\n",
    "#titlesize = 20\n",
    "#labelsize = 14\n",
    "from sklearn.tree import DecisionTreeClassifier\n",
    "from sklearn.ensemble import AdaBoostClassifier\n",
    "from sklearn.datasets import make_classification"
   ]
  },
  {
   "cell_type": "code",
   "execution_count": 2,
   "id": "d644046b",
   "metadata": {},
   "outputs": [],
   "source": [
    "events = Events(r\"C:\\Users\\andre\\Desktop\\Physics Project\\bigdata\\CheatedRecoFile_1.root\")"
   ]
  },
  {
   "cell_type": "code",
   "execution_count": 3,
   "id": "d618ec4c",
   "metadata": {},
   "outputs": [],
   "source": [
    "training = np.load(\"training_events.npy\")\n",
    "testing = np.load(\"testing_events.npy\")\n",
    "truth = np.load(\"truth_data.npy\")\n",
    "x_train = np.load(\"x_train.npy\")\n",
    "y_train = np.load(\"y_train.npy\")\n",
    "x_test_all = np.load(\"x_test.npy\")\n",
    "y_test_all = np.load(\"y_test.npy\")"
   ]
  },
  {
   "cell_type": "code",
   "execution_count": 16,
   "id": "6f1f5889",
   "metadata": {},
   "outputs": [
    {
     "data": {
      "text/plain": [
       "(9309, 516045)"
      ]
     },
     "execution_count": 16,
     "metadata": {},
     "output_type": "execute_result"
    }
   ],
   "source": [
    "max(events.event_number)"
   ]
  },
  {
   "cell_type": "code",
   "execution_count": 4,
   "id": "f4f4c17b",
   "metadata": {},
   "outputs": [],
   "source": [
    "def biggest():\n",
    "    biggest = []\n",
    "    eventlabel = []\n",
    "    tslabel = []\n",
    "    biggest = []\n",
    "    party = []\n",
    "    idexz = []\n",
    "    \n",
    "    for n in testing:\n",
    "        nhits = 0\n",
    "        big = []\n",
    "        idx = np.where(events.event_number == n)[0]\n",
    "        \n",
    "        for i in idx:\n",
    "            x = events.reco_hits_x_w[i]\n",
    "            z = events.reco_hits_w[i]\n",
    "            pdg = events.mc_pdg[i]\n",
    "            purity = events.purity[i]\n",
    "            complete = events.completeness[i]\n",
    "            \n",
    "            if len(x) > 10 and pdg != 0 and purity > 0.75 and complete > 0.75:\n",
    "                idexz.append(i)\n",
    "                if len(x) > nhits:\n",
    "                    nhits = len(x)\n",
    "                    big.append(i)\n",
    "        \n",
    "        if len(big) != 0:\n",
    "            biggest.append(big[-1])\n",
    "\n",
    "            x = events.reco_hits_x_w[big[-1]]\n",
    "            z = events.reco_hits_w[big[-1]]\n",
    "            pdg = events.mc_pdg[big[-1]]\n",
    "            purity = events.purity[big[-1]]\n",
    "            complete = events.completeness[big[-1]]\n",
    "\n",
    "            if len(x) > 10 and pdg != 0 and purity > 0.75 and complete > 0.75:    \n",
    "                party.append(pdg)\n",
    "                if pdg == 22. or pdg == -11. or pdg == 11.:\n",
    "                    tslabel.append(0) #showers\n",
    "                else:\n",
    "                    tslabel.append(1) #tracks\n",
    "            \n",
    "            if len(x) > 10 and pdg != 0 and purity > 0.75 and complete > 0.75:\n",
    "                if truth[n] == 0:\n",
    "                    eventlabel.append(0) #muon\n",
    "                if truth[n] == 1:\n",
    "                    eventlabel.append(1) #electron\n",
    "                if truth[n] == 2:\n",
    "                    eventlabel.append(2) #nc\n",
    "    \n",
    "    return biggest, eventlabel, tslabel, party, idexz"
   ]
  },
  {
   "cell_type": "code",
   "execution_count": 5,
   "id": "422579c5",
   "metadata": {},
   "outputs": [],
   "source": [
    "big, eventlabel, tslabel, particle, idexz = biggest()"
   ]
  },
  {
   "cell_type": "code",
   "execution_count": 6,
   "id": "5cb17d44",
   "metadata": {},
   "outputs": [],
   "source": [
    "big = np.array(big)\n",
    "eventlabel = np.array(eventlabel)\n",
    "idexz = np.array(idexz)\n",
    "keep = np.where(eventlabel != 2)\n",
    "bigcut = big[keep]"
   ]
  },
  {
   "cell_type": "code",
   "execution_count": 7,
   "id": "c5f01463",
   "metadata": {},
   "outputs": [],
   "source": [
    "common_elements1 = np.intersect1d(idexz, big)\n",
    "allindices = np.flatnonzero(np.isin(idexz, common_elements1))\n",
    "common_elements2 = np.intersect1d(idexz, bigcut)\n",
    "cutindices = np.flatnonzero(np.isin(idexz, common_elements2))"
   ]
  },
  {
   "cell_type": "code",
   "execution_count": 8,
   "id": "a56be188",
   "metadata": {},
   "outputs": [],
   "source": [
    "x_test = x_test_all[allindices]\n",
    "y_test = y_test_all[allindices]"
   ]
  },
  {
   "cell_type": "code",
   "execution_count": 9,
   "id": "a178ab57",
   "metadata": {},
   "outputs": [
    {
     "data": {
      "text/plain": [
       "(2729, 5)"
      ]
     },
     "execution_count": 9,
     "metadata": {},
     "output_type": "execute_result"
    }
   ],
   "source": [
    "np.shape(x_test)"
   ]
  },
  {
   "cell_type": "code",
   "execution_count": 10,
   "id": "db9a2f1d",
   "metadata": {},
   "outputs": [
    {
     "data": {
      "text/html": [
       "<style>#sk-container-id-1 {color: black;}#sk-container-id-1 pre{padding: 0;}#sk-container-id-1 div.sk-toggleable {background-color: white;}#sk-container-id-1 label.sk-toggleable__label {cursor: pointer;display: block;width: 100%;margin-bottom: 0;padding: 0.3em;box-sizing: border-box;text-align: center;}#sk-container-id-1 label.sk-toggleable__label-arrow:before {content: \"▸\";float: left;margin-right: 0.25em;color: #696969;}#sk-container-id-1 label.sk-toggleable__label-arrow:hover:before {color: black;}#sk-container-id-1 div.sk-estimator:hover label.sk-toggleable__label-arrow:before {color: black;}#sk-container-id-1 div.sk-toggleable__content {max-height: 0;max-width: 0;overflow: hidden;text-align: left;background-color: #f0f8ff;}#sk-container-id-1 div.sk-toggleable__content pre {margin: 0.2em;color: black;border-radius: 0.25em;background-color: #f0f8ff;}#sk-container-id-1 input.sk-toggleable__control:checked~div.sk-toggleable__content {max-height: 200px;max-width: 100%;overflow: auto;}#sk-container-id-1 input.sk-toggleable__control:checked~label.sk-toggleable__label-arrow:before {content: \"▾\";}#sk-container-id-1 div.sk-estimator input.sk-toggleable__control:checked~label.sk-toggleable__label {background-color: #d4ebff;}#sk-container-id-1 div.sk-label input.sk-toggleable__control:checked~label.sk-toggleable__label {background-color: #d4ebff;}#sk-container-id-1 input.sk-hidden--visually {border: 0;clip: rect(1px 1px 1px 1px);clip: rect(1px, 1px, 1px, 1px);height: 1px;margin: -1px;overflow: hidden;padding: 0;position: absolute;width: 1px;}#sk-container-id-1 div.sk-estimator {font-family: monospace;background-color: #f0f8ff;border: 1px dotted black;border-radius: 0.25em;box-sizing: border-box;margin-bottom: 0.5em;}#sk-container-id-1 div.sk-estimator:hover {background-color: #d4ebff;}#sk-container-id-1 div.sk-parallel-item::after {content: \"\";width: 100%;border-bottom: 1px solid gray;flex-grow: 1;}#sk-container-id-1 div.sk-label:hover label.sk-toggleable__label {background-color: #d4ebff;}#sk-container-id-1 div.sk-serial::before {content: \"\";position: absolute;border-left: 1px solid gray;box-sizing: border-box;top: 0;bottom: 0;left: 50%;z-index: 0;}#sk-container-id-1 div.sk-serial {display: flex;flex-direction: column;align-items: center;background-color: white;padding-right: 0.2em;padding-left: 0.2em;position: relative;}#sk-container-id-1 div.sk-item {position: relative;z-index: 1;}#sk-container-id-1 div.sk-parallel {display: flex;align-items: stretch;justify-content: center;background-color: white;position: relative;}#sk-container-id-1 div.sk-item::before, #sk-container-id-1 div.sk-parallel-item::before {content: \"\";position: absolute;border-left: 1px solid gray;box-sizing: border-box;top: 0;bottom: 0;left: 50%;z-index: -1;}#sk-container-id-1 div.sk-parallel-item {display: flex;flex-direction: column;z-index: 1;position: relative;background-color: white;}#sk-container-id-1 div.sk-parallel-item:first-child::after {align-self: flex-end;width: 50%;}#sk-container-id-1 div.sk-parallel-item:last-child::after {align-self: flex-start;width: 50%;}#sk-container-id-1 div.sk-parallel-item:only-child::after {width: 0;}#sk-container-id-1 div.sk-dashed-wrapped {border: 1px dashed gray;margin: 0 0.4em 0.5em 0.4em;box-sizing: border-box;padding-bottom: 0.4em;background-color: white;}#sk-container-id-1 div.sk-label label {font-family: monospace;font-weight: bold;display: inline-block;line-height: 1.2em;}#sk-container-id-1 div.sk-label-container {text-align: center;}#sk-container-id-1 div.sk-container {/* jupyter's `normalize.less` sets `[hidden] { display: none; }` but bootstrap.min.css set `[hidden] { display: none !important; }` so we also need the `!important` here to be able to override the default hidden behavior on the sphinx rendered scikit-learn.org. See: https://github.com/scikit-learn/scikit-learn/issues/21755 */display: inline-block !important;position: relative;}#sk-container-id-1 div.sk-text-repr-fallback {display: none;}</style><div id=\"sk-container-id-1\" class=\"sk-top-container\"><div class=\"sk-text-repr-fallback\"><pre>AdaBoostClassifier(estimator=DecisionTreeClassifier(max_depth=14),\n",
       "                   n_estimators=100, random_state=0)</pre><b>In a Jupyter environment, please rerun this cell to show the HTML representation or trust the notebook. <br />On GitHub, the HTML representation is unable to render, please try loading this page with nbviewer.org.</b></div><div class=\"sk-container\" hidden><div class=\"sk-item sk-dashed-wrapped\"><div class=\"sk-label-container\"><div class=\"sk-label sk-toggleable\"><input class=\"sk-toggleable__control sk-hidden--visually\" id=\"sk-estimator-id-1\" type=\"checkbox\" ><label for=\"sk-estimator-id-1\" class=\"sk-toggleable__label sk-toggleable__label-arrow\">AdaBoostClassifier</label><div class=\"sk-toggleable__content\"><pre>AdaBoostClassifier(estimator=DecisionTreeClassifier(max_depth=14),\n",
       "                   n_estimators=100, random_state=0)</pre></div></div></div><div class=\"sk-parallel\"><div class=\"sk-parallel-item\"><div class=\"sk-item\"><div class=\"sk-label-container\"><div class=\"sk-label sk-toggleable\"><input class=\"sk-toggleable__control sk-hidden--visually\" id=\"sk-estimator-id-2\" type=\"checkbox\" ><label for=\"sk-estimator-id-2\" class=\"sk-toggleable__label sk-toggleable__label-arrow\">estimator: DecisionTreeClassifier</label><div class=\"sk-toggleable__content\"><pre>DecisionTreeClassifier(max_depth=14)</pre></div></div></div><div class=\"sk-serial\"><div class=\"sk-item\"><div class=\"sk-estimator sk-toggleable\"><input class=\"sk-toggleable__control sk-hidden--visually\" id=\"sk-estimator-id-3\" type=\"checkbox\" ><label for=\"sk-estimator-id-3\" class=\"sk-toggleable__label sk-toggleable__label-arrow\">DecisionTreeClassifier</label><div class=\"sk-toggleable__content\"><pre>DecisionTreeClassifier(max_depth=14)</pre></div></div></div></div></div></div></div></div></div></div>"
      ],
      "text/plain": [
       "AdaBoostClassifier(estimator=DecisionTreeClassifier(max_depth=14),\n",
       "                   n_estimators=100, random_state=0)"
      ]
     },
     "execution_count": 10,
     "metadata": {},
     "output_type": "execute_result"
    }
   ],
   "source": [
    "# Create the BDT with a base decision tree classifier (this is the default base classifier, included for illustration)\n",
    "base = DecisionTreeClassifier(max_depth=14)\n",
    "bdt = AdaBoostClassifier(estimator=base, n_estimators=100, random_state=0)\n",
    "# Fit the BDT to the training set\n",
    "bdt.fit(x_train, y_train)"
   ]
  },
  {
   "cell_type": "code",
   "execution_count": 11,
   "id": "6d0ecf17",
   "metadata": {},
   "outputs": [
    {
     "data": {
      "text/plain": [
       "1.0"
      ]
     },
     "execution_count": 11,
     "metadata": {},
     "output_type": "execute_result"
    }
   ],
   "source": [
    "# Check the training set classification performance\n",
    "bdt.score(x_train, y_train)"
   ]
  },
  {
   "cell_type": "code",
   "execution_count": 12,
   "id": "7f01650e",
   "metadata": {},
   "outputs": [
    {
     "data": {
      "text/plain": [
       "<matplotlib.legend.Legend at 0x12872333880>"
      ]
     },
     "execution_count": 12,
     "metadata": {},
     "output_type": "execute_result"
    },
    {
     "data": {
      "image/png": "[encoded data removed]",
      "text/plain": [
       "<Figure size 640x480 with 1 Axes>"
      ]
     },
     "metadata": {},
     "output_type": "display_data"
    }
   ],
   "source": [
    "f0 = bdt.decision_function(x_train)\n",
    "min_f = np.round(np.min(f0), 1)\n",
    "max_f = np.round(np.max(f0), 1)\n",
    "#bins = np.linspace(min_f, max_f, 4 * int((max_f - min_f) / 0.1) + 1)\n",
    "bins = 20\n",
    "cls_0_f0 = f0[np.where(y_train == 0)]\n",
    "cls_1_f0 = f0[np.where(y_train == 1)]\n",
    "weights_0 = np.ones_like(cls_0_f0) / len(cls_0_f0)\n",
    "weights_1 = np.ones_like(cls_1_f0) / len(cls_1_f0)\n",
    "plt.hist(cls_0_f0, color='r', weights=weights_0, bins=bins, histtype='step', label='Class 0 (Showers)')\n",
    "plt.hist(cls_1_f0, color='b', weights=weights_1, bins=bins, histtype='step', label='Class 1 (Tracks)')\n",
    "plt.legend()"
   ]
  },
  {
   "cell_type": "code",
   "execution_count": 13,
   "id": "e61e61b8",
   "metadata": {},
   "outputs": [
    {
     "data": {
      "text/plain": [
       "0.9930377427629168"
      ]
     },
     "execution_count": 13,
     "metadata": {},
     "output_type": "execute_result"
    }
   ],
   "source": [
    "# Check the test set classification performance\n",
    "bdt.score(x_test, y_test)"
   ]
  },
  {
   "cell_type": "code",
   "execution_count": 14,
   "id": "b914b256",
   "metadata": {},
   "outputs": [
    {
     "data": {
      "text/plain": [
       "<matplotlib.legend.Legend at 0x128722f8760>"
      ]
     },
     "execution_count": 14,
     "metadata": {},
     "output_type": "execute_result"
    },
    {
     "data": {
      "image/png": "[encoded data removed]",
      "text/plain": [
       "<Figure size 640x480 with 1 Axes>"
      ]
     },
     "metadata": {},
     "output_type": "display_data"
    }
   ],
   "source": [
    "f = bdt.decision_function(x_test)\n",
    "min_f = np.round(np.min(f), 1)\n",
    "max_f = np.round(np.max(f), 1)\n",
    "#bins = np.linspace(min_f, max_f, 4 * int((max_f - min_f) / 0.1) + 1)\n",
    "bins = 20\n",
    "cls_0_f = f[np.where(y_test == 0)]\n",
    "cls_1_f = f[np.where(y_test == 1)]\n",
    "weights_0 = np.ones_like(cls_0_f) / len(cls_0_f)\n",
    "weights_1 = np.ones_like(cls_1_f) / len(cls_1_f)\n",
    "plt.hist(cls_0_f, color='r', weights=weights_0, bins=bins, histtype='step', label='Class 0 (Showers)')\n",
    "plt.hist(cls_1_f, color='b', weights=weights_1, bins=bins, histtype='step', label='Class 1 (Tracks)')\n",
    "plt.legend()"
   ]
  },
  {
   "cell_type": "code",
   "execution_count": 15,
   "id": "f5f1e28c",
   "metadata": {},
   "outputs": [
    {
     "name": "stdout",
     "output_type": "stream",
     "text": [
      "-35.487770622752855\n",
      "35.43387184223213\n"
     ]
    },
    {
     "data": {
      "text/plain": [
       "(None, None)"
      ]
     },
     "execution_count": 15,
     "metadata": {},
     "output_type": "execute_result"
    }
   ],
   "source": [
    "print(min(cls_0_f)), print(max(cls_1_f))"
   ]
  },
  {
   "cell_type": "code",
   "execution_count": 16,
   "id": "df035846",
   "metadata": {},
   "outputs": [
    {
     "data": {
      "text/plain": [
       "(1033, 1110, 586)"
      ]
     },
     "execution_count": 16,
     "metadata": {},
     "output_type": "execute_result"
    }
   ],
   "source": [
    "#indexx = np.where(eventlabel != 2)\n",
    "#cutevents = eventlabel[indexx]\n",
    "\n",
    "muons = f[np.where(eventlabel == 0)]\n",
    "electrons = f[np.where(eventlabel == 1)]\n",
    "nc = f[np.where(eventlabel == 2)]\n",
    "len(muons), len(electrons), len(nc)"
   ]
  },
  {
   "cell_type": "code",
   "execution_count": 17,
   "id": "ee42d2dd",
   "metadata": {},
   "outputs": [],
   "source": [
    "goodmu = []\n",
    "badmu = []\n",
    "goode = []\n",
    "bade = []\n",
    "\n",
    "for n in muons:\n",
    "    if n >= -8.5:\n",
    "        goodmu.append(n)\n",
    "    else:\n",
    "        badmu.append(n)\n",
    "for k in electrons:\n",
    "    if k >= -8.5:\n",
    "        bade.append(k)\n",
    "    else:\n",
    "        goode.append(k)"
   ]
  },
  {
   "cell_type": "code",
   "execution_count": 18,
   "id": "4f7016ff",
   "metadata": {},
   "outputs": [
    {
     "name": "stdout",
     "output_type": "stream",
     "text": [
      "[[0.91190707 0.08809293]\n",
      " [0.07027027 0.92972973]]\n",
      "[[0.00923465 0.02971154]\n",
      " [0.02894122 0.00795654]]\n"
     ]
    }
   ],
   "source": [
    "TMAM = len(goodmu)/(len(goodmu)+len(badmu))\n",
    "TMAE = len(badmu)/(len(goodmu)+len(badmu))\n",
    "TEAM = len(bade)/(len(goode)+len(bade))\n",
    "TEAE = len(goode)/(len(goode)+len(bade))\n",
    "\n",
    "confusion = np.array(([TMAM, TMAE],[TEAM, TEAE]))\n",
    "print(confusion)\n",
    "\n",
    "e1 = np.sqrt((TMAM*(1-TMAM))/len(goodmu))\n",
    "e2 = np.sqrt((TMAE*(1-TMAE))/len(badmu))\n",
    "e3 = np.sqrt((TEAM*(1-TEAM))/len(bade))\n",
    "e4 = np.sqrt((TEAE*(1-TEAE))/len(goode))\n",
    "\n",
    "error = np.array(([e1, e2],[e3, e4]))\n",
    "print(error)"
   ]
  },
  {
   "cell_type": "code",
   "execution_count": 19,
   "id": "ef6a63ad",
   "metadata": {
    "scrolled": false
   },
   "outputs": [
    {
     "data": {
      "image/png": "[encoded data removed]",
      "text/plain": [
       "<Figure size 350x100 with 2 Axes>"
      ]
     },
     "metadata": {},
     "output_type": "display_data"
    }
   ],
   "source": [
    "import seaborn as sns\n",
    "variable_names1 = ['as ν_μ CC', 'as ν_e CC']\n",
    "variable_names2 = ['True ν_μ CC', 'True ν_e CC']\n",
    "\n",
    "annot_arr = np.array([['0.912±0.009','0.09±0.03'],\n",
    "                      ['0.07±0.03','0.930±0.008']], dtype = str)\n",
    "\n",
    "plt.figure(figsize = (3.5,1))\n",
    "heatmap = sns.heatmap(confusion, annot=annot_arr, cmap='coolwarm', fmt=\"s\", linewidths=.5, square=False)\n",
    "heatmap.set_xticklabels(variable_names1, rotation=0)\n",
    "heatmap.set_yticklabels(variable_names2, rotation=0)\n",
    "#plt.title(\"Confusion Matrix\")±±±±±\n",
    "plt.show()"
   ]
  },
  {
   "cell_type": "code",
   "execution_count": 74,
   "id": "c35b152c",
   "metadata": {},
   "outputs": [],
   "source": [
    "predictions = []\n",
    "for n, i in enumerate(f):\n",
    "    if i >= -8.5:\n",
    "        #track\n",
    "        if particle[n] == 13. or particle[n] == -13.:\n",
    "            predictions.append(0)\n",
    "        else:\n",
    "            predictions.append(2)\n",
    "    if i < -8.5:\n",
    "        #shower\n",
    "        if particle[n] == 11. or particle[n] == -11.:\n",
    "            predictions.append(1)\n",
    "        else:\n",
    "            predictions.append(2)        "
   ]
  },
  {
   "cell_type": "code",
   "execution_count": 75,
   "id": "8c8027aa",
   "metadata": {},
   "outputs": [],
   "source": [
    "from sklearn.metrics import confusion_matrix\n",
    "\n",
    "conf_matrix = confusion_matrix(eventlabel, predictions)\n",
    "conf_matrix_decimals = conf_matrix.astype('float') / conf_matrix.sum(axis=1)[:, np.newaxis]"
   ]
  },
  {
   "cell_type": "code",
   "execution_count": 76,
   "id": "a41a6eee",
   "metadata": {},
   "outputs": [
    {
     "data": {
      "text/plain": [
       "array([[855,   5, 173],\n",
       "       [  3, 955, 152],\n",
       "       [  7,  10, 569]], dtype=int64)"
      ]
     },
     "execution_count": 76,
     "metadata": {},
     "output_type": "execute_result"
    }
   ],
   "source": [
    "conf_matrix"
   ]
  },
  {
   "cell_type": "code",
   "execution_count": 23,
   "id": "fa5f84f1",
   "metadata": {},
   "outputs": [
    {
     "data": {
      "text/plain": [
       "Text(50.722222222222214, 0.5, 'True Label')"
      ]
     },
     "execution_count": 23,
     "metadata": {},
     "output_type": "execute_result"
    },
    {
     "data": {
      "image/png": "[encoded data removed]",
      "text/plain": [
       "<Figure size 640x480 with 2 Axes>"
      ]
     },
     "metadata": {},
     "output_type": "display_data"
    }
   ],
   "source": [
    "heatmap = sns.heatmap(conf_matrix_decimals, annot=True, cmap='coolwarm', fmt=\".3f\", linewidths=.5, square=False)\n",
    "plt.xlabel('Predicted Label')\n",
    "plt.ylabel('True Label')\n"
   ]
  },
  {
   "cell_type": "code",
   "execution_count": 24,
   "id": "413006af",
   "metadata": {},
   "outputs": [],
   "source": [
    "tracks = []\n",
    "trktruth = []\n",
    "showers = []\n",
    "shwtruth = []\n",
    "for n, i in enumerate(f):\n",
    "    if i >= -8.5:\n",
    "        tracks.append(n)\n",
    "        if particle[n] == 13. or particle[n] == -13.:\n",
    "            trktruth.append(1)\n",
    "        else:\n",
    "            trktruth.append(0)\n",
    "    if i < -8.5:\n",
    "        showers.append(n)\n",
    "        if particle[n] == 11. or particle[n] == -11.:\n",
    "            shwtruth.append(1)\n",
    "        else:\n",
    "            shwtruth.append(0)"
   ]
  },
  {
   "cell_type": "code",
   "execution_count": 25,
   "id": "fa3abaee",
   "metadata": {},
   "outputs": [],
   "source": [
    "x_test_track = x_test[tracks]\n",
    "y_test_track = np.array(trktruth)\n",
    "x_test_shower = x_test[showers]\n",
    "y_test_shower = np.array(shwtruth)"
   ]
  },
  {
   "cell_type": "code",
   "execution_count": 26,
   "id": "80842857",
   "metadata": {},
   "outputs": [
    {
     "data": {
      "text/plain": [
       "(1390, 5)"
      ]
     },
     "execution_count": 26,
     "metadata": {},
     "output_type": "execute_result"
    }
   ],
   "source": [
    "np.shape(x_test_shower)"
   ]
  },
  {
   "cell_type": "code",
   "execution_count": 27,
   "id": "4c113248",
   "metadata": {},
   "outputs": [
    {
     "data": {
      "text/plain": [
       "(1339, 1390)"
      ]
     },
     "execution_count": 27,
     "metadata": {},
     "output_type": "execute_result"
    }
   ],
   "source": [
    "trackevents = testing[tracks]\n",
    "showerevents = testing[showers]\n",
    "len(trackevents), len(showerevents)"
   ]
  },
  {
   "cell_type": "code",
   "execution_count": 28,
   "id": "ffb14de6",
   "metadata": {},
   "outputs": [],
   "source": [
    "def trkbiggest():\n",
    "    biggest = []\n",
    "    badevents = []\n",
    "    \n",
    "    for n in trackevents:\n",
    "        nhits = 0\n",
    "        big = []\n",
    "        idx = np.where(events.event_number == n)[0]\n",
    "        \n",
    "        for i in idx:\n",
    "            x = events.reco_hits_x_w[i]\n",
    "            z = events.reco_hits_w[i]\n",
    "            pdg = events.mc_pdg[i]\n",
    "            purity = events.purity[i]\n",
    "            complete = events.completeness[i]\n",
    "            \n",
    "            if len(x) > 10 and pdg != 0 and purity > 0.75 and complete > 0.75:\n",
    "                if len(x) > nhits:\n",
    "                    nhits = len(x)\n",
    "                    big.append(i)\n",
    "        \n",
    "        if len(big) != 0:\n",
    "            biggest.append(big[-1])\n",
    "        else:\n",
    "            badevents.append(n)\n",
    "        \n",
    "    \n",
    "    return biggest, badevents"
   ]
  },
  {
   "cell_type": "code",
   "execution_count": 29,
   "id": "3484616a",
   "metadata": {},
   "outputs": [],
   "source": [
    "bigg, badevents = trkbiggest()"
   ]
  },
  {
   "cell_type": "code",
   "execution_count": 30,
   "id": "23f42f05",
   "metadata": {},
   "outputs": [],
   "source": [
    "newevents = [i for i in trackevents if i not in badevents]"
   ]
  },
  {
   "cell_type": "code",
   "execution_count": 31,
   "id": "7f6d15fe",
   "metadata": {},
   "outputs": [],
   "source": [
    "def fit_line(x, y):\n",
    "    A = np.vstack([x, np.ones_like(x)]).T\n",
    "    m, c = np.linalg.lstsq(A, y, rcond=None)[0]\n",
    "    return m, c\n",
    "\n",
    "def calculate_residuals(x, y, m, c):\n",
    "    #y_predicted = (m*x) + c\n",
    "    perpdist = abs(((-m*x) + y - c) / np.sqrt(m**2 + 1))\n",
    "    #residuals = np.abs(perpdist - y_predicted)\n",
    "    return perpdist\n",
    "\n",
    "def trkfeatures():\n",
    "    data = []\n",
    "    label = []\n",
    "\n",
    "    for i in bigg:\n",
    "\n",
    "        # features\n",
    "        entry = []\n",
    "\n",
    "        # hits, pdg code, purity, completeness, adc values, vertex coordinates\n",
    "\n",
    "        x = events.reco_hits_x_w[i]\n",
    "        z = events.reco_hits_w[i]\n",
    "        pdg = events.mc_pdg[i]\n",
    "        purity = events.purity[i]\n",
    "        complete = events.completeness[i]\n",
    "\n",
    "        adc = events.reco_adcs_w[i]\n",
    "        vx = events.reco_particle_vtx_x[i]\n",
    "        vz = events.reco_particle_vtx_w[i]\n",
    "\n",
    "        xlen = 0.1*(max(x) - min(x))\n",
    "\n",
    "        if pdg == 13. or pdg == -13.:\n",
    "            label.append(1) # muon\n",
    "        else:\n",
    "            label.append(0) # other\n",
    "\n",
    "        best_inliers = []\n",
    "        best_model = None\n",
    "        sample_size = 10\n",
    "        max_iterations = 100\n",
    "\n",
    "        for _ in range(max_iterations):\n",
    "            sample_size = min(sample_size, len(x))\n",
    "            sample_indices = np.random.choice(len(x), size=sample_size, replace=False)\n",
    "            x_sample = x[sample_indices]\n",
    "            z_sample = z[sample_indices]\n",
    "\n",
    "            m, c = fit_line(x_sample, z_sample)\n",
    "            residuals = calculate_residuals(x, z, m, c)\n",
    "            inliers = np.where(residuals < (0.15*xlen))[0]\n",
    "\n",
    "            if len(inliers) > len(best_inliers):\n",
    "                best_inliers = inliers\n",
    "                best_model = (m, c)\n",
    "\n",
    "        if len(best_inliers) > 0:\n",
    "            m, c = best_model\n",
    "\n",
    "            # changing the coordinates into longitudinal and tranverse from best line\n",
    "\n",
    "            znew = z - c\n",
    "            angle = -math.atan(m)\n",
    "            l = x * np.cos(angle) - znew * np.sin(angle)\n",
    "            t = x * np.sin(angle) + znew * np.cos(angle)\n",
    "\n",
    "            # NEW 1: Length\n",
    "\n",
    "            lmin, lmax = np.min(l), np.max(l)\n",
    "            length = lmax - lmin\n",
    "            entry.append(length)\n",
    "\n",
    "            # NEW 2: Sum of charge \n",
    "\n",
    "            summ = np.sum(adc)\n",
    "            charge = summ/length\n",
    "            entry.append(charge)\n",
    "\n",
    "            data.append(entry)\n",
    "\n",
    "\n",
    "        else:\n",
    "            entry.append(1)\n",
    "            entry.append(1)\n",
    "            data.append(entry)\n",
    "\n",
    "    return data, label"
   ]
  },
  {
   "cell_type": "code",
   "execution_count": 32,
   "id": "2023dce6",
   "metadata": {},
   "outputs": [],
   "source": [
    "trackdata, tracktruth = trkfeatures()"
   ]
  },
  {
   "cell_type": "code",
   "execution_count": 33,
   "id": "73680e6c",
   "metadata": {},
   "outputs": [
    {
     "data": {
      "text/plain": [
       "(1306, 2)"
      ]
     },
     "execution_count": 33,
     "metadata": {},
     "output_type": "execute_result"
    }
   ],
   "source": [
    "np.shape(trackdata)"
   ]
  },
  {
   "cell_type": "code",
   "execution_count": 34,
   "id": "4beb91af",
   "metadata": {},
   "outputs": [],
   "source": [
    "trackdata = np.array(trackdata)\n",
    "tracktruth = np.array(tracktruth)"
   ]
  },
  {
   "cell_type": "code",
   "execution_count": 35,
   "id": "05ef7b83",
   "metadata": {},
   "outputs": [
    {
     "data": {
      "image/png": "[encoded data removed]",
      "text/plain": [
       "<Figure size 640x480 with 1 Axes>"
      ]
     },
     "metadata": {},
     "output_type": "display_data"
    },
    {
     "data": {
      "image/png": "[encoded data removed]",
      "text/plain": [
       "<Figure size 640x480 with 1 Axes>"
      ]
     },
     "metadata": {},
     "output_type": "display_data"
    }
   ],
   "source": [
    "feature_1_true = trackdata[tracktruth == 1, 0]\n",
    "feature_1_false = trackdata[tracktruth == 0, 0]\n",
    "feature_2_true = trackdata[tracktruth == 1, 1]\n",
    "feature_2_false = trackdata[tracktruth == 0, 1]\n",
    "\n",
    "bin_edges = np.arange(0, 1000, 25)\n",
    "hist1, _ = np.histogram(feature_1_true, bins=bin_edges)\n",
    "hist2, _ = np.histogram(feature_1_false, bins=bin_edges)\n",
    "\n",
    "hist1_normalized = hist1 / len(feature_1_true)\n",
    "hist2_normalized = hist2 / len(feature_1_false)\n",
    "\n",
    "plt.bar(bin_edges[:-1], hist1_normalized, width=25, align='edge', alpha=0.75, label='Muons')\n",
    "plt.bar(bin_edges[:-1], hist2_normalized, width=25, align='edge', alpha=0.75, label='Other')\n",
    "\n",
    "plt.xlabel('Length')\n",
    "plt.legend()\n",
    "plt.show()\n",
    "\n",
    "bin_edges = np.arange(0, 1000, 25)\n",
    "hist1, _ = np.histogram(feature_2_true, bins=bin_edges)\n",
    "hist2, _ = np.histogram(feature_2_false, bins=bin_edges)\n",
    "\n",
    "hist1_normalized = hist1 / len(feature_2_true)\n",
    "hist2_normalized = hist2 / len(feature_2_false)\n",
    "\n",
    "plt.bar(bin_edges[:-1], hist1_normalized, width=25, align='edge', alpha=0.75, label='Muons')\n",
    "plt.bar(bin_edges[:-1], hist2_normalized, width=25, align='edge', alpha=0.75, label='Other')\n",
    "\n",
    "plt.xlabel('Charge/Length')\n",
    "plt.legend()\n",
    "plt.show()"
   ]
  },
  {
   "cell_type": "code",
   "execution_count": null,
   "id": "a86d4d3d",
   "metadata": {},
   "outputs": [],
   "source": []
  },
  {
   "cell_type": "code",
   "execution_count": null,
   "id": "6e9acc15",
   "metadata": {},
   "outputs": [],
   "source": []
  },
  {
   "cell_type": "code",
   "execution_count": 36,
   "id": "598ab7af",
   "metadata": {},
   "outputs": [],
   "source": [
    "indices_70_percentt = np.random.choice(len(tracktruth), size=int(0.7 * len(tracktruth)), replace=False)\n",
    "x_train_trk = trackdata[indices_70_percentt]\n",
    "y_train_trk = tracktruth[indices_70_percentt]\n",
    "x_test_trk = np.delete(trackdata, indices_70_percentt, axis=0)\n",
    "y_test_trk = np.delete(tracktruth, indices_70_percentt, axis=0)"
   ]
  },
  {
   "cell_type": "code",
   "execution_count": 37,
   "id": "88546409",
   "metadata": {},
   "outputs": [
    {
     "data": {
      "text/html": [
       "<style>#sk-container-id-2 {color: black;}#sk-container-id-2 pre{padding: 0;}#sk-container-id-2 div.sk-toggleable {background-color: white;}#sk-container-id-2 label.sk-toggleable__label {cursor: pointer;display: block;width: 100%;margin-bottom: 0;padding: 0.3em;box-sizing: border-box;text-align: center;}#sk-container-id-2 label.sk-toggleable__label-arrow:before {content: \"▸\";float: left;margin-right: 0.25em;color: #696969;}#sk-container-id-2 label.sk-toggleable__label-arrow:hover:before {color: black;}#sk-container-id-2 div.sk-estimator:hover label.sk-toggleable__label-arrow:before {color: black;}#sk-container-id-2 div.sk-toggleable__content {max-height: 0;max-width: 0;overflow: hidden;text-align: left;background-color: #f0f8ff;}#sk-container-id-2 div.sk-toggleable__content pre {margin: 0.2em;color: black;border-radius: 0.25em;background-color: #f0f8ff;}#sk-container-id-2 input.sk-toggleable__control:checked~div.sk-toggleable__content {max-height: 200px;max-width: 100%;overflow: auto;}#sk-container-id-2 input.sk-toggleable__control:checked~label.sk-toggleable__label-arrow:before {content: \"▾\";}#sk-container-id-2 div.sk-estimator input.sk-toggleable__control:checked~label.sk-toggleable__label {background-color: #d4ebff;}#sk-container-id-2 div.sk-label input.sk-toggleable__control:checked~label.sk-toggleable__label {background-color: #d4ebff;}#sk-container-id-2 input.sk-hidden--visually {border: 0;clip: rect(1px 1px 1px 1px);clip: rect(1px, 1px, 1px, 1px);height: 1px;margin: -1px;overflow: hidden;padding: 0;position: absolute;width: 1px;}#sk-container-id-2 div.sk-estimator {font-family: monospace;background-color: #f0f8ff;border: 1px dotted black;border-radius: 0.25em;box-sizing: border-box;margin-bottom: 0.5em;}#sk-container-id-2 div.sk-estimator:hover {background-color: #d4ebff;}#sk-container-id-2 div.sk-parallel-item::after {content: \"\";width: 100%;border-bottom: 1px solid gray;flex-grow: 1;}#sk-container-id-2 div.sk-label:hover label.sk-toggleable__label {background-color: #d4ebff;}#sk-container-id-2 div.sk-serial::before {content: \"\";position: absolute;border-left: 1px solid gray;box-sizing: border-box;top: 0;bottom: 0;left: 50%;z-index: 0;}#sk-container-id-2 div.sk-serial {display: flex;flex-direction: column;align-items: center;background-color: white;padding-right: 0.2em;padding-left: 0.2em;position: relative;}#sk-container-id-2 div.sk-item {position: relative;z-index: 1;}#sk-container-id-2 div.sk-parallel {display: flex;align-items: stretch;justify-content: center;background-color: white;position: relative;}#sk-container-id-2 div.sk-item::before, #sk-container-id-2 div.sk-parallel-item::before {content: \"\";position: absolute;border-left: 1px solid gray;box-sizing: border-box;top: 0;bottom: 0;left: 50%;z-index: -1;}#sk-container-id-2 div.sk-parallel-item {display: flex;flex-direction: column;z-index: 1;position: relative;background-color: white;}#sk-container-id-2 div.sk-parallel-item:first-child::after {align-self: flex-end;width: 50%;}#sk-container-id-2 div.sk-parallel-item:last-child::after {align-self: flex-start;width: 50%;}#sk-container-id-2 div.sk-parallel-item:only-child::after {width: 0;}#sk-container-id-2 div.sk-dashed-wrapped {border: 1px dashed gray;margin: 0 0.4em 0.5em 0.4em;box-sizing: border-box;padding-bottom: 0.4em;background-color: white;}#sk-container-id-2 div.sk-label label {font-family: monospace;font-weight: bold;display: inline-block;line-height: 1.2em;}#sk-container-id-2 div.sk-label-container {text-align: center;}#sk-container-id-2 div.sk-container {/* jupyter's `normalize.less` sets `[hidden] { display: none; }` but bootstrap.min.css set `[hidden] { display: none !important; }` so we also need the `!important` here to be able to override the default hidden behavior on the sphinx rendered scikit-learn.org. See: https://github.com/scikit-learn/scikit-learn/issues/21755 */display: inline-block !important;position: relative;}#sk-container-id-2 div.sk-text-repr-fallback {display: none;}</style><div id=\"sk-container-id-2\" class=\"sk-top-container\"><div class=\"sk-text-repr-fallback\"><pre>AdaBoostClassifier(estimator=DecisionTreeClassifier(max_depth=14),\n",
       "                   n_estimators=100, random_state=0)</pre><b>In a Jupyter environment, please rerun this cell to show the HTML representation or trust the notebook. <br />On GitHub, the HTML representation is unable to render, please try loading this page with nbviewer.org.</b></div><div class=\"sk-container\" hidden><div class=\"sk-item sk-dashed-wrapped\"><div class=\"sk-label-container\"><div class=\"sk-label sk-toggleable\"><input class=\"sk-toggleable__control sk-hidden--visually\" id=\"sk-estimator-id-4\" type=\"checkbox\" ><label for=\"sk-estimator-id-4\" class=\"sk-toggleable__label sk-toggleable__label-arrow\">AdaBoostClassifier</label><div class=\"sk-toggleable__content\"><pre>AdaBoostClassifier(estimator=DecisionTreeClassifier(max_depth=14),\n",
       "                   n_estimators=100, random_state=0)</pre></div></div></div><div class=\"sk-parallel\"><div class=\"sk-parallel-item\"><div class=\"sk-item\"><div class=\"sk-label-container\"><div class=\"sk-label sk-toggleable\"><input class=\"sk-toggleable__control sk-hidden--visually\" id=\"sk-estimator-id-5\" type=\"checkbox\" ><label for=\"sk-estimator-id-5\" class=\"sk-toggleable__label sk-toggleable__label-arrow\">estimator: DecisionTreeClassifier</label><div class=\"sk-toggleable__content\"><pre>DecisionTreeClassifier(max_depth=14)</pre></div></div></div><div class=\"sk-serial\"><div class=\"sk-item\"><div class=\"sk-estimator sk-toggleable\"><input class=\"sk-toggleable__control sk-hidden--visually\" id=\"sk-estimator-id-6\" type=\"checkbox\" ><label for=\"sk-estimator-id-6\" class=\"sk-toggleable__label sk-toggleable__label-arrow\">DecisionTreeClassifier</label><div class=\"sk-toggleable__content\"><pre>DecisionTreeClassifier(max_depth=14)</pre></div></div></div></div></div></div></div></div></div></div>"
      ],
      "text/plain": [
       "AdaBoostClassifier(estimator=DecisionTreeClassifier(max_depth=14),\n",
       "                   n_estimators=100, random_state=0)"
      ]
     },
     "execution_count": 37,
     "metadata": {},
     "output_type": "execute_result"
    }
   ],
   "source": [
    "# Create the BDT with a base decision tree classifier (this is the default base classifier, included for illustration)\n",
    "base = DecisionTreeClassifier(max_depth=14)\n",
    "bdtt = AdaBoostClassifier(estimator=base, n_estimators=100, random_state=0)\n",
    "# Fit the BDT to the training set\n",
    "bdtt.fit(x_train_trk, y_train_trk)"
   ]
  },
  {
   "cell_type": "code",
   "execution_count": 38,
   "id": "ab289ccd",
   "metadata": {},
   "outputs": [
    {
     "data": {
      "text/plain": [
       "0.8571428571428571"
      ]
     },
     "execution_count": 38,
     "metadata": {},
     "output_type": "execute_result"
    }
   ],
   "source": [
    "# Check the training set classification performance\n",
    "bdtt.score(x_test_trk, y_test_trk)"
   ]
  },
  {
   "cell_type": "code",
   "execution_count": 79,
   "id": "cf93003d",
   "metadata": {},
   "outputs": [
    {
     "data": {
      "text/plain": [
       "array([[  44.686966,  252.22533 ],\n",
       "       [ 736.32776 ,  315.22314 ],\n",
       "       [ 427.42627 , 3071.814   ],\n",
       "       ...,\n",
       "       [ 251.09644 ,  144.53473 ],\n",
       "       [ 237.86328 ,  159.04068 ],\n",
       "       [ 311.98035 ,  274.91235 ]], dtype=float32)"
      ]
     },
     "execution_count": 79,
     "metadata": {},
     "output_type": "execute_result"
    }
   ],
   "source": [
    "allll = np.concatenate((x_train_trk, x_test_trk))\n",
    "allll"
   ]
  },
  {
   "cell_type": "code",
   "execution_count": 85,
   "id": "29e40087",
   "metadata": {},
   "outputs": [
    {
     "data": {
      "text/plain": [
       "<matplotlib.legend.Legend at 0x12810f21100>"
      ]
     },
     "execution_count": 85,
     "metadata": {},
     "output_type": "execute_result"
    },
    {
     "data": {
      "image/png": "[encoded data removed]",
      "text/plain": [
       "<Figure size 640x480 with 1 Axes>"
      ]
     },
     "metadata": {},
     "output_type": "display_data"
    }
   ],
   "source": [
    "ft = bdtt.decision_function(x_test_trk)\n",
    "min_f = np.round(np.min(ft), 1)\n",
    "max_f = np.round(np.max(ft), 1)\n",
    "#bins = np.linspace(min_f, max_f, 4 * int((max_f - min_f) / 0.1) + 1)\n",
    "bins = 20\n",
    "cls_0_f = ft[np.where(y_test_trk == 0)]\n",
    "cls_1_f = ft[np.where(y_test_trk == 1)]\n",
    "weights_0 = np.ones_like(cls_0_f) / len(cls_0_f)\n",
    "weights_1 = np.ones_like(cls_1_f) / len(cls_1_f)\n",
    "plt.hist(cls_0_f, color='r', weights=weights_0, bins=bins, histtype='step', label='Class 0 (Other)')\n",
    "plt.hist(cls_1_f, color='b', weights=weights_1, bins=bins, histtype='step', label='Class 1 (Muon)')\n",
    "plt.legend()"
   ]
  },
  {
   "cell_type": "code",
   "execution_count": 40,
   "id": "e355af82",
   "metadata": {},
   "outputs": [],
   "source": [
    "def shwbiggest():\n",
    "    biggest = []\n",
    "    badevents = []\n",
    "    \n",
    "    for n in showerevents:\n",
    "        nhits = 0\n",
    "        big = []\n",
    "        idx = np.where(events.event_number == n)[0]\n",
    "        \n",
    "        for i in idx:\n",
    "            x = events.reco_hits_x_w[i]\n",
    "            z = events.reco_hits_w[i]\n",
    "            pdg = events.mc_pdg[i]\n",
    "            purity = events.purity[i]\n",
    "            complete = events.completeness[i]\n",
    "            \n",
    "            if len(x) > 10 and pdg != 0 and purity > 0.75 and complete > 0.75:\n",
    "                if len(x) > nhits:\n",
    "                    nhits = len(x)\n",
    "                    big.append(i)\n",
    "        \n",
    "        if len(big) != 0:\n",
    "            biggest.append(big[-1])\n",
    "        else:\n",
    "            badevents.append(n)\n",
    "        \n",
    "    return biggest, badevents"
   ]
  },
  {
   "cell_type": "code",
   "execution_count": 41,
   "id": "e0642326",
   "metadata": {},
   "outputs": [],
   "source": [
    "biggg, badeventss = shwbiggest()"
   ]
  },
  {
   "cell_type": "code",
   "execution_count": 42,
   "id": "1b57d37e",
   "metadata": {},
   "outputs": [],
   "source": [
    "neweventss = [i for i in showerevents if i not in badeventss]"
   ]
  },
  {
   "cell_type": "code",
   "execution_count": 43,
   "id": "b3178d1b",
   "metadata": {},
   "outputs": [],
   "source": [
    "def fit_line(x, y):\n",
    "    A = np.vstack([x, np.ones_like(x)]).T\n",
    "    m, c = np.linalg.lstsq(A, y, rcond=None)[0]\n",
    "    return m, c\n",
    "\n",
    "def calculate_residuals(x, y, m, c):\n",
    "    #y_predicted = (m*x) + c\n",
    "    perpdist = abs(((-m*x) + y - c) / np.sqrt(m**2 + 1))\n",
    "    #residuals = np.abs(perpdist - y_predicted)\n",
    "    return perpdist\n",
    "\n",
    "def shwfeatures():\n",
    "    data = []\n",
    "    label = []\n",
    "\n",
    "    for i in biggg:\n",
    "\n",
    "        # features\n",
    "        entry = []\n",
    "\n",
    "        # hits, pdg code, purity, completeness, adc values, vertex coordinates\n",
    "\n",
    "        x = events.reco_hits_x_w[i]\n",
    "        z = events.reco_hits_w[i]\n",
    "        pdg = events.mc_pdg[i]\n",
    "        purity = events.purity[i]\n",
    "        complete = events.completeness[i]\n",
    "\n",
    "        adc = events.reco_adcs_w[i]\n",
    "        vx = events.reco_particle_vtx_x[i]\n",
    "        vz = events.reco_particle_vtx_w[i]\n",
    "\n",
    "        xlen = 0.1*(max(x) - min(x))\n",
    "\n",
    "        if pdg == 11. or pdg == -11.:\n",
    "            label.append(1) # electron\n",
    "        else:\n",
    "            label.append(0) # other\n",
    "\n",
    "        best_inliers = []\n",
    "        best_model = None\n",
    "        sample_size = 10\n",
    "        max_iterations = 100\n",
    "\n",
    "        for _ in range(max_iterations):\n",
    "            sample_size = min(sample_size, len(x))\n",
    "            sample_indices = np.random.choice(len(x), size=sample_size, replace=False)\n",
    "            x_sample = x[sample_indices]\n",
    "            z_sample = z[sample_indices]\n",
    "\n",
    "            m, c = fit_line(x_sample, z_sample)\n",
    "            residuals = calculate_residuals(x, z, m, c)\n",
    "            inliers = np.where(residuals < (0.15*xlen))[0]\n",
    "\n",
    "            if len(inliers) > len(best_inliers):\n",
    "                best_inliers = inliers\n",
    "                best_model = (m, c)\n",
    "\n",
    "        if len(best_inliers) > 0:\n",
    "            m, c = best_model\n",
    "\n",
    "            # changing the coordinates into longitudinal and tranverse from best line\n",
    "\n",
    "            znew = z - c\n",
    "            angle = -math.atan(m)\n",
    "            l = x * np.cos(angle) - znew * np.sin(angle)\n",
    "            t = x * np.sin(angle) + znew * np.cos(angle)\n",
    "            \n",
    "            # NEW 1: Vtx dist\n",
    "            \n",
    "            nx = events.true_neutrino_vtx_x[i]\n",
    "            nw = events.true_neutrino_vtx_w[i]\n",
    "            dists = []\n",
    "            for n, i in enumerate(x):\n",
    "                dist = np.sqrt((nx - i) ** 2 + (nw - z[n]) ** 2)\n",
    "                dists.append(dist)\n",
    "            entry.append(min(dists))\n",
    "            \n",
    "            \n",
    "            #px = x[0]\n",
    "            #pw = z[0]\n",
    "            #nx = events.true_neutrino_vtx_x[i]\n",
    "            #nw = events.true_neutrino_vtx_w[i]\n",
    "            \n",
    "            \n",
    "            #px = events.reco_particle_vtx_3d_x[i]\n",
    "            #py = events.reco_particle_vtx_3d_y[i]\n",
    "            #pz = events.reco_particle_vtx_3d_z[i]\n",
    "            #nx = events.neutrino_vtx_3d_x[i]\n",
    "            #ny = events.neutrino_vtx_3d_y[i]\n",
    "            #nz = events.neutrino_vtx_3d_z[i]\n",
    "            \n",
    "            #pcord = np.array((px, pw))\n",
    "            #ncord = np.array((nx, nw))\n",
    "            #squared_diff = (pcord - ncord) ** 2\n",
    "            #distance = np.sqrt(np.sum(squared_diff))\n",
    "            #entry.append(distance)\n",
    "            \n",
    "            # NEW 2: Charge at start\n",
    "            \n",
    "            lmin, lmax = np.min(l), np.max(l)\n",
    "            length = lmax - lmin\n",
    "            \n",
    "            vznew = vz - c\n",
    "\n",
    "            vl = vx * np.cos(angle) - vznew * np.sin(angle)\n",
    "            vt = vx * np.sin(angle) + vznew * np.cos(angle)\n",
    "\n",
    "            if max(l) < vl:\n",
    "                l *= -1\n",
    "\n",
    "            combined = list(zip(l, t, adc))\n",
    "            sort = sorted(combined, key = lambda coord: coord[0])\n",
    "\n",
    "            lnew, tnew, adcnew = zip(*sort)\n",
    "\n",
    "            percent = int(0.1 * len(adcnew))\n",
    "            X = adcnew[:percent]\n",
    "            Xsum = np.sum(X)\n",
    "            newww = Xsum/(0.1*length)\n",
    "            entry.append(newww)\n",
    "            \n",
    "            data.append(entry)\n",
    "\n",
    "\n",
    "        else:\n",
    "            entry.append(1)\n",
    "            entry.append(1)\n",
    "            data.append(entry)\n",
    "\n",
    "    return data, label"
   ]
  },
  {
   "cell_type": "code",
   "execution_count": 44,
   "id": "d6281cd3",
   "metadata": {},
   "outputs": [],
   "source": [
    "showerdata, showertruth = shwfeatures()"
   ]
  },
  {
   "cell_type": "code",
   "execution_count": 45,
   "id": "bf018e8c",
   "metadata": {},
   "outputs": [],
   "source": [
    "showerdata = np.array(showerdata)\n",
    "showertruth = np.array(showertruth)"
   ]
  },
  {
   "cell_type": "code",
   "execution_count": 46,
   "id": "57c363ed",
   "metadata": {},
   "outputs": [
    {
     "data": {
      "image/png": "[encoded data removed]",
      "text/plain": [
       "<Figure size 640x480 with 1 Axes>"
      ]
     },
     "metadata": {},
     "output_type": "display_data"
    },
    {
     "data": {
      "image/png": "[encoded data removed]",
      "text/plain": [
       "<Figure size 640x480 with 1 Axes>"
      ]
     },
     "metadata": {},
     "output_type": "display_data"
    }
   ],
   "source": [
    "feature_1_true = showerdata[showertruth == 1, 0]\n",
    "feature_1_false = showerdata[showertruth == 0, 0]\n",
    "feature_2_true = showerdata[showertruth == 1, 1]\n",
    "feature_2_false = showerdata[showertruth == 0, 1]\n",
    "\n",
    "bin_edges = np.arange(0, 20, 1)\n",
    "hist1, _ = np.histogram(feature_1_true, bins=bin_edges)\n",
    "hist2, _ = np.histogram(feature_1_false, bins=bin_edges)\n",
    "\n",
    "hist1_normalized = hist1 / len(feature_1_true)\n",
    "hist2_normalized = hist2 / len(feature_1_false)\n",
    "\n",
    "plt.bar(bin_edges[:-1], hist1_normalized, width=1, align='edge', alpha=0.75, label='Electron')\n",
    "plt.bar(bin_edges[:-1], hist2_normalized, width=1, align='edge', alpha=0.75, label='Other')\n",
    "\n",
    "plt.xlabel('Vertex distance')\n",
    "plt.legend()\n",
    "plt.show()\n",
    "\n",
    "bin_edges = np.arange(0, 1500, 50)\n",
    "hist1, _ = np.histogram(feature_2_true, bins=bin_edges)\n",
    "hist2, _ = np.histogram(feature_2_false, bins=bin_edges)\n",
    "\n",
    "hist1_normalized = hist1 / len(feature_2_true)\n",
    "hist2_normalized = hist2 / len(feature_2_false)\n",
    "\n",
    "plt.bar(bin_edges[:-1], hist1_normalized, width=50, align='edge', alpha=0.75, label='Electron')\n",
    "plt.bar(bin_edges[:-1], hist2_normalized, width=50, align='edge', alpha=0.75, label='Other')\n",
    "\n",
    "plt.xlabel('Energy at start')\n",
    "plt.legend()\n",
    "plt.show()"
   ]
  },
  {
   "cell_type": "code",
   "execution_count": 47,
   "id": "fd1bd5a7",
   "metadata": {},
   "outputs": [],
   "source": [
    "indices_70_percents = np.random.choice(len(showertruth), size=int(0.7 * len(showertruth)), replace=False)\n",
    "x_train_shw = showerdata[indices_70_percents]\n",
    "y_train_shw = showertruth[indices_70_percents]\n",
    "x_test_shw = np.delete(showerdata, indices_70_percents, axis=0)\n",
    "y_test_shw = np.delete(showertruth, indices_70_percents, axis=0)"
   ]
  },
  {
   "cell_type": "code",
   "execution_count": 48,
   "id": "e5345315",
   "metadata": {},
   "outputs": [
    {
     "data": {
      "text/html": [
       "<style>#sk-container-id-3 {color: black;}#sk-container-id-3 pre{padding: 0;}#sk-container-id-3 div.sk-toggleable {background-color: white;}#sk-container-id-3 label.sk-toggleable__label {cursor: pointer;display: block;width: 100%;margin-bottom: 0;padding: 0.3em;box-sizing: border-box;text-align: center;}#sk-container-id-3 label.sk-toggleable__label-arrow:before {content: \"▸\";float: left;margin-right: 0.25em;color: #696969;}#sk-container-id-3 label.sk-toggleable__label-arrow:hover:before {color: black;}#sk-container-id-3 div.sk-estimator:hover label.sk-toggleable__label-arrow:before {color: black;}#sk-container-id-3 div.sk-toggleable__content {max-height: 0;max-width: 0;overflow: hidden;text-align: left;background-color: #f0f8ff;}#sk-container-id-3 div.sk-toggleable__content pre {margin: 0.2em;color: black;border-radius: 0.25em;background-color: #f0f8ff;}#sk-container-id-3 input.sk-toggleable__control:checked~div.sk-toggleable__content {max-height: 200px;max-width: 100%;overflow: auto;}#sk-container-id-3 input.sk-toggleable__control:checked~label.sk-toggleable__label-arrow:before {content: \"▾\";}#sk-container-id-3 div.sk-estimator input.sk-toggleable__control:checked~label.sk-toggleable__label {background-color: #d4ebff;}#sk-container-id-3 div.sk-label input.sk-toggleable__control:checked~label.sk-toggleable__label {background-color: #d4ebff;}#sk-container-id-3 input.sk-hidden--visually {border: 0;clip: rect(1px 1px 1px 1px);clip: rect(1px, 1px, 1px, 1px);height: 1px;margin: -1px;overflow: hidden;padding: 0;position: absolute;width: 1px;}#sk-container-id-3 div.sk-estimator {font-family: monospace;background-color: #f0f8ff;border: 1px dotted black;border-radius: 0.25em;box-sizing: border-box;margin-bottom: 0.5em;}#sk-container-id-3 div.sk-estimator:hover {background-color: #d4ebff;}#sk-container-id-3 div.sk-parallel-item::after {content: \"\";width: 100%;border-bottom: 1px solid gray;flex-grow: 1;}#sk-container-id-3 div.sk-label:hover label.sk-toggleable__label {background-color: #d4ebff;}#sk-container-id-3 div.sk-serial::before {content: \"\";position: absolute;border-left: 1px solid gray;box-sizing: border-box;top: 0;bottom: 0;left: 50%;z-index: 0;}#sk-container-id-3 div.sk-serial {display: flex;flex-direction: column;align-items: center;background-color: white;padding-right: 0.2em;padding-left: 0.2em;position: relative;}#sk-container-id-3 div.sk-item {position: relative;z-index: 1;}#sk-container-id-3 div.sk-parallel {display: flex;align-items: stretch;justify-content: center;background-color: white;position: relative;}#sk-container-id-3 div.sk-item::before, #sk-container-id-3 div.sk-parallel-item::before {content: \"\";position: absolute;border-left: 1px solid gray;box-sizing: border-box;top: 0;bottom: 0;left: 50%;z-index: -1;}#sk-container-id-3 div.sk-parallel-item {display: flex;flex-direction: column;z-index: 1;position: relative;background-color: white;}#sk-container-id-3 div.sk-parallel-item:first-child::after {align-self: flex-end;width: 50%;}#sk-container-id-3 div.sk-parallel-item:last-child::after {align-self: flex-start;width: 50%;}#sk-container-id-3 div.sk-parallel-item:only-child::after {width: 0;}#sk-container-id-3 div.sk-dashed-wrapped {border: 1px dashed gray;margin: 0 0.4em 0.5em 0.4em;box-sizing: border-box;padding-bottom: 0.4em;background-color: white;}#sk-container-id-3 div.sk-label label {font-family: monospace;font-weight: bold;display: inline-block;line-height: 1.2em;}#sk-container-id-3 div.sk-label-container {text-align: center;}#sk-container-id-3 div.sk-container {/* jupyter's `normalize.less` sets `[hidden] { display: none; }` but bootstrap.min.css set `[hidden] { display: none !important; }` so we also need the `!important` here to be able to override the default hidden behavior on the sphinx rendered scikit-learn.org. See: https://github.com/scikit-learn/scikit-learn/issues/21755 */display: inline-block !important;position: relative;}#sk-container-id-3 div.sk-text-repr-fallback {display: none;}</style><div id=\"sk-container-id-3\" class=\"sk-top-container\"><div class=\"sk-text-repr-fallback\"><pre>AdaBoostClassifier(estimator=DecisionTreeClassifier(max_depth=14),\n",
       "                   n_estimators=100, random_state=0)</pre><b>In a Jupyter environment, please rerun this cell to show the HTML representation or trust the notebook. <br />On GitHub, the HTML representation is unable to render, please try loading this page with nbviewer.org.</b></div><div class=\"sk-container\" hidden><div class=\"sk-item sk-dashed-wrapped\"><div class=\"sk-label-container\"><div class=\"sk-label sk-toggleable\"><input class=\"sk-toggleable__control sk-hidden--visually\" id=\"sk-estimator-id-7\" type=\"checkbox\" ><label for=\"sk-estimator-id-7\" class=\"sk-toggleable__label sk-toggleable__label-arrow\">AdaBoostClassifier</label><div class=\"sk-toggleable__content\"><pre>AdaBoostClassifier(estimator=DecisionTreeClassifier(max_depth=14),\n",
       "                   n_estimators=100, random_state=0)</pre></div></div></div><div class=\"sk-parallel\"><div class=\"sk-parallel-item\"><div class=\"sk-item\"><div class=\"sk-label-container\"><div class=\"sk-label sk-toggleable\"><input class=\"sk-toggleable__control sk-hidden--visually\" id=\"sk-estimator-id-8\" type=\"checkbox\" ><label for=\"sk-estimator-id-8\" class=\"sk-toggleable__label sk-toggleable__label-arrow\">estimator: DecisionTreeClassifier</label><div class=\"sk-toggleable__content\"><pre>DecisionTreeClassifier(max_depth=14)</pre></div></div></div><div class=\"sk-serial\"><div class=\"sk-item\"><div class=\"sk-estimator sk-toggleable\"><input class=\"sk-toggleable__control sk-hidden--visually\" id=\"sk-estimator-id-9\" type=\"checkbox\" ><label for=\"sk-estimator-id-9\" class=\"sk-toggleable__label sk-toggleable__label-arrow\">DecisionTreeClassifier</label><div class=\"sk-toggleable__content\"><pre>DecisionTreeClassifier(max_depth=14)</pre></div></div></div></div></div></div></div></div></div></div>"
      ],
      "text/plain": [
       "AdaBoostClassifier(estimator=DecisionTreeClassifier(max_depth=14),\n",
       "                   n_estimators=100, random_state=0)"
      ]
     },
     "execution_count": 48,
     "metadata": {},
     "output_type": "execute_result"
    }
   ],
   "source": [
    "# Create the BDT with a base decision tree classifier (this is the default base classifier, included for illustration)\n",
    "base = DecisionTreeClassifier(max_depth=14)\n",
    "bdts = AdaBoostClassifier(estimator=base, n_estimators=100, random_state=0)\n",
    "# Fit the BDT to the training set\n",
    "bdts.fit(x_train_shw, y_train_shw)"
   ]
  },
  {
   "cell_type": "code",
   "execution_count": 49,
   "id": "c5f9e7f2",
   "metadata": {},
   "outputs": [
    {
     "data": {
      "text/plain": [
       "0.5661764705882353"
      ]
     },
     "execution_count": 49,
     "metadata": {},
     "output_type": "execute_result"
    }
   ],
   "source": [
    "# Check the training set classification performance\n",
    "bdtt.score(x_test_shw, y_test_shw)"
   ]
  },
  {
   "cell_type": "code",
   "execution_count": 77,
   "id": "85a39b4f",
   "metadata": {},
   "outputs": [],
   "source": [
    "#allll = np.concatenate((x_train_shw, x_test_shw))"
   ]
  },
  {
   "cell_type": "code",
   "execution_count": 84,
   "id": "76697e25",
   "metadata": {},
   "outputs": [
    {
     "data": {
      "text/plain": [
       "<matplotlib.legend.Legend at 0x12810eb7f10>"
      ]
     },
     "execution_count": 84,
     "metadata": {},
     "output_type": "execute_result"
    },
    {
     "data": {
      "image/png": "[encoded data removed]",
      "text/plain": [
       "<Figure size 640x480 with 1 Axes>"
      ]
     },
     "metadata": {},
     "output_type": "display_data"
    }
   ],
   "source": [
    "fs = bdts.decision_function(x_test_shw)\n",
    "min_f = np.round(np.min(fs), 1)\n",
    "max_f = np.round(np.max(fs), 1)\n",
    "#bins = np.linspace(min_f, max_f, 4 * int((max_f - min_f) / 0.1) + 1)\n",
    "bins = 20\n",
    "cls_0_f = fs[np.where(y_test_shw == 0)]\n",
    "cls_1_f = fs[np.where(y_test_shw == 1)]\n",
    "weights_0 = np.ones_like(cls_0_f) / len(cls_0_f)\n",
    "weights_1 = np.ones_like(cls_1_f) / len(cls_1_f)\n",
    "plt.hist(cls_0_f, color='r', weights=weights_0, bins=bins, histtype='step', label='Class 0 (Other)')\n",
    "plt.hist(cls_1_f, color='b', weights=weights_1, bins=bins, histtype='step', label='Class 1 (Electron)')\n",
    "plt.legend()"
   ]
  },
  {
   "cell_type": "code",
   "execution_count": 51,
   "id": "b494948b",
   "metadata": {},
   "outputs": [
    {
     "data": {
      "text/plain": [
       "array([0, 0, 0, ..., 1, 1, 1])"
      ]
     },
     "execution_count": 51,
     "metadata": {},
     "output_type": "execute_result"
    }
   ],
   "source": [
    "truth = np.load(\"truth_data.npy\")\n",
    "truth"
   ]
  },
  {
   "cell_type": "code",
   "execution_count": 52,
   "id": "0ec742b8",
   "metadata": {},
   "outputs": [],
   "source": [
    "tra = np.array(truth[newevents])\n",
    "sha = np.array(truth[neweventss])\n",
    "\n",
    "trb = np.delete(tra, indices_70_percentt, axis=0)\n",
    "shb = np.delete(sha, indices_70_percents, axis=0)"
   ]
  },
  {
   "cell_type": "code",
   "execution_count": 53,
   "id": "a5153f17",
   "metadata": {},
   "outputs": [
    {
     "data": {
      "text/plain": [
       "(392, 392)"
      ]
     },
     "execution_count": 53,
     "metadata": {},
     "output_type": "execute_result"
    }
   ],
   "source": [
    "len(trb), len(ft)"
   ]
  },
  {
   "cell_type": "code",
   "execution_count": 54,
   "id": "fc4c0bd1",
   "metadata": {},
   "outputs": [
    {
     "data": {
      "text/plain": [
       "(408, 408)"
      ]
     },
     "execution_count": 54,
     "metadata": {},
     "output_type": "execute_result"
    }
   ],
   "source": [
    "len(shb), len(fs)"
   ]
  },
  {
   "cell_type": "code",
   "execution_count": 55,
   "id": "44941ebd",
   "metadata": {},
   "outputs": [],
   "source": [
    "pred = []\n",
    "for n, i in enumerate(ft):\n",
    "    if i >= -10.5:\n",
    "        pred.append(1)\n",
    "    if i < -10.5:\n",
    "        pred.append(0)\n",
    "trut = y_test_trk"
   ]
  },
  {
   "cell_type": "code",
   "execution_count": 56,
   "id": "17180eda",
   "metadata": {},
   "outputs": [
    {
     "data": {
      "text/plain": [
       "array([[229,  37],\n",
       "       [ 21, 105]], dtype=int64)"
      ]
     },
     "execution_count": 56,
     "metadata": {},
     "output_type": "execute_result"
    }
   ],
   "source": [
    "confusion_matrix(trut, pred)"
   ]
  },
  {
   "cell_type": "code",
   "execution_count": 87,
   "id": "12a7062d",
   "metadata": {},
   "outputs": [
    {
     "name": "stdout",
     "output_type": "stream",
     "text": [
      "[[108  15 172]\n",
      " [ 14 128 194]\n",
      " [ 14  10 145]]\n"
     ]
    },
    {
     "data": {
      "image/png": "[encoded data removed]",
      "text/plain": [
       "<Figure size 640x480 with 2 Axes>"
      ]
     },
     "metadata": {},
     "output_type": "display_data"
    }
   ],
   "source": [
    "tcut = 0\n",
    "scut = 0\n",
    "predictions = []\n",
    "for n, i in enumerate(ft):\n",
    "    if i >= tcut:\n",
    "        predictions.append(0)\n",
    "    if i < tcut:\n",
    "        predictions.append(2)\n",
    "for n, i in enumerate(fs):\n",
    "    if i >= scut:\n",
    "        predictions.append(1)\n",
    "    if i < scut:\n",
    "        predictions.append(2)\n",
    "truthh = np.concatenate((trb,shb))\n",
    "conf_matrix = confusion_matrix(truthh, predictions)\n",
    "conf_matrix_decimals = conf_matrix.astype('float') / conf_matrix.sum(axis=1)[:, np.newaxis]\n",
    "heatmap = sns.heatmap(conf_matrix_decimals, annot=True, cmap='coolwarm', fmt=\".3f\", linewidths=.5, square=False)\n",
    "plt.xlabel('Predicted Label')\n",
    "plt.ylabel('True Label')\n",
    "print(conf_matrix)"
   ]
  },
  {
   "cell_type": "code",
   "execution_count": 58,
   "id": "95a72c26",
   "metadata": {},
   "outputs": [],
   "source": [
    "conf_matrix = confusion_matrix(truthh, predictions)\n",
    "conf_matrix_decimals = conf_matrix.astype('float') / conf_matrix.sum(axis=1)[:, np.newaxis]"
   ]
  },
  {
   "cell_type": "code",
   "execution_count": 59,
   "id": "9487399c",
   "metadata": {},
   "outputs": [
    {
     "data": {
      "text/plain": [
       "array([[110,  31, 154],\n",
       "       [ 17, 140, 179],\n",
       "       [ 15,  28, 126]], dtype=int64)"
      ]
     },
     "execution_count": 59,
     "metadata": {},
     "output_type": "execute_result"
    }
   ],
   "source": [
    "conf_matrix"
   ]
  },
  {
   "cell_type": "code",
   "execution_count": 60,
   "id": "24a484ea",
   "metadata": {},
   "outputs": [
    {
     "data": {
      "text/plain": [
       "Text(50.722222222222214, 0.5, 'True Label')"
      ]
     },
     "execution_count": 60,
     "metadata": {},
     "output_type": "execute_result"
    },
    {
     "data": {
      "image/png": "[encoded data removed]",
      "text/plain": [
       "<Figure size 640x480 with 2 Axes>"
      ]
     },
     "metadata": {},
     "output_type": "display_data"
    }
   ],
   "source": [
    "heatmap = sns.heatmap(conf_matrix_decimals, annot=True, cmap='coolwarm', fmt=\".3f\", linewidths=.5, square=False)\n",
    "plt.xlabel('Predicted Label')\n",
    "plt.ylabel('True Label')"
   ]
  },
  {
   "cell_type": "code",
   "execution_count": null,
   "id": "79318cb1",
   "metadata": {},
   "outputs": [],
   "source": []
  },
  {
   "cell_type": "code",
   "execution_count": null,
   "id": "f3fc3a3d",
   "metadata": {},
   "outputs": [],
   "source": []
  },
  {
   "cell_type": "code",
   "execution_count": null,
   "id": "43d86ac2",
   "metadata": {},
   "outputs": [],
   "source": []
  },
  {
   "cell_type": "code",
   "execution_count": 61,
   "id": "ee7d210c",
   "metadata": {},
   "outputs": [],
   "source": [
    "TIT = cls_1_f\n",
    "SIT = cls_0_f"
   ]
  },
  {
   "cell_type": "code",
   "execution_count": 62,
   "id": "72064195",
   "metadata": {},
   "outputs": [
    {
     "data": {
      "image/png": "[encoded data removed]",
      "text/plain": [
       "<Figure size 640x480 with 1 Axes>"
      ]
     },
     "metadata": {},
     "output_type": "display_data"
    },
    {
     "name": "stdout",
     "output_type": "stream",
     "text": [
      "Best cut: 1.0\n",
      "At distance: 0.2855714427273995\n",
      "With AUC: 0.8565676593122703\n"
     ]
    }
   ],
   "source": [
    "cuts = np.arange(-35, 35, 0.5)\n",
    "efficiency = []\n",
    "purity = []\n",
    "\n",
    "purity.append(0)\n",
    "efficiency.append(1)\n",
    "\n",
    "for i in cuts:\n",
    "    goodtrk = []\n",
    "    badtrk = []\n",
    "    goodshw = []\n",
    "    badshw = []\n",
    "    for n in TIT:\n",
    "        if n >= i:\n",
    "            goodtrk.append(n)\n",
    "        else:\n",
    "            badtrk.append(n)\n",
    "    for k in SIT:\n",
    "        if k >= i:\n",
    "            badshw.append(k)\n",
    "        else:\n",
    "            goodshw.append(k)\n",
    "\n",
    "    eff = len(goodtrk)/(len(TIT))\n",
    "    pur = len(goodtrk)/(len(goodtrk)+len(badshw))\n",
    "\n",
    "    efficiency.append(eff)\n",
    "    purity.append(pur)\n",
    "\n",
    "purity.append(1)\n",
    "efficiency.append(0)\n",
    "\n",
    "plt.scatter(purity, efficiency)\n",
    "plt.plot(purity, efficiency)\n",
    "plt.scatter(1, 1, s=75, c='r')\n",
    "#plt.xlim(0.6,1.025)\n",
    "#plt.ylim(0.6,1.025)\n",
    "plt.xlabel('Purity', fontsize=25)\n",
    "plt.ylabel('Efficiency', fontsize=25)\n",
    "#plt.title('ROC Curve for Track Likelihood')\n",
    "plt.xticks(np.arange(0.6, 1.1, step=0.1), fontsize = 21)\n",
    "plt.yticks(np.arange(0.6, 1.1, step=0.1), fontsize = 21)\n",
    "plt.xlim(0.575,1.025)\n",
    "plt.ylim(0.575,1.025)\n",
    "plt.show()\n",
    "\n",
    "np.save(\"CE_BDT\", efficiency)\n",
    "np.save(\"CP_BDT\", purity)\n",
    "\n",
    "area = np.trapz(efficiency, x=purity)\n",
    "\n",
    "point = np.array([1, 1])\n",
    "data_points = np.column_stack((purity, efficiency))\n",
    "distances = np.linalg.norm(data_points - point, axis=1)\n",
    "closest_index = np.argmin(distances)\n",
    "closest_point = data_points[closest_index]\n",
    "dist = distances[closest_index]\n",
    "cutpoint = cuts[closest_index]\n",
    "\n",
    "print('Best cut:', cutpoint)\n",
    "print('At distance:', dist)\n",
    "print('With AUC:', area)\n",
    "\n",
    "#efficiency (true tracks as tracks/total true tracks)\n",
    "#purity (true tracks as tracks/number we have called tracks)"
   ]
  },
  {
   "cell_type": "code",
   "execution_count": 63,
   "id": "2b21cbf1",
   "metadata": {},
   "outputs": [
    {
     "ename": "NameError",
     "evalue": "name 'leng1' is not defined",
     "output_type": "error",
     "traceback": [
      "\u001b[1;31m---------------------------------------------------------------------------\u001b[0m",
      "\u001b[1;31mNameError\u001b[0m                                 Traceback (most recent call last)",
      "Cell \u001b[1;32mIn[63], line 9\u001b[0m\n\u001b[0;32m      7\u001b[0m \u001b[38;5;28;01mif\u001b[39;00m n \u001b[38;5;241m>\u001b[39m\u001b[38;5;241m=\u001b[39m cutpoint:\n\u001b[0;32m      8\u001b[0m     TTAT\u001b[38;5;241m.\u001b[39mappend(n)\n\u001b[1;32m----> 9\u001b[0m     \u001b[43mleng1\u001b[49m\u001b[38;5;241m.\u001b[39mappend(trkleng[i])\n\u001b[0;32m     10\u001b[0m     part1\u001b[38;5;241m.\u001b[39mappend(trkpart[i])\n\u001b[0;32m     11\u001b[0m \u001b[38;5;28;01mif\u001b[39;00m n \u001b[38;5;241m<\u001b[39m cutpoint:\n",
      "\u001b[1;31mNameError\u001b[0m: name 'leng1' is not defined"
     ]
    }
   ],
   "source": [
    "TTAT = []\n",
    "TTAS = []\n",
    "TSAT = []\n",
    "TSAS = []\n",
    "\n",
    "for i, n in enumerate(TIT):\n",
    "    if n >= cutpoint:\n",
    "        TTAT.append(n)\n",
    "        leng1.append(trkleng[i])\n",
    "        part1.append(trkpart[i])\n",
    "    if n < cutpoint:\n",
    "        TTAS.append(n)\n",
    "        leng2.append(trkleng[i])\n",
    "        part2.append(trkpart[i])\n",
    "        \n",
    "for i, k in enumerate(SIT):\n",
    "    if k >= cutpoint:\n",
    "        TSAT.append(k)\n",
    "        leng3.append(shwleng[i])\n",
    "        part3.append(shwpart[i])\n",
    "    if k < cutpoint:\n",
    "        TSAS.append(k)\n",
    "        leng4.append(shwleng[i])\n",
    "        part4.append(shwpart[i])\n",
    "\n",
    "TTATprob = len(TTAT)/(len(TTAT)+len(TTAS))\n",
    "TTASprob = len(TTAS)/(len(TTAT)+len(TTAS))\n",
    "TSATprob = len(TSAT)/(len(TSAT)+len(TSAS))\n",
    "TSASprob = len(TSAS)/(len(TSAT)+len(TSAS))\n",
    "\n",
    "confusion = np.array(([TTATprob, TTASprob],[TSATprob, TSASprob]))\n",
    "print(confusion)\n",
    "\n",
    "e1 = np.sqrt((TTATprob*(1-TTATprob))/len(TTAT))\n",
    "e2 = np.sqrt((TTASprob*(1-TTASprob))/len(TTAS))\n",
    "e3 = np.sqrt((TSATprob*(1-TSATprob))/len(TSAT))\n",
    "e4 = np.sqrt((TSASprob*(1-TSASprob))/len(TSAS))\n",
    "\n",
    "error = np.array(([e1, e2],[e3, e4]))\n",
    "print(error)"
   ]
  },
  {
   "cell_type": "code",
   "execution_count": null,
   "id": "074eeebd",
   "metadata": {},
   "outputs": [],
   "source": [
    "import seaborn as sns\n",
    "variable_names1 = ['as Track', 'as Shower']\n",
    "variable_names2 = ['True Track', 'True Shower']\n",
    "\n",
    "annot_arr = np.array([['0.980±0.002','0.02±0.01'],\n",
    "                      ['0.03±0.01','0.972±0.002']], dtype = str)\n",
    "\n",
    "plt.figure(figsize = (3.5,1))\n",
    "heatmap = sns.heatmap(confusion, annot=annot_arr, cmap='coolwarm', fmt=\"s\", linewidths=.5, square=False)\n",
    "heatmap.set_xticklabels(variable_names1, rotation=0)\n",
    "heatmap.set_yticklabels(variable_names2, rotation=0)\n",
    "#plt.title(\"Confusion Matrix\")±±±±±\n",
    "plt.show()"
   ]
  },
  {
   "cell_type": "code",
   "execution_count": null,
   "id": "f5ff932a",
   "metadata": {},
   "outputs": [],
   "source": [
    "#print(max(trkleng))\n",
    "#print(max(shwleng))\n",
    "bin_edges = np.arange(10, 310, 10)\n",
    "\n",
    "hist1, _ = np.histogram(trkleng, bins=bin_edges)\n",
    "hist2, _ = np.histogram(leng1, bins=bin_edges)\n",
    "\n",
    "#hist1_normalized = hist1 / len(trkleng)\n",
    "#hist2_normalized = hist2 / len(leng1)\n",
    "\n",
    "plt.bar(bin_edges[:-1], hist1, width=10, align='edge', alpha=0.75, label='All True Showers')\n",
    "plt.bar(bin_edges[:-1], hist2, width=10, align='edge', alpha=0.75, label='True Showers as Showers')\n",
    "#plt.title('')\n",
    "plt.xlabel('n Hits In Particle')\n",
    "plt.legend(loc='upper center')\n",
    "plt.show()\n",
    "\n",
    "xvalues = np.arange(10, 300, 10)\n",
    "eff = hist2/hist1\n",
    "error = []\n",
    "\n",
    "for i, val in enumerate(eff):\n",
    "    err = np.sqrt((val*(1-val))/(hist1[i]+hist2[i]))\n",
    "    error.append(err)\n",
    "\n",
    "#print(xvalues)\n",
    "#print(eff)\n",
    "#print(error)\n",
    "\n",
    "plt.errorbar(xvalues, eff, yerr=error, fmt='o', elinewidth=2, ecolor='red', capsize=5, ms=10)\n",
    "#plt.scatter(xvalues, (hist2/hist1))\n",
    "plt.xlabel('n Hits in Particle')\n",
    "plt.ylabel('Efficiency')\n",
    "#plt.xticks(fontsize = 21)\n",
    "#plt.yticks(fontsize = 21)\n",
    "plt.ylim(0.5,1.02)\n",
    "plt.show()"
   ]
  },
  {
   "cell_type": "code",
   "execution_count": null,
   "id": "bc877939",
   "metadata": {},
   "outputs": [],
   "source": []
  },
  {
   "cell_type": "code",
   "execution_count": null,
   "id": "8dc79e5e",
   "metadata": {},
   "outputs": [],
   "source": []
  },
  {
   "cell_type": "code",
   "execution_count": null,
   "id": "b1f1bf08",
   "metadata": {},
   "outputs": [],
   "source": []
  },
  {
   "cell_type": "code",
   "execution_count": null,
   "id": "3e3cf355",
   "metadata": {},
   "outputs": [],
   "source": []
  },
  {
   "cell_type": "code",
   "execution_count": null,
   "id": "4d55d299",
   "metadata": {
    "scrolled": false
   },
   "outputs": [],
   "source": []
  },
  {
   "cell_type": "code",
   "execution_count": null,
   "id": "22a59a66",
   "metadata": {},
   "outputs": [],
   "source": []
  }
 ],
 "metadata": {
  "kernelspec": {
   "display_name": "Python 3 (ipykernel)",
   "language": "python",
   "name": "python3"
  },
  "language_info": {
   "codemirror_mode": {
    "name": "ipython",
    "version": 3
   },
   "file_extension": ".py",
   "mimetype": "text/x-python",
   "name": "python",
   "nbconvert_exporter": "python",
   "pygments_lexer": "ipython3",
   "version": "3.9.18"
  }
 },
 "nbformat": 4,
 "nbformat_minor": 5
}
