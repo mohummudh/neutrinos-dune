{
 "cells": [
  {
   "cell_type": "code",
   "execution_count": 42,
   "id": "a9f7ed2e",
   "metadata": {},
   "outputs": [],
   "source": [
    "from uproot_io import Events, View\n",
    "import numpy as np\n",
    "import matplotlib\n",
    "import matplotlib.pyplot as plt\n",
    "import math\n",
    "from sklearn.metrics import confusion_matrix\n",
    "import seaborn as sns\n",
    "from sklearn.tree import DecisionTreeClassifier\n",
    "from sklearn.ensemble import AdaBoostClassifier\n",
    "from sklearn.datasets import make_classification"
   ]
  },
  {
   "cell_type": "code",
   "execution_count": 12,
   "id": "d644046b",
   "metadata": {},
   "outputs": [],
   "source": [
    "events1 = Events(r\"C:\\Users\\andre\\Desktop\\Physics Project\\bigdata\\CheatedRecoFile_1.root\")\n",
    "events2 = Events(r\"C:\\Users\\andre\\Desktop\\Physics Project\\bigdata\\CheatedRecoFile_2.root\")\n",
    "events3 = Events(r\"C:\\Users\\andre\\Desktop\\Physics Project\\bigdata\\CheatedRecoFile_3.root\")\n",
    "events4 = Events(r\"C:\\Users\\andre\\Desktop\\Physics Project\\bigdata\\CheatedRecoFile_4.root\")\n",
    "events5 = Events(r\"C:\\Users\\andre\\Desktop\\Physics Project\\bigdata\\CheatedRecoFile_5.root\")"
   ]
  },
  {
   "cell_type": "code",
   "execution_count": 13,
   "id": "cf3fa2f3",
   "metadata": {},
   "outputs": [
    {
     "data": {
      "text/plain": [
       "(9310, 9265, 9310, 9257, 9282)"
      ]
     },
     "execution_count": 13,
     "metadata": {},
     "output_type": "execute_result"
    }
   ],
   "source": [
    "# getting the event indices and finding the number of events in each file\n",
    "numbers1 = np.array(list(set(events1.event_number)))\n",
    "numbers2 = np.array(list(set(events2.event_number)))\n",
    "numbers3 = np.array(list(set(events3.event_number)))\n",
    "numbers4 = np.array(list(set(events4.event_number)))\n",
    "numbers5 = np.array(list(set(events5.event_number)))\n",
    "len(numbers1), len(numbers2), len(numbers3), len(numbers4), len(numbers5)"
   ]
  },
  {
   "cell_type": "code",
   "execution_count": 15,
   "id": "18db080f",
   "metadata": {},
   "outputs": [],
   "source": [
    "def process_numbers(numbers, events):\n",
    "    labels = []\n",
    "    for n in numbers:\n",
    "        mcp = []\n",
    "        index = np.where(events.event_number == n)[0]\n",
    "\n",
    "        for i in index:\n",
    "            parent = events.reco_parent_index[i]\n",
    "            if parent == 0:\n",
    "                mcp.append(events.mc_pdg[i])\n",
    "\n",
    "        if 13 in mcp or -13 in mcp:\n",
    "            labels.append(0)\n",
    "        elif 11 in mcp or -11 in mcp:\n",
    "            labels.append(1)\n",
    "        else:\n",
    "            labels.append(2)\n",
    "    return labels\n",
    "\n",
    "def oneHotLabelling(numbers_list, events_list):\n",
    "    labels = []\n",
    "    for numbers, events in zip(numbers_list, events_list):\n",
    "        labels.extend(process_numbers(numbers, events))\n",
    "    return np.array(labels)"
   ]
  },
  {
   "cell_type": "code",
   "execution_count": 16,
   "id": "893db039",
   "metadata": {},
   "outputs": [],
   "source": [
    "numbers_list = [numbers1, numbers2, numbers3, numbers4, numbers5]\n",
    "events_list = [events1, events2, events3, events4, events5]\n",
    "truth = oneHotLabelling(numbers_list, events_list)"
   ]
  },
  {
   "cell_type": "code",
   "execution_count": 17,
   "id": "926cec82",
   "metadata": {},
   "outputs": [
    {
     "data": {
      "text/plain": [
       "46424"
      ]
     },
     "execution_count": 17,
     "metadata": {},
     "output_type": "execute_result"
    },
    {
     "data": {
      "image/png": "[encoded data removed]",
      "text/plain": [
       "<Figure size 640x480 with 1 Axes>"
      ]
     },
     "metadata": {},
     "output_type": "display_data"
    }
   ],
   "source": [
    "plt.hist(truth)\n",
    "len(truth)"
   ]
  },
  {
   "cell_type": "code",
   "execution_count": 18,
   "id": "96d6a276",
   "metadata": {},
   "outputs": [],
   "source": [
    "# training data\n",
    "\n",
    "def fit_line(x, y):\n",
    "    A = np.vstack([x, np.ones_like(x)]).T\n",
    "    m, c = np.linalg.lstsq(A, y, rcond=None)[0]\n",
    "    return m, c\n",
    "\n",
    "def calculate_residuals(x, y, m, c):\n",
    "    #y_predicted = (m*x) + c\n",
    "    perpdist = abs(((-m*x) + y - c) / np.sqrt(m**2 + 1))\n",
    "    #residuals = np.abs(perpdist - y_predicted)\n",
    "    return perpdist\n",
    "\n",
    "def makedata(numbers_list, events_list):\n",
    "    data = []\n",
    "    datamuon = []\n",
    "    dataelectron = []\n",
    "    label = []\n",
    "    labelmuon = []\n",
    "    labelelectron = []\n",
    "    truth = []\n",
    "    \n",
    "    for numbers, events in zip(numbers_list, events_list):\n",
    "        \n",
    "        for n in numbers:\n",
    "            mcp = []\n",
    "            idx = np.where(events.event_number == n)[0]\n",
    "\n",
    "            for i in idx:\n",
    "                parent = events.reco_parent_index[i]\n",
    "                if parent == 0:\n",
    "                    mcp.append(events.mc_pdg[i])\n",
    "            \n",
    "            nhits = 0\n",
    "            big = []\n",
    "            for i in idx:\n",
    "                x = events.reco_hits_x_w[i]\n",
    "                z = events.reco_hits_w[i]\n",
    "                pdg = events.mc_pdg[i]\n",
    "                purity = events.purity[i]\n",
    "                complete = events.completeness[i]\n",
    "\n",
    "                if len(x) > 10 and pdg != 0 and purity > 0.75 and complete > 0.75:\n",
    "                    if len(x) > nhits:\n",
    "                        nhits = len(x)\n",
    "                        big.append(i)\n",
    "\n",
    "            if len(big) != 0:\n",
    "                i = big[-1]\n",
    "                \n",
    "                if 13 in mcp or -13 in mcp:\n",
    "                    truth.append(0)\n",
    "                elif 11 in mcp or -11 in mcp:\n",
    "                    truth.append(1)\n",
    "                else:\n",
    "                    truth.append(2)\n",
    "\n",
    "    \n",
    "                # line of best fit\n",
    "                gradients = []\n",
    "                intercepts = []\n",
    "\n",
    "                xmax = -1000\n",
    "                xmin = 1000\n",
    "                zmax = -1000\n",
    "                zmin = 1000\n",
    "    \n",
    "                x0 = events.reco_hits_x_w[i]\n",
    "                z0 = events.reco_hits_w[i]\n",
    "                if len(x0) > 0:\n",
    "                    if max(x0) >= xmax:\n",
    "                        xmax = max(x0)\n",
    "                    if min(x0) <= xmin:\n",
    "                        xmin = min(x0)\n",
    "                if len(z0) > 0:\n",
    "                    if max(z0) >= zmax:\n",
    "                        zmax = max(z0)\n",
    "                    if min(z0) <= zmin:\n",
    "                        zmin = min(z0)\n",
    "\n",
    "                xlen = 0.1*(xmax - xmin)\n",
    "                zlen = 0.1*(zmax - zmin)\n",
    "\n",
    "\n",
    "                # features\n",
    "                entry = []\n",
    "                entrymuon = []\n",
    "                entryelectron = []\n",
    "\n",
    "                # hits, pdg code, purity, completeness, adc values, vertex coordinates\n",
    "\n",
    "                x = events.reco_hits_x_w[i]\n",
    "                z = events.reco_hits_w[i]\n",
    "                pdg = events.mc_pdg[i]\n",
    "                purity = events.purity[i]\n",
    "                complete = events.completeness[i]\n",
    "\n",
    "                adc = events.reco_adcs_w[i]\n",
    "                vx = events.reco_particle_vtx_x[i]\n",
    "                vz = events.reco_particle_vtx_w[i]\n",
    "\n",
    "\n",
    "                if pdg == 22. or pdg == -11. or pdg == 11.:\n",
    "                    label.append(0) # showers\n",
    "                else:\n",
    "                    label.append(1) # tracks\n",
    "                    \n",
    "                if pdg == 13. or pdg == -13.:\n",
    "                    labelmuon.append(1) # muon\n",
    "                else:\n",
    "                    labelmuon.append(0) # other\n",
    "                \n",
    "                if pdg == 11. or pdg == -11.:\n",
    "                    labelelectron.append(1) # electron\n",
    "                else:\n",
    "                    labelelectron.append(0) # other\n",
    "\n",
    "\n",
    "                best_inliers = []\n",
    "                best_model = None\n",
    "                sample_size = 10\n",
    "                max_iterations = 100\n",
    "\n",
    "                for _ in range(max_iterations):\n",
    "                    sample_size = min(sample_size, len(x))\n",
    "                    sample_indices = np.random.choice(len(x), size=sample_size, replace=False)\n",
    "                    x_sample = x[sample_indices]\n",
    "                    z_sample = z[sample_indices]\n",
    "\n",
    "                    m, c = fit_line(x_sample, z_sample)\n",
    "                    residuals = calculate_residuals(x, z, m, c)\n",
    "                    inliers = np.where(residuals < (0.15*xlen))[0]\n",
    "\n",
    "                    if len(inliers) > len(best_inliers):\n",
    "                        best_inliers = inliers\n",
    "                        best_model = (m, c)\n",
    "\n",
    "                if len(best_inliers) > 0:\n",
    "                    m, c = best_model\n",
    "\n",
    "                    gradients.append(m)\n",
    "                    intercepts.append(c)\n",
    "\n",
    "                    # changing the coordinates into longitudinal and tranverse from best line\n",
    "\n",
    "                    znew = z - c\n",
    "                    angle = -math.atan(m)\n",
    "                    l = x * np.cos(angle) - znew * np.sin(angle)\n",
    "                    t = x * np.sin(angle) + znew * np.cos(angle)\n",
    "\n",
    "                    # feature 1: proximal hits within 5% of transverse range of the hits.\n",
    "\n",
    "                    tdiff = np.abs(max(t)-min(t))\n",
    "                    margin = tdiff*0.05\n",
    "                    inside = [x for x in t if x <= margin and x >= -margin]\n",
    "                    entry.append(len(inside)/len(t))\n",
    "\n",
    "                    # feature 2: the standard deviation of the last 30% of a topology\n",
    "\n",
    "                    p1 = int(0.7 * len(t))\n",
    "                    X = t[p1:]\n",
    "                    Xvar = np.var(X)\n",
    "\n",
    "                    p2 = int(0.3 * len(t))\n",
    "                    Y = t[:p2]\n",
    "                    Yvar = np.var(Y)\n",
    "\n",
    "                    if  Yvar > Xvar:\n",
    "                        resultY = np.sqrt(Yvar)\n",
    "                        entry.append(resultY)           \n",
    "                    else:\n",
    "                        resultX = np.sqrt(Xvar)\n",
    "                        entry.append(resultX)\n",
    "\n",
    "                    # feature 3: the hits per length\n",
    "\n",
    "                    above = np.sum(t > 0)\n",
    "                    below = np.sum(t < 0)\n",
    "\n",
    "                    lmin, lmax = np.min(l), np.max(l)\n",
    "                    length = lmax - lmin\n",
    "\n",
    "                    if above == 0 or below == 0 or length == 0:\n",
    "                        entry.append(2)\n",
    "\n",
    "                    else:\n",
    "                        # If symmetric, this should be close to 1, otherwise > 1\n",
    "                        hits = (above + below) / length\n",
    "                        entry.append(hits)\n",
    "\n",
    "\n",
    "                    # feature 4: energy in the last 10% of the track\n",
    "\n",
    "                    vznew = vz - c\n",
    "\n",
    "                    vl = vx * np.cos(angle) - vznew * np.sin(angle)\n",
    "                    vt = vx * np.sin(angle) + vznew * np.cos(angle)\n",
    "\n",
    "                    if max(l) < vl:\n",
    "                        l *= -1\n",
    "\n",
    "                    combined = list(zip(l, t, adc))\n",
    "                    sort = sorted(combined, key = lambda coord: coord[0])\n",
    "\n",
    "                    lnew, tnew, adcnew = zip(*sort)\n",
    "\n",
    "                    percent = int(0.9 * len(adcnew))\n",
    "                    X = adcnew[percent:]\n",
    "                    Xsum = np.sum(X)\n",
    "\n",
    "                    total = np.sum(adcnew)\n",
    "                    result = Xsum / total\n",
    "\n",
    "                    entry.append(result)\n",
    "\n",
    "                    # feature 5: mean connection distance\n",
    "\n",
    "                    total_distance = 0.0\n",
    "                    for j in range(len(x) - 1):\n",
    "                        distance = np.sqrt((x[j+1] - x[j])**2 + (z[j+1] - z[j])**2)\n",
    "                        total_distance += distance\n",
    "                    meandist = total_distance/(len(x)-1)\n",
    "                    entry.append(meandist)\n",
    "                    \n",
    "                    \n",
    "                    # NEW 1: Length\n",
    "\n",
    "                    lmin, lmax = np.min(l), np.max(l)\n",
    "                    length = lmax - lmin\n",
    "                    entrymuon.append(length)\n",
    "\n",
    "                    # NEW 2: Sum of charge \n",
    "\n",
    "                    summ = np.sum(adc)\n",
    "                    charge = summ/length\n",
    "                    entrymuon.append(charge)                    \n",
    "                    \n",
    "                    # NEW 1: Vtx dist\n",
    "            \n",
    "                    nx = events.true_neutrino_vtx_x[i]\n",
    "                    nw = events.true_neutrino_vtx_w[i]\n",
    "                    dists = []\n",
    "                    for n, i in enumerate(x):\n",
    "                        dist = np.sqrt((nx - i) ** 2 + (nw - z[n]) ** 2)\n",
    "                        dists.append(dist)\n",
    "                    entryelectron.append(min(dists))\n",
    "\n",
    "                    #px = x[0]\n",
    "                    #pw = z[0]\n",
    "                    #nx = events.true_neutrino_vtx_x[i]\n",
    "                    #nw = events.true_neutrino_vtx_w[i]\n",
    "\n",
    "                    #px = events.reco_particle_vtx_3d_x[i]\n",
    "                    #py = events.reco_particle_vtx_3d_y[i]\n",
    "                    #pz = events.reco_particle_vtx_3d_z[i]\n",
    "                    #nx = events.neutrino_vtx_3d_x[i]\n",
    "                    #ny = events.neutrino_vtx_3d_y[i]\n",
    "                    #nz = events.neutrino_vtx_3d_z[i]\n",
    "\n",
    "                    #pcord = np.array((px, pw))\n",
    "                    #ncord = np.array((nx, nw))\n",
    "                    #squared_diff = (pcord - ncord) ** 2\n",
    "                    #distance = np.sqrt(np.sum(squared_diff))\n",
    "                    #entry.append(distance)\n",
    "\n",
    "                    # NEW 2: Charge at start\n",
    "\n",
    "                    lmin, lmax = np.min(l), np.max(l)\n",
    "                    length = lmax - lmin\n",
    "\n",
    "                    vznew = vz - c\n",
    "\n",
    "                    vl = vx * np.cos(angle) - vznew * np.sin(angle)\n",
    "                    vt = vx * np.sin(angle) + vznew * np.cos(angle)\n",
    "\n",
    "                    if max(l) < vl:\n",
    "                        l *= -1\n",
    "\n",
    "                    combined = list(zip(l, t, adc))\n",
    "                    sort = sorted(combined, key = lambda coord: coord[0])\n",
    "\n",
    "                    lnew, tnew, adcnew = zip(*sort)\n",
    "\n",
    "                    percent = int(0.1 * len(adcnew))\n",
    "                    X = adcnew[:percent]\n",
    "                    Xsum = np.sum(X)\n",
    "                    newww = Xsum/(0.1*length)\n",
    "                    entryelectron.append(newww)                    \n",
    "                    \n",
    "                    data.append(entry)\n",
    "                    datamuon.append(entrymuon)\n",
    "                    dataelectron.append(entryelectron)\n",
    "\n",
    "\n",
    "                else:\n",
    "                    entry.append(0.1)  # proximal hits\n",
    "                    entry.append(1.5)  # standard deviation\n",
    "                    entry.append(2)    # hits per length\n",
    "                    entry.append(0.25) # energy\n",
    "                    entry.append(1)    # mean connection distance\n",
    "                    data.append(entry)\n",
    "                    \n",
    "                    entrymuon.append(150)\n",
    "                    entrymuon.append(250)\n",
    "                    datamuon.append(entrymuon)\n",
    "                    \n",
    "                    entryelectron.append(1)\n",
    "                    entryelectron.append(250)\n",
    "                    dataelectron.append(entryelectron)\n",
    "\n",
    "    return data, datamuon, dataelectron, label, labelmuon, labelelectron, truth"
   ]
  },
  {
   "cell_type": "code",
   "execution_count": 19,
   "id": "0e389c48",
   "metadata": {},
   "outputs": [],
   "source": [
    "fall, ftrk, fshw, lall, ltrk, lshw, truth = makedata(numbers_list, events_list)"
   ]
  },
  {
   "cell_type": "code",
   "execution_count": 23,
   "id": "7aa6e4f2",
   "metadata": {},
   "outputs": [],
   "source": [
    "fall = np.array(fall)\n",
    "ftrk = np.array(ftrk)\n",
    "fshw = np.array(fshw)\n",
    "lall = np.array(lall)\n",
    "ltrk = np.array(ltrk)\n",
    "lshw = np.array(lshw)\n",
    "truth = np.array(truth)\n",
    "\n",
    "np.save(\"fall\", fall)\n",
    "np.save(\"ftrk\", ftrk)\n",
    "np.save(\"fshw\", fshw)\n",
    "np.save(\"lall\", lall)\n",
    "np.save(\"ltrk\", ltrk)\n",
    "np.save(\"lshw\", lshw)\n",
    "np.save(\"truth\", truth)"
   ]
  },
  {
   "cell_type": "code",
   "execution_count": 34,
   "id": "a6eb2d98",
   "metadata": {},
   "outputs": [
    {
     "data": {
      "text/plain": [
       "(array([17389.,     0.,     0.,     0.,     0., 18531.,     0.,     0.,\n",
       "            0.,  9713.]),\n",
       " array([0. , 0.2, 0.4, 0.6, 0.8, 1. , 1.2, 1.4, 1.6, 1.8, 2. ]),\n",
       " <BarContainer object of 10 artists>)"
      ]
     },
     "execution_count": 34,
     "metadata": {},
     "output_type": "execute_result"
    },
    {
     "data": {
      "image/png": "[encoded data removed]",
      "text/plain": [
       "<Figure size 640x480 with 1 Axes>"
      ]
     },
     "metadata": {},
     "output_type": "display_data"
    }
   ],
   "source": [
    "plt.hist(truth)"
   ]
  },
  {
   "cell_type": "code",
   "execution_count": 35,
   "id": "322c3913",
   "metadata": {},
   "outputs": [],
   "source": [
    "indices = np.random.choice(len(fall), size=int(0.6 * len(fall)), replace=False)\n",
    "x_train = fall[indices]\n",
    "y_train = lall[indices]\n",
    "x_test = np.delete(fall, indices, axis=0)\n",
    "y_test = np.delete(lall, indices, axis=0)"
   ]
  },
  {
   "cell_type": "code",
   "execution_count": 50,
   "id": "1bbc4924",
   "metadata": {},
   "outputs": [],
   "source": [
    "cutftrk = np.delete(ftrk, indices, axis=0)\n",
    "cutltrk = np.delete(ltrk, indices, axis=0)\n",
    "cutfshw = np.delete(fshw, indices, axis=0)\n",
    "cutlshw = np.delete(lshw, indices, axis=0)\n",
    "cuttruth = np.delete(truth, indices, axis=0)"
   ]
  },
  {
   "cell_type": "code",
   "execution_count": 36,
   "id": "db9a2f1d",
   "metadata": {},
   "outputs": [
    {
     "data": {
      "text/html": [
       "<style>#sk-container-id-1 {color: black;}#sk-container-id-1 pre{padding: 0;}#sk-container-id-1 div.sk-toggleable {background-color: white;}#sk-container-id-1 label.sk-toggleable__label {cursor: pointer;display: block;width: 100%;margin-bottom: 0;padding: 0.3em;box-sizing: border-box;text-align: center;}#sk-container-id-1 label.sk-toggleable__label-arrow:before {content: \"▸\";float: left;margin-right: 0.25em;color: #696969;}#sk-container-id-1 label.sk-toggleable__label-arrow:hover:before {color: black;}#sk-container-id-1 div.sk-estimator:hover label.sk-toggleable__label-arrow:before {color: black;}#sk-container-id-1 div.sk-toggleable__content {max-height: 0;max-width: 0;overflow: hidden;text-align: left;background-color: #f0f8ff;}#sk-container-id-1 div.sk-toggleable__content pre {margin: 0.2em;color: black;border-radius: 0.25em;background-color: #f0f8ff;}#sk-container-id-1 input.sk-toggleable__control:checked~div.sk-toggleable__content {max-height: 200px;max-width: 100%;overflow: auto;}#sk-container-id-1 input.sk-toggleable__control:checked~label.sk-toggleable__label-arrow:before {content: \"▾\";}#sk-container-id-1 div.sk-estimator input.sk-toggleable__control:checked~label.sk-toggleable__label {background-color: #d4ebff;}#sk-container-id-1 div.sk-label input.sk-toggleable__control:checked~label.sk-toggleable__label {background-color: #d4ebff;}#sk-container-id-1 input.sk-hidden--visually {border: 0;clip: rect(1px 1px 1px 1px);clip: rect(1px, 1px, 1px, 1px);height: 1px;margin: -1px;overflow: hidden;padding: 0;position: absolute;width: 1px;}#sk-container-id-1 div.sk-estimator {font-family: monospace;background-color: #f0f8ff;border: 1px dotted black;border-radius: 0.25em;box-sizing: border-box;margin-bottom: 0.5em;}#sk-container-id-1 div.sk-estimator:hover {background-color: #d4ebff;}#sk-container-id-1 div.sk-parallel-item::after {content: \"\";width: 100%;border-bottom: 1px solid gray;flex-grow: 1;}#sk-container-id-1 div.sk-label:hover label.sk-toggleable__label {background-color: #d4ebff;}#sk-container-id-1 div.sk-serial::before {content: \"\";position: absolute;border-left: 1px solid gray;box-sizing: border-box;top: 0;bottom: 0;left: 50%;z-index: 0;}#sk-container-id-1 div.sk-serial {display: flex;flex-direction: column;align-items: center;background-color: white;padding-right: 0.2em;padding-left: 0.2em;position: relative;}#sk-container-id-1 div.sk-item {position: relative;z-index: 1;}#sk-container-id-1 div.sk-parallel {display: flex;align-items: stretch;justify-content: center;background-color: white;position: relative;}#sk-container-id-1 div.sk-item::before, #sk-container-id-1 div.sk-parallel-item::before {content: \"\";position: absolute;border-left: 1px solid gray;box-sizing: border-box;top: 0;bottom: 0;left: 50%;z-index: -1;}#sk-container-id-1 div.sk-parallel-item {display: flex;flex-direction: column;z-index: 1;position: relative;background-color: white;}#sk-container-id-1 div.sk-parallel-item:first-child::after {align-self: flex-end;width: 50%;}#sk-container-id-1 div.sk-parallel-item:last-child::after {align-self: flex-start;width: 50%;}#sk-container-id-1 div.sk-parallel-item:only-child::after {width: 0;}#sk-container-id-1 div.sk-dashed-wrapped {border: 1px dashed gray;margin: 0 0.4em 0.5em 0.4em;box-sizing: border-box;padding-bottom: 0.4em;background-color: white;}#sk-container-id-1 div.sk-label label {font-family: monospace;font-weight: bold;display: inline-block;line-height: 1.2em;}#sk-container-id-1 div.sk-label-container {text-align: center;}#sk-container-id-1 div.sk-container {/* jupyter's `normalize.less` sets `[hidden] { display: none; }` but bootstrap.min.css set `[hidden] { display: none !important; }` so we also need the `!important` here to be able to override the default hidden behavior on the sphinx rendered scikit-learn.org. See: https://github.com/scikit-learn/scikit-learn/issues/21755 */display: inline-block !important;position: relative;}#sk-container-id-1 div.sk-text-repr-fallback {display: none;}</style><div id=\"sk-container-id-1\" class=\"sk-top-container\"><div class=\"sk-text-repr-fallback\"><pre>AdaBoostClassifier(estimator=DecisionTreeClassifier(max_depth=14),\n",
       "                   n_estimators=100, random_state=0)</pre><b>In a Jupyter environment, please rerun this cell to show the HTML representation or trust the notebook. <br />On GitHub, the HTML representation is unable to render, please try loading this page with nbviewer.org.</b></div><div class=\"sk-container\" hidden><div class=\"sk-item sk-dashed-wrapped\"><div class=\"sk-label-container\"><div class=\"sk-label sk-toggleable\"><input class=\"sk-toggleable__control sk-hidden--visually\" id=\"sk-estimator-id-1\" type=\"checkbox\" ><label for=\"sk-estimator-id-1\" class=\"sk-toggleable__label sk-toggleable__label-arrow\">AdaBoostClassifier</label><div class=\"sk-toggleable__content\"><pre>AdaBoostClassifier(estimator=DecisionTreeClassifier(max_depth=14),\n",
       "                   n_estimators=100, random_state=0)</pre></div></div></div><div class=\"sk-parallel\"><div class=\"sk-parallel-item\"><div class=\"sk-item\"><div class=\"sk-label-container\"><div class=\"sk-label sk-toggleable\"><input class=\"sk-toggleable__control sk-hidden--visually\" id=\"sk-estimator-id-2\" type=\"checkbox\" ><label for=\"sk-estimator-id-2\" class=\"sk-toggleable__label sk-toggleable__label-arrow\">estimator: DecisionTreeClassifier</label><div class=\"sk-toggleable__content\"><pre>DecisionTreeClassifier(max_depth=14)</pre></div></div></div><div class=\"sk-serial\"><div class=\"sk-item\"><div class=\"sk-estimator sk-toggleable\"><input class=\"sk-toggleable__control sk-hidden--visually\" id=\"sk-estimator-id-3\" type=\"checkbox\" ><label for=\"sk-estimator-id-3\" class=\"sk-toggleable__label sk-toggleable__label-arrow\">DecisionTreeClassifier</label><div class=\"sk-toggleable__content\"><pre>DecisionTreeClassifier(max_depth=14)</pre></div></div></div></div></div></div></div></div></div></div>"
      ],
      "text/plain": [
       "AdaBoostClassifier(estimator=DecisionTreeClassifier(max_depth=14),\n",
       "                   n_estimators=100, random_state=0)"
      ]
     },
     "execution_count": 36,
     "metadata": {},
     "output_type": "execute_result"
    }
   ],
   "source": [
    "# Create the BDT with a base decision tree classifier (this is the default base classifier, included for illustration)\n",
    "base = DecisionTreeClassifier(max_depth=14)\n",
    "bdt = AdaBoostClassifier(estimator=base, n_estimators=100, random_state=0)\n",
    "# Fit the BDT to the training set\n",
    "bdt.fit(x_train, y_train)"
   ]
  },
  {
   "cell_type": "code",
   "execution_count": 37,
   "id": "6d0ecf17",
   "metadata": {},
   "outputs": [
    {
     "data": {
      "text/plain": [
       "1.0"
      ]
     },
     "execution_count": 37,
     "metadata": {},
     "output_type": "execute_result"
    }
   ],
   "source": [
    "# Check the training set classification performance\n",
    "bdt.score(x_train, y_train)"
   ]
  },
  {
   "cell_type": "code",
   "execution_count": 38,
   "id": "7f01650e",
   "metadata": {},
   "outputs": [
    {
     "data": {
      "text/plain": [
       "<matplotlib.legend.Legend at 0x19ab52e89a0>"
      ]
     },
     "execution_count": 38,
     "metadata": {},
     "output_type": "execute_result"
    },
    {
     "data": {
      "image/png": "[encoded data removed]",
      "text/plain": [
       "<Figure size 640x480 with 1 Axes>"
      ]
     },
     "metadata": {},
     "output_type": "display_data"
    }
   ],
   "source": [
    "f0 = bdt.decision_function(x_train)\n",
    "min_f = np.round(np.min(f0), 1)\n",
    "max_f = np.round(np.max(f0), 1)\n",
    "#bins = np.linspace(min_f, max_f, 4 * int((max_f - min_f) / 0.1) + 1)\n",
    "bins = 20\n",
    "cls_0_f0 = f0[np.where(y_train == 0)]\n",
    "cls_1_f0 = f0[np.where(y_train == 1)]\n",
    "weights_0 = np.ones_like(cls_0_f0) / len(cls_0_f0)\n",
    "weights_1 = np.ones_like(cls_1_f0) / len(cls_1_f0)\n",
    "plt.hist(cls_0_f0, color='r', weights=weights_0, bins=bins, histtype='step', label='Class 0 (Showers)')\n",
    "plt.hist(cls_1_f0, color='b', weights=weights_1, bins=bins, histtype='step', label='Class 1 (Tracks)')\n",
    "plt.legend()"
   ]
  },
  {
   "cell_type": "code",
   "execution_count": 39,
   "id": "e61e61b8",
   "metadata": {},
   "outputs": [
    {
     "data": {
      "text/plain": [
       "0.989591322449874"
      ]
     },
     "execution_count": 39,
     "metadata": {},
     "output_type": "execute_result"
    }
   ],
   "source": [
    "# Check the test set classification performance\n",
    "bdt.score(x_test, y_test)"
   ]
  },
  {
   "cell_type": "code",
   "execution_count": 40,
   "id": "b914b256",
   "metadata": {},
   "outputs": [
    {
     "data": {
      "text/plain": [
       "<matplotlib.legend.Legend at 0x19a5199b760>"
      ]
     },
     "execution_count": 40,
     "metadata": {},
     "output_type": "execute_result"
    },
    {
     "data": {
      "image/png": "[encoded data removed]",
      "text/plain": [
       "<Figure size 640x480 with 1 Axes>"
      ]
     },
     "metadata": {},
     "output_type": "display_data"
    }
   ],
   "source": [
    "f = bdt.decision_function(x_test)\n",
    "min_f = np.round(np.min(f), 1)\n",
    "max_f = np.round(np.max(f), 1)\n",
    "#bins = np.linspace(min_f, max_f, 4 * int((max_f - min_f) / 0.1) + 1)\n",
    "bins = 20\n",
    "cls_0_f = f[np.where(y_test == 0)]\n",
    "cls_1_f = f[np.where(y_test == 1)]\n",
    "weights_0 = np.ones_like(cls_0_f) / len(cls_0_f)\n",
    "weights_1 = np.ones_like(cls_1_f) / len(cls_1_f)\n",
    "plt.hist(cls_0_f, color='r', weights=weights_0, bins=bins, histtype='step', label='Class 0 (Showers)')\n",
    "plt.hist(cls_1_f, color='b', weights=weights_1, bins=bins, histtype='step', label='Class 1 (Tracks)')\n",
    "plt.legend()"
   ]
  },
  {
   "cell_type": "code",
   "execution_count": 45,
   "id": "413006af",
   "metadata": {},
   "outputs": [],
   "source": [
    "tracks = []\n",
    "showers = []\n",
    "for n, i in enumerate(f):\n",
    "    if i >= 3.5:\n",
    "        tracks.append(n)\n",
    "    if i < 3.5:\n",
    "        showers.append(n)"
   ]
  },
  {
   "cell_type": "code",
   "execution_count": 49,
   "id": "da70b8b0",
   "metadata": {},
   "outputs": [
    {
     "data": {
      "text/plain": [
       "(8918, 9336)"
      ]
     },
     "execution_count": 49,
     "metadata": {},
     "output_type": "execute_result"
    }
   ],
   "source": [
    "len(tracks), len(showers)"
   ]
  },
  {
   "cell_type": "code",
   "execution_count": 64,
   "id": "fa3abaee",
   "metadata": {},
   "outputs": [],
   "source": [
    "np.random.shuffle(tracks)\n",
    "split = int(len(tracks)*0.6)\n",
    "tracktraining = tracks[:split]\n",
    "tracktesting = tracks[split:]\n",
    "\n",
    "x_train_track = cutftrk[tracktraining]\n",
    "y_train_track = cutltrk[tracktraining]\n",
    "x_test_track = cutftrk[tracktesting]\n",
    "y_test_track = cutltrk[tracktesting]\n",
    "\n",
    "tracktruth = cuttruth[tracktesting]"
   ]
  },
  {
   "cell_type": "code",
   "execution_count": 65,
   "id": "7f12e97c",
   "metadata": {},
   "outputs": [],
   "source": [
    "np.random.shuffle(showers)\n",
    "split = int(len(showers)*0.6)\n",
    "showertraining = showers[:split]\n",
    "showertesting = showers[split:]\n",
    "\n",
    "x_train_shower = cutfshw[showertraining]\n",
    "y_train_shower = cutlshw[showertraining]\n",
    "x_test_shower = cutfshw[showertesting]\n",
    "y_test_shower = cutlshw[showertesting]\n",
    "\n",
    "showertruth = cuttruth[showertesting]"
   ]
  },
  {
   "cell_type": "code",
   "execution_count": 66,
   "id": "80842857",
   "metadata": {},
   "outputs": [
    {
     "data": {
      "text/plain": [
       "(3735, 2)"
      ]
     },
     "execution_count": 66,
     "metadata": {},
     "output_type": "execute_result"
    }
   ],
   "source": [
    "np.shape(x_test_shower)"
   ]
  },
  {
   "cell_type": "code",
   "execution_count": 67,
   "id": "88546409",
   "metadata": {},
   "outputs": [
    {
     "data": {
      "text/html": [
       "<style>#sk-container-id-4 {color: black;}#sk-container-id-4 pre{padding: 0;}#sk-container-id-4 div.sk-toggleable {background-color: white;}#sk-container-id-4 label.sk-toggleable__label {cursor: pointer;display: block;width: 100%;margin-bottom: 0;padding: 0.3em;box-sizing: border-box;text-align: center;}#sk-container-id-4 label.sk-toggleable__label-arrow:before {content: \"▸\";float: left;margin-right: 0.25em;color: #696969;}#sk-container-id-4 label.sk-toggleable__label-arrow:hover:before {color: black;}#sk-container-id-4 div.sk-estimator:hover label.sk-toggleable__label-arrow:before {color: black;}#sk-container-id-4 div.sk-toggleable__content {max-height: 0;max-width: 0;overflow: hidden;text-align: left;background-color: #f0f8ff;}#sk-container-id-4 div.sk-toggleable__content pre {margin: 0.2em;color: black;border-radius: 0.25em;background-color: #f0f8ff;}#sk-container-id-4 input.sk-toggleable__control:checked~div.sk-toggleable__content {max-height: 200px;max-width: 100%;overflow: auto;}#sk-container-id-4 input.sk-toggleable__control:checked~label.sk-toggleable__label-arrow:before {content: \"▾\";}#sk-container-id-4 div.sk-estimator input.sk-toggleable__control:checked~label.sk-toggleable__label {background-color: #d4ebff;}#sk-container-id-4 div.sk-label input.sk-toggleable__control:checked~label.sk-toggleable__label {background-color: #d4ebff;}#sk-container-id-4 input.sk-hidden--visually {border: 0;clip: rect(1px 1px 1px 1px);clip: rect(1px, 1px, 1px, 1px);height: 1px;margin: -1px;overflow: hidden;padding: 0;position: absolute;width: 1px;}#sk-container-id-4 div.sk-estimator {font-family: monospace;background-color: #f0f8ff;border: 1px dotted black;border-radius: 0.25em;box-sizing: border-box;margin-bottom: 0.5em;}#sk-container-id-4 div.sk-estimator:hover {background-color: #d4ebff;}#sk-container-id-4 div.sk-parallel-item::after {content: \"\";width: 100%;border-bottom: 1px solid gray;flex-grow: 1;}#sk-container-id-4 div.sk-label:hover label.sk-toggleable__label {background-color: #d4ebff;}#sk-container-id-4 div.sk-serial::before {content: \"\";position: absolute;border-left: 1px solid gray;box-sizing: border-box;top: 0;bottom: 0;left: 50%;z-index: 0;}#sk-container-id-4 div.sk-serial {display: flex;flex-direction: column;align-items: center;background-color: white;padding-right: 0.2em;padding-left: 0.2em;position: relative;}#sk-container-id-4 div.sk-item {position: relative;z-index: 1;}#sk-container-id-4 div.sk-parallel {display: flex;align-items: stretch;justify-content: center;background-color: white;position: relative;}#sk-container-id-4 div.sk-item::before, #sk-container-id-4 div.sk-parallel-item::before {content: \"\";position: absolute;border-left: 1px solid gray;box-sizing: border-box;top: 0;bottom: 0;left: 50%;z-index: -1;}#sk-container-id-4 div.sk-parallel-item {display: flex;flex-direction: column;z-index: 1;position: relative;background-color: white;}#sk-container-id-4 div.sk-parallel-item:first-child::after {align-self: flex-end;width: 50%;}#sk-container-id-4 div.sk-parallel-item:last-child::after {align-self: flex-start;width: 50%;}#sk-container-id-4 div.sk-parallel-item:only-child::after {width: 0;}#sk-container-id-4 div.sk-dashed-wrapped {border: 1px dashed gray;margin: 0 0.4em 0.5em 0.4em;box-sizing: border-box;padding-bottom: 0.4em;background-color: white;}#sk-container-id-4 div.sk-label label {font-family: monospace;font-weight: bold;display: inline-block;line-height: 1.2em;}#sk-container-id-4 div.sk-label-container {text-align: center;}#sk-container-id-4 div.sk-container {/* jupyter's `normalize.less` sets `[hidden] { display: none; }` but bootstrap.min.css set `[hidden] { display: none !important; }` so we also need the `!important` here to be able to override the default hidden behavior on the sphinx rendered scikit-learn.org. See: https://github.com/scikit-learn/scikit-learn/issues/21755 */display: inline-block !important;position: relative;}#sk-container-id-4 div.sk-text-repr-fallback {display: none;}</style><div id=\"sk-container-id-4\" class=\"sk-top-container\"><div class=\"sk-text-repr-fallback\"><pre>AdaBoostClassifier(estimator=DecisionTreeClassifier(max_depth=14),\n",
       "                   n_estimators=100, random_state=0)</pre><b>In a Jupyter environment, please rerun this cell to show the HTML representation or trust the notebook. <br />On GitHub, the HTML representation is unable to render, please try loading this page with nbviewer.org.</b></div><div class=\"sk-container\" hidden><div class=\"sk-item sk-dashed-wrapped\"><div class=\"sk-label-container\"><div class=\"sk-label sk-toggleable\"><input class=\"sk-toggleable__control sk-hidden--visually\" id=\"sk-estimator-id-10\" type=\"checkbox\" ><label for=\"sk-estimator-id-10\" class=\"sk-toggleable__label sk-toggleable__label-arrow\">AdaBoostClassifier</label><div class=\"sk-toggleable__content\"><pre>AdaBoostClassifier(estimator=DecisionTreeClassifier(max_depth=14),\n",
       "                   n_estimators=100, random_state=0)</pre></div></div></div><div class=\"sk-parallel\"><div class=\"sk-parallel-item\"><div class=\"sk-item\"><div class=\"sk-label-container\"><div class=\"sk-label sk-toggleable\"><input class=\"sk-toggleable__control sk-hidden--visually\" id=\"sk-estimator-id-11\" type=\"checkbox\" ><label for=\"sk-estimator-id-11\" class=\"sk-toggleable__label sk-toggleable__label-arrow\">estimator: DecisionTreeClassifier</label><div class=\"sk-toggleable__content\"><pre>DecisionTreeClassifier(max_depth=14)</pre></div></div></div><div class=\"sk-serial\"><div class=\"sk-item\"><div class=\"sk-estimator sk-toggleable\"><input class=\"sk-toggleable__control sk-hidden--visually\" id=\"sk-estimator-id-12\" type=\"checkbox\" ><label for=\"sk-estimator-id-12\" class=\"sk-toggleable__label sk-toggleable__label-arrow\">DecisionTreeClassifier</label><div class=\"sk-toggleable__content\"><pre>DecisionTreeClassifier(max_depth=14)</pre></div></div></div></div></div></div></div></div></div></div>"
      ],
      "text/plain": [
       "AdaBoostClassifier(estimator=DecisionTreeClassifier(max_depth=14),\n",
       "                   n_estimators=100, random_state=0)"
      ]
     },
     "execution_count": 67,
     "metadata": {},
     "output_type": "execute_result"
    }
   ],
   "source": [
    "# Create the BDT with a base decision tree classifier (this is the default base classifier, included for illustration)\n",
    "base = DecisionTreeClassifier(max_depth=14)\n",
    "bdtt = AdaBoostClassifier(estimator=base, n_estimators=100, random_state=0)\n",
    "# Fit the BDT to the training set\n",
    "bdtt.fit(x_train_track, y_train_track)"
   ]
  },
  {
   "cell_type": "code",
   "execution_count": 68,
   "id": "ab289ccd",
   "metadata": {},
   "outputs": [
    {
     "data": {
      "text/plain": [
       "0.7996076233183856"
      ]
     },
     "execution_count": 68,
     "metadata": {},
     "output_type": "execute_result"
    }
   ],
   "source": [
    "# Check the training set classification performance\n",
    "bdtt.score(x_test_track, y_test_track)"
   ]
  },
  {
   "cell_type": "code",
   "execution_count": 69,
   "id": "cf93003d",
   "metadata": {},
   "outputs": [],
   "source": [
    "#allll = np.concatenate((x_train_trk, x_test_trk))"
   ]
  },
  {
   "cell_type": "code",
   "execution_count": 78,
   "id": "29e40087",
   "metadata": {},
   "outputs": [
    {
     "data": {
      "text/plain": [
       "<matplotlib.legend.Legend at 0x19a85dd2ac0>"
      ]
     },
     "execution_count": 78,
     "metadata": {},
     "output_type": "execute_result"
    },
    {
     "data": {
      "image/png": "[encoded data removed]",
      "text/plain": [
       "<Figure size 640x480 with 1 Axes>"
      ]
     },
     "metadata": {},
     "output_type": "display_data"
    }
   ],
   "source": [
    "ft = bdtt.decision_function(x_test_track)\n",
    "min_f = np.round(np.min(ft), 1)\n",
    "max_f = np.round(np.max(ft), 1)\n",
    "#bins = np.linspace(min_f, max_f, 4 * int((max_f - min_f) / 0.1) + 1)\n",
    "bins = 20\n",
    "cls_0_f = ft[np.where(y_test_track == 0)]\n",
    "cls_1_f = ft[np.where(y_test_track == 1)]\n",
    "weights_0 = np.ones_like(cls_0_f) / len(cls_0_f)\n",
    "weights_1 = np.ones_like(cls_1_f) / len(cls_1_f)\n",
    "plt.hist(cls_0_f, color='r', weights=weights_0, bins=bins, histtype='step', label='Class 0 (Other)')\n",
    "plt.hist(cls_1_f, color='b', weights=weights_1, bins=bins, histtype='step', label='Class 1 (Muon)')\n",
    "plt.legend()"
   ]
  },
  {
   "cell_type": "code",
   "execution_count": 71,
   "id": "e5345315",
   "metadata": {},
   "outputs": [
    {
     "data": {
      "text/html": [
       "<style>#sk-container-id-5 {color: black;}#sk-container-id-5 pre{padding: 0;}#sk-container-id-5 div.sk-toggleable {background-color: white;}#sk-container-id-5 label.sk-toggleable__label {cursor: pointer;display: block;width: 100%;margin-bottom: 0;padding: 0.3em;box-sizing: border-box;text-align: center;}#sk-container-id-5 label.sk-toggleable__label-arrow:before {content: \"▸\";float: left;margin-right: 0.25em;color: #696969;}#sk-container-id-5 label.sk-toggleable__label-arrow:hover:before {color: black;}#sk-container-id-5 div.sk-estimator:hover label.sk-toggleable__label-arrow:before {color: black;}#sk-container-id-5 div.sk-toggleable__content {max-height: 0;max-width: 0;overflow: hidden;text-align: left;background-color: #f0f8ff;}#sk-container-id-5 div.sk-toggleable__content pre {margin: 0.2em;color: black;border-radius: 0.25em;background-color: #f0f8ff;}#sk-container-id-5 input.sk-toggleable__control:checked~div.sk-toggleable__content {max-height: 200px;max-width: 100%;overflow: auto;}#sk-container-id-5 input.sk-toggleable__control:checked~label.sk-toggleable__label-arrow:before {content: \"▾\";}#sk-container-id-5 div.sk-estimator input.sk-toggleable__control:checked~label.sk-toggleable__label {background-color: #d4ebff;}#sk-container-id-5 div.sk-label input.sk-toggleable__control:checked~label.sk-toggleable__label {background-color: #d4ebff;}#sk-container-id-5 input.sk-hidden--visually {border: 0;clip: rect(1px 1px 1px 1px);clip: rect(1px, 1px, 1px, 1px);height: 1px;margin: -1px;overflow: hidden;padding: 0;position: absolute;width: 1px;}#sk-container-id-5 div.sk-estimator {font-family: monospace;background-color: #f0f8ff;border: 1px dotted black;border-radius: 0.25em;box-sizing: border-box;margin-bottom: 0.5em;}#sk-container-id-5 div.sk-estimator:hover {background-color: #d4ebff;}#sk-container-id-5 div.sk-parallel-item::after {content: \"\";width: 100%;border-bottom: 1px solid gray;flex-grow: 1;}#sk-container-id-5 div.sk-label:hover label.sk-toggleable__label {background-color: #d4ebff;}#sk-container-id-5 div.sk-serial::before {content: \"\";position: absolute;border-left: 1px solid gray;box-sizing: border-box;top: 0;bottom: 0;left: 50%;z-index: 0;}#sk-container-id-5 div.sk-serial {display: flex;flex-direction: column;align-items: center;background-color: white;padding-right: 0.2em;padding-left: 0.2em;position: relative;}#sk-container-id-5 div.sk-item {position: relative;z-index: 1;}#sk-container-id-5 div.sk-parallel {display: flex;align-items: stretch;justify-content: center;background-color: white;position: relative;}#sk-container-id-5 div.sk-item::before, #sk-container-id-5 div.sk-parallel-item::before {content: \"\";position: absolute;border-left: 1px solid gray;box-sizing: border-box;top: 0;bottom: 0;left: 50%;z-index: -1;}#sk-container-id-5 div.sk-parallel-item {display: flex;flex-direction: column;z-index: 1;position: relative;background-color: white;}#sk-container-id-5 div.sk-parallel-item:first-child::after {align-self: flex-end;width: 50%;}#sk-container-id-5 div.sk-parallel-item:last-child::after {align-self: flex-start;width: 50%;}#sk-container-id-5 div.sk-parallel-item:only-child::after {width: 0;}#sk-container-id-5 div.sk-dashed-wrapped {border: 1px dashed gray;margin: 0 0.4em 0.5em 0.4em;box-sizing: border-box;padding-bottom: 0.4em;background-color: white;}#sk-container-id-5 div.sk-label label {font-family: monospace;font-weight: bold;display: inline-block;line-height: 1.2em;}#sk-container-id-5 div.sk-label-container {text-align: center;}#sk-container-id-5 div.sk-container {/* jupyter's `normalize.less` sets `[hidden] { display: none; }` but bootstrap.min.css set `[hidden] { display: none !important; }` so we also need the `!important` here to be able to override the default hidden behavior on the sphinx rendered scikit-learn.org. See: https://github.com/scikit-learn/scikit-learn/issues/21755 */display: inline-block !important;position: relative;}#sk-container-id-5 div.sk-text-repr-fallback {display: none;}</style><div id=\"sk-container-id-5\" class=\"sk-top-container\"><div class=\"sk-text-repr-fallback\"><pre>AdaBoostClassifier(estimator=DecisionTreeClassifier(max_depth=14),\n",
       "                   n_estimators=100, random_state=0)</pre><b>In a Jupyter environment, please rerun this cell to show the HTML representation or trust the notebook. <br />On GitHub, the HTML representation is unable to render, please try loading this page with nbviewer.org.</b></div><div class=\"sk-container\" hidden><div class=\"sk-item sk-dashed-wrapped\"><div class=\"sk-label-container\"><div class=\"sk-label sk-toggleable\"><input class=\"sk-toggleable__control sk-hidden--visually\" id=\"sk-estimator-id-13\" type=\"checkbox\" ><label for=\"sk-estimator-id-13\" class=\"sk-toggleable__label sk-toggleable__label-arrow\">AdaBoostClassifier</label><div class=\"sk-toggleable__content\"><pre>AdaBoostClassifier(estimator=DecisionTreeClassifier(max_depth=14),\n",
       "                   n_estimators=100, random_state=0)</pre></div></div></div><div class=\"sk-parallel\"><div class=\"sk-parallel-item\"><div class=\"sk-item\"><div class=\"sk-label-container\"><div class=\"sk-label sk-toggleable\"><input class=\"sk-toggleable__control sk-hidden--visually\" id=\"sk-estimator-id-14\" type=\"checkbox\" ><label for=\"sk-estimator-id-14\" class=\"sk-toggleable__label sk-toggleable__label-arrow\">estimator: DecisionTreeClassifier</label><div class=\"sk-toggleable__content\"><pre>DecisionTreeClassifier(max_depth=14)</pre></div></div></div><div class=\"sk-serial\"><div class=\"sk-item\"><div class=\"sk-estimator sk-toggleable\"><input class=\"sk-toggleable__control sk-hidden--visually\" id=\"sk-estimator-id-15\" type=\"checkbox\" ><label for=\"sk-estimator-id-15\" class=\"sk-toggleable__label sk-toggleable__label-arrow\">DecisionTreeClassifier</label><div class=\"sk-toggleable__content\"><pre>DecisionTreeClassifier(max_depth=14)</pre></div></div></div></div></div></div></div></div></div></div>"
      ],
      "text/plain": [
       "AdaBoostClassifier(estimator=DecisionTreeClassifier(max_depth=14),\n",
       "                   n_estimators=100, random_state=0)"
      ]
     },
     "execution_count": 71,
     "metadata": {},
     "output_type": "execute_result"
    }
   ],
   "source": [
    "# Create the BDT with a base decision tree classifier (this is the default base classifier, included for illustration)\n",
    "base = DecisionTreeClassifier(max_depth=14)\n",
    "bdts = AdaBoostClassifier(estimator=base, n_estimators=100, random_state=0)\n",
    "# Fit the BDT to the training set\n",
    "bdts.fit(x_train_shower, y_train_shower)"
   ]
  },
  {
   "cell_type": "code",
   "execution_count": 72,
   "id": "c5f9e7f2",
   "metadata": {},
   "outputs": [
    {
     "data": {
      "text/plain": [
       "0.8358768406961178"
      ]
     },
     "execution_count": 72,
     "metadata": {},
     "output_type": "execute_result"
    }
   ],
   "source": [
    "# Check the training set classification performance\n",
    "bdts.score(x_test_shower, y_test_shower)"
   ]
  },
  {
   "cell_type": "code",
   "execution_count": 73,
   "id": "85a39b4f",
   "metadata": {},
   "outputs": [],
   "source": [
    "#allll = np.concatenate((x_train_shw, x_test_shw))"
   ]
  },
  {
   "cell_type": "code",
   "execution_count": 74,
   "id": "76697e25",
   "metadata": {},
   "outputs": [
    {
     "data": {
      "text/plain": [
       "<matplotlib.legend.Legend at 0x19a800c4070>"
      ]
     },
     "execution_count": 74,
     "metadata": {},
     "output_type": "execute_result"
    },
    {
     "data": {
      "image/png": "[encoded data removed]",
      "text/plain": [
       "<Figure size 640x480 with 1 Axes>"
      ]
     },
     "metadata": {},
     "output_type": "display_data"
    }
   ],
   "source": [
    "fs = bdts.decision_function(x_test_shower)\n",
    "min_f = np.round(np.min(fs), 1)\n",
    "max_f = np.round(np.max(fs), 1)\n",
    "#bins = np.linspace(min_f, max_f, 4 * int((max_f - min_f) / 0.1) + 1)\n",
    "bins = 20\n",
    "cls_0_f = fs[np.where(y_test_shower == 0)]\n",
    "cls_1_f = fs[np.where(y_test_shower == 1)]\n",
    "weights_0 = np.ones_like(cls_0_f) / len(cls_0_f)\n",
    "weights_1 = np.ones_like(cls_1_f) / len(cls_1_f)\n",
    "plt.hist(cls_0_f, color='r', weights=weights_0, bins=bins, histtype='step', label='Class 0 (Other)')\n",
    "plt.hist(cls_1_f, color='b', weights=weights_1, bins=bins, histtype='step', label='Class 1 (Electron)')\n",
    "plt.legend()"
   ]
  },
  {
   "cell_type": "code",
   "execution_count": 83,
   "id": "12a7062d",
   "metadata": {},
   "outputs": [
    {
     "name": "stdout",
     "output_type": "stream",
     "text": [
      "[[2124   92  552]\n",
      " [  97 2335  547]\n",
      " [ 241  199 1116]]\n"
     ]
    },
    {
     "data": {
      "image/png": "[encoded data removed]",
      "text/plain": [
       "<Figure size 640x480 with 2 Axes>"
      ]
     },
     "metadata": {},
     "output_type": "display_data"
    }
   ],
   "source": [
    "tcut = -3.5\n",
    "scut = -0.5\n",
    "predictions = []\n",
    "for n, i in enumerate(ft):\n",
    "    if i >= tcut:\n",
    "        predictions.append(0)\n",
    "    if i < tcut:\n",
    "        predictions.append(2)\n",
    "for n, i in enumerate(fs):\n",
    "    if i >= scut:\n",
    "        predictions.append(1)\n",
    "    if i < scut:\n",
    "        predictions.append(2)\n",
    "truthh = np.concatenate((tracktruth,showertruth))\n",
    "conf_matrix = confusion_matrix(truthh, predictions)\n",
    "conf_matrix_decimals = conf_matrix.astype('float') / conf_matrix.sum(axis=1)[:, np.newaxis]\n",
    "heatmap = sns.heatmap(conf_matrix_decimals, annot=True, cmap='coolwarm', fmt=\".3f\", linewidths=.5, square=False)\n",
    "plt.xlabel('Predicted Label')\n",
    "plt.ylabel('True Label')\n",
    "print(conf_matrix)"
   ]
  },
  {
   "cell_type": "code",
   "execution_count": null,
   "id": "79318cb1",
   "metadata": {},
   "outputs": [],
   "source": []
  },
  {
   "cell_type": "code",
   "execution_count": null,
   "id": "f3fc3a3d",
   "metadata": {},
   "outputs": [],
   "source": []
  },
  {
   "cell_type": "code",
   "execution_count": null,
   "id": "43d86ac2",
   "metadata": {},
   "outputs": [],
   "source": []
  },
  {
   "cell_type": "code",
   "execution_count": 79,
   "id": "ee7d210c",
   "metadata": {},
   "outputs": [],
   "source": [
    "TIT = cls_1_f\n",
    "SIT = cls_0_f"
   ]
  },
  {
   "cell_type": "code",
   "execution_count": 82,
   "id": "72064195",
   "metadata": {},
   "outputs": [
    {
     "data": {
      "image/png": "[encoded data removed]",
      "text/plain": [
       "<Figure size 640x480 with 1 Axes>"
      ]
     },
     "metadata": {},
     "output_type": "display_data"
    },
    {
     "name": "stdout",
     "output_type": "stream",
     "text": [
      "Best cut: -3.5\n",
      "At distance: 0.21314488270496793\n",
      "With AUC: 0.9331203213462075\n"
     ]
    }
   ],
   "source": [
    "cuts = np.arange(-20, 20, 0.5)\n",
    "efficiency = []\n",
    "purity = []\n",
    "\n",
    "purity.append(0)\n",
    "efficiency.append(1)\n",
    "\n",
    "for i in cuts:\n",
    "    goodtrk = []\n",
    "    badtrk = []\n",
    "    goodshw = []\n",
    "    badshw = []\n",
    "    for n in TIT:\n",
    "        if n >= i:\n",
    "            goodtrk.append(n)\n",
    "        else:\n",
    "            badtrk.append(n)\n",
    "    for k in SIT:\n",
    "        if k >= i:\n",
    "            badshw.append(k)\n",
    "        else:\n",
    "            goodshw.append(k)\n",
    "\n",
    "    eff = len(goodtrk)/(len(TIT))\n",
    "    pur = len(goodtrk)/(len(goodtrk)+len(badshw))\n",
    "\n",
    "    efficiency.append(eff)\n",
    "    purity.append(pur)\n",
    "\n",
    "purity.append(1)\n",
    "efficiency.append(0)\n",
    "\n",
    "plt.scatter(purity, efficiency)\n",
    "plt.plot(purity, efficiency)\n",
    "plt.scatter(1, 1, s=75, c='r')\n",
    "#plt.xlim(0.6,1.025)\n",
    "#plt.ylim(0.6,1.025)\n",
    "plt.xlabel('Purity', fontsize=25)\n",
    "plt.ylabel('Efficiency', fontsize=25)\n",
    "#plt.title('ROC Curve for Track Likelihood')\n",
    "plt.xticks(np.arange(0.6, 1.1, step=0.1), fontsize = 21)\n",
    "plt.yticks(np.arange(0.6, 1.1, step=0.1), fontsize = 21)\n",
    "plt.xlim(0.575,1.025)\n",
    "plt.ylim(0.575,1.025)\n",
    "plt.show()\n",
    "\n",
    "np.save(\"CE_BDT\", efficiency)\n",
    "np.save(\"CP_BDT\", purity)\n",
    "\n",
    "area = np.trapz(efficiency, x=purity)\n",
    "\n",
    "point = np.array([1, 1])\n",
    "data_points = np.column_stack((purity, efficiency))\n",
    "distances = np.linalg.norm(data_points - point, axis=1)\n",
    "closest_index = np.argmin(distances)\n",
    "closest_point = data_points[closest_index]\n",
    "dist = distances[closest_index]\n",
    "cutpoint = cuts[closest_index]\n",
    "\n",
    "print('Best cut:', cutpoint)\n",
    "print('At distance:', dist)\n",
    "print('With AUC:', area)\n",
    "\n",
    "#efficiency (true tracks as tracks/total true tracks)\n",
    "#purity (true tracks as tracks/number we have called tracks)"
   ]
  },
  {
   "cell_type": "code",
   "execution_count": 63,
   "id": "2b21cbf1",
   "metadata": {},
   "outputs": [
    {
     "ename": "NameError",
     "evalue": "name 'leng1' is not defined",
     "output_type": "error",
     "traceback": [
      "\u001b[1;31m---------------------------------------------------------------------------\u001b[0m",
      "\u001b[1;31mNameError\u001b[0m                                 Traceback (most recent call last)",
      "Cell \u001b[1;32mIn[63], line 9\u001b[0m\n\u001b[0;32m      7\u001b[0m \u001b[38;5;28;01mif\u001b[39;00m n \u001b[38;5;241m>\u001b[39m\u001b[38;5;241m=\u001b[39m cutpoint:\n\u001b[0;32m      8\u001b[0m     TTAT\u001b[38;5;241m.\u001b[39mappend(n)\n\u001b[1;32m----> 9\u001b[0m     \u001b[43mleng1\u001b[49m\u001b[38;5;241m.\u001b[39mappend(trkleng[i])\n\u001b[0;32m     10\u001b[0m     part1\u001b[38;5;241m.\u001b[39mappend(trkpart[i])\n\u001b[0;32m     11\u001b[0m \u001b[38;5;28;01mif\u001b[39;00m n \u001b[38;5;241m<\u001b[39m cutpoint:\n",
      "\u001b[1;31mNameError\u001b[0m: name 'leng1' is not defined"
     ]
    }
   ],
   "source": [
    "TTAT = []\n",
    "TTAS = []\n",
    "TSAT = []\n",
    "TSAS = []\n",
    "\n",
    "for i, n in enumerate(TIT):\n",
    "    if n >= cutpoint:\n",
    "        TTAT.append(n)\n",
    "        leng1.append(trkleng[i])\n",
    "        part1.append(trkpart[i])\n",
    "    if n < cutpoint:\n",
    "        TTAS.append(n)\n",
    "        leng2.append(trkleng[i])\n",
    "        part2.append(trkpart[i])\n",
    "        \n",
    "for i, k in enumerate(SIT):\n",
    "    if k >= cutpoint:\n",
    "        TSAT.append(k)\n",
    "        leng3.append(shwleng[i])\n",
    "        part3.append(shwpart[i])\n",
    "    if k < cutpoint:\n",
    "        TSAS.append(k)\n",
    "        leng4.append(shwleng[i])\n",
    "        part4.append(shwpart[i])\n",
    "\n",
    "TTATprob = len(TTAT)/(len(TTAT)+len(TTAS))\n",
    "TTASprob = len(TTAS)/(len(TTAT)+len(TTAS))\n",
    "TSATprob = len(TSAT)/(len(TSAT)+len(TSAS))\n",
    "TSASprob = len(TSAS)/(len(TSAT)+len(TSAS))\n",
    "\n",
    "confusion = np.array(([TTATprob, TTASprob],[TSATprob, TSASprob]))\n",
    "print(confusion)\n",
    "\n",
    "e1 = np.sqrt((TTATprob*(1-TTATprob))/len(TTAT))\n",
    "e2 = np.sqrt((TTASprob*(1-TTASprob))/len(TTAS))\n",
    "e3 = np.sqrt((TSATprob*(1-TSATprob))/len(TSAT))\n",
    "e4 = np.sqrt((TSASprob*(1-TSASprob))/len(TSAS))\n",
    "\n",
    "error = np.array(([e1, e2],[e3, e4]))\n",
    "print(error)"
   ]
  },
  {
   "cell_type": "code",
   "execution_count": null,
   "id": "074eeebd",
   "metadata": {},
   "outputs": [],
   "source": [
    "import seaborn as sns\n",
    "variable_names1 = ['as Track', 'as Shower']\n",
    "variable_names2 = ['True Track', 'True Shower']\n",
    "\n",
    "annot_arr = np.array([['0.980±0.002','0.02±0.01'],\n",
    "                      ['0.03±0.01','0.972±0.002']], dtype = str)\n",
    "\n",
    "plt.figure(figsize = (3.5,1))\n",
    "heatmap = sns.heatmap(confusion, annot=annot_arr, cmap='coolwarm', fmt=\"s\", linewidths=.5, square=False)\n",
    "heatmap.set_xticklabels(variable_names1, rotation=0)\n",
    "heatmap.set_yticklabels(variable_names2, rotation=0)\n",
    "#plt.title(\"Confusion Matrix\")±±±±±\n",
    "plt.show()"
   ]
  },
  {
   "cell_type": "code",
   "execution_count": null,
   "id": "f5ff932a",
   "metadata": {},
   "outputs": [],
   "source": [
    "#print(max(trkleng))\n",
    "#print(max(shwleng))\n",
    "bin_edges = np.arange(10, 310, 10)\n",
    "\n",
    "hist1, _ = np.histogram(trkleng, bins=bin_edges)\n",
    "hist2, _ = np.histogram(leng1, bins=bin_edges)\n",
    "\n",
    "#hist1_normalized = hist1 / len(trkleng)\n",
    "#hist2_normalized = hist2 / len(leng1)\n",
    "\n",
    "plt.bar(bin_edges[:-1], hist1, width=10, align='edge', alpha=0.75, label='All True Showers')\n",
    "plt.bar(bin_edges[:-1], hist2, width=10, align='edge', alpha=0.75, label='True Showers as Showers')\n",
    "#plt.title('')\n",
    "plt.xlabel('n Hits In Particle')\n",
    "plt.legend(loc='upper center')\n",
    "plt.show()\n",
    "\n",
    "xvalues = np.arange(10, 300, 10)\n",
    "eff = hist2/hist1\n",
    "error = []\n",
    "\n",
    "for i, val in enumerate(eff):\n",
    "    err = np.sqrt((val*(1-val))/(hist1[i]+hist2[i]))\n",
    "    error.append(err)\n",
    "\n",
    "#print(xvalues)\n",
    "#print(eff)\n",
    "#print(error)\n",
    "\n",
    "plt.errorbar(xvalues, eff, yerr=error, fmt='o', elinewidth=2, ecolor='red', capsize=5, ms=10)\n",
    "#plt.scatter(xvalues, (hist2/hist1))\n",
    "plt.xlabel('n Hits in Particle')\n",
    "plt.ylabel('Efficiency')\n",
    "#plt.xticks(fontsize = 21)\n",
    "#plt.yticks(fontsize = 21)\n",
    "plt.ylim(0.5,1.02)\n",
    "plt.show()"
   ]
  },
  {
   "cell_type": "code",
   "execution_count": null,
   "id": "bc877939",
   "metadata": {},
   "outputs": [],
   "source": []
  },
  {
   "cell_type": "code",
   "execution_count": null,
   "id": "8dc79e5e",
   "metadata": {},
   "outputs": [],
   "source": []
  },
  {
   "cell_type": "code",
   "execution_count": null,
   "id": "b1f1bf08",
   "metadata": {},
   "outputs": [],
   "source": []
  },
  {
   "cell_type": "code",
   "execution_count": null,
   "id": "3e3cf355",
   "metadata": {},
   "outputs": [],
   "source": []
  },
  {
   "cell_type": "code",
   "execution_count": null,
   "id": "4d55d299",
   "metadata": {
    "scrolled": false
   },
   "outputs": [],
   "source": []
  },
  {
   "cell_type": "code",
   "execution_count": null,
   "id": "22a59a66",
   "metadata": {},
   "outputs": [],
   "source": []
  }
 ],
 "metadata": {
  "kernelspec": {
   "display_name": "Python 3 (ipykernel)",
   "language": "python",
   "name": "python3"
  },
  "language_info": {
   "codemirror_mode": {
    "name": "ipython",
    "version": 3
   },
   "file_extension": ".py",
   "mimetype": "text/x-python",
   "name": "python",
   "nbconvert_exporter": "python",
   "pygments_lexer": "ipython3",
   "version": "3.9.18"
  }
 },
 "nbformat": 4,
 "nbformat_minor": 5
}
