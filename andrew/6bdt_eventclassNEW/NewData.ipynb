{
 "cells": [
  {
   "cell_type": "code",
   "execution_count": 1,
   "id": "d723ad83",
   "metadata": {},
   "outputs": [],
   "source": [
    "from uproot_io import Events, View\n",
    "import numpy as np\n",
    "import matplotlib\n",
    "import matplotlib.pyplot as plt\n",
    "import math\n",
    "#titlesize = 20\n",
    "#labelsize = 14\n",
    "from sklearn.tree import DecisionTreeClassifier\n",
    "from sklearn.ensemble import AdaBoostClassifier\n",
    "from sklearn.datasets import make_classification"
   ]
  },
  {
   "cell_type": "code",
   "execution_count": 2,
   "id": "a112dc89",
   "metadata": {},
   "outputs": [],
   "source": [
    "events1 = Events(r\"C:\\Users\\andre\\Desktop\\Physics Project\\bigdata\\CheatedRecoFile_1.root\")\n",
    "events2 = Events(r\"C:\\Users\\andre\\Desktop\\Physics Project\\bigdata\\CheatedRecoFile_2.root\")\n",
    "events3 = Events(r\"C:\\Users\\andre\\Desktop\\Physics Project\\bigdata\\CheatedRecoFile_3.root\")\n",
    "events4 = Events(r\"C:\\Users\\andre\\Desktop\\Physics Project\\bigdata\\CheatedRecoFile_4.root\")"
   ]
  },
  {
   "cell_type": "code",
   "execution_count": 3,
   "id": "a1a06d1e",
   "metadata": {},
   "outputs": [],
   "source": [
    "#need all of these\n",
    "training = np.load(\"training_events.npy\")\n",
    "testing = np.load(\"testing_events.npy\")\n",
    "truth = np.load(\"truth_data.npy\")\n",
    "x_train = np.load(\"x_train.npy\")\n",
    "y_train = np.load(\"y_train.npy\")\n",
    "x_test_all = np.load(\"x_test.npy\")\n",
    "y_test_all = np.load(\"y_test.npy\")"
   ]
  },
  {
   "cell_type": "code",
   "execution_count": 21,
   "id": "cc873147",
   "metadata": {},
   "outputs": [],
   "source": [
    "random_numbers1 = np.random.randint(0, max(events1.event_number), max(events1.event_number))\n",
    "random_numbers2 = max(events1.event_number) + np.random.randint(0, max(events2.event_number), max(events2.event_number))\n",
    "random_numbers3 = max(events2.event_number) + np.random.randint(0, max(events3.event_number), max(events3.event_number))\n",
    "random_numbers4 = max(events3.event_number) + np.random.randint(0, max(events4.event_number), max(events4.event_number))\n",
    "seventy1 = int(0.7*len(random_numbers1))\n",
    "seventy2 = int(0.7*len(random_numbers2))\n",
    "seventy3 = int(0.7*len(random_numbers3))\n",
    "seventy4 = int(0.7*len(random_numbers4))\n",
    "training1 = random_numbers1[:seventy1]\n",
    "testing1 = random_numbers1[seventy1:]\n",
    "training2 = random_numbers2[:seventy2]\n",
    "testing2 = random_numbers2[seventy2:]\n",
    "training3 = random_numbers3[:seventy3]\n",
    "testing3 = random_numbers3[seventy3:]\n",
    "training4 = random_numbers4[:seventy4]\n",
    "testing4 = random_numbers4[seventy4:]\n",
    "\n",
    "training = np.concatenate((training1, training2, training3, training4))\n",
    "testing = np.concatenate((testing1, testing2, testing3, testing4))\n",
    "\n",
    "\n",
    "#np.save(\"testing_events\", testing)"
   ]
  },
  {
   "cell_type": "code",
   "execution_count": 28,
   "id": "0ac50da5",
   "metadata": {},
   "outputs": [],
   "source": [
    "idx = np.where(events1.event_number == 50)[0]"
   ]
  },
  {
   "cell_type": "code",
   "execution_count": 30,
   "id": "10a72ad7",
   "metadata": {},
   "outputs": [
    {
     "data": {
      "text/plain": [
       "array([3662, 3663, 3664, 3665, 3666, 3667, 3668, 3669, 3670, 3671, 3672,\n",
       "       3673, 3674, 3675, 3676, 3677, 3678, 3679, 3680, 3681, 3682, 3683,\n",
       "       3684, 3685, 3686, 3687, 3688, 3689, 3690, 3691, 3692, 3693, 3694,\n",
       "       3695, 3696, 3697, 3698, 3699, 3700, 3701, 3702, 3703, 3704, 3705,\n",
       "       3706, 3707, 3708, 3709, 3710, 3711, 3712, 3713, 3714, 3715, 3716,\n",
       "       3717, 3718, 3719, 3720, 3721, 3722, 3723, 3724, 3725, 3726, 3727,\n",
       "       3728, 3729, 3730, 3731, 3732, 3733, 3734, 3735, 3736, 3737, 3738,\n",
       "       3739, 3740, 3741, 3742, 3743, 3744, 3745, 3746, 3747, 3748, 3749,\n",
       "       3750, 3751, 3752, 3753, 3754, 3755, 3756, 3757, 3758, 3759, 3760,\n",
       "       3761, 3762, 3763, 3764, 3765, 3766, 3767, 3768, 3769, 3770, 3771,\n",
       "       3772, 3773, 3774, 3775, 3776, 3777, 3778, 3779, 3780, 3781, 3782,\n",
       "       3783, 3784, 3785, 3786, 3787, 3788, 3789, 3790, 3791, 3792, 3793,\n",
       "       3794, 3795, 3796, 3797, 3798, 3799, 3800, 3801, 3802, 3803, 3804,\n",
       "       3805, 3806, 3807, 3808, 3809, 3810, 3811, 3812, 3813, 3814, 3815,\n",
       "       3816, 3817, 3818, 3819, 3820, 3821, 3822, 3823, 3824, 3825, 3826,\n",
       "       3827, 3828, 3829, 3830, 3831, 3832, 3833, 3834, 3835, 3836, 3837,\n",
       "       3838, 3839, 3840, 3841, 3842, 3843, 3844, 3845, 3846, 3847],\n",
       "      dtype=int64)"
      ]
     },
     "execution_count": 30,
     "metadata": {},
     "output_type": "execute_result"
    }
   ],
   "source": [
    "idx"
   ]
  },
  {
   "cell_type": "code",
   "execution_count": null,
   "id": "8d67d149",
   "metadata": {},
   "outputs": [],
   "source": []
  }
 ],
 "metadata": {
  "kernelspec": {
   "display_name": "Python 3 (ipykernel)",
   "language": "python",
   "name": "python3"
  },
  "language_info": {
   "codemirror_mode": {
    "name": "ipython",
    "version": 3
   },
   "file_extension": ".py",
   "mimetype": "text/x-python",
   "name": "python",
   "nbconvert_exporter": "python",
   "pygments_lexer": "ipython3",
   "version": "3.9.18"
  }
 },
 "nbformat": 4,
 "nbformat_minor": 5
}
