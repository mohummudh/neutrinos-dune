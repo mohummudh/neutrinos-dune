{
 "cells": [
  {
   "cell_type": "code",
   "execution_count": 1,
   "id": "cfea0bf2",
   "metadata": {},
   "outputs": [
    {
     "name": "stdout",
     "output_type": "stream",
     "text": [
      "WARNING:tensorflow:From C:\\Users\\andre\\anaconda3\\lib\\site-packages\\keras\\src\\losses.py:2976: The name tf.losses.sparse_softmax_cross_entropy is deprecated. Please use tf.compat.v1.losses.sparse_softmax_cross_entropy instead.\n",
      "\n"
     ]
    }
   ],
   "source": [
    "import numpy as np\n",
    "import matplotlib.pyplot as plt\n",
    "import tensorflow\n",
    "\n",
    "from tensorflow import keras\n",
    "from uproot_io import Events, View"
   ]
  },
  {
   "cell_type": "markdown",
   "id": "59d74d01",
   "metadata": {},
   "source": [
    "# Building a CNN for event classification.\n",
    "\n",
    "We're only using **perfect reconstruction** (cheated files) for this.\n",
    "\n",
    "1. Need to obtain the truth record for each event, 0 for CC_mu, 1 for CC_e and 2 for NC_x. \n"
   ]
  },
  {
   "cell_type": "code",
   "execution_count": 4,
   "id": "6b89ee2d",
   "metadata": {},
   "outputs": [],
   "source": [
    "# the data\n",
    "events = Events(r\"C:\\Users\\andre\\Desktop\\Physics Project\\bigdata\\CheatedRecoFile_1.root\")"
   ]
  },
  {
   "cell_type": "code",
   "execution_count": 5,
   "id": "923ad3ad",
   "metadata": {
    "scrolled": true
   },
   "outputs": [
    {
     "data": {
      "text/plain": [
       "(array([   0,    1,    2, ..., 9307, 9308, 9309]), 9310)"
      ]
     },
     "execution_count": 5,
     "metadata": {},
     "output_type": "execute_result"
    }
   ],
   "source": [
    "event_numbers = np.array(list(set(events.event_number)))\n",
    "event_numbers, len(event_numbers)"
   ]
  },
  {
   "cell_type": "markdown",
   "id": "8e555e74",
   "metadata": {},
   "source": [
    "# Labelling the events"
   ]
  },
  {
   "cell_type": "code",
   "execution_count": 6,
   "id": "8a59ed6a",
   "metadata": {},
   "outputs": [],
   "source": [
    "def labelling():\n",
    "    label = []\n",
    "#     bad = []\n",
    "    \n",
    "    for n in event_numbers:\n",
    "        mcp = []\n",
    "        index = np.where(events.event_number == n)[0]\n",
    "\n",
    "        for i in index:\n",
    "            parent = events.reco_parent_index[i]\n",
    "            if parent == 0:\n",
    "                mcp.append(events.mc_pdg[i])\n",
    "                \n",
    "#         if 13 in mcp and 11 in mcp:\n",
    "#             bad.append(n)\n",
    "#             label.append(3)\n",
    "        \n",
    "        if 13 in mcp or -13 in mcp:\n",
    "            label.append(0)\n",
    "\n",
    "        elif 11 in mcp or -11 in mcp:\n",
    "            label.append(1)    \n",
    "            \n",
    "        else:\n",
    "            label.append(2)\n",
    "            \n",
    "    return np.array(label)"
   ]
  },
  {
   "cell_type": "code",
   "execution_count": 7,
   "id": "85647b46",
   "metadata": {},
   "outputs": [],
   "source": [
    "labels = labelling()"
   ]
  },
  {
   "cell_type": "code",
   "execution_count": 8,
   "id": "c58538b3",
   "metadata": {},
   "outputs": [
    {
     "name": "stdout",
     "output_type": "stream",
     "text": [
      "9310\n"
     ]
    },
    {
     "data": {
      "text/plain": [
       "((array([3512.,    0.,    0.,    0.,    0., 3715.,    0.,    0.,    0.,\n",
       "         2083.]),\n",
       "  array([0. , 0.2, 0.4, 0.6, 0.8, 1. , 1.2, 1.4, 1.6, 1.8, 2. ]),\n",
       "  <BarContainer object of 10 artists>),\n",
       " None)"
      ]
     },
     "execution_count": 8,
     "metadata": {},
     "output_type": "execute_result"
    },
    {
     "data": {
      "image/png": "[encoded data removed]",
      "text/plain": [
       "<Figure size 640x480 with 1 Axes>"
      ]
     },
     "metadata": {},
     "output_type": "display_data"
    }
   ],
   "source": [
    "plt.hist(labels), print(len(labels))"
   ]
  },
  {
   "cell_type": "code",
   "execution_count": 9,
   "id": "a89a07d3",
   "metadata": {},
   "outputs": [],
   "source": [
    "def oneHotLabelling():\n",
    "    label = []\n",
    "    \n",
    "    for n in event_numbers:\n",
    "        mcp = []\n",
    "        index = np.where(events.event_number == n)[0]\n",
    "\n",
    "        for i in index:\n",
    "            parent = events.reco_parent_index[i]\n",
    "            if parent == 0:\n",
    "                mcp.append(events.mc_pdg[i])\n",
    "\n",
    "        if 11 in mcp or -11 in mcp:\n",
    "            label.append([0,1,0])    \n",
    "        \n",
    "        elif 13 in mcp or -13 in mcp:\n",
    "            label.append([1,0,0])\n",
    "            \n",
    "        else:\n",
    "            label.append([0,0,1])\n",
    "            \n",
    "    return np.array(label).astype(float)"
   ]
  },
  {
   "cell_type": "code",
   "execution_count": 10,
   "id": "eea9c2f9",
   "metadata": {},
   "outputs": [],
   "source": [
    "one_hot_labels = oneHotLabelling()"
   ]
  },
  {
   "cell_type": "markdown",
   "id": "1c054a26",
   "metadata": {},
   "source": [
    "# Making the images"
   ]
  },
  {
   "cell_type": "code",
   "execution_count": 11,
   "id": "57787178",
   "metadata": {},
   "outputs": [],
   "source": [
    "view_w = View(events, \"w\")"
   ]
  },
  {
   "cell_type": "code",
   "execution_count": 12,
   "id": "82b3a879",
   "metadata": {},
   "outputs": [],
   "source": [
    "def plot_w_event(number):\n",
    "    x = view_w.x[number]\n",
    "    z = view_w.z[number]\n",
    "    adc = view_w.adc[number]\n",
    "    vx = view_w.true_vtx_x[number]\n",
    "    vz = view_w.true_vtx_z[number]\n",
    "    \n",
    "    plt.scatter(x, z, c=adc, s=0.5)\n",
    "    plt.scatter(vx, vz, c='red', s=50)\n",
    "    cbar = plt.colorbar()\n",
    "    cbar.set_label('ADC')\n",
    "    plt.xlabel('Time')\n",
    "    plt.ylabel('W Wire')\n",
    "    plt.show()"
   ]
  },
  {
   "cell_type": "code",
   "execution_count": 13,
   "id": "ef3630f9",
   "metadata": {},
   "outputs": [
    {
     "data": {
      "image/png": "[encoded data removed]",
      "text/plain": [
       "<Figure size 640x480 with 2 Axes>"
      ]
     },
     "metadata": {},
     "output_type": "display_data"
    }
   ],
   "source": [
    "plot_w_event(114)"
   ]
  },
  {
   "cell_type": "code",
   "execution_count": 14,
   "id": "42c6636d",
   "metadata": {},
   "outputs": [],
   "source": [
    "def image():\n",
    "    \n",
    "    images = []\n",
    "    \n",
    "    for n in event_numbers:\n",
    "    \n",
    "        x = view_w.x[n]\n",
    "        z = view_w.z[n]\n",
    "        adc = view_w.adc[n]\n",
    "\n",
    "        matrix_size = 128\n",
    "        matrix, xedges, yedges = np.histogram2d(x, z, bins=matrix_size, range=[[min(x), max(x)], [min(z), max(z)]], weights=adc)\n",
    "\n",
    "        matrix = np.floor(matrix).astype(np.uint8).reshape(128, 128, 1)\n",
    "        images.append(matrix)\n",
    "        \n",
    "\n",
    "#         # Display the pixelated image\n",
    "#         plt.imshow(matrix.T, cmap='viridis', origin='lower', extent=[0, 128, 0, 128])\n",
    "#         plt.colorbar()\n",
    "#         plt.title('Pixelated Image of Energy')\n",
    "#         plt.show()\n",
    "    \n",
    "    return np.stack(images)"
   ]
  },
  {
   "cell_type": "code",
   "execution_count": 80,
   "id": "10515315",
   "metadata": {},
   "outputs": [
    {
     "name": "stdout",
     "output_type": "stream",
     "text": [
      "[[[[  0]\n",
      "   [  0]\n",
      "   [  0]\n",
      "   ...\n",
      "   [  0]\n",
      "   [  0]\n",
      "   [  0]]\n",
      "\n",
      "  [[  0]\n",
      "   [  0]\n",
      "   [  0]\n",
      "   ...\n",
      "   [  0]\n",
      "   [  0]\n",
      "   [  0]]\n",
      "\n",
      "  [[  0]\n",
      "   [  0]\n",
      "   [  0]\n",
      "   ...\n",
      "   [  0]\n",
      "   [  0]\n",
      "   [  0]]\n",
      "\n",
      "  ...\n",
      "\n",
      "  [[  0]\n",
      "   [  0]\n",
      "   [  0]\n",
      "   ...\n",
      "   [  0]\n",
      "   [  0]\n",
      "   [  0]]\n",
      "\n",
      "  [[  0]\n",
      "   [  0]\n",
      "   [  0]\n",
      "   ...\n",
      "   [  0]\n",
      "   [  0]\n",
      "   [  0]]\n",
      "\n",
      "  [[  0]\n",
      "   [  0]\n",
      "   [  0]\n",
      "   ...\n",
      "   [  0]\n",
      "   [  0]\n",
      "   [  0]]]\n",
      "\n",
      "\n",
      " [[[  0]\n",
      "   [  0]\n",
      "   [  0]\n",
      "   ...\n",
      "   [  0]\n",
      "   [  0]\n",
      "   [182]]\n",
      "\n",
      "  [[  0]\n",
      "   [  0]\n",
      "   [  0]\n",
      "   ...\n",
      "   [  0]\n",
      "   [  0]\n",
      "   [  0]]\n",
      "\n",
      "  [[  0]\n",
      "   [  0]\n",
      "   [  0]\n",
      "   ...\n",
      "   [  0]\n",
      "   [  0]\n",
      "   [  0]]\n",
      "\n",
      "  ...\n",
      "\n",
      "  [[  0]\n",
      "   [  0]\n",
      "   [  0]\n",
      "   ...\n",
      "   [  0]\n",
      "   [  0]\n",
      "   [  0]]\n",
      "\n",
      "  [[  0]\n",
      "   [  0]\n",
      "   [  0]\n",
      "   ...\n",
      "   [  0]\n",
      "   [  0]\n",
      "   [  0]]\n",
      "\n",
      "  [[  0]\n",
      "   [  0]\n",
      "   [  0]\n",
      "   ...\n",
      "   [  0]\n",
      "   [  0]\n",
      "   [  0]]]\n",
      "\n",
      "\n",
      " [[[  0]\n",
      "   [  0]\n",
      "   [  0]\n",
      "   ...\n",
      "   [  0]\n",
      "   [  0]\n",
      "   [  0]]\n",
      "\n",
      "  [[  0]\n",
      "   [  0]\n",
      "   [  0]\n",
      "   ...\n",
      "   [  0]\n",
      "   [  0]\n",
      "   [  0]]\n",
      "\n",
      "  [[  0]\n",
      "   [  0]\n",
      "   [  0]\n",
      "   ...\n",
      "   [  0]\n",
      "   [  0]\n",
      "   [  0]]\n",
      "\n",
      "  ...\n",
      "\n",
      "  [[  0]\n",
      "   [  0]\n",
      "   [  0]\n",
      "   ...\n",
      "   [  0]\n",
      "   [  0]\n",
      "   [  0]]\n",
      "\n",
      "  [[  0]\n",
      "   [  0]\n",
      "   [  0]\n",
      "   ...\n",
      "   [  0]\n",
      "   [  0]\n",
      "   [  0]]\n",
      "\n",
      "  [[  0]\n",
      "   [  0]\n",
      "   [  0]\n",
      "   ...\n",
      "   [  0]\n",
      "   [  0]\n",
      "   [  0]]]\n",
      "\n",
      "\n",
      " ...\n",
      "\n",
      "\n",
      " [[[  0]\n",
      "   [  0]\n",
      "   [  0]\n",
      "   ...\n",
      "   [  0]\n",
      "   [  0]\n",
      "   [  0]]\n",
      "\n",
      "  [[  0]\n",
      "   [  0]\n",
      "   [  0]\n",
      "   ...\n",
      "   [  0]\n",
      "   [  0]\n",
      "   [  0]]\n",
      "\n",
      "  [[  0]\n",
      "   [  0]\n",
      "   [  0]\n",
      "   ...\n",
      "   [  0]\n",
      "   [  0]\n",
      "   [  0]]\n",
      "\n",
      "  ...\n",
      "\n",
      "  [[  0]\n",
      "   [  0]\n",
      "   [  0]\n",
      "   ...\n",
      "   [  0]\n",
      "   [  0]\n",
      "   [  0]]\n",
      "\n",
      "  [[  0]\n",
      "   [  0]\n",
      "   [  0]\n",
      "   ...\n",
      "   [  0]\n",
      "   [  0]\n",
      "   [  0]]\n",
      "\n",
      "  [[  0]\n",
      "   [  0]\n",
      "   [  0]\n",
      "   ...\n",
      "   [  0]\n",
      "   [  0]\n",
      "   [  0]]]\n",
      "\n",
      "\n",
      " [[[  0]\n",
      "   [  0]\n",
      "   [  0]\n",
      "   ...\n",
      "   [  0]\n",
      "   [  0]\n",
      "   [  0]]\n",
      "\n",
      "  [[  0]\n",
      "   [  0]\n",
      "   [  0]\n",
      "   ...\n",
      "   [  0]\n",
      "   [  0]\n",
      "   [  0]]\n",
      "\n",
      "  [[  0]\n",
      "   [  0]\n",
      "   [  0]\n",
      "   ...\n",
      "   [  0]\n",
      "   [  0]\n",
      "   [  0]]\n",
      "\n",
      "  ...\n",
      "\n",
      "  [[  0]\n",
      "   [  0]\n",
      "   [  0]\n",
      "   ...\n",
      "   [  0]\n",
      "   [  0]\n",
      "   [  0]]\n",
      "\n",
      "  [[  0]\n",
      "   [  0]\n",
      "   [  0]\n",
      "   ...\n",
      "   [  0]\n",
      "   [  0]\n",
      "   [  0]]\n",
      "\n",
      "  [[  0]\n",
      "   [  0]\n",
      "   [  0]\n",
      "   ...\n",
      "   [  0]\n",
      "   [  0]\n",
      "   [  0]]]\n",
      "\n",
      "\n",
      " [[[  0]\n",
      "   [  0]\n",
      "   [  0]\n",
      "   ...\n",
      "   [  0]\n",
      "   [  0]\n",
      "   [  0]]\n",
      "\n",
      "  [[  0]\n",
      "   [  0]\n",
      "   [  0]\n",
      "   ...\n",
      "   [  0]\n",
      "   [  0]\n",
      "   [  0]]\n",
      "\n",
      "  [[  0]\n",
      "   [  0]\n",
      "   [  0]\n",
      "   ...\n",
      "   [  0]\n",
      "   [  0]\n",
      "   [  0]]\n",
      "\n",
      "  ...\n",
      "\n",
      "  [[  0]\n",
      "   [  0]\n",
      "   [  0]\n",
      "   ...\n",
      "   [  0]\n",
      "   [  0]\n",
      "   [  0]]\n",
      "\n",
      "  [[  0]\n",
      "   [  0]\n",
      "   [  0]\n",
      "   ...\n",
      "   [  0]\n",
      "   [  0]\n",
      "   [  0]]\n",
      "\n",
      "  [[  0]\n",
      "   [  0]\n",
      "   [  0]\n",
      "   ...\n",
      "   [  0]\n",
      "   [  0]\n",
      "   [  0]]]]\n"
     ]
    }
   ],
   "source": [
    "images = image()\n",
    "print(images)"
   ]
  },
  {
   "cell_type": "code",
   "execution_count": 16,
   "id": "b60f7b48",
   "metadata": {},
   "outputs": [],
   "source": [
    "training = np.load(\"training_events.npy\")\n",
    "testing = np.load(\"testing_events.npy\")"
   ]
  },
  {
   "cell_type": "code",
   "execution_count": 17,
   "id": "dfd652b5",
   "metadata": {},
   "outputs": [],
   "source": [
    "x_train = images[training]\n",
    "y_train = one_hot_labels[training]\n",
    "\n",
    "x_test = images[testing]\n",
    "y_test = one_hot_labels[testing]"
   ]
  },
  {
   "cell_type": "code",
   "execution_count": 18,
   "id": "cca36048",
   "metadata": {},
   "outputs": [],
   "source": [
    "num_classes = 3"
   ]
  },
  {
   "cell_type": "markdown",
   "id": "e9fdd73d",
   "metadata": {},
   "source": [
    "# The CNN"
   ]
  },
  {
   "cell_type": "code",
   "execution_count": 46,
   "id": "608c20b4",
   "metadata": {},
   "outputs": [
    {
     "name": "stdout",
     "output_type": "stream",
     "text": [
      "Model: \"model_6\"\n",
      "_________________________________________________________________\n",
      " Layer (type)                Output Shape              Param #   \n",
      "=================================================================\n",
      " input_7 (InputLayer)        [(None, 128, 128, 1)]     0         \n",
      "                                                                 \n",
      " conv2d_9 (Conv2D)           (None, 126, 126, 32)      320       \n",
      "                                                                 \n",
      " max_pooling2d_6 (MaxPoolin  (None, 63, 63, 32)        0         \n",
      " g2D)                                                            \n",
      "                                                                 \n",
      " dropout_6 (Dropout)         (None, 63, 63, 32)        0         \n",
      "                                                                 \n",
      " flatten_6 (Flatten)         (None, 127008)            0         \n",
      "                                                                 \n",
      " dense_6 (Dense)             (None, 3)                 381027    \n",
      "                                                                 \n",
      "=================================================================\n",
      "Total params: 381347 (1.45 MB)\n",
      "Trainable params: 381347 (1.45 MB)\n",
      "Non-trainable params: 0 (0.00 Byte)\n",
      "_________________________________________________________________\n"
     ]
    }
   ],
   "source": [
    "input_layer = keras.layers.Input(x_train[0].shape)\n",
    "x = keras.layers.Conv2D(32, (3,3), activation='relu')(input_layer) # Replace None with a 2D convolution with 32 filters of size (3,3) and relu activation\n",
    "x = keras.layers.MaxPooling2D((2,2))(x) # Replace None with a MaxPooling2D layer to downsample by a factor of 2 in both dimensions\n",
    "x = keras.layers.Dropout(0.25)(x) # Replace None with a droput layer with a fraction of 0.25\n",
    "x = keras.layers.Flatten()(x)\n",
    "x = keras.layers.Dense(num_classes, activation='softmax')(x) # Replace None with a final dense output layer with num_classes neurons and softmax activation\n",
    "cnn_model = keras.Model(input_layer, x)\n",
    "cnn_model.summary()"
   ]
  },
  {
   "cell_type": "code",
   "execution_count": 47,
   "id": "b1508d71",
   "metadata": {},
   "outputs": [],
   "source": [
    "# The batch size controls the number of images that are processed simultaneously\n",
    "batch_size = 128\n",
    "# The number of epochs that we want to train the network for\n",
    "epochs = 7\n",
    "# The learning rate (step size in gradient descent)\n",
    "learning_rate = 0.001"
   ]
  },
  {
   "cell_type": "code",
   "execution_count": 48,
   "id": "8ae014d1",
   "metadata": {},
   "outputs": [],
   "source": [
    "# Define the loss function - for a multi-class classification task we need to\n",
    "# use categorical crossentropy loss\n",
    "loss_function = keras.losses.categorical_crossentropy\n",
    "# The optimiser performs the gradient descent for us. There are a few different\n",
    "# algorithms, but Adam is one of the more popular ones\n",
    "optimiser = keras.optimizers.Adam(learning_rate=learning_rate)\n",
    "# Now we compile the model with the loss function and optimiser\n",
    "cnn_model.compile(loss=loss_function, optimizer=optimiser, metrics=['accuracy'])"
   ]
  },
  {
   "cell_type": "code",
   "execution_count": 49,
   "id": "eefd6f13",
   "metadata": {},
   "outputs": [
    {
     "name": "stdout",
     "output_type": "stream",
     "text": [
      "Epoch 1/7\n",
      "51/51 [==============================] - 18s 347ms/step - loss: 16.0834 - accuracy: 0.4998 - val_loss: 6.8846 - val_accuracy: 0.5897\n",
      "Epoch 2/7\n",
      "51/51 [==============================] - 19s 365ms/step - loss: 1.7252 - accuracy: 0.8033 - val_loss: 3.2697 - val_accuracy: 0.6899\n",
      "Epoch 3/7\n",
      "51/51 [==============================] - 19s 371ms/step - loss: 0.3310 - accuracy: 0.9248 - val_loss: 2.9049 - val_accuracy: 0.7257\n",
      "Epoch 4/7\n",
      "51/51 [==============================] - 19s 368ms/step - loss: 0.1091 - accuracy: 0.9661 - val_loss: 2.8886 - val_accuracy: 0.7368\n",
      "Epoch 5/7\n",
      "51/51 [==============================] - 20s 384ms/step - loss: 0.0542 - accuracy: 0.9828 - val_loss: 2.8260 - val_accuracy: 0.7311\n",
      "Epoch 6/7\n",
      "51/51 [==============================] - 19s 366ms/step - loss: 0.0397 - accuracy: 0.9862 - val_loss: 2.9340 - val_accuracy: 0.7361\n",
      "Epoch 7/7\n",
      "51/51 [==============================] - 19s 369ms/step - loss: 0.0340 - accuracy: 0.9879 - val_loss: 2.8567 - val_accuracy: 0.7376\n"
     ]
    },
    {
     "data": {
      "text/plain": [
       "<keras.src.callbacks.History at 0x1dc2e9899a0>"
      ]
     },
     "execution_count": 49,
     "metadata": {},
     "output_type": "execute_result"
    }
   ],
   "source": [
    "# Train the model using the training data with the true target outputs.\n",
    "# Fill in the required arguments using the clues given above\n",
    "cnn_model.fit(x = x_train, y = y_train, batch_size = batch_size, epochs = epochs,\n",
    "              validation_data = (x_test, y_test), verbose = 1)\n"
   ]
  },
  {
   "cell_type": "code",
   "execution_count": 79,
   "id": "68dc9592",
   "metadata": {},
   "outputs": [
    {
     "name": "stdout",
     "output_type": "stream",
     "text": [
      "22/22 [==============================] - 2s 70ms/step\n",
      "Number of images that were incorrectly classified = 733\n"
     ]
    }
   ],
   "source": [
    "# Make a list of incorrect classifications\n",
    "incorrect_indices = []\n",
    "# Let's look at the whole test dataset, but you can reduce this to 1000 or so\n",
    "# if you want run more quickly\n",
    "n_images_to_check = x_test.shape[0]\n",
    "# Use the CNN to predict the classification of the images. It returns an array\n",
    "# containing the 10 class scores for each image. It is best to write this code\n",
    "# using the array notation x[:i] that means use all values of x up until\n",
    "# the index i, such that if you changed the number of images above then it all\n",
    "# still works efficiently\n",
    "raw_predictions = cnn_model.predict(x = x_test[:n_images_to_check], batch_size = batch_size)\n",
    "for i in range(0,n_images_to_check):\n",
    "  # Remember the raw output from the CNN gives us an array of scores. We want\n",
    "  # to select the highest one as our prediction. We need to do the same thing\n",
    "  # for the truth too since we converted our numbers to a categorical\n",
    "  # representation earlier. We use the np.argmax() function for this\n",
    "  prediction = np.argmax(raw_predictions[i])\n",
    "  truth = np.argmax(y_test[i])\n",
    "  if prediction != truth:\n",
    "    incorrect_indices.append([i,prediction,truth])\n",
    "print('Number of images that were incorrectly classified =',len(incorrect_indices))"
   ]
  },
  {
   "cell_type": "code",
   "execution_count": 69,
   "id": "3045e1f7",
   "metadata": {
    "scrolled": false
   },
   "outputs": [
    {
     "name": "stdout",
     "output_type": "stream",
     "text": [
      "Incorrect classification for image 196 : predicted = 1 with true = 2\n"
     ]
    },
    {
     "data": {
      "text/plain": [
       "<matplotlib.image.AxesImage at 0x1dc2fab92b0>"
      ]
     },
     "execution_count": 69,
     "metadata": {},
     "output_type": "execute_result"
    },
    {
     "data": {
      "image/png": "[encoded data removed]",
      "text/plain": [
       "<Figure size 640x480 with 1 Axes>"
      ]
     },
     "metadata": {},
     "output_type": "display_data"
    }
   ],
   "source": [
    "# Now you can modify this part to draw different images from the failures list\n",
    "# You can change the value of im to look at different failures\n",
    "im = 53\n",
    "image_to_plot = x_test[incorrect_indices[im][0]]\n",
    "fig, ax = plt.subplots(1, 1)\n",
    "print('Incorrect classification for image',incorrect_indices[im][0],\n",
    "      ': predicted =',incorrect_indices[im][1],\n",
    "      'with true =',incorrect_indices[im][2])\n",
    "ax.imshow(image_to_plot)"
   ]
  },
  {
   "cell_type": "code",
   "execution_count": 73,
   "id": "363026f4",
   "metadata": {},
   "outputs": [],
   "source": [
    "from sklearn.metrics import confusion_matrix\n",
    "\n",
    "preds = []\n",
    "trut = []\n",
    "for i in range(0,n_images_to_check):\n",
    "    prediction = np.argmax(raw_predictions[i])\n",
    "    truth = np.argmax(y_test[i])\n",
    "    preds.append(prediction)\n",
    "    trut.append(truth)\n",
    "    \n",
    "conf_matrix = confusion_matrix(trut, preds)\n",
    "conf_matrix_decimals = conf_matrix.astype('float') / conf_matrix.sum(axis=1)[:, np.newaxis]\n"
   ]
  },
  {
   "cell_type": "code",
   "execution_count": 74,
   "id": "98b45717",
   "metadata": {},
   "outputs": [
    {
     "data": {
      "text/plain": [
       "array([[0.77362205, 0.15944882, 0.06692913],\n",
       "       [0.1284965 , 0.78409091, 0.08741259],\n",
       "       [0.15323855, 0.25118483, 0.59557662]])"
      ]
     },
     "execution_count": 74,
     "metadata": {},
     "output_type": "execute_result"
    }
   ],
   "source": [
    "conf_matrix_decimals"
   ]
  },
  {
   "cell_type": "code",
   "execution_count": 78,
   "id": "a401ca6a",
   "metadata": {
    "scrolled": false
   },
   "outputs": [
    {
     "data": {
      "text/plain": [
       "Text(50.722222222222214, 0.5, 'True Label')"
      ]
     },
     "execution_count": 78,
     "metadata": {},
     "output_type": "execute_result"
    },
    {
     "data": {
      "image/png": "[encoded data removed]",
      "text/plain": [
       "<Figure size 640x480 with 2 Axes>"
      ]
     },
     "metadata": {},
     "output_type": "display_data"
    }
   ],
   "source": [
    "import seaborn as sns\n",
    "heatmap = sns.heatmap(conf_matrix_decimals, annot=True, cmap='coolwarm', fmt=\".3f\", linewidths=.5, square=False)\n",
    "plt.xlabel('Predicted Label')\n",
    "plt.ylabel('True Label')"
   ]
  },
  {
   "cell_type": "code",
   "execution_count": null,
   "id": "533c96d5",
   "metadata": {},
   "outputs": [],
   "source": []
  }
 ],
 "metadata": {
  "kernelspec": {
   "display_name": "Python 3 (ipykernel)",
   "language": "python",
   "name": "python3"
  },
  "language_info": {
   "codemirror_mode": {
    "name": "ipython",
    "version": 3
   },
   "file_extension": ".py",
   "mimetype": "text/x-python",
   "name": "python",
   "nbconvert_exporter": "python",
   "pygments_lexer": "ipython3",
   "version": "3.9.18"
  }
 },
 "nbformat": 4,
 "nbformat_minor": 5
}
