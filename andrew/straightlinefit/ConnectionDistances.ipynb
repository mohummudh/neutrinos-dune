{
 "cells": [
  {
   "cell_type": "code",
   "execution_count": 7,
   "id": "bd4daba8",
   "metadata": {},
   "outputs": [],
   "source": [
    "from uproot_io import Events, View\n",
    "import numpy as np\n",
    "from numpy import *\n",
    "import matplotlib\n",
    "import matplotlib.pyplot as plt\n",
    "titlesize = 20\n",
    "labelsize = 14"
   ]
  },
  {
   "cell_type": "code",
   "execution_count": 4,
   "id": "f2bfd2f8",
   "metadata": {},
   "outputs": [],
   "source": [
    "events = Events(r\"C:\\Users\\andre\\Desktop\\Physics Project\\bigdata\\PandoraRecoFile_1.root\")"
   ]
  },
  {
   "cell_type": "code",
   "execution_count": 91,
   "id": "590b3702",
   "metadata": {
    "scrolled": true
   },
   "outputs": [],
   "source": [
    "def connectiondist(event_number):\n",
    "    totals = []\n",
    "    parts = []\n",
    "    \n",
    "    idx = np.where(events.event_number == event_number)[0]\n",
    "    newidx = idx - idx[0]\n",
    "    for i in newidx:\n",
    "        x = events.reco_hits_x_w[i+idx[0]]\n",
    "        z = events.reco_hits_w[i+idx[0]]\n",
    "        part = events.mc_pdg[i+idx[0]]\n",
    "        \n",
    "        if part != 0:\n",
    "            if (len(x)-1) != 0:\n",
    "                total_distance = 0.0\n",
    "                for j in range(len(x) - 1):\n",
    "                    distance = np.sqrt((x[j+1] - x[j])**2 + (z[j+1] - z[j])**2)\n",
    "                    total_distance += distance\n",
    "                meandist = total_distance/(len(x)-1)\n",
    "                totals.append(meandist)\n",
    "                parts.append(part)\n",
    "    \n",
    "    return np.array(totals), np.array(parts)"
   ]
  },
  {
   "cell_type": "code",
   "execution_count": 92,
   "id": "f8129863",
   "metadata": {},
   "outputs": [
    {
     "data": {
      "text/plain": [
       "(array([ 3.68077233, -0.        ,  0.55904063,  1.34243729,  0.51520276]),\n",
       " array([  22,   22,  211, 2212,   13]))"
      ]
     },
     "execution_count": 92,
     "metadata": {},
     "output_type": "execute_result"
    }
   ],
   "source": [
    "connectiondist(1)"
   ]
  },
  {
   "cell_type": "code",
   "execution_count": 95,
   "id": "9d33145c",
   "metadata": {},
   "outputs": [],
   "source": [
    "def histplot(num, extra):\n",
    "    tracks = []\n",
    "    showers = []\n",
    "    \n",
    "    for n in range(num):\n",
    "        total, part = connectiondist(n+extra)\n",
    "        for i in range(len(total)):\n",
    "            if total[i] != 0. and total[i] != -0. and total[i] <= 20:\n",
    "                if part[i] == 22. or part[i] == -11. or part[i] == 11.:\n",
    "                    showers.append(total[i])\n",
    "                else:\n",
    "                    tracks.append(total[i]) \n",
    "    \n",
    "    #newshowers = [x for x in showers if x > 2]\n",
    "    \n",
    "    bin_edges = np.arange(0, 10.5, 0.5)\n",
    "    hist1, _ = np.histogram(tracks, bins=bin_edges)\n",
    "    hist2, _ = np.histogram(showers, bins=bin_edges)\n",
    "   \n",
    "    hist1_normalized = hist1 / len(tracks)\n",
    "    hist2_normalized = hist2 / len(showers)\n",
    "\n",
    "    plt.bar(bin_edges[:-1], hist1_normalized, width=0.5, align='edge', alpha=0.75, label='Tracks')\n",
    "    plt.bar(bin_edges[:-1], hist2_normalized, width=0.5, align='edge', alpha=0.75, label='Showers')\n",
    "    \n",
    "    plt.xlabel('Mean Connection Distance')\n",
    "    plt.legend()\n",
    "    plt.show()"
   ]
  },
  {
   "cell_type": "code",
   "execution_count": 96,
   "id": "7e6ebcf5",
   "metadata": {
    "scrolled": false
   },
   "outputs": [
    {
     "data": {
      "image/png": "[encoded data removed]",
      "text/plain": [
       "<Figure size 640x480 with 1 Axes>"
      ]
     },
     "metadata": {},
     "output_type": "display_data"
    }
   ],
   "source": [
    "histplot(9000, 0)"
   ]
  },
  {
   "cell_type": "code",
   "execution_count": null,
   "id": "641d27b5",
   "metadata": {},
   "outputs": [],
   "source": []
  }
 ],
 "metadata": {
  "kernelspec": {
   "display_name": "Python 3 (ipykernel)",
   "language": "python",
   "name": "python3"
  },
  "language_info": {
   "codemirror_mode": {
    "name": "ipython",
    "version": 3
   },
   "file_extension": ".py",
   "mimetype": "text/x-python",
   "name": "python",
   "nbconvert_exporter": "python",
   "pygments_lexer": "ipython3",
   "version": "3.9.18"
  }
 },
 "nbformat": 4,
 "nbformat_minor": 5
}
