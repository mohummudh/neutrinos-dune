{
 "cells": [
  {
   "cell_type": "code",
   "execution_count": 111,
   "id": "679f6023",
   "metadata": {},
   "outputs": [],
   "source": [
    "from uproot_io import Events, View\n",
    "import numpy as np\n",
    "from numpy import *\n",
    "import matplotlib\n",
    "import matplotlib.pyplot as plt\n",
    "import math\n",
    "titlesize = 20\n",
    "labelsize = 14"
   ]
  },
  {
   "cell_type": "code",
   "execution_count": 112,
   "id": "fc4c45d6",
   "metadata": {},
   "outputs": [],
   "source": [
    "events = Events(r\"C:\\Users\\andre\\Desktop\\Physics Project\\bigdata\\CheatedRecoFile_1.root\")"
   ]
  },
  {
   "cell_type": "code",
   "execution_count": 113,
   "id": "27038eee",
   "metadata": {},
   "outputs": [],
   "source": [
    "random_numbers = np.random.randint(0, max(events.event_number), 2500)"
   ]
  },
  {
   "cell_type": "code",
   "execution_count": 114,
   "id": "b0162af0",
   "metadata": {},
   "outputs": [],
   "source": [
    "def fit_line(x, y):\n",
    "    A = np.vstack([x, np.ones_like(x)]).T\n",
    "    m, c = np.linalg.lstsq(A, y, rcond=None)[0]\n",
    "    return m, c\n",
    "\n",
    "def calculate_residuals(x, y, m, c):\n",
    "    #y_predicted = (m*x) + c\n",
    "    perpdist = abs(((-m*x) + y - c) / np.sqrt(m**2 + 1))\n",
    "    #residuals = np.abs(perpdist - y_predicted)\n",
    "    return perpdist\n",
    "\n",
    "def coords(event_number):\n",
    "    idx = np.where(events.event_number == event_number)[0]\n",
    "    gradients = []\n",
    "    intercepts = []\n",
    "    particleType = []\n",
    "    ratio = []\n",
    "    \n",
    "    xmax = -1000\n",
    "    xmin = 1000\n",
    "    zmax = -1000\n",
    "    zmin = 1000\n",
    "    for i in idx:\n",
    "        x0 = events.reco_hits_x_w[i]\n",
    "        z0 = events.reco_hits_w[i]\n",
    "        if len(x0) > 0:\n",
    "            if max(x0) >= xmax:\n",
    "                xmax = max(x0)\n",
    "            if min(x0) <= xmin:\n",
    "                xmin = min(x0)\n",
    "        if len(z0) > 0:\n",
    "            if max(z0) >= zmax:\n",
    "                zmax = max(z0)\n",
    "            if min(z0) <= zmin:\n",
    "                zmin = min(z0)\n",
    "\n",
    "    xlen = 0.1*(xmax - xmin)\n",
    "    zlen = 0.1*(zmax - zmin)\n",
    "    \n",
    "    for i in idx:\n",
    "        x = events.reco_hits_x_w[i]\n",
    "        z = events.reco_hits_w[i]\n",
    "        pdg = events.mc_pdg[i]\n",
    "        purity = events.purity[i]\n",
    "        complete = events.completeness[i]\n",
    "        \n",
    "        if len(x) > 10 and pdg != 0 and purity > 0.75 and complete > 0.75:\n",
    "            #particleType.append(pdg)\n",
    "            \n",
    "            best_inliers = []\n",
    "            best_model = None\n",
    "            sample_size = 10\n",
    "            max_iterations = 100\n",
    "\n",
    "            for _ in range(max_iterations):\n",
    "                sample_size = min(sample_size, len(x))\n",
    "                sample_indices = np.random.choice(len(x), size=sample_size, replace=False)\n",
    "                x_sample = x[sample_indices]\n",
    "                z_sample = z[sample_indices]\n",
    "\n",
    "                m, c = fit_line(x_sample, z_sample)\n",
    "                residuals = calculate_residuals(x, z, m, c)\n",
    "                inliers = np.where(residuals < (0.15*xlen))[0]\n",
    "\n",
    "                if len(inliers) > len(best_inliers):\n",
    "                    best_inliers = inliers\n",
    "                    best_model = (m, c)\n",
    "\n",
    "            if len(best_inliers) > 0:\n",
    "                m, c = best_model\n",
    "                gradients.append(m)\n",
    "                intercepts.append(c)\n",
    "                particleType.append(pdg)\n",
    "                \n",
    "                znew = z - c\n",
    "                angle = -math.atan(m)\n",
    "                l = x * np.cos(angle) - znew * np.sin(angle)\n",
    "                t = x * np.sin(angle) + znew * np.cos(angle)\n",
    "\n",
    "                tdiff = np.abs(max(t)-min(t))\n",
    "                margin = tdiff*0.05\n",
    "                inside = [x for x in t if x <= margin and x >= -margin]\n",
    "                ratio.append(len(inside)/len(t))\n",
    "            \n",
    "            else:\n",
    "                ratio.append(0.1)\n",
    "                particleType.append(pdg)\n",
    "    \n",
    "    return particleType, ratio"
   ]
  },
  {
   "cell_type": "code",
   "execution_count": 115,
   "id": "7653839e",
   "metadata": {},
   "outputs": [],
   "source": [
    "def ratiohistplot():\n",
    "    tracks = []\n",
    "    showers = []\n",
    "    tnumber = []\n",
    "    snumber = []\n",
    "    tindex = []\n",
    "    sindex = []\n",
    "        \n",
    "    for n in random_numbers:\n",
    "        part, ratio = coords(n)\n",
    "        for i in range(len(ratio)):\n",
    "            if part[i] == 22. or part[i] == -11. or part[i] == 11.:\n",
    "                showers.append(ratio[i])\n",
    "                snumber.append(n)\n",
    "                sindex.append(i)\n",
    "            else:\n",
    "                tracks.append(ratio[i])\n",
    "                tnumber.append(n)\n",
    "                tindex.append(i)\n",
    "    \n",
    "    #print(max(showers))\n",
    "    bin_edges = np.arange(0, 1.05, 0.05)\n",
    "    hist1, _ = np.histogram(tracks, bins=bin_edges)\n",
    "    hist2, _ = np.histogram(showers, bins=bin_edges)\n",
    "   \n",
    "    hist1_normalized = hist1 / len(tracks)\n",
    "    hist2_normalized = hist2 / len(showers)\n",
    "\n",
    "    plt.bar(bin_edges[:-1], hist1_normalized, width=0.05, align='edge', alpha=0.75, label='Tracks')\n",
    "    plt.bar(bin_edges[:-1], hist2_normalized, width=0.05, align='edge', alpha=0.75, label='Showers')\n",
    "    \n",
    "    plt.xlabel('Ratio of particles close to fitted line')\n",
    "    plt.legend()\n",
    "    plt.show()\n",
    "    \n",
    "    showers = np.array(showers)\n",
    "    snumber = np.array(snumber)\n",
    "    sindex = np.array(sindex)\n",
    "    tracks = np.array(tracks)\n",
    "    tnumber = np.array(tnumber)\n",
    "    tindex = np.array(tindex)\n",
    "        \n",
    "    return showers, snumber, sindex, tracks, tnumber, tindex"
   ]
  },
  {
   "cell_type": "code",
   "execution_count": 116,
   "id": "013c507b",
   "metadata": {
    "scrolled": false
   },
   "outputs": [
    {
     "data": {
      "image/png": "[encoded data removed]",
      "text/plain": [
       "<Figure size 640x480 with 1 Axes>"
      ]
     },
     "metadata": {},
     "output_type": "display_data"
    }
   ],
   "source": [
    "sh1, sn1, si1, tr1, tn1, ti1 = ratiohistplot()"
   ]
  },
  {
   "cell_type": "code",
   "execution_count": 117,
   "id": "514c7132",
   "metadata": {},
   "outputs": [],
   "source": [
    "def connectiondist(event_number):\n",
    "    totals = []\n",
    "    parts = []\n",
    "    \n",
    "    idx = np.where(events.event_number == event_number)[0]\n",
    "    newidx = idx - idx[0]\n",
    "    for i in newidx:\n",
    "        x = events.reco_hits_x_w[i+idx[0]]\n",
    "        z = events.reco_hits_w[i+idx[0]]\n",
    "        part = events.mc_pdg[i+idx[0]]\n",
    "        purity = events.purity[i+idx[0]]\n",
    "        complete = events.completeness[i+idx[0]]\n",
    "        \n",
    "        if len(x) > 10 and part != 0 and purity > 0.75 and complete > 0.75 and (len(x)-1) != 0:\n",
    "            total_distance = 0.0\n",
    "            for j in range(len(x) - 1):\n",
    "                distance = np.sqrt((x[j+1] - x[j])**2 + (z[j+1] - z[j])**2)\n",
    "                total_distance += distance\n",
    "            meandist = total_distance/(len(x)-1)\n",
    "            totals.append(meandist)\n",
    "            parts.append(part)\n",
    "    \n",
    "    return np.array(totals), np.array(parts)"
   ]
  },
  {
   "cell_type": "code",
   "execution_count": 118,
   "id": "1cd98915",
   "metadata": {},
   "outputs": [],
   "source": [
    "def connecthistplot():\n",
    "    tracks = []\n",
    "    showers = []\n",
    "    tnumber = []\n",
    "    snumber = []\n",
    "    tindex = []\n",
    "    sindex = []\n",
    "    \n",
    "    for n in random_numbers:\n",
    "        total, part = connectiondist(n)\n",
    "        for i in range(len(total)):\n",
    "            #if total[i] != 0. and total[i] != -0. and total[i] <= 20:\n",
    "            if part[i] == 22. or part[i] == -11. or part[i] == 11.:\n",
    "                showers.append(total[i])\n",
    "                snumber.append(n)\n",
    "                sindex.append(i)\n",
    "            else:\n",
    "                tracks.append(total[i])\n",
    "                tnumber.append(n)\n",
    "                tindex.append(i)\n",
    "        \n",
    "    bin_edges = np.arange(0, 15.5, 0.5)\n",
    "    hist1, _ = np.histogram(tracks, bins=bin_edges)\n",
    "    hist2, _ = np.histogram(showers, bins=bin_edges)\n",
    "   \n",
    "    hist1_normalized = hist1 / len(tracks)\n",
    "    hist2_normalized = hist2 / len(showers)\n",
    "\n",
    "    plt.bar(bin_edges[:-1], hist1_normalized, width=0.5, align='edge', alpha=0.75, label='Tracks')\n",
    "    plt.bar(bin_edges[:-1], hist2_normalized, width=0.5, align='edge', alpha=0.75, label='Showers')\n",
    "    \n",
    "    plt.xlabel('Mean Connection Distance')\n",
    "    plt.legend()\n",
    "    plt.show()\n",
    "    \n",
    "    showers = np.array(showers)\n",
    "    snumber = np.array(snumber)\n",
    "    sindex = np.array(sindex)\n",
    "    tracks = np.array(tracks)\n",
    "    tnumber = np.array(tnumber)\n",
    "    tindex = np.array(tindex)\n",
    "        \n",
    "    return showers, snumber, sindex, tracks, tnumber, tindex"
   ]
  },
  {
   "cell_type": "code",
   "execution_count": 119,
   "id": "2546c023",
   "metadata": {},
   "outputs": [
    {
     "data": {
      "image/png": "[encoded data removed]",
      "text/plain": [
       "<Figure size 640x480 with 1 Axes>"
      ]
     },
     "metadata": {},
     "output_type": "display_data"
    }
   ],
   "source": [
    "sh2, sn2, si2, tr2, tn2, ti2 = connecthistplot()"
   ]
  },
  {
   "cell_type": "code",
   "execution_count": 120,
   "id": "3941e5d6",
   "metadata": {},
   "outputs": [],
   "source": [
    "def energy(event_number):    \n",
    "    particleType = np.array([])\n",
    "    E = np.array([])\n",
    "    \n",
    "    idx = np.where(events.event_number == event_number)[0]\n",
    "    for i in idx:\n",
    "        x = events.reco_hits_x_w[i]\n",
    "        z = events.reco_hits_w[i]\n",
    "        adc = events.reco_adcs_w[i]        \n",
    "        purity = events.purity[i]\n",
    "        complete = events.completeness[i]\n",
    "        pdg = events.mc_pdg[i]\n",
    "        \n",
    "        if len(x) > 10 and pdg != 0 and purity > 0.75 and complete > 0.75:\n",
    "            percent = int(0.8 * len(adc))\n",
    "            X = adc[percent:]\n",
    "            Xsum = np.sum(X)\n",
    "            \n",
    "            total = np.sum(adc)\n",
    "            result = Xsum / total\n",
    "            \n",
    "            if result != 1.0:\n",
    "                E = np.append(E, result)\n",
    "                particleType = np.append(particleType, pdg) \n",
    "            \n",
    "    return E, particleType"
   ]
  },
  {
   "cell_type": "code",
   "execution_count": 121,
   "id": "ebdac046",
   "metadata": {},
   "outputs": [],
   "source": [
    "def energyhistplot():\n",
    "    tracks = []\n",
    "    showers = []\n",
    "    tnumber = []\n",
    "    snumber = []\n",
    "    tindex = []\n",
    "    sindex = []\n",
    "    \n",
    "    for n in random_numbers:\n",
    "        vol, part = energy(n)\n",
    "        for i in range(len(vol)):\n",
    "            if part[i] == 22. or part[i] == -11. or part[i] == 11.:\n",
    "                showers.append(vol[i])\n",
    "                snumber.append(n)\n",
    "                sindex.append(i)\n",
    "            else:\n",
    "                tracks.append(vol[i])\n",
    "                tnumber.append(n)\n",
    "                tindex.append(i)\n",
    "    \n",
    "    bin_edges = np.arange(0, 1.05, 0.05)\n",
    "    hist1, _ = np.histogram(tracks, bins=bin_edges)\n",
    "    hist2, _ = np.histogram(showers, bins=bin_edges)\n",
    "   \n",
    "    hist1_normalized = hist1 / len(tracks)\n",
    "    hist2_normalized = hist2 / len(showers)\n",
    "\n",
    "    plt.bar(bin_edges[:-1], hist1_normalized, width=0.05, align='edge', alpha=0.75, label='Tracks')\n",
    "    plt.bar(bin_edges[:-1], hist2_normalized, width=0.05, align='edge', alpha=0.75, label='Showers')\n",
    "    \n",
    "    plt.xlabel('Energy in last X%')\n",
    "    plt.legend()\n",
    "    plt.show()\n",
    "    \n",
    "    showers = np.array(showers)\n",
    "    snumber = np.array(snumber)\n",
    "    sindex = np.array(sindex)\n",
    "    tracks = np.array(tracks)\n",
    "    tnumber = np.array(tnumber)\n",
    "    tindex = np.array(tindex)\n",
    "        \n",
    "    return showers, snumber, sindex, tracks, tnumber, tindex"
   ]
  },
  {
   "cell_type": "code",
   "execution_count": 122,
   "id": "d9b43b1e",
   "metadata": {},
   "outputs": [
    {
     "data": {
      "image/png": "[encoded data removed]",
      "text/plain": [
       "<Figure size 640x480 with 1 Axes>"
      ]
     },
     "metadata": {},
     "output_type": "display_data"
    }
   ],
   "source": [
    "sh3, sn3, si3, tr3, tn3, ti3 = energyhistplot()"
   ]
  },
  {
   "cell_type": "code",
   "execution_count": 128,
   "id": "b359be36",
   "metadata": {},
   "outputs": [],
   "source": [
    "def correlationmatrix():\n",
    "#     array1 = np.column_stack((np.array([sn1, si1, sh1])))\n",
    "#     array2 = np.column_stack((np.array([sn2, si2, sh2])))\n",
    "#     array3 = np.column_stack((np.array([sn3, si3, sh3])))\n",
    "    \n",
    "#     set1 = set(map(tuple, array1[:, :2]))\n",
    "#     set2 = set(map(tuple, array2[:, :2]))\n",
    "#     set3 = set(map(tuple, array3[:, :2]))\n",
    "#     common_combinations = set1.intersection(set2, set3)\n",
    "#     common_combinations_array = np.array(list(common_combinations))\n",
    "\n",
    "#     result1 = array1[np.isin(array1[:, :2], common_combinations_array).all(axis=1), 2]\n",
    "#     result2 = array2[np.isin(array2[:, :2], common_combinations_array).all(axis=1), 2]\n",
    "#     result3 = array3[np.isin(array3[:, :2], common_combinations_array).all(axis=1), 2]\n",
    "    \n",
    "#     sorting_indices = np.lexsort((common_combinations_array[:, 1], common_combinations_array[:, 0]))\n",
    "#     result1 = result1[sorting_indices]\n",
    "#     result2 = result2[sorting_indices]\n",
    "#     result3 = result3[sorting_indices]\n",
    "    \n",
    "#     print('Shower Correlation Matrix')\n",
    "#     print('Original counts:', len(sh1), len(sh2), len(sh3))\n",
    "#     #print('Final count:', len(result1))\n",
    "#     #combined_results = np.vstack((result1, result2, result3))\n",
    "#     combined_results = np.vstack((sh1, sh2, sh3))\n",
    "#     print(np.corrcoef(combined_results))\n",
    "    \n",
    "    \n",
    "#     array1 = np.column_stack((np.array([tn1, ti1, tr1])))\n",
    "#     array2 = np.column_stack((np.array([tn2, ti2, tr2])))\n",
    "#     array3 = np.column_stack((np.array([tn3, ti3, tr3])))\n",
    "    \n",
    "#     set1 = set(map(tuple, array1[:, :2]))\n",
    "#     set2 = set(map(tuple, array2[:, :2]))\n",
    "#     set3 = set(map(tuple, array3[:, :2]))\n",
    "#     common_combinations = set1.intersection(set2, set3)\n",
    "#     common_combinations_array = np.array(list(common_combinations))\n",
    "\n",
    "#     result1 = array1[np.isin(array1[:, :2], common_combinations_array).all(axis=1), 2]\n",
    "#     result2 = array2[np.isin(array2[:, :2], common_combinations_array).all(axis=1), 2]\n",
    "#     result3 = array3[np.isin(array3[:, :2], common_combinations_array).all(axis=1), 2]\n",
    "    \n",
    "#     sorting_indices = np.lexsort((common_combinations_array[:, 1], common_combinations_array[:, 0]))\n",
    "#     result1 = result1[sorting_indices]\n",
    "#     result2 = result2[sorting_indices]\n",
    "#     result3 = result3[sorting_indices]\n",
    "    \n",
    "#     print(' ')\n",
    "#     print('Track Correlation Matrix')\n",
    "#     print('Original counts:', len(tr1), len(tr2), len(tr3))\n",
    "#     #print('Final count:', len(result1))\n",
    "#     #combined_results = np.vstack((result1, result2, result3))\n",
    "#     combined_results = np.vstack((tr1, tr2, tr3))\n",
    "#     print(np.corrcoef(combined_results))\n",
    "    \n",
    "    \n",
    "    #print(' ')\n",
    "    print('Particle count:', len(tr1)+len(sh1))\n",
    "    combined_results = np.vstack((np.append(sh1, tr1), np.append(sh2, tr2), np.append(sh3, tr3)))\n",
    "    print(np.corrcoef(combined_results))\n",
    "    \n",
    "    # Transpose the array to have variables in rows and observations in columns\n",
    "    #x = combined_results.T"
   ]
  },
  {
   "cell_type": "code",
   "execution_count": 129,
   "id": "4d38aed6",
   "metadata": {
    "scrolled": false
   },
   "outputs": [
    {
     "name": "stdout",
     "output_type": "stream",
     "text": [
      "Particle count: 11615\n",
      "[[ 1.          0.4100493  -0.4084723 ]\n",
      " [ 0.4100493   1.         -0.35871205]\n",
      " [-0.4084723  -0.35871205  1.        ]]\n"
     ]
    }
   ],
   "source": [
    "correlationmatrix()"
   ]
  },
  {
   "cell_type": "code",
   "execution_count": 130,
   "id": "4797d60e",
   "metadata": {
    "scrolled": true
   },
   "outputs": [
    {
     "name": "stdout",
     "output_type": "stream",
     "text": [
      "[[7371 7371 8974 ... 5174 5174 5174]\n",
      " [   0    3    2 ...    0    1    2]]\n",
      "[[7371 7371 8974 ... 5174 5174 5174]\n",
      " [   0    3    2 ...    0    1    2]]\n",
      "[[7371 7371 8974 ... 5174 5174 5174]\n",
      " [   0    3    2 ...    0    1    2]]\n"
     ]
    }
   ],
   "source": [
    "print(np.array([sn1, si1]))\n",
    "print(np.array([sn2, si2]))\n",
    "print(np.array([sn3, si3]))"
   ]
  },
  {
   "cell_type": "code",
   "execution_count": null,
   "id": "16eaca97",
   "metadata": {},
   "outputs": [],
   "source": []
  }
 ],
 "metadata": {
  "kernelspec": {
   "display_name": "Python 3 (ipykernel)",
   "language": "python",
   "name": "python3"
  },
  "language_info": {
   "codemirror_mode": {
    "name": "ipython",
    "version": 3
   },
   "file_extension": ".py",
   "mimetype": "text/x-python",
   "name": "python",
   "nbconvert_exporter": "python",
   "pygments_lexer": "ipython3",
   "version": "3.9.18"
  }
 },
 "nbformat": 4,
 "nbformat_minor": 5
}
