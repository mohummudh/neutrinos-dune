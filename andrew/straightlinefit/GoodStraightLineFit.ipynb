{
 "cells": [
  {
   "cell_type": "code",
   "execution_count": 62,
   "id": "5ae1d16e",
   "metadata": {},
   "outputs": [],
   "source": [
    "from uproot_io import Events, View\n",
    "import numpy as np\n",
    "import matplotlib\n",
    "import matplotlib.pyplot as plt\n",
    "titlesize = 20\n",
    "labelsize = 14"
   ]
  },
  {
   "cell_type": "code",
   "execution_count": 63,
   "id": "e6eaca7c",
   "metadata": {},
   "outputs": [],
   "source": [
    "events = Events(r\"C:\\Users\\andre\\Desktop\\Physics Project\\bigdata\\PandoraRecoFile_1.root\")"
   ]
  },
  {
   "cell_type": "code",
   "execution_count": 95,
   "id": "20922a46",
   "metadata": {},
   "outputs": [],
   "source": [
    "def fit_line(x, y):\n",
    "    A = np.vstack([x, np.ones_like(x)]).T\n",
    "    m, c = np.linalg.lstsq(A, y, rcond=None)[0]\n",
    "    return m, c\n",
    "\n",
    "def calculate_residuals(x, y, m, c):\n",
    "    #y_predicted = (m*x) + c\n",
    "    perpdist = abs(((-m*x) + y - c) / np.sqrt(m**2 + 1))\n",
    "    #residuals = np.abs(perpdist - y_predicted)\n",
    "    return perpdist\n",
    "\n",
    "def inlierplot(event_number, plot):\n",
    "    idx = np.where(events.event_number == event_number)[0]\n",
    "    resis = []\n",
    "    \n",
    "    vx = events.true_neutrino_vtx_x[idx[0]]\n",
    "    vz = events.true_neutrino_vtx_w[idx[0]]\n",
    "    if plot == True:\n",
    "        plt.scatter(vx, vz, c='red', s=50)\n",
    "\n",
    "    xmax = -1000\n",
    "    xmin = 1000\n",
    "    zmax = -1000\n",
    "    zmin = 1000\n",
    "    for i in idx:\n",
    "        x0 = events.reco_hits_x_w[i]\n",
    "        z0 = events.reco_hits_w[i]\n",
    "        if plot == True:\n",
    "            plt.scatter(x0, z0, s=0.5)\n",
    "        if len(x0) > 0:\n",
    "            if max(x0) >= xmax:\n",
    "                xmax = max(x0)\n",
    "            if min(x0) <= xmin:\n",
    "                xmin = min(x0)\n",
    "        if len(z0) > 0:\n",
    "            if max(z0) >= zmax:\n",
    "                zmax = max(z0)\n",
    "            if min(z0) <= zmin:\n",
    "                zmin = min(z0)\n",
    "        \n",
    "    if vx < xmin:\n",
    "        xmin = vx    \n",
    "    if vx > xmax:\n",
    "        xmax = vx\n",
    "    if vz < zmin:\n",
    "        zmin = vz    \n",
    "    if vz > zmax:\n",
    "        zmax = vz\n",
    "\n",
    "    xlen = 0.1*(xmax - xmin)\n",
    "    zlen = 0.1*(zmax - zmin)\n",
    "    \n",
    "    if plot == True:\n",
    "        plt.xlim(xmin-xlen, xmax+xlen)\n",
    "        plt.ylim(zmin-zlen, zmax+zlen)\n",
    "        plt.show()\n",
    "        \n",
    "        plt.scatter(vx, vz, c='red', s=50)\n",
    "        plt.xlim(xmin-xlen, xmax+xlen)\n",
    "        plt.ylim(zmin-zlen, zmax+zlen)\n",
    "    \n",
    "    for i in idx:\n",
    "        x = events.reco_hits_x_w[i]\n",
    "        z = events.reco_hits_w[i]\n",
    "        if plot == True:\n",
    "            plt.scatter(x, z, s=0.5)\n",
    "                \n",
    "        best_inliers = []\n",
    "        best_model = None\n",
    "        sample_size = 10\n",
    "        max_iterations = 1000\n",
    "        #inlier_threshold = 2.0\n",
    "        \n",
    "        for _ in range(max_iterations):\n",
    "            sample_size = min(sample_size, len(x))\n",
    "            sample_indices = np.random.choice(len(x), size=sample_size, replace=False)\n",
    "            x_sample = x[sample_indices]\n",
    "            z_sample = z[sample_indices]\n",
    "\n",
    "            m, c = fit_line(x_sample, z_sample)\n",
    "            residuals = calculate_residuals(x, z, m, c)\n",
    "            inliers = np.where(residuals < (0.15*xlen))[0]\n",
    "\n",
    "            if len(inliers) > len(best_inliers):\n",
    "                best_inliers = inliers\n",
    "                best_model = (m, c)\n",
    "\n",
    "        if len(best_inliers) > 0:\n",
    "            m, c = best_model\n",
    "            \n",
    "            if plot == True:\n",
    "                x_inliers = x[best_inliers]\n",
    "                z_inliers = z[best_inliers]\n",
    "                plt.scatter(x_inliers, z_inliers, color='blue', marker='o')\n",
    "\n",
    "                plt.plot(x_inliers, m * x_inliers + c)\n",
    "                plt.xlabel('x')\n",
    "                plt.ylabel('w')\n",
    "        \n",
    "            perp_dist = [calculate_residuals(x[i], z[i], m, c) for i in range(len(x))]\n",
    "            num_points = int(0.5 * len(x))\n",
    "            mean = np.mean(perp_dist[:num_points])\n",
    "            resis.append(mean)\n",
    "        else:\n",
    "            print(\"No inliers found for a particle\")\n",
    "    \n",
    "    if plot == True:\n",
    "        plt.show()\n",
    "    \n",
    "    return np.array(resis)"
   ]
  },
  {
   "cell_type": "code",
   "execution_count": 98,
   "id": "c54a7d10",
   "metadata": {},
   "outputs": [],
   "source": [
    "def allresiduals():\n",
    "    allnumber = []\n",
    "    for i in np.unique(events.event_number):\n",
    "        resid = inlierplot(i, False)\n",
    "        allnumber.append(resid)\n",
    "    return np.array(allnumber)\n",
    "    "
   ]
  },
  {
   "cell_type": "code",
   "execution_count": 96,
   "id": "ab745e05",
   "metadata": {
    "scrolled": true
   },
   "outputs": [
    {
     "name": "stdout",
     "output_type": "stream",
     "text": [
      "No inliers found for a particle\n"
     ]
    },
    {
     "data": {
      "text/plain": [
       "array([ 0.0441614 ,  0.07913473,  0.33817716,  0.09105285,  0.50737292,\n",
       "        0.07000585,  0.6648572 ,  0.17905095,  0.04177414,  0.39528279,\n",
       "        0.53255138,  0.30387441,  4.44835439,  0.49431393,  0.0214405 ,\n",
       "        0.07625326,  0.0912809 ,  0.66958588, 10.35484241,  1.82237   ])"
      ]
     },
     "execution_count": 96,
     "metadata": {},
     "output_type": "execute_result"
    }
   ],
   "source": [
    "inlierplot(8, False)"
   ]
  },
  {
   "cell_type": "code",
   "execution_count": 99,
   "id": "13101296",
   "metadata": {},
   "outputs": [
    {
     "name": "stdout",
     "output_type": "stream",
     "text": [
      "No inliers found for a particle\n",
      "No inliers found for a particle\n",
      "No inliers found for a particle\n",
      "No inliers found for a particle\n",
      "No inliers found for a particle\n",
      "No inliers found for a particle\n",
      "No inliers found for a particle\n",
      "No inliers found for a particle\n",
      "No inliers found for a particle\n",
      "No inliers found for a particle\n",
      "No inliers found for a particle\n",
      "No inliers found for a particle\n",
      "No inliers found for a particle\n",
      "No inliers found for a particle\n",
      "No inliers found for a particle\n",
      "No inliers found for a particle\n",
      "No inliers found for a particle\n",
      "No inliers found for a particle\n",
      "No inliers found for a particle\n"
     ]
    },
    {
     "ename": "KeyboardInterrupt",
     "evalue": "",
     "output_type": "error",
     "traceback": [
      "\u001b[1;31m---------------------------------------------------------------------------\u001b[0m",
      "\u001b[1;31mKeyboardInterrupt\u001b[0m                         Traceback (most recent call last)",
      "Cell \u001b[1;32mIn[99], line 1\u001b[0m\n\u001b[1;32m----> 1\u001b[0m residuals \u001b[38;5;241m=\u001b[39m \u001b[43mallresiduals\u001b[49m\u001b[43m(\u001b[49m\u001b[43m)\u001b[49m\n",
      "Cell \u001b[1;32mIn[98], line 4\u001b[0m, in \u001b[0;36mallresiduals\u001b[1;34m()\u001b[0m\n\u001b[0;32m      2\u001b[0m allnumber \u001b[38;5;241m=\u001b[39m []\n\u001b[0;32m      3\u001b[0m \u001b[38;5;28;01mfor\u001b[39;00m i \u001b[38;5;129;01min\u001b[39;00m np\u001b[38;5;241m.\u001b[39munique(events\u001b[38;5;241m.\u001b[39mevent_number):\n\u001b[1;32m----> 4\u001b[0m     resid \u001b[38;5;241m=\u001b[39m \u001b[43minlierplot\u001b[49m\u001b[43m(\u001b[49m\u001b[43mi\u001b[49m\u001b[43m,\u001b[49m\u001b[43m \u001b[49m\u001b[38;5;28;43;01mFalse\u001b[39;49;00m\u001b[43m)\u001b[49m\n\u001b[0;32m      5\u001b[0m     allnumber\u001b[38;5;241m.\u001b[39mappend(resid)\n\u001b[0;32m      6\u001b[0m \u001b[38;5;28;01mreturn\u001b[39;00m np\u001b[38;5;241m.\u001b[39marray(allnumber)\n",
      "Cell \u001b[1;32mIn[95], line 80\u001b[0m, in \u001b[0;36minlierplot\u001b[1;34m(event_number, plot)\u001b[0m\n\u001b[0;32m     77\u001b[0m x_sample \u001b[38;5;241m=\u001b[39m x[sample_indices]\n\u001b[0;32m     78\u001b[0m z_sample \u001b[38;5;241m=\u001b[39m z[sample_indices]\n\u001b[1;32m---> 80\u001b[0m m, c \u001b[38;5;241m=\u001b[39m \u001b[43mfit_line\u001b[49m\u001b[43m(\u001b[49m\u001b[43mx_sample\u001b[49m\u001b[43m,\u001b[49m\u001b[43m \u001b[49m\u001b[43mz_sample\u001b[49m\u001b[43m)\u001b[49m\n\u001b[0;32m     81\u001b[0m residuals \u001b[38;5;241m=\u001b[39m calculate_residuals(x, z, m, c)\n\u001b[0;32m     82\u001b[0m inliers \u001b[38;5;241m=\u001b[39m np\u001b[38;5;241m.\u001b[39mwhere(residuals \u001b[38;5;241m<\u001b[39m (\u001b[38;5;241m0.15\u001b[39m\u001b[38;5;241m*\u001b[39mxlen))[\u001b[38;5;241m0\u001b[39m]\n",
      "Cell \u001b[1;32mIn[95], line 3\u001b[0m, in \u001b[0;36mfit_line\u001b[1;34m(x, y)\u001b[0m\n\u001b[0;32m      1\u001b[0m \u001b[38;5;28;01mdef\u001b[39;00m \u001b[38;5;21mfit_line\u001b[39m(x, y):\n\u001b[0;32m      2\u001b[0m     A \u001b[38;5;241m=\u001b[39m np\u001b[38;5;241m.\u001b[39mvstack([x, np\u001b[38;5;241m.\u001b[39mones_like(x)])\u001b[38;5;241m.\u001b[39mT\n\u001b[1;32m----> 3\u001b[0m     m, c \u001b[38;5;241m=\u001b[39m \u001b[43mnp\u001b[49m\u001b[38;5;241;43m.\u001b[39;49m\u001b[43mlinalg\u001b[49m\u001b[38;5;241;43m.\u001b[39;49m\u001b[43mlstsq\u001b[49m\u001b[43m(\u001b[49m\u001b[43mA\u001b[49m\u001b[43m,\u001b[49m\u001b[43m \u001b[49m\u001b[43my\u001b[49m\u001b[43m,\u001b[49m\u001b[43m \u001b[49m\u001b[43mrcond\u001b[49m\u001b[38;5;241;43m=\u001b[39;49m\u001b[38;5;28;43;01mNone\u001b[39;49;00m\u001b[43m)\u001b[49m[\u001b[38;5;241m0\u001b[39m]\n\u001b[0;32m      4\u001b[0m     \u001b[38;5;28;01mreturn\u001b[39;00m m, c\n",
      "File \u001b[1;32m<__array_function__ internals>:200\u001b[0m, in \u001b[0;36mlstsq\u001b[1;34m(*args, **kwargs)\u001b[0m\n",
      "File \u001b[1;32m~\\anaconda3\\lib\\site-packages\\numpy\\linalg\\linalg.py:2285\u001b[0m, in \u001b[0;36mlstsq\u001b[1;34m(a, b, rcond)\u001b[0m\n\u001b[0;32m   2282\u001b[0m \u001b[38;5;28;01mif\u001b[39;00m n_rhs \u001b[38;5;241m==\u001b[39m \u001b[38;5;241m0\u001b[39m:\n\u001b[0;32m   2283\u001b[0m     \u001b[38;5;66;03m# lapack can't handle n_rhs = 0 - so allocate the array one larger in that axis\u001b[39;00m\n\u001b[0;32m   2284\u001b[0m     b \u001b[38;5;241m=\u001b[39m zeros(b\u001b[38;5;241m.\u001b[39mshape[:\u001b[38;5;241m-\u001b[39m\u001b[38;5;241m2\u001b[39m] \u001b[38;5;241m+\u001b[39m (m, n_rhs \u001b[38;5;241m+\u001b[39m \u001b[38;5;241m1\u001b[39m), dtype\u001b[38;5;241m=\u001b[39mb\u001b[38;5;241m.\u001b[39mdtype)\n\u001b[1;32m-> 2285\u001b[0m x, resids, rank, s \u001b[38;5;241m=\u001b[39m \u001b[43mgufunc\u001b[49m\u001b[43m(\u001b[49m\u001b[43ma\u001b[49m\u001b[43m,\u001b[49m\u001b[43m \u001b[49m\u001b[43mb\u001b[49m\u001b[43m,\u001b[49m\u001b[43m \u001b[49m\u001b[43mrcond\u001b[49m\u001b[43m,\u001b[49m\u001b[43m \u001b[49m\u001b[43msignature\u001b[49m\u001b[38;5;241;43m=\u001b[39;49m\u001b[43msignature\u001b[49m\u001b[43m,\u001b[49m\u001b[43m \u001b[49m\u001b[43mextobj\u001b[49m\u001b[38;5;241;43m=\u001b[39;49m\u001b[43mextobj\u001b[49m\u001b[43m)\u001b[49m\n\u001b[0;32m   2286\u001b[0m \u001b[38;5;28;01mif\u001b[39;00m m \u001b[38;5;241m==\u001b[39m \u001b[38;5;241m0\u001b[39m:\n\u001b[0;32m   2287\u001b[0m     x[\u001b[38;5;241m.\u001b[39m\u001b[38;5;241m.\u001b[39m\u001b[38;5;241m.\u001b[39m] \u001b[38;5;241m=\u001b[39m \u001b[38;5;241m0\u001b[39m\n",
      "\u001b[1;31mKeyboardInterrupt\u001b[0m: "
     ]
    }
   ],
   "source": [
    "#residuals = allresiduals()"
   ]
  },
  {
   "cell_type": "code",
   "execution_count": null,
   "id": "b92dc0ab",
   "metadata": {},
   "outputs": [],
   "source": []
  },
  {
   "cell_type": "code",
   "execution_count": null,
   "id": "49a24585",
   "metadata": {},
   "outputs": [],
   "source": []
  }
 ],
 "metadata": {
  "kernelspec": {
   "display_name": "Python 3 (ipykernel)",
   "language": "python",
   "name": "python3"
  },
  "language_info": {
   "codemirror_mode": {
    "name": "ipython",
    "version": 3
   },
   "file_extension": ".py",
   "mimetype": "text/x-python",
   "name": "python",
   "nbconvert_exporter": "python",
   "pygments_lexer": "ipython3",
   "version": "3.9.18"
  }
 },
 "nbformat": 4,
 "nbformat_minor": 5
}
