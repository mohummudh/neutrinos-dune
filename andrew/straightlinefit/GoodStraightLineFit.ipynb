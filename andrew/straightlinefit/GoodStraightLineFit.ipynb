{
 "cells": [
  {
   "cell_type": "code",
   "execution_count": 1,
   "id": "795850e0",
   "metadata": {
    "scrolled": true
   },
   "outputs": [],
   "source": [
    "from uproot_io import Events, View\n",
    "import numpy as np\n",
    "import matplotlib\n",
    "import matplotlib.pyplot as plt\n",
    "titlesize = 20\n",
    "labelsize = 14"
   ]
  },
  {
   "cell_type": "code",
   "execution_count": 2,
   "id": "9e89777b",
   "metadata": {
    "scrolled": true
   },
   "outputs": [],
   "source": [
    "events = Events(r\"C:\\Users\\andre\\Desktop\\Physics Project\\bigdata\\PandoraRecoFile_1.root\")"
   ]
  },
  {
   "cell_type": "code",
   "execution_count": 67,
   "id": "790883d3",
   "metadata": {
    "scrolled": true
   },
   "outputs": [],
   "source": [
    "def fit_line(x, y):\n",
    "    A = np.vstack([x, np.ones_like(x)]).T\n",
    "    m, c = np.linalg.lstsq(A, y, rcond=None)[0]\n",
    "    return m, c\n",
    "\n",
    "def calculate_residuals(x, y, m, c):\n",
    "    #y_predicted = (m*x) + c\n",
    "    perpdist = abs(((-m*x) + y - c) / np.sqrt(m**2 + 1))\n",
    "    #residuals = np.abs(perpdist - y_predicted)\n",
    "    return perpdist\n",
    "\n",
    "def inlierplot(event_number, plot):\n",
    "    idx = np.where(events.event_number == event_number)[0]\n",
    "    resis = []\n",
    "    gradients = []\n",
    "    intercepts = []\n",
    "    particleType = []\n",
    "    \n",
    "    vx = events.true_neutrino_vtx_x[idx[0]]\n",
    "    vz = events.true_neutrino_vtx_w[idx[0]]\n",
    "    if plot == True:\n",
    "        plt.scatter(vx, vz, c='red', s=50)\n",
    "\n",
    "    xmax = -1000\n",
    "    xmin = 1000\n",
    "    zmax = -1000\n",
    "    zmin = 1000\n",
    "    for i in idx:\n",
    "        x0 = events.reco_hits_x_w[i]\n",
    "        z0 = events.reco_hits_w[i]\n",
    "        if plot == True:\n",
    "            plt.scatter(x0, z0, s=0.5)\n",
    "        \n",
    "        if len(x0) > 0:\n",
    "            if max(x0) >= xmax:\n",
    "                xmax = max(x0)\n",
    "            if min(x0) <= xmin:\n",
    "                xmin = min(x0)\n",
    "        if len(z0) > 0:\n",
    "            if max(z0) >= zmax:\n",
    "                zmax = max(z0)\n",
    "            if min(z0) <= zmin:\n",
    "                zmin = min(z0)\n",
    "        \n",
    "    if vx < xmin:\n",
    "        xmin = vx    \n",
    "    if vx > xmax:\n",
    "        xmax = vx\n",
    "    if vz < zmin:\n",
    "        zmin = vz    \n",
    "    if vz > zmax:\n",
    "        zmax = vz\n",
    "\n",
    "    xlen = 0.1*(xmax - xmin)\n",
    "    zlen = 0.1*(zmax - zmin)\n",
    "    \n",
    "    if plot == True:\n",
    "        plt.xlim(xmin-xlen, xmax+xlen)\n",
    "        plt.ylim(zmin-zlen, zmax+zlen)\n",
    "        plt.show()\n",
    "        \n",
    "        plt.scatter(vx, vz, c='red', s=50)\n",
    "        plt.xlim(xmin-xlen, xmax+xlen)\n",
    "        plt.ylim(zmin-zlen, zmax+zlen)\n",
    "    \n",
    "    for i in idx:\n",
    "        x = events.reco_hits_x_w[i]\n",
    "        z = events.reco_hits_w[i]\n",
    "        pdg = events.mc_pdg[i]\n",
    "        \n",
    "        particleType.append(pdg)\n",
    "        \n",
    "        if plot == True:\n",
    "            plt.scatter(x, z, s=0.5)\n",
    "                \n",
    "        best_inliers = []\n",
    "        best_model = None\n",
    "        sample_size = 10\n",
    "        max_iterations = 1000\n",
    "        #inlier_threshold = 2.0\n",
    "        \n",
    "        for _ in range(max_iterations):\n",
    "            sample_size = min(sample_size, len(x))\n",
    "            sample_indices = np.random.choice(len(x), size=sample_size, replace=False)\n",
    "            x_sample = x[sample_indices]\n",
    "            z_sample = z[sample_indices]\n",
    "\n",
    "            m, c = fit_line(x_sample, z_sample)\n",
    "            residuals = calculate_residuals(x, z, m, c)\n",
    "            inliers = np.where(residuals < (0.15*xlen))[0]\n",
    "\n",
    "            if len(inliers) > len(best_inliers):\n",
    "                best_inliers = inliers\n",
    "                best_model = (m, c)\n",
    "\n",
    "        if len(best_inliers) > 0:\n",
    "            m, c = best_model\n",
    "            gradients.append(m)\n",
    "            intercepts.append(c)\n",
    "            \n",
    "            if plot == True:\n",
    "                x_inliers = x[best_inliers]\n",
    "                z_inliers = z[best_inliers]\n",
    "                plt.scatter(x_inliers, z_inliers, color='blue', marker='o')\n",
    "\n",
    "                plt.plot(x_inliers, m * x_inliers + c)\n",
    "                plt.xlabel('x')\n",
    "                plt.ylabel('w')\n",
    "        \n",
    "            perp_dist = [calculate_residuals(x[i], z[i], m, c) for i in range(len(x))]\n",
    "            num_points = int(0.5 * len(x))\n",
    "            mean = np.mean(perp_dist[:num_points])\n",
    "            #mean = np.mean(perp_dist)\n",
    "            resis.append(mean)\n",
    "        else:\n",
    "            gradients.append(0)\n",
    "            intercepts.append(0)\n",
    "            resis.append(0)\n",
    "            #print(\"No inliers found for a particle\")\n",
    "            continue\n",
    "    \n",
    "    if plot == True:\n",
    "        plt.show()\n",
    "    \n",
    "    return np.array(np.stack((gradients, intercepts, resis, particleType)))"
   ]
  },
  {
   "cell_type": "code",
   "execution_count": 49,
   "id": "817fdda7",
   "metadata": {
    "scrolled": true
   },
   "outputs": [],
   "source": [
    "def allresiduals():\n",
    "    allnumber = []\n",
    "    for i in np.unique(events.event_number):\n",
    "        resid = inlierplot(i, False)\n",
    "        allnumber.append(resid)\n",
    "    return np.array(allnumber)\n",
    "    "
   ]
  },
  {
   "cell_type": "code",
   "execution_count": 79,
   "id": "24c5d800",
   "metadata": {
    "scrolled": false
   },
   "outputs": [
    {
     "data": {
      "image/png": "[encoded data removed]",
      "text/plain": [
       "<Figure size 640x480 with 1 Axes>"
      ]
     },
     "metadata": {},
     "output_type": "display_data"
    },
    {
     "data": {
      "image/png": "[encoded data removed]",
      "text/plain": [
       "<Figure size 640x480 with 1 Axes>"
      ]
     },
     "metadata": {},
     "output_type": "display_data"
    },
    {
     "data": {
      "text/plain": [
       "array([[-3.20468098e-02, -8.40309143e-01,  6.74388170e-01,\n",
       "         8.99341774e+00,  1.73453534e+00, -1.23922980e+00,\n",
       "         4.29110765e-01],\n",
       "       [ 3.57044342e+02,  3.94396912e+02,  2.91156189e+02,\n",
       "        -3.24087189e+02,  2.22753174e+02,  4.58662567e+02,\n",
       "         3.10629822e+02],\n",
       "       [ 3.25109792e-01,  2.77469682e-02,  5.77066936e-02,\n",
       "         4.07807438e-02,  4.97827275e-02,  1.08960881e-01,\n",
       "         7.17567855e-02],\n",
       "       [ 2.20000000e+01,  2.21200000e+03,  2.20000000e+01,\n",
       "         2.20000000e+01,  2.20000000e+01,  2.20000000e+01,\n",
       "         0.00000000e+00]])"
      ]
     },
     "execution_count": 79,
     "metadata": {},
     "output_type": "execute_result"
    }
   ],
   "source": [
    "inlierplot(447, True)"
   ]
  },
  {
   "cell_type": "code",
   "execution_count": 97,
   "id": "b090bdde",
   "metadata": {
    "scrolled": false
   },
   "outputs": [
    {
     "data": {
      "text/plain": [
       "(array([-211.,  211., -211., 2212.,  211.,  211., 2212., 2212.,  211.,\n",
       "         211.]),\n",
       " array([0.0932134 , 1.0753746 , 1.1517359 , 0.19365065, 0.33771014,\n",
       "        0.04636792, 0.09482498, 0.0343132 , 2.2271144 , 1.5215999 ],\n",
       "       dtype=float32))"
      ]
     },
     "execution_count": 97,
     "metadata": {},
     "output_type": "execute_result"
    }
   ],
   "source": [
    "import math\n",
    "\n",
    "def coords(event_number):\n",
    "    array = inlierplot(event_number, False)\n",
    "    m = array[0, :]\n",
    "    c = array[1, :]\n",
    "    r = array[2, :]\n",
    "    part = array[3, :]\n",
    "    \n",
    "    residuals = []\n",
    "    \n",
    "    #print(part)\n",
    "    idx = np.where(events.event_number == event_number)[0]\n",
    "    newidx = idx - idx[0]\n",
    "    for i in newidx:\n",
    "        if m[i] == 0 and c[i] == 0 and r[i] == 0:\n",
    "            residuals.append(0)\n",
    "            continue\n",
    "        else:\n",
    "            x = events.reco_hits_x_w[i+idx[0]]\n",
    "            z = events.reco_hits_w[i+idx[0]]\n",
    "            \n",
    "            znew = z - c[i]\n",
    "\n",
    "            angle = -math.atan(m[i])\n",
    "\n",
    "            l = x * np.cos(angle) - znew * np.sin(angle)\n",
    "            t = x * np.sin(angle) + znew * np.cos(angle)\n",
    "            #plt.scatter(l,t)\n",
    "            #plt.show()\n",
    "            residuals.append(np.mean(abs(t)))\n",
    "    \n",
    "    residuals = np.array(residuals)\n",
    "    return part, residuals\n",
    "\n",
    "coords(22)"
   ]
  },
  {
   "cell_type": "code",
   "execution_count": 142,
   "id": "f384517d",
   "metadata": {
    "scrolled": true
   },
   "outputs": [],
   "source": [
    "#electron = +-11, photon = 22\n",
    "#remember if residuals = 0, particle failed to fit\n",
    "\n",
    "def histplot(num):\n",
    "    tracks = []\n",
    "    showers = []\n",
    "    \n",
    "    for n in range(num):\n",
    "        part, res = coords(n)\n",
    "        for i in range(len(res)):\n",
    "            if res[i] == 0:\n",
    "                continue        \n",
    "            if part[i] == 22. or part[i] == -11. or part[i] == 11.:\n",
    "                showers.append(res[i]**2)\n",
    "            else:\n",
    "                tracks.append(res[i]**2)\n",
    "        \n",
    "    #plt.hist(tracks, 50, density=True, alpha=0.8, label='Tracks')\n",
    "    #plt.hist(showers, 50, density=True, alpha=0.8, label='Showers')\n",
    "    #plt.legend()\n",
    "    #plt.show()\n",
    "    \n",
    "    n_bins = 20\n",
    "    # Create the histogram for data1\n",
    "    hist1, bin_edges = np.histogram(tracks, bins=n_bins)\n",
    "\n",
    "    # Create the histogram for data2\n",
    "    hist2, _ = np.histogram(showers, bins=bin_edges)\n",
    "\n",
    "    # Calculate the bin widths\n",
    "    bin_widths = np.diff(bin_edges)\n",
    "    \n",
    "    total_data1 = len(tracks)\n",
    "    total_data2 = len(showers)\n",
    "    hist1_normalized = hist1 / (total_data1 * bin_widths)\n",
    "    hist2_normalized = hist2 / (total_data2 * bin_widths)\n",
    "\n",
    "    # Plot the normalized histograms\n",
    "    plt.bar(bin_edges[:-1], hist1_normalized, width=bin_widths, align='edge', alpha=0.5, label='Data 1')\n",
    "    plt.bar(bin_edges[:-1], hist2_normalized, width=bin_widths, align='edge', alpha=0.5, label='Data 2')\n",
    "\n",
    "    # Plot both histograms on the same plot\n",
    "    #plt.bar(bin_edges[:-1], hist1, width=bin_widths, align='edge', alpha=0.5, label='Data 1')\n",
    "    #plt.bar(bin_edges[:-1], hist2, width=bin_widths, align='edge', alpha=0.5, label='Data 2')\n",
    "\n",
    "    # Add a legend to distinguish the two datasets\n",
    "    plt.legend()\n",
    "\n",
    "    # Show the plot\n",
    "    plt.show()"
   ]
  },
  {
   "cell_type": "code",
   "execution_count": 143,
   "id": "5534962c",
   "metadata": {
    "scrolled": false
   },
   "outputs": [
    {
     "data": {
      "image/png": "[encoded data removed]",
      "text/plain": [
       "<Figure size 640x480 with 1 Axes>"
      ]
     },
     "metadata": {},
     "output_type": "display_data"
    }
   ],
   "source": [
    "histplot(100)"
   ]
  },
  {
   "cell_type": "code",
   "execution_count": null,
   "id": "dc09367e",
   "metadata": {},
   "outputs": [],
   "source": []
  }
 ],
 "metadata": {
  "kernelspec": {
   "display_name": "Python 3 (ipykernel)",
   "language": "python",
   "name": "python3"
  },
  "language_info": {
   "codemirror_mode": {
    "name": "ipython",
    "version": 3
   },
   "file_extension": ".py",
   "mimetype": "text/x-python",
   "name": "python",
   "nbconvert_exporter": "python",
   "pygments_lexer": "ipython3",
   "version": "3.9.18"
  }
 },
 "nbformat": 4,
 "nbformat_minor": 5
}
