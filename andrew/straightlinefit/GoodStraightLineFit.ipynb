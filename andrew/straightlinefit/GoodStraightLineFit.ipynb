{
 "cells": [
  {
   "cell_type": "code",
   "execution_count": 34,
   "id": "795850e0",
   "metadata": {
    "scrolled": true
   },
   "outputs": [],
   "source": [
    "from uproot_io import Events, View\n",
    "import numpy as np\n",
    "from numpy import *\n",
    "import matplotlib\n",
    "import matplotlib.pyplot as plt\n",
    "titlesize = 20\n",
    "labelsize = 14"
   ]
  },
  {
   "cell_type": "code",
   "execution_count": 15,
   "id": "9e89777b",
   "metadata": {
    "scrolled": true
   },
   "outputs": [],
   "source": [
    "events = Events(r\"C:\\Users\\andre\\Desktop\\Physics Project\\bigdata\\CheatedRecoFile_1.root\")"
   ]
  },
  {
   "cell_type": "code",
   "execution_count": 35,
   "id": "790883d3",
   "metadata": {
    "scrolled": true
   },
   "outputs": [],
   "source": [
    "def fit_line(x, y):\n",
    "    A = np.vstack([x, np.ones_like(x)]).T\n",
    "    m, c = np.linalg.lstsq(A, y, rcond=None)[0]\n",
    "    return m, c\n",
    "\n",
    "def calculate_residuals(x, y, m, c):\n",
    "    #y_predicted = (m*x) + c\n",
    "    perpdist = abs(((-m*x) + y - c) / np.sqrt(m**2 + 1))\n",
    "    #residuals = np.abs(perpdist - y_predicted)\n",
    "    return perpdist\n",
    "\n",
    "def inlierplot(event_number, plot):\n",
    "    idx = np.where(events.event_number == event_number)[0]\n",
    "    resis = []\n",
    "    gradients = []\n",
    "    intercepts = []\n",
    "    particleType = []\n",
    "    \n",
    "    vx = events.true_neutrino_vtx_x[idx[0]]\n",
    "    vz = events.true_neutrino_vtx_w[idx[0]]\n",
    "    if plot == True:\n",
    "        plt.scatter(vx, vz, c='red', s=50)\n",
    "\n",
    "    xmax = -1000\n",
    "    xmin = 1000\n",
    "    zmax = -1000\n",
    "    zmin = 1000\n",
    "    for i in idx:\n",
    "        x0 = events.reco_hits_x_w[i]\n",
    "        z0 = events.reco_hits_w[i]\n",
    "        if plot == True:\n",
    "            plt.scatter(x0, z0, s=0.5)\n",
    "        \n",
    "        if len(x0) > 0:\n",
    "            if max(x0) >= xmax:\n",
    "                xmax = max(x0)\n",
    "            if min(x0) <= xmin:\n",
    "                xmin = min(x0)\n",
    "        if len(z0) > 0:\n",
    "            if max(z0) >= zmax:\n",
    "                zmax = max(z0)\n",
    "            if min(z0) <= zmin:\n",
    "                zmin = min(z0)\n",
    "        \n",
    "    if vx < xmin:\n",
    "        xmin = vx    \n",
    "    if vx > xmax:\n",
    "        xmax = vx\n",
    "    if vz < zmin:\n",
    "        zmin = vz    \n",
    "    if vz > zmax:\n",
    "        zmax = vz\n",
    "\n",
    "    xlen = 0.1*(xmax - xmin)\n",
    "    zlen = 0.1*(zmax - zmin)\n",
    "    \n",
    "    if plot == True:\n",
    "        plt.xlim(xmin-xlen, xmax+xlen)\n",
    "        plt.ylim(zmin-zlen, zmax+zlen)\n",
    "        plt.show()\n",
    "        \n",
    "        plt.scatter(vx, vz, c='red', s=50)\n",
    "        plt.xlim(xmin-xlen, xmax+xlen)\n",
    "        plt.ylim(zmin-zlen, zmax+zlen)\n",
    "    \n",
    "    for i in idx:\n",
    "        x = events.reco_hits_x_w[i]\n",
    "        z = events.reco_hits_w[i]\n",
    "        pdg = events.mc_pdg[i]\n",
    "        \n",
    "        particleType.append(pdg)\n",
    "        if pdg == 0:\n",
    "            gradients.append(0)\n",
    "            intercepts.append(0)\n",
    "            resis.append(0)\n",
    "        \n",
    "        else:\n",
    "            if plot == True:\n",
    "                plt.scatter(x, z, s=0.5)\n",
    "\n",
    "            best_inliers = []\n",
    "            best_model = None\n",
    "            sample_size = 10\n",
    "            max_iterations = 1000\n",
    "            #inlier_threshold = 2.0\n",
    "\n",
    "            for _ in range(max_iterations):\n",
    "                sample_size = min(sample_size, len(x))\n",
    "                sample_indices = np.random.choice(len(x), size=sample_size, replace=False)\n",
    "                x_sample = x[sample_indices]\n",
    "                z_sample = z[sample_indices]\n",
    "\n",
    "                m, c = fit_line(x_sample, z_sample)\n",
    "                residuals = calculate_residuals(x, z, m, c)\n",
    "                inliers = np.where(residuals < (0.15*xlen))[0]\n",
    "\n",
    "                if len(inliers) > len(best_inliers):\n",
    "                    best_inliers = inliers\n",
    "                    best_model = (m, c)\n",
    "\n",
    "            if len(best_inliers) > 0:\n",
    "                m, c = best_model\n",
    "                gradients.append(m)\n",
    "                intercepts.append(c)\n",
    "\n",
    "                if plot == True:\n",
    "                    x_inliers = x[best_inliers]\n",
    "                    z_inliers = z[best_inliers]\n",
    "                    plt.scatter(x_inliers, z_inliers, color='blue', marker='o')\n",
    "\n",
    "                    plt.plot(x_inliers, m * x_inliers + c)\n",
    "                    plt.xlabel('x')\n",
    "                    plt.ylabel('w')\n",
    "\n",
    "                perp_dist = [calculate_residuals(x[i], z[i], m, c) for i in range(len(x))]\n",
    "                start = int(0.25 * len(x))\n",
    "                end = int(start*3)\n",
    "                mean = np.mean(perp_dist[start:end])\n",
    "                #mean = np.mean(perp_dist)\n",
    "                NaN = isnan(mean)\n",
    "                if NaN == True:\n",
    "                    resis.append(0)\n",
    "                if NaN == False:\n",
    "                    resis.append(mean)\n",
    "            else:\n",
    "                gradients.append(1)\n",
    "                intercepts.append(1)\n",
    "                resis.append(1)\n",
    "                #print(\"No inliers found for a particle\")\n",
    "                continue\n",
    "    \n",
    "    if plot == True:\n",
    "        plt.show()\n",
    "    \n",
    "    return np.array(np.stack((gradients, intercepts, resis, particleType)))"
   ]
  },
  {
   "cell_type": "code",
   "execution_count": 42,
   "id": "24c5d800",
   "metadata": {
    "scrolled": false
   },
   "outputs": [
    {
     "data": {
      "image/png": "[encoded data removed]",
      "text/plain": [
       "<Figure size 640x480 with 1 Axes>"
      ]
     },
     "metadata": {},
     "output_type": "display_data"
    },
    {
     "data": {
      "image/png": "[encoded data removed]",
      "text/plain": [
       "<Figure size 640x480 with 1 Axes>"
      ]
     },
     "metadata": {},
     "output_type": "display_data"
    },
    {
     "data": {
      "text/plain": [
       "array([[-1.53242865e+01,  2.71829534e+00,  0.00000000e+00,\n",
       "         0.00000000e+00,  0.00000000e+00,  0.00000000e+00,\n",
       "         0.00000000e+00,  0.00000000e+00,  0.00000000e+00,\n",
       "         0.00000000e+00,  0.00000000e+00,  0.00000000e+00,\n",
       "         0.00000000e+00,  0.00000000e+00,  0.00000000e+00,\n",
       "         0.00000000e+00,  0.00000000e+00,  0.00000000e+00,\n",
       "         0.00000000e+00,  9.85134780e-01,  4.40628052e+00,\n",
       "         2.92222476e+00,  0.00000000e+00,  0.00000000e+00,\n",
       "         0.00000000e+00,  0.00000000e+00,  0.00000000e+00],\n",
       "       [ 1.70354797e+03,  1.23666183e+02,  0.00000000e+00,\n",
       "         0.00000000e+00,  0.00000000e+00,  0.00000000e+00,\n",
       "         0.00000000e+00,  0.00000000e+00,  0.00000000e+00,\n",
       "         0.00000000e+00,  0.00000000e+00,  0.00000000e+00,\n",
       "         0.00000000e+00,  0.00000000e+00,  0.00000000e+00,\n",
       "         0.00000000e+00,  0.00000000e+00,  0.00000000e+00,\n",
       "         0.00000000e+00,  2.70154938e+02,  5.58853224e-02,\n",
       "         1.06378639e+02,  0.00000000e+00,  0.00000000e+00,\n",
       "         0.00000000e+00,  0.00000000e+00,  0.00000000e+00],\n",
       "       [ 3.02777816e+00,  4.02050876e-02,  0.00000000e+00,\n",
       "         0.00000000e+00,  0.00000000e+00,  0.00000000e+00,\n",
       "         0.00000000e+00,  0.00000000e+00,  0.00000000e+00,\n",
       "         0.00000000e+00,  0.00000000e+00,  0.00000000e+00,\n",
       "         0.00000000e+00,  0.00000000e+00,  0.00000000e+00,\n",
       "         0.00000000e+00,  0.00000000e+00,  0.00000000e+00,\n",
       "         0.00000000e+00,  1.27234331e-02,  0.00000000e+00,\n",
       "         0.00000000e+00,  0.00000000e+00,  0.00000000e+00,\n",
       "         0.00000000e+00,  0.00000000e+00,  0.00000000e+00],\n",
       "       [ 1.10000000e+01,  2.21200000e+03,  0.00000000e+00,\n",
       "         0.00000000e+00,  0.00000000e+00,  0.00000000e+00,\n",
       "         0.00000000e+00,  0.00000000e+00,  0.00000000e+00,\n",
       "         0.00000000e+00,  0.00000000e+00,  0.00000000e+00,\n",
       "         0.00000000e+00,  0.00000000e+00,  0.00000000e+00,\n",
       "         0.00000000e+00,  0.00000000e+00,  0.00000000e+00,\n",
       "         0.00000000e+00,  2.21200000e+03,  2.21200000e+03,\n",
       "         2.21200000e+03,  0.00000000e+00,  0.00000000e+00,\n",
       "         0.00000000e+00,  0.00000000e+00,  0.00000000e+00]])"
      ]
     },
     "execution_count": 42,
     "metadata": {},
     "output_type": "execute_result"
    }
   ],
   "source": [
    "inlierplot(2457, True)"
   ]
  },
  {
   "cell_type": "code",
   "execution_count": 18,
   "id": "b090bdde",
   "metadata": {
    "scrolled": false
   },
   "outputs": [
    {
     "name": "stdout",
     "output_type": "stream",
     "text": [
      "(41,) (41,)\n"
     ]
    }
   ],
   "source": [
    "import math\n",
    "#all 0 = unimportant particle\n",
    "#all 1 = failed fit\n",
    "\n",
    "def coords(event_number):\n",
    "    array = inlierplot(event_number, False)\n",
    "    m = array[0, :]\n",
    "    c = array[1, :]\n",
    "    r = array[2, :]\n",
    "    part = array[3, :]\n",
    "    \n",
    "    residuals = []\n",
    "    \n",
    "    #print(part)\n",
    "    idx = np.where(events.event_number == event_number)[0]\n",
    "    newidx = idx - idx[0]\n",
    "    for i in newidx:\n",
    "        if part[i] == 0 or r[i] == 0 or r[i] == 1:\n",
    "        #if m[i] == 0 and c[i] == 0 and r[i] == 0:\n",
    "            residuals.append(0)\n",
    "        #if m[i] == 1 and c[i] == 1 and r[i] == 1:\n",
    "        #    residuals.append(0)\n",
    "        else:\n",
    "            x = events.reco_hits_x_w[i+idx[0]]\n",
    "            z = events.reco_hits_w[i+idx[0]]\n",
    "\n",
    "            znew = z - c[i]\n",
    "\n",
    "            angle = -math.atan(m[i])\n",
    "\n",
    "            l = x * np.cos(angle) - znew * np.sin(angle)\n",
    "            t = x * np.sin(angle) + znew * np.cos(angle)\n",
    "            #plt.scatter(l,t)\n",
    "            #plt.show()\n",
    "            mean = np.mean(abs(t))\n",
    "            NaN = isnan(mean)\n",
    "            if NaN == True:\n",
    "                residuals.append(0)\n",
    "            if NaN == False:\n",
    "                residuals.append(mean)\n",
    "    \n",
    "    residuals = np.array(residuals)\n",
    "    return part, r\n",
    "\n",
    "part, res = coords(336)\n",
    "print(np.shape(part), np.shape(res))"
   ]
  },
  {
   "cell_type": "code",
   "execution_count": 28,
   "id": "f384517d",
   "metadata": {
    "scrolled": true
   },
   "outputs": [],
   "source": [
    "#electron = +-11, photon = 22\n",
    "\n",
    "def histplot(num, extra):\n",
    "    tracks = []\n",
    "    showers = []\n",
    "    \n",
    "    for n in range(num):\n",
    "        part, res = coords(n+extra)\n",
    "        for i in range(len(res)):\n",
    "            if res[i] != 0 and res[i] != 1 and res[i] <= 30:\n",
    "                if part[i] == 22. or part[i] == -11. or part[i] == 11.:\n",
    "                    showers.append(res[i])\n",
    "                else:\n",
    "                    tracks.append(res[i])\n",
    "        \n",
    "    bin_edges = np.arange(0, 20.5, 0.5)\n",
    "    hist1, _ = np.histogram(tracks, bins=bin_edges)\n",
    "    hist2, _ = np.histogram(showers, bins=bin_edges)\n",
    "   \n",
    "    hist1_normalized = hist1 / len(tracks)\n",
    "    hist2_normalized = hist2 / len(showers)\n",
    "\n",
    "    plt.bar(bin_edges[:-1], hist1_normalized, width=0.5, align='edge', alpha=0.75, label='Tracks')\n",
    "    plt.bar(bin_edges[:-1], hist2_normalized, width=0.5, align='edge', alpha=0.75, label='Showers')\n",
    "    \n",
    "    plt.xlabel('Mean Residuals from Straight Line Fit')\n",
    "    plt.legend()\n",
    "    plt.show()"
   ]
  },
  {
   "cell_type": "code",
   "execution_count": 36,
   "id": "5534962c",
   "metadata": {
    "scrolled": false
   },
   "outputs": [
    {
     "name": "stderr",
     "output_type": "stream",
     "text": [
      "C:\\Users\\andre\\anaconda3\\lib\\site-packages\\numpy\\core\\fromnumeric.py:3464: RuntimeWarning: Mean of empty slice.\n",
      "  return _methods._mean(a, axis=axis, dtype=dtype,\n",
      "C:\\Users\\andre\\anaconda3\\lib\\site-packages\\numpy\\core\\_methods.py:192: RuntimeWarning: invalid value encountered in scalar divide\n",
      "  ret = ret.dtype.type(ret / rcount)\n"
     ]
    },
    {
     "data": {
      "image/png": "[encoded data removed]",
      "text/plain": [
       "<Figure size 640x480 with 1 Axes>"
      ]
     },
     "metadata": {},
     "output_type": "display_data"
    }
   ],
   "source": [
    "histplot(100, 727)"
   ]
  },
  {
   "cell_type": "code",
   "execution_count": null,
   "id": "dc09367e",
   "metadata": {},
   "outputs": [],
   "source": []
  }
 ],
 "metadata": {
  "kernelspec": {
   "display_name": "Python 3 (ipykernel)",
   "language": "python",
   "name": "python3"
  },
  "language_info": {
   "codemirror_mode": {
    "name": "ipython",
    "version": 3
   },
   "file_extension": ".py",
   "mimetype": "text/x-python",
   "name": "python",
   "nbconvert_exporter": "python",
   "pygments_lexer": "ipython3",
   "version": "3.9.18"
  }
 },
 "nbformat": 4,
 "nbformat_minor": 5
}
