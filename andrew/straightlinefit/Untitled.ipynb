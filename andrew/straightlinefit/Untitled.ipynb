{
 "cells": [
  {
   "cell_type": "code",
   "execution_count": 1,
   "id": "bd4daba8",
   "metadata": {},
   "outputs": [],
   "source": [
    "from uproot_io import Events, View\n",
    "import numpy as np\n",
    "import matplotlib\n",
    "import matplotlib.pyplot as plt\n",
    "titlesize = 20\n",
    "labelsize = 14"
   ]
  },
  {
   "cell_type": "code",
   "execution_count": 2,
   "id": "f2bfd2f8",
   "metadata": {},
   "outputs": [],
   "source": [
    "events = Events(r\"C:\\Users\\andre\\Desktop\\Physics Project\\bigdata\\PandoraRecoFile_1.root\")"
   ]
  },
  {
   "cell_type": "code",
   "execution_count": null,
   "id": "b6434a1f",
   "metadata": {},
   "outputs": [],
   "source": []
  }
 ],
 "metadata": {
  "kernelspec": {
   "display_name": "Python 3 (ipykernel)",
   "language": "python",
   "name": "python3"
  },
  "language_info": {
   "codemirror_mode": {
    "name": "ipython",
    "version": 3
   },
   "file_extension": ".py",
   "mimetype": "text/x-python",
   "name": "python",
   "nbconvert_exporter": "python",
   "pygments_lexer": "ipython3",
   "version": "3.9.18"
  }
 },
 "nbformat": 4,
 "nbformat_minor": 5
}
