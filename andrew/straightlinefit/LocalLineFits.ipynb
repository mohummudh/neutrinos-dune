{
 "cells": [
  {
   "cell_type": "code",
   "execution_count": 1,
   "id": "3dfbc23a",
   "metadata": {},
   "outputs": [],
   "source": [
    "from uproot_io import Events, View\n",
    "import numpy as np\n",
    "from numpy import *\n",
    "import matplotlib\n",
    "import matplotlib.pyplot as plt\n",
    "from sklearn.linear_model import LinearRegression\n",
    "titlesize = 20\n",
    "labelsize = 14"
   ]
  },
  {
   "cell_type": "code",
   "execution_count": 2,
   "id": "d0e982ea",
   "metadata": {},
   "outputs": [],
   "source": [
    "events = Events(r\"C:\\Users\\andre\\Desktop\\Physics Project\\bigdata\\CheatedRecoFile_1.root\")"
   ]
  },
  {
   "cell_type": "code",
   "execution_count": 3,
   "id": "cb3d3d7a",
   "metadata": {},
   "outputs": [],
   "source": [
    "def localfits(event_number):\n",
    "    parts = []\n",
    "    sds = []\n",
    "    grads = []\n",
    "    \n",
    "    idx = np.where(events.event_number == event_number)[0]\n",
    "    for n in idx:\n",
    "        x = np.array(events.reco_hits_x_w[n])\n",
    "        z = np.array(events.reco_hits_w[n])\n",
    "        part = events.mc_pdg[n]\n",
    "        \n",
    "        if part != 0 and len(x) > 10:\n",
    "            window_size = 5\n",
    "            gradients = []\n",
    "            half = len(x)//2\n",
    "            #for i in range(half, len(x) - window_size + 1):\n",
    "            for i in range(len(x) - window_size + 1):\n",
    "                x_window = x[i:i + window_size]\n",
    "                z_window = z[i:i + window_size]\n",
    "                \n",
    "                model = LinearRegression()\n",
    "                model.fit(x_window.reshape(-1, 1), z_window)\n",
    "\n",
    "                gradient = model.coef_[0]\n",
    "                gradients.append(np.round(gradient))\n",
    "            \n",
    "            unique = list(set(gradients))\n",
    "            grads.append(gradients)\n",
    "            parts.append(part)\n",
    "            sds.append(np.std(unique))\n",
    "            #sds.append(max(gradients)-min(gradients))\n",
    "\n",
    "    return np.array(sds), np.array(parts)"
   ]
  },
  {
   "cell_type": "code",
   "execution_count": 4,
   "id": "b4356f1f",
   "metadata": {},
   "outputs": [
    {
     "data": {
      "text/plain": [
       "(array([16.408085,  0.5     ,  0.      ], dtype=float32),\n",
       " array([  11, 2212, 2212]))"
      ]
     },
     "execution_count": 4,
     "metadata": {},
     "output_type": "execute_result"
    }
   ],
   "source": [
    "localfits(2457)"
   ]
  },
  {
   "cell_type": "code",
   "execution_count": 5,
   "id": "360645e3",
   "metadata": {},
   "outputs": [],
   "source": [
    "def histplot(num, extra):\n",
    "    tracks = []\n",
    "    showers = []\n",
    "    \n",
    "    for n in range(num):\n",
    "        sd, part = localfits(n+extra)\n",
    "        for i in range(len(sd)):\n",
    "            #if sd[i] != 0. and sd[i] != -0. and total[i] <= 20:\n",
    "            if part[i] == 22. or part[i] == -11. or part[i] == 11.:\n",
    "                showers.append(sd[i])\n",
    "            else:\n",
    "                tracks.append(sd[i])\n",
    "    \n",
    "    #newshowers = [x for x in showers if x > 2]\n",
    "    \n",
    "    bin_edges = np.arange(0, 25.5, 1)\n",
    "    hist1, _ = np.histogram(tracks, bins=bin_edges)\n",
    "    hist2, _ = np.histogram(showers, bins=bin_edges)\n",
    "   \n",
    "    hist1_normalized = hist1 / len(tracks)\n",
    "    hist2_normalized = hist2 / len(showers)\n",
    "\n",
    "    plt.bar(bin_edges[:-1], hist1_normalized, width=1, align='edge', alpha=0.75, label='Tracks')\n",
    "    plt.bar(bin_edges[:-1], hist2_normalized, width=1, align='edge', alpha=0.75, label='Showers')\n",
    "    \n",
    "    plt.xlabel('Stardard Deviation of Gradients of Local Fits')\n",
    "    plt.legend()\n",
    "    plt.show()"
   ]
  },
  {
   "cell_type": "code",
   "execution_count": 6,
   "id": "48f89b25",
   "metadata": {
    "scrolled": false
   },
   "outputs": [
    {
     "data": {
      "image/png": "[encoded data removed]",
      "text/plain": [
       "<Figure size 640x480 with 1 Axes>"
      ]
     },
     "metadata": {},
     "output_type": "display_data"
    }
   ],
   "source": [
    "histplot(100, 5230)"
   ]
  },
  {
   "cell_type": "code",
   "execution_count": null,
   "id": "848c984e",
   "metadata": {},
   "outputs": [],
   "source": []
  }
 ],
 "metadata": {
  "kernelspec": {
   "display_name": "Python 3 (ipykernel)",
   "language": "python",
   "name": "python3"
  },
  "language_info": {
   "codemirror_mode": {
    "name": "ipython",
    "version": 3
   },
   "file_extension": ".py",
   "mimetype": "text/x-python",
   "name": "python",
   "nbconvert_exporter": "python",
   "pygments_lexer": "ipython3",
   "version": "3.9.18"
  }
 },
 "nbformat": 4,
 "nbformat_minor": 5
}
